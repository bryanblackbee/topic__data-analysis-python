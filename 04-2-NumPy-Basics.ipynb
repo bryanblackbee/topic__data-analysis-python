{
 "cells": [
  {
   "cell_type": "markdown",
   "metadata": {},
   "source": [
    "# Chapter 4 - NumPy Basics: Arrays and Vectorized Computation"
   ]
  },
  {
   "cell_type": "markdown",
   "metadata": {},
   "source": [
    "## 4.2 Universal Functions: Fast Element-Wise Array Functions"
   ]
  },
  {
   "cell_type": "code",
   "execution_count": 1,
   "metadata": {
    "ExecuteTime": {
     "end_time": "2019-06-24T15:17:17.812050Z",
     "start_time": "2019-06-24T15:17:17.707679Z"
    }
   },
   "outputs": [],
   "source": [
    "import numpy as np"
   ]
  },
  {
   "cell_type": "markdown",
   "metadata": {},
   "source": [
    "A universal function or <i>ufunc</i> is a function that performs element-wise operations on data in `ndarray`s.\n",
    "\n",
    "**Mathematical functions like  `square`, `sqrt`, `exp`, `abs`**"
   ]
  },
  {
   "cell_type": "code",
   "execution_count": 2,
   "metadata": {
    "ExecuteTime": {
     "end_time": "2019-06-24T15:17:17.824458Z",
     "start_time": "2019-06-24T15:17:17.814590Z"
    }
   },
   "outputs": [
    {
     "name": "stdout",
     "output_type": "stream",
     "text": [
      "[[7225 5041 4096 6889]\n",
      " [3969 5476 3136 2704]]\n",
      "\n",
      "[[9.21954446 8.42614977 8.         9.11043358]\n",
      " [7.93725393 8.60232527 7.48331477 7.21110255]]\n"
     ]
    }
   ],
   "source": [
    "# p = np.random.randint(50, 100, (2,4))\n",
    "p = np.array([[85, 71, 64, 83],\n",
    "              [63, 74, 56, 52]])\n",
    "print(np.square(p))\n",
    "print()\n",
    "print(np.sqrt(p))"
   ]
  },
  {
   "cell_type": "code",
   "execution_count": 3,
   "metadata": {
    "ExecuteTime": {
     "end_time": "2019-06-24T15:17:17.844001Z",
     "start_time": "2019-06-24T15:17:17.827861Z"
    },
    "scrolled": true
   },
   "outputs": [
    {
     "name": "stdout",
     "output_type": "stream",
     "text": [
      "[[1.11148838 1.36588149 2.0813152 ]\n",
      " [2.18212681 1.85837045 1.00320513]]\n",
      "\n",
      "[[0.31571427 0.13416209 0.70521823]\n",
      " [1.26355913 1.87158289 0.07813458]]\n"
     ]
    }
   ],
   "source": [
    "# q = np.random.ranf((2,3))\n",
    "# a = np.random.randn(2,3)\n",
    "q = np.array([[0.1057, 0.3118, 0.7330],\n",
    "              [0.7803, 0.6197, 0.0032]])\n",
    "print(np.exp(q))\n",
    "print()\n",
    "\n",
    "a = np.array([[-0.31571427, -0.13416209,  0.70521823],\n",
    "              [ 1.26355913,  1.87158289,  0.07813458]])\n",
    "print(np.abs(a))"
   ]
  },
  {
   "cell_type": "markdown",
   "metadata": {},
   "source": [
    "**Simple transformations like `sign`, `ceil`, `floor`**"
   ]
  },
  {
   "cell_type": "code",
   "execution_count": 4,
   "metadata": {
    "ExecuteTime": {
     "end_time": "2019-06-24T15:17:17.867124Z",
     "start_time": "2019-06-24T15:17:17.848573Z"
    },
    "scrolled": true
   },
   "outputs": [
    {
     "name": "stdout",
     "output_type": "stream",
     "text": [
      "[[-1. -1.  1.]\n",
      " [ 1.  1.  1.]]\n",
      "\n",
      "[[-3.1571427 -1.3416209  7.0521823]\n",
      " [12.6355913 18.7158289  0.7813458]]\n",
      "\n",
      "[[-3. -1.  8.]\n",
      " [13. 19.  1.]]\n",
      "\n",
      "[[-4. -2.  7.]\n",
      " [12. 18.  0.]]\n"
     ]
    }
   ],
   "source": [
    "a = np.array([[-0.31571427, -0.13416209,  0.70521823],\n",
    "              [ 1.26355913,  1.87158289,  0.07813458]])\n",
    "# returns -1 if the value is negative, 1 if the value is positive and\n",
    "# 0 if the value is 0\n",
    "print(np.sign(a))\n",
    "b = a*10\n",
    "print()\n",
    "print(b)\n",
    "print()\n",
    "print(np.ceil(b))\n",
    "print()\n",
    "print(np.floor(b))"
   ]
  },
  {
   "cell_type": "markdown",
   "metadata": {},
   "source": [
    "A binary universal function or <i>binary ufunc</i> takes in two arrays and returns a single array as a result.\n",
    "\n",
    "Using **`maximum`, `minimum`, `floor_divide`**"
   ]
  },
  {
   "cell_type": "code",
   "execution_count": 5,
   "metadata": {
    "ExecuteTime": {
     "end_time": "2019-06-24T15:17:17.886343Z",
     "start_time": "2019-06-24T15:17:17.874263Z"
    }
   },
   "outputs": [
    {
     "name": "stdout",
     "output_type": "stream",
     "text": [
      "[[0.2551 0.5225 0.8395]\n",
      " [0.9259 0.7139 0.8426]]\n",
      "\n",
      "[[0.0284 0.4742 0.3913]\n",
      " [0.7145 0.1304 0.3548]]\n"
     ]
    }
   ],
   "source": [
    "# r, s = np.random.ranf((2,3)), np.random.ranf((2,3))\n",
    "r = np.array([[0.2551, 0.4742, 0.8395,],\n",
    "              [0.9259, 0.1304, 0.3548]])\n",
    "\n",
    "s = np.array([[0.0284, 0.5225, 0.3913,],\n",
    "              [0.7145, 0.7139, 0.8426],])\n",
    "\n",
    "# Returns the maximum comparing element by element in 2 arrays\n",
    "print(np.maximum(r, s))\n",
    "print()\n",
    "# Returns the minimum comparing element by element in 2 arrays\n",
    "print(np.minimum(r, s))"
   ]
  },
  {
   "cell_type": "code",
   "execution_count": 6,
   "metadata": {
    "ExecuteTime": {
     "end_time": "2019-06-24T15:17:17.900776Z",
     "start_time": "2019-06-24T15:17:17.890149Z"
    },
    "scrolled": true
   },
   "outputs": [
    {
     "name": "stdout",
     "output_type": "stream",
     "text": [
      "[[ 0.  6.  4.]\n",
      " [ 8.  8. 10.]]\n"
     ]
    }
   ],
   "source": [
    "s = np.array([[ 1., 26., 19.],\n",
    "              [35., 35., 42.]])\n",
    "# Gives the dividend without remainder\n",
    "print(np.floor_divide(s, 4))"
   ]
  },
  {
   "cell_type": "markdown",
   "metadata": {},
   "source": [
    "Sometimes, a <i>ufunc</i> can return multiple arrays\n",
    "\n",
    "**Using `modf`**"
   ]
  },
  {
   "cell_type": "code",
   "execution_count": 7,
   "metadata": {
    "ExecuteTime": {
     "end_time": "2019-06-24T15:17:17.926570Z",
     "start_time": "2019-06-24T15:17:17.907336Z"
    }
   },
   "outputs": [
    {
     "name": "stdout",
     "output_type": "stream",
     "text": [
      "[[0.2755 0.371  0.1975]\n",
      " [0.6295 0.652  0.774 ]]\n",
      "\n",
      "[[1. 2. 4.]\n",
      " [4. 0. 1.]]\n"
     ]
    }
   ],
   "source": [
    "r = np.array([[1.2755, 2.371 , 4.1975],\n",
    "              [4.6295, 0.652 , 1.774 ]])\n",
    "\n",
    "# Returns the fractional and integer form of the array\n",
    "w, m = np.modf(r)\n",
    "\n",
    "# Returns any remainder value after removing the whole number portion\n",
    "print(w)\n",
    "print()\n",
    "# Returns any residual after removing the whole number portion\n",
    "print(m)"
   ]
  },
  {
   "cell_type": "markdown",
   "metadata": {},
   "source": [
    "<hr>"
   ]
  },
  {
   "cell_type": "markdown",
   "metadata": {},
   "source": [
    "**References:**\n",
    "\n",
    "Python for Data Analysis, 2nd Edition, McKinney (2017)"
   ]
  }
 ],
 "metadata": {
  "kernelspec": {
   "display_name": "Python 3",
   "language": "python",
   "name": "python3"
  },
  "language_info": {
   "codemirror_mode": {
    "name": "ipython",
    "version": 3
   },
   "file_extension": ".py",
   "mimetype": "text/x-python",
   "name": "python",
   "nbconvert_exporter": "python",
   "pygments_lexer": "ipython3",
   "version": "3.6.5"
  }
 },
 "nbformat": 4,
 "nbformat_minor": 2
}
