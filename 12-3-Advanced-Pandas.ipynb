{
 "cells": [
  {
   "cell_type": "markdown",
   "metadata": {},
   "source": [
    "# Chapter 12 - Advanced Pandas"
   ]
  },
  {
   "cell_type": "markdown",
   "metadata": {},
   "source": [
    "## The pipe method"
   ]
  },
  {
   "cell_type": "code",
   "execution_count": 1,
   "metadata": {
    "ExecuteTime": {
     "end_time": "2019-08-17T07:21:13.441506Z",
     "start_time": "2019-08-17T07:21:13.103900Z"
    }
   },
   "outputs": [],
   "source": [
    "import pandas as pd"
   ]
  },
  {
   "cell_type": "code",
   "execution_count": 5,
   "metadata": {
    "ExecuteTime": {
     "end_time": "2019-08-17T07:22:29.528529Z",
     "start_time": "2019-08-17T07:22:29.507274Z"
    },
    "scrolled": false
   },
   "outputs": [
    {
     "data": {
      "text/html": [
       "<div>\n",
       "<style scoped>\n",
       "    .dataframe tbody tr th:only-of-type {\n",
       "        vertical-align: middle;\n",
       "    }\n",
       "\n",
       "    .dataframe tbody tr th {\n",
       "        vertical-align: top;\n",
       "    }\n",
       "\n",
       "    .dataframe thead th {\n",
       "        text-align: right;\n",
       "    }\n",
       "</style>\n",
       "<table border=\"1\" class=\"dataframe\">\n",
       "  <thead>\n",
       "    <tr style=\"text-align: right;\">\n",
       "      <th></th>\n",
       "      <th>funded_amount</th>\n",
       "      <th>term</th>\n",
       "      <th>interest_rate</th>\n",
       "    </tr>\n",
       "    <tr>\n",
       "      <th>id</th>\n",
       "      <th></th>\n",
       "      <th></th>\n",
       "      <th></th>\n",
       "    </tr>\n",
       "  </thead>\n",
       "  <tbody>\n",
       "    <tr>\n",
       "      <th>721751</th>\n",
       "      <td>7000.0</td>\n",
       "      <td>36 months</td>\n",
       "      <td>14.91</td>\n",
       "    </tr>\n",
       "    <tr>\n",
       "      <th>40277218</th>\n",
       "      <td>16800.0</td>\n",
       "      <td>60 months</td>\n",
       "      <td>16.49</td>\n",
       "    </tr>\n",
       "    <tr>\n",
       "      <th>68416017</th>\n",
       "      <td>1500.0</td>\n",
       "      <td>36 months</td>\n",
       "      <td>9.17</td>\n",
       "    </tr>\n",
       "    <tr>\n",
       "      <th>59481461</th>\n",
       "      <td>8000.0</td>\n",
       "      <td>36 months</td>\n",
       "      <td>12.29</td>\n",
       "    </tr>\n",
       "    <tr>\n",
       "      <th>73003</th>\n",
       "      <td>3200.0</td>\n",
       "      <td>36 months</td>\n",
       "      <td>9.96</td>\n",
       "    </tr>\n",
       "    <tr>\n",
       "      <th>55917749</th>\n",
       "      <td>5000.0</td>\n",
       "      <td>36 months</td>\n",
       "      <td>12.29</td>\n",
       "    </tr>\n",
       "    <tr>\n",
       "      <th>1149328</th>\n",
       "      <td>11500.0</td>\n",
       "      <td>36 months</td>\n",
       "      <td>16.29</td>\n",
       "    </tr>\n",
       "    <tr>\n",
       "      <th>1614457</th>\n",
       "      <td>6000.0</td>\n",
       "      <td>36 months</td>\n",
       "      <td>15.80</td>\n",
       "    </tr>\n",
       "    <tr>\n",
       "      <th>31999103</th>\n",
       "      <td>11000.0</td>\n",
       "      <td>36 months</td>\n",
       "      <td>14.49</td>\n",
       "    </tr>\n",
       "    <tr>\n",
       "      <th>290605</th>\n",
       "      <td>15000.0</td>\n",
       "      <td>36 months</td>\n",
       "      <td>9.45</td>\n",
       "    </tr>\n",
       "    <tr>\n",
       "      <th>49864582</th>\n",
       "      <td>10000.0</td>\n",
       "      <td>60 months</td>\n",
       "      <td>11.53</td>\n",
       "    </tr>\n",
       "    <tr>\n",
       "      <th>42221389</th>\n",
       "      <td>2875.0</td>\n",
       "      <td>36 months</td>\n",
       "      <td>12.69</td>\n",
       "    </tr>\n",
       "  </tbody>\n",
       "</table>\n",
       "</div>"
      ],
      "text/plain": [
       "          funded_amount        term  interest_rate\n",
       "id                                                \n",
       "721751           7000.0   36 months          14.91\n",
       "40277218        16800.0   60 months          16.49\n",
       "68416017         1500.0   36 months           9.17\n",
       "59481461         8000.0   36 months          12.29\n",
       "73003            3200.0   36 months           9.96\n",
       "55917749         5000.0   36 months          12.29\n",
       "1149328         11500.0   36 months          16.29\n",
       "1614457          6000.0   36 months          15.80\n",
       "31999103        11000.0   36 months          14.49\n",
       "290605          15000.0   36 months           9.45\n",
       "49864582        10000.0   60 months          11.53\n",
       "42221389         2875.0   36 months          12.69"
      ]
     },
     "execution_count": 5,
     "metadata": {},
     "output_type": "execute_result"
    }
   ],
   "source": [
    "# Read from CSV file\n",
    "df = pd.read_csv('dataset-A3-loans.csv')\n",
    "df.index = df['id']\n",
    "df = df[['funded_amount', 'term', 'interest_rate']]\n",
    "df = df.iloc[:12]\n",
    "df"
   ]
  },
  {
   "cell_type": "code",
   "execution_count": 11,
   "metadata": {
    "ExecuteTime": {
     "end_time": "2019-08-17T07:25:25.019987Z",
     "start_time": "2019-08-17T07:25:24.996958Z"
    }
   },
   "outputs": [
    {
     "data": {
      "text/html": [
       "<div>\n",
       "<style scoped>\n",
       "    .dataframe tbody tr th:only-of-type {\n",
       "        vertical-align: middle;\n",
       "    }\n",
       "\n",
       "    .dataframe tbody tr th {\n",
       "        vertical-align: top;\n",
       "    }\n",
       "\n",
       "    .dataframe thead th {\n",
       "        text-align: right;\n",
       "    }\n",
       "</style>\n",
       "<table border=\"1\" class=\"dataframe\">\n",
       "  <thead>\n",
       "    <tr style=\"text-align: right;\">\n",
       "      <th></th>\n",
       "      <th>funded_amount</th>\n",
       "      <th>term</th>\n",
       "      <th>interest_rate</th>\n",
       "      <th>term_in_months</th>\n",
       "      <th>first_payment</th>\n",
       "    </tr>\n",
       "    <tr>\n",
       "      <th>id</th>\n",
       "      <th></th>\n",
       "      <th></th>\n",
       "      <th></th>\n",
       "      <th></th>\n",
       "      <th></th>\n",
       "    </tr>\n",
       "  </thead>\n",
       "  <tbody>\n",
       "    <tr>\n",
       "      <th>721751</th>\n",
       "      <td>7000.0</td>\n",
       "      <td>36 months</td>\n",
       "      <td>14.91</td>\n",
       "      <td>36</td>\n",
       "      <td>194.444444</td>\n",
       "    </tr>\n",
       "    <tr>\n",
       "      <th>40277218</th>\n",
       "      <td>16800.0</td>\n",
       "      <td>60 months</td>\n",
       "      <td>16.49</td>\n",
       "      <td>60</td>\n",
       "      <td>280.000000</td>\n",
       "    </tr>\n",
       "    <tr>\n",
       "      <th>68416017</th>\n",
       "      <td>1500.0</td>\n",
       "      <td>36 months</td>\n",
       "      <td>9.17</td>\n",
       "      <td>36</td>\n",
       "      <td>41.666667</td>\n",
       "    </tr>\n",
       "    <tr>\n",
       "      <th>59481461</th>\n",
       "      <td>8000.0</td>\n",
       "      <td>36 months</td>\n",
       "      <td>12.29</td>\n",
       "      <td>36</td>\n",
       "      <td>222.222222</td>\n",
       "    </tr>\n",
       "    <tr>\n",
       "      <th>73003</th>\n",
       "      <td>3200.0</td>\n",
       "      <td>36 months</td>\n",
       "      <td>9.96</td>\n",
       "      <td>36</td>\n",
       "      <td>88.888889</td>\n",
       "    </tr>\n",
       "    <tr>\n",
       "      <th>55917749</th>\n",
       "      <td>5000.0</td>\n",
       "      <td>36 months</td>\n",
       "      <td>12.29</td>\n",
       "      <td>36</td>\n",
       "      <td>138.888889</td>\n",
       "    </tr>\n",
       "    <tr>\n",
       "      <th>1149328</th>\n",
       "      <td>11500.0</td>\n",
       "      <td>36 months</td>\n",
       "      <td>16.29</td>\n",
       "      <td>36</td>\n",
       "      <td>319.444444</td>\n",
       "    </tr>\n",
       "    <tr>\n",
       "      <th>1614457</th>\n",
       "      <td>6000.0</td>\n",
       "      <td>36 months</td>\n",
       "      <td>15.80</td>\n",
       "      <td>36</td>\n",
       "      <td>166.666667</td>\n",
       "    </tr>\n",
       "    <tr>\n",
       "      <th>31999103</th>\n",
       "      <td>11000.0</td>\n",
       "      <td>36 months</td>\n",
       "      <td>14.49</td>\n",
       "      <td>36</td>\n",
       "      <td>305.555556</td>\n",
       "    </tr>\n",
       "    <tr>\n",
       "      <th>290605</th>\n",
       "      <td>15000.0</td>\n",
       "      <td>36 months</td>\n",
       "      <td>9.45</td>\n",
       "      <td>36</td>\n",
       "      <td>416.666667</td>\n",
       "    </tr>\n",
       "    <tr>\n",
       "      <th>49864582</th>\n",
       "      <td>10000.0</td>\n",
       "      <td>60 months</td>\n",
       "      <td>11.53</td>\n",
       "      <td>60</td>\n",
       "      <td>166.666667</td>\n",
       "    </tr>\n",
       "    <tr>\n",
       "      <th>42221389</th>\n",
       "      <td>2875.0</td>\n",
       "      <td>36 months</td>\n",
       "      <td>12.69</td>\n",
       "      <td>36</td>\n",
       "      <td>79.861111</td>\n",
       "    </tr>\n",
       "  </tbody>\n",
       "</table>\n",
       "</div>"
      ],
      "text/plain": [
       "          funded_amount        term  interest_rate  term_in_months  \\\n",
       "id                                                                   \n",
       "721751           7000.0   36 months          14.91              36   \n",
       "40277218        16800.0   60 months          16.49              60   \n",
       "68416017         1500.0   36 months           9.17              36   \n",
       "59481461         8000.0   36 months          12.29              36   \n",
       "73003            3200.0   36 months           9.96              36   \n",
       "55917749         5000.0   36 months          12.29              36   \n",
       "1149328         11500.0   36 months          16.29              36   \n",
       "1614457          6000.0   36 months          15.80              36   \n",
       "31999103        11000.0   36 months          14.49              36   \n",
       "290605          15000.0   36 months           9.45              36   \n",
       "49864582        10000.0   60 months          11.53              60   \n",
       "42221389         2875.0   36 months          12.69              36   \n",
       "\n",
       "          first_payment  \n",
       "id                       \n",
       "721751       194.444444  \n",
       "40277218     280.000000  \n",
       "68416017      41.666667  \n",
       "59481461     222.222222  \n",
       "73003         88.888889  \n",
       "55917749     138.888889  \n",
       "1149328      319.444444  \n",
       "1614457      166.666667  \n",
       "31999103     305.555556  \n",
       "290605       416.666667  \n",
       "49864582     166.666667  \n",
       "42221389      79.861111  "
      ]
     },
     "execution_count": 11,
     "metadata": {},
     "output_type": "execute_result"
    }
   ],
   "source": [
    "df['term_in_months'] = df['term'].apply(lambda x : int(x.split()[0]))\n",
    "df['first_payment'] = df['funded_amount']/df['term_in_months']\n",
    "df"
   ]
  },
  {
   "cell_type": "code",
   "execution_count": 13,
   "metadata": {
    "ExecuteTime": {
     "end_time": "2019-08-17T07:26:10.333413Z",
     "start_time": "2019-08-17T07:26:10.317485Z"
    }
   },
   "outputs": [
    {
     "data": {
      "text/plain": [
       "term\n",
       " 36 months    197.430556\n",
       " 60 months    223.333333\n",
       "Name: first_payment, dtype: float64"
      ]
     },
     "metadata": {},
     "output_type": "display_data"
    },
    {
     "data": {
      "text/plain": [
       "term\n",
       " 36 months    119.956576\n",
       " 60 months     80.138769\n",
       "Name: first_payment, dtype: float64"
      ]
     },
     "metadata": {},
     "output_type": "display_data"
    }
   ],
   "source": [
    "display(df.groupby('term')['first_payment'].mean())\n",
    "display(df.groupby('term')['first_payment'].std())"
   ]
  },
  {
   "cell_type": "markdown",
   "metadata": {},
   "source": [
    "**References:**\n",
    "\n",
    "Python for Data Analysis, 2nd Edition, McKinney (2017)"
   ]
  }
 ],
 "metadata": {
  "kernelspec": {
   "display_name": "Python 3",
   "language": "python",
   "name": "python3"
  },
  "language_info": {
   "codemirror_mode": {
    "name": "ipython",
    "version": 3
   },
   "file_extension": ".py",
   "mimetype": "text/x-python",
   "name": "python",
   "nbconvert_exporter": "python",
   "pygments_lexer": "ipython3",
   "version": "3.6.5"
  }
 },
 "nbformat": 4,
 "nbformat_minor": 2
}
