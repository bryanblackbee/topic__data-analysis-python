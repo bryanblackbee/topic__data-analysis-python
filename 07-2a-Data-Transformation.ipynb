{
 "cells": [
  {
   "cell_type": "markdown",
   "metadata": {},
   "source": [
    "# Chapter 7 - Data Cleaning and Preparation"
   ]
  },
  {
   "cell_type": "markdown",
   "metadata": {},
   "source": [
    "## 7.2 Data Transformation (1)"
   ]
  },
  {
   "cell_type": "code",
   "execution_count": 1,
   "metadata": {
    "ExecuteTime": {
     "end_time": "2019-08-15T14:27:06.011845Z",
     "start_time": "2019-08-15T14:27:05.633469Z"
    }
   },
   "outputs": [],
   "source": [
    "import pandas as pd\n",
    "import numpy as np"
   ]
  },
  {
   "cell_type": "markdown",
   "metadata": {},
   "source": [
    "- Identifying & removing duplicates\n",
    "\n",
    "- use `.map()` to map values from a domain to another\n",
    "\n",
    "- use `.apply()` to pass a `Series` or `DataFrame` to a function\n",
    "\n",
    "- replace values\n",
    "\n",
    "- renaming axis indices\n",
    "\n",
    "<hr>"
   ]
  },
  {
   "cell_type": "code",
   "execution_count": 2,
   "metadata": {
    "ExecuteTime": {
     "end_time": "2019-08-15T14:27:06.048670Z",
     "start_time": "2019-08-15T14:27:06.014268Z"
    },
    "scrolled": false
   },
   "outputs": [
    {
     "data": {
      "text/html": [
       "<div>\n",
       "<style scoped>\n",
       "    .dataframe tbody tr th:only-of-type {\n",
       "        vertical-align: middle;\n",
       "    }\n",
       "\n",
       "    .dataframe tbody tr th {\n",
       "        vertical-align: top;\n",
       "    }\n",
       "\n",
       "    .dataframe thead th {\n",
       "        text-align: right;\n",
       "    }\n",
       "</style>\n",
       "<table border=\"1\" class=\"dataframe\">\n",
       "  <thead>\n",
       "    <tr style=\"text-align: right;\">\n",
       "      <th></th>\n",
       "      <th>video_id</th>\n",
       "      <th>title</th>\n",
       "      <th>views</th>\n",
       "    </tr>\n",
       "  </thead>\n",
       "  <tbody>\n",
       "    <tr>\n",
       "      <th>0</th>\n",
       "      <td>-EL8TuMsb-k</td>\n",
       "      <td>Full Face TESTING BEAUTY GURUS Makeup FAVORITE...</td>\n",
       "      <td>565288</td>\n",
       "    </tr>\n",
       "    <tr>\n",
       "      <th>1</th>\n",
       "      <td>-EL8TuMsb-k</td>\n",
       "      <td>Full Face TESTING BEAUTY GURUS Makeup FAVORITE...</td>\n",
       "      <td>565288</td>\n",
       "    </tr>\n",
       "    <tr>\n",
       "      <th>2</th>\n",
       "      <td>0lr497GhD04</td>\n",
       "      <td>10,000 Calorie Baconator Challenge!! (11 Burgers)</td>\n",
       "      <td>1752464</td>\n",
       "    </tr>\n",
       "    <tr>\n",
       "      <th>3</th>\n",
       "      <td>1purAy2MsOc</td>\n",
       "      <td>22 Years of Life Milestone</td>\n",
       "      <td>1092447</td>\n",
       "    </tr>\n",
       "    <tr>\n",
       "      <th>4</th>\n",
       "      <td>1purAy2MsOc</td>\n",
       "      <td>22 Years of Life Milestone</td>\n",
       "      <td>1092450</td>\n",
       "    </tr>\n",
       "    <tr>\n",
       "      <th>5</th>\n",
       "      <td>2QK6Usg2KT0</td>\n",
       "      <td>Is McDonald's Garlic White Cheddar Burger Real...</td>\n",
       "      <td>1312727</td>\n",
       "    </tr>\n",
       "    <tr>\n",
       "      <th>6</th>\n",
       "      <td>2QK6Usg2KT0</td>\n",
       "      <td>Is McDonald's Garlic White Cheddar Burger Real...</td>\n",
       "      <td>1312727</td>\n",
       "    </tr>\n",
       "    <tr>\n",
       "      <th>7</th>\n",
       "      <td>4vZJn6r0dRw</td>\n",
       "      <td>YOUTUBERS REACT TO TOP 10 VEVO CHANNELS OF ALL...</td>\n",
       "      <td>1595752</td>\n",
       "    </tr>\n",
       "    <tr>\n",
       "      <th>8</th>\n",
       "      <td>Ga7thDlGbs8</td>\n",
       "      <td>President Trump on bump stocks (C-SPAN)</td>\n",
       "      <td>37389</td>\n",
       "    </tr>\n",
       "    <tr>\n",
       "      <th>9</th>\n",
       "      <td>4ykXguKWqy4</td>\n",
       "      <td>People Living With Disabilities Review Charact...</td>\n",
       "      <td>677579</td>\n",
       "    </tr>\n",
       "    <tr>\n",
       "      <th>10</th>\n",
       "      <td>4ykXguKWqy4</td>\n",
       "      <td>People Living With Disabilities Review Charact...</td>\n",
       "      <td>677579</td>\n",
       "    </tr>\n",
       "    <tr>\n",
       "      <th>11</th>\n",
       "      <td>5MJpurZ9ShI</td>\n",
       "      <td>Do Essential Oils Really Work? And Why?</td>\n",
       "      <td>326617</td>\n",
       "    </tr>\n",
       "    <tr>\n",
       "      <th>12</th>\n",
       "      <td>BPmAxzEJpWA</td>\n",
       "      <td>Snoop Dogg - One More Day (feat. Charlie Wilso...</td>\n",
       "      <td>393494</td>\n",
       "    </tr>\n",
       "    <tr>\n",
       "      <th>13</th>\n",
       "      <td>0lr497GhD04</td>\n",
       "      <td>10,000 Calorie Baconator Challenge!! (11 Burgers)</td>\n",
       "      <td>1752464</td>\n",
       "    </tr>\n",
       "    <tr>\n",
       "      <th>14</th>\n",
       "      <td>Ga7thDlGbs8</td>\n",
       "      <td>President Trump on bump stocks (C-SPAN)</td>\n",
       "      <td>37389</td>\n",
       "    </tr>\n",
       "    <tr>\n",
       "      <th>15</th>\n",
       "      <td>1purAy2MsOc</td>\n",
       "      <td>22 Years of Life Milestone</td>\n",
       "      <td>1092447</td>\n",
       "    </tr>\n",
       "  </tbody>\n",
       "</table>\n",
       "</div>"
      ],
      "text/plain": [
       "       video_id                                              title    views\n",
       "0   -EL8TuMsb-k  Full Face TESTING BEAUTY GURUS Makeup FAVORITE...   565288\n",
       "1   -EL8TuMsb-k  Full Face TESTING BEAUTY GURUS Makeup FAVORITE...   565288\n",
       "2   0lr497GhD04  10,000 Calorie Baconator Challenge!! (11 Burgers)  1752464\n",
       "3   1purAy2MsOc                         22 Years of Life Milestone  1092447\n",
       "4   1purAy2MsOc                         22 Years of Life Milestone  1092450\n",
       "5   2QK6Usg2KT0  Is McDonald's Garlic White Cheddar Burger Real...  1312727\n",
       "6   2QK6Usg2KT0  Is McDonald's Garlic White Cheddar Burger Real...  1312727\n",
       "7   4vZJn6r0dRw  YOUTUBERS REACT TO TOP 10 VEVO CHANNELS OF ALL...  1595752\n",
       "8   Ga7thDlGbs8            President Trump on bump stocks (C-SPAN)    37389\n",
       "9   4ykXguKWqy4  People Living With Disabilities Review Charact...   677579\n",
       "10  4ykXguKWqy4  People Living With Disabilities Review Charact...   677579\n",
       "11  5MJpurZ9ShI            Do Essential Oils Really Work? And Why?   326617\n",
       "12  BPmAxzEJpWA  Snoop Dogg - One More Day (feat. Charlie Wilso...   393494\n",
       "13  0lr497GhD04  10,000 Calorie Baconator Challenge!! (11 Burgers)  1752464\n",
       "14  Ga7thDlGbs8            President Trump on bump stocks (C-SPAN)    37389\n",
       "15  1purAy2MsOc                         22 Years of Life Milestone  1092447"
      ]
     },
     "metadata": {},
     "output_type": "display_data"
    }
   ],
   "source": [
    "df = pd.read_csv('dataset-H-videos.csv')\n",
    "display(df)"
   ]
  },
  {
   "cell_type": "markdown",
   "metadata": {},
   "source": [
    "To identify duplicates, use `.duplicated()`. For each row, the value is `True` if it has been observed in the previous rows (traversing downwards)."
   ]
  },
  {
   "cell_type": "code",
   "execution_count": 3,
   "metadata": {
    "ExecuteTime": {
     "end_time": "2019-08-15T14:27:06.061587Z",
     "start_time": "2019-08-15T14:27:06.051891Z"
    }
   },
   "outputs": [
    {
     "data": {
      "text/plain": [
       "0     False\n",
       "1      True\n",
       "2     False\n",
       "3     False\n",
       "4     False\n",
       "5     False\n",
       "6      True\n",
       "7     False\n",
       "8     False\n",
       "9     False\n",
       "10     True\n",
       "11    False\n",
       "12    False\n",
       "13     True\n",
       "14     True\n",
       "15     True\n",
       "dtype: bool"
      ]
     },
     "execution_count": 3,
     "metadata": {},
     "output_type": "execute_result"
    }
   ],
   "source": [
    "df.duplicated()"
   ]
  },
  {
   "cell_type": "markdown",
   "metadata": {},
   "source": [
    "To remove them, use `.drop_duplicates()`. All observed duplicates will be removed. Note that the index names are not seen after removing duplicates."
   ]
  },
  {
   "cell_type": "code",
   "execution_count": 4,
   "metadata": {
    "ExecuteTime": {
     "end_time": "2019-08-15T14:27:06.079532Z",
     "start_time": "2019-08-15T14:27:06.064339Z"
    },
    "scrolled": true
   },
   "outputs": [
    {
     "data": {
      "text/html": [
       "<div>\n",
       "<style scoped>\n",
       "    .dataframe tbody tr th:only-of-type {\n",
       "        vertical-align: middle;\n",
       "    }\n",
       "\n",
       "    .dataframe tbody tr th {\n",
       "        vertical-align: top;\n",
       "    }\n",
       "\n",
       "    .dataframe thead th {\n",
       "        text-align: right;\n",
       "    }\n",
       "</style>\n",
       "<table border=\"1\" class=\"dataframe\">\n",
       "  <thead>\n",
       "    <tr style=\"text-align: right;\">\n",
       "      <th></th>\n",
       "      <th>video_id</th>\n",
       "      <th>title</th>\n",
       "      <th>views</th>\n",
       "    </tr>\n",
       "  </thead>\n",
       "  <tbody>\n",
       "    <tr>\n",
       "      <th>0</th>\n",
       "      <td>-EL8TuMsb-k</td>\n",
       "      <td>Full Face TESTING BEAUTY GURUS Makeup FAVORITE...</td>\n",
       "      <td>565288</td>\n",
       "    </tr>\n",
       "    <tr>\n",
       "      <th>2</th>\n",
       "      <td>0lr497GhD04</td>\n",
       "      <td>10,000 Calorie Baconator Challenge!! (11 Burgers)</td>\n",
       "      <td>1752464</td>\n",
       "    </tr>\n",
       "    <tr>\n",
       "      <th>3</th>\n",
       "      <td>1purAy2MsOc</td>\n",
       "      <td>22 Years of Life Milestone</td>\n",
       "      <td>1092447</td>\n",
       "    </tr>\n",
       "    <tr>\n",
       "      <th>4</th>\n",
       "      <td>1purAy2MsOc</td>\n",
       "      <td>22 Years of Life Milestone</td>\n",
       "      <td>1092450</td>\n",
       "    </tr>\n",
       "    <tr>\n",
       "      <th>5</th>\n",
       "      <td>2QK6Usg2KT0</td>\n",
       "      <td>Is McDonald's Garlic White Cheddar Burger Real...</td>\n",
       "      <td>1312727</td>\n",
       "    </tr>\n",
       "    <tr>\n",
       "      <th>7</th>\n",
       "      <td>4vZJn6r0dRw</td>\n",
       "      <td>YOUTUBERS REACT TO TOP 10 VEVO CHANNELS OF ALL...</td>\n",
       "      <td>1595752</td>\n",
       "    </tr>\n",
       "    <tr>\n",
       "      <th>8</th>\n",
       "      <td>Ga7thDlGbs8</td>\n",
       "      <td>President Trump on bump stocks (C-SPAN)</td>\n",
       "      <td>37389</td>\n",
       "    </tr>\n",
       "    <tr>\n",
       "      <th>9</th>\n",
       "      <td>4ykXguKWqy4</td>\n",
       "      <td>People Living With Disabilities Review Charact...</td>\n",
       "      <td>677579</td>\n",
       "    </tr>\n",
       "    <tr>\n",
       "      <th>11</th>\n",
       "      <td>5MJpurZ9ShI</td>\n",
       "      <td>Do Essential Oils Really Work? And Why?</td>\n",
       "      <td>326617</td>\n",
       "    </tr>\n",
       "    <tr>\n",
       "      <th>12</th>\n",
       "      <td>BPmAxzEJpWA</td>\n",
       "      <td>Snoop Dogg - One More Day (feat. Charlie Wilso...</td>\n",
       "      <td>393494</td>\n",
       "    </tr>\n",
       "  </tbody>\n",
       "</table>\n",
       "</div>"
      ],
      "text/plain": [
       "       video_id                                              title    views\n",
       "0   -EL8TuMsb-k  Full Face TESTING BEAUTY GURUS Makeup FAVORITE...   565288\n",
       "2   0lr497GhD04  10,000 Calorie Baconator Challenge!! (11 Burgers)  1752464\n",
       "3   1purAy2MsOc                         22 Years of Life Milestone  1092447\n",
       "4   1purAy2MsOc                         22 Years of Life Milestone  1092450\n",
       "5   2QK6Usg2KT0  Is McDonald's Garlic White Cheddar Burger Real...  1312727\n",
       "7   4vZJn6r0dRw  YOUTUBERS REACT TO TOP 10 VEVO CHANNELS OF ALL...  1595752\n",
       "8   Ga7thDlGbs8            President Trump on bump stocks (C-SPAN)    37389\n",
       "9   4ykXguKWqy4  People Living With Disabilities Review Charact...   677579\n",
       "11  5MJpurZ9ShI            Do Essential Oils Really Work? And Why?   326617\n",
       "12  BPmAxzEJpWA  Snoop Dogg - One More Day (feat. Charlie Wilso...   393494"
      ]
     },
     "metadata": {},
     "output_type": "display_data"
    }
   ],
   "source": [
    "display(df.drop_duplicates())"
   ]
  },
  {
   "cell_type": "markdown",
   "metadata": {},
   "source": [
    "To remove duplicates by considering only a subset of columns use `.drop_duplicates([col1, col2])`. The duplicates will be removed, but only the selected columns are used to evaluate."
   ]
  },
  {
   "cell_type": "code",
   "execution_count": 5,
   "metadata": {
    "ExecuteTime": {
     "end_time": "2019-08-15T14:27:06.105778Z",
     "start_time": "2019-08-15T14:27:06.089334Z"
    },
    "scrolled": true
   },
   "outputs": [
    {
     "data": {
      "text/html": [
       "<div>\n",
       "<style scoped>\n",
       "    .dataframe tbody tr th:only-of-type {\n",
       "        vertical-align: middle;\n",
       "    }\n",
       "\n",
       "    .dataframe tbody tr th {\n",
       "        vertical-align: top;\n",
       "    }\n",
       "\n",
       "    .dataframe thead th {\n",
       "        text-align: right;\n",
       "    }\n",
       "</style>\n",
       "<table border=\"1\" class=\"dataframe\">\n",
       "  <thead>\n",
       "    <tr style=\"text-align: right;\">\n",
       "      <th></th>\n",
       "      <th>video_id</th>\n",
       "      <th>title</th>\n",
       "      <th>views</th>\n",
       "    </tr>\n",
       "  </thead>\n",
       "  <tbody>\n",
       "    <tr>\n",
       "      <th>0</th>\n",
       "      <td>-EL8TuMsb-k</td>\n",
       "      <td>Full Face TESTING BEAUTY GURUS Makeup FAVORITE...</td>\n",
       "      <td>565288</td>\n",
       "    </tr>\n",
       "    <tr>\n",
       "      <th>2</th>\n",
       "      <td>0lr497GhD04</td>\n",
       "      <td>10,000 Calorie Baconator Challenge!! (11 Burgers)</td>\n",
       "      <td>1752464</td>\n",
       "    </tr>\n",
       "    <tr>\n",
       "      <th>3</th>\n",
       "      <td>1purAy2MsOc</td>\n",
       "      <td>22 Years of Life Milestone</td>\n",
       "      <td>1092447</td>\n",
       "    </tr>\n",
       "    <tr>\n",
       "      <th>4</th>\n",
       "      <td>1purAy2MsOc</td>\n",
       "      <td>22 Years of Life Milestone</td>\n",
       "      <td>1092450</td>\n",
       "    </tr>\n",
       "    <tr>\n",
       "      <th>5</th>\n",
       "      <td>2QK6Usg2KT0</td>\n",
       "      <td>Is McDonald's Garlic White Cheddar Burger Real...</td>\n",
       "      <td>1312727</td>\n",
       "    </tr>\n",
       "    <tr>\n",
       "      <th>7</th>\n",
       "      <td>4vZJn6r0dRw</td>\n",
       "      <td>YOUTUBERS REACT TO TOP 10 VEVO CHANNELS OF ALL...</td>\n",
       "      <td>1595752</td>\n",
       "    </tr>\n",
       "    <tr>\n",
       "      <th>8</th>\n",
       "      <td>Ga7thDlGbs8</td>\n",
       "      <td>President Trump on bump stocks (C-SPAN)</td>\n",
       "      <td>37389</td>\n",
       "    </tr>\n",
       "    <tr>\n",
       "      <th>9</th>\n",
       "      <td>4ykXguKWqy4</td>\n",
       "      <td>People Living With Disabilities Review Charact...</td>\n",
       "      <td>677579</td>\n",
       "    </tr>\n",
       "    <tr>\n",
       "      <th>11</th>\n",
       "      <td>5MJpurZ9ShI</td>\n",
       "      <td>Do Essential Oils Really Work? And Why?</td>\n",
       "      <td>326617</td>\n",
       "    </tr>\n",
       "    <tr>\n",
       "      <th>12</th>\n",
       "      <td>BPmAxzEJpWA</td>\n",
       "      <td>Snoop Dogg - One More Day (feat. Charlie Wilso...</td>\n",
       "      <td>393494</td>\n",
       "    </tr>\n",
       "  </tbody>\n",
       "</table>\n",
       "</div>"
      ],
      "text/plain": [
       "       video_id                                              title    views\n",
       "0   -EL8TuMsb-k  Full Face TESTING BEAUTY GURUS Makeup FAVORITE...   565288\n",
       "2   0lr497GhD04  10,000 Calorie Baconator Challenge!! (11 Burgers)  1752464\n",
       "3   1purAy2MsOc                         22 Years of Life Milestone  1092447\n",
       "4   1purAy2MsOc                         22 Years of Life Milestone  1092450\n",
       "5   2QK6Usg2KT0  Is McDonald's Garlic White Cheddar Burger Real...  1312727\n",
       "7   4vZJn6r0dRw  YOUTUBERS REACT TO TOP 10 VEVO CHANNELS OF ALL...  1595752\n",
       "8   Ga7thDlGbs8            President Trump on bump stocks (C-SPAN)    37389\n",
       "9   4ykXguKWqy4  People Living With Disabilities Review Charact...   677579\n",
       "11  5MJpurZ9ShI            Do Essential Oils Really Work? And Why?   326617\n",
       "12  BPmAxzEJpWA  Snoop Dogg - One More Day (feat. Charlie Wilso...   393494"
      ]
     },
     "metadata": {},
     "output_type": "display_data"
    }
   ],
   "source": [
    "display(df.drop_duplicates(['video_id', 'views']))"
   ]
  },
  {
   "cell_type": "markdown",
   "metadata": {},
   "source": [
    "<hr>"
   ]
  },
  {
   "cell_type": "code",
   "execution_count": 6,
   "metadata": {
    "ExecuteTime": {
     "end_time": "2019-08-15T14:27:06.139801Z",
     "start_time": "2019-08-15T14:27:06.109453Z"
    }
   },
   "outputs": [
    {
     "data": {
      "text/html": [
       "<div>\n",
       "<style scoped>\n",
       "    .dataframe tbody tr th:only-of-type {\n",
       "        vertical-align: middle;\n",
       "    }\n",
       "\n",
       "    .dataframe tbody tr th {\n",
       "        vertical-align: top;\n",
       "    }\n",
       "\n",
       "    .dataframe thead th {\n",
       "        text-align: right;\n",
       "    }\n",
       "</style>\n",
       "<table border=\"1\" class=\"dataframe\">\n",
       "  <thead>\n",
       "    <tr style=\"text-align: right;\">\n",
       "      <th></th>\n",
       "      <th>video_id</th>\n",
       "      <th>title</th>\n",
       "      <th>category_id</th>\n",
       "    </tr>\n",
       "  </thead>\n",
       "  <tbody>\n",
       "    <tr>\n",
       "      <th>0</th>\n",
       "      <td>1qIj0m7-sHI</td>\n",
       "      <td>Top 10 NFL Rookies of the 2017 Season | NFL Hi...</td>\n",
       "      <td>17</td>\n",
       "    </tr>\n",
       "    <tr>\n",
       "      <th>1</th>\n",
       "      <td>k1xvol1SCx8</td>\n",
       "      <td>Dua Lipa - IDGAF ft. Charli XCX, Zara Larsson,...</td>\n",
       "      <td>10</td>\n",
       "    </tr>\n",
       "    <tr>\n",
       "      <th>2</th>\n",
       "      <td>8sg8lY-leE8</td>\n",
       "      <td>Vermilion Parish teacher gets arrested at Verm...</td>\n",
       "      <td>23</td>\n",
       "    </tr>\n",
       "    <tr>\n",
       "      <th>3</th>\n",
       "      <td>Y6zucdAzNi4</td>\n",
       "      <td>Thank You Peter Capaldi | Doctor Who Christmas...</td>\n",
       "      <td>24</td>\n",
       "    </tr>\n",
       "    <tr>\n",
       "      <th>4</th>\n",
       "      <td>BmMuLuG1yW8</td>\n",
       "      <td>G-Eazy On Stepping Away From H&amp;M, Being A Craz...</td>\n",
       "      <td>24</td>\n",
       "    </tr>\n",
       "  </tbody>\n",
       "</table>\n",
       "</div>"
      ],
      "text/plain": [
       "      video_id                                              title  category_id\n",
       "0  1qIj0m7-sHI  Top 10 NFL Rookies of the 2017 Season | NFL Hi...           17\n",
       "1  k1xvol1SCx8  Dua Lipa - IDGAF ft. Charli XCX, Zara Larsson,...           10\n",
       "2  8sg8lY-leE8  Vermilion Parish teacher gets arrested at Verm...           23\n",
       "3  Y6zucdAzNi4  Thank You Peter Capaldi | Doctor Who Christmas...           24\n",
       "4  BmMuLuG1yW8  G-Eazy On Stepping Away From H&M, Being A Craz...           24"
      ]
     },
     "metadata": {},
     "output_type": "display_data"
    }
   ],
   "source": [
    "df2 = pd.read_csv('dataset-H2-videos.csv')\n",
    "df2 = df2[['video_id', 'title', 'category_id']]\n",
    "display(df2)"
   ]
  },
  {
   "cell_type": "markdown",
   "metadata": {},
   "source": [
    "To perform simple mapping of elements in a `Series` from one domain to another, use `Series.map()`. "
   ]
  },
  {
   "cell_type": "code",
   "execution_count": 7,
   "metadata": {
    "ExecuteTime": {
     "end_time": "2019-08-15T14:27:06.196469Z",
     "start_time": "2019-08-15T14:27:06.142693Z"
    }
   },
   "outputs": [
    {
     "data": {
      "text/html": [
       "<div>\n",
       "<style scoped>\n",
       "    .dataframe tbody tr th:only-of-type {\n",
       "        vertical-align: middle;\n",
       "    }\n",
       "\n",
       "    .dataframe tbody tr th {\n",
       "        vertical-align: top;\n",
       "    }\n",
       "\n",
       "    .dataframe thead th {\n",
       "        text-align: right;\n",
       "    }\n",
       "</style>\n",
       "<table border=\"1\" class=\"dataframe\">\n",
       "  <thead>\n",
       "    <tr style=\"text-align: right;\">\n",
       "      <th></th>\n",
       "      <th>video_id</th>\n",
       "      <th>title</th>\n",
       "      <th>category_id</th>\n",
       "      <th>category_name</th>\n",
       "    </tr>\n",
       "  </thead>\n",
       "  <tbody>\n",
       "    <tr>\n",
       "      <th>0</th>\n",
       "      <td>1qIj0m7-sHI</td>\n",
       "      <td>Top 10 NFL Rookies of the 2017 Season | NFL Hi...</td>\n",
       "      <td>17</td>\n",
       "      <td>Sports</td>\n",
       "    </tr>\n",
       "    <tr>\n",
       "      <th>1</th>\n",
       "      <td>k1xvol1SCx8</td>\n",
       "      <td>Dua Lipa - IDGAF ft. Charli XCX, Zara Larsson,...</td>\n",
       "      <td>10</td>\n",
       "      <td>Music</td>\n",
       "    </tr>\n",
       "    <tr>\n",
       "      <th>2</th>\n",
       "      <td>8sg8lY-leE8</td>\n",
       "      <td>Vermilion Parish teacher gets arrested at Verm...</td>\n",
       "      <td>23</td>\n",
       "      <td>Comedy</td>\n",
       "    </tr>\n",
       "    <tr>\n",
       "      <th>3</th>\n",
       "      <td>Y6zucdAzNi4</td>\n",
       "      <td>Thank You Peter Capaldi | Doctor Who Christmas...</td>\n",
       "      <td>24</td>\n",
       "      <td>Entertainment</td>\n",
       "    </tr>\n",
       "    <tr>\n",
       "      <th>4</th>\n",
       "      <td>BmMuLuG1yW8</td>\n",
       "      <td>G-Eazy On Stepping Away From H&amp;M, Being A Craz...</td>\n",
       "      <td>24</td>\n",
       "      <td>Entertainment</td>\n",
       "    </tr>\n",
       "  </tbody>\n",
       "</table>\n",
       "</div>"
      ],
      "text/plain": [
       "      video_id                                              title  \\\n",
       "0  1qIj0m7-sHI  Top 10 NFL Rookies of the 2017 Season | NFL Hi...   \n",
       "1  k1xvol1SCx8  Dua Lipa - IDGAF ft. Charli XCX, Zara Larsson,...   \n",
       "2  8sg8lY-leE8  Vermilion Parish teacher gets arrested at Verm...   \n",
       "3  Y6zucdAzNi4  Thank You Peter Capaldi | Doctor Who Christmas...   \n",
       "4  BmMuLuG1yW8  G-Eazy On Stepping Away From H&M, Being A Craz...   \n",
       "\n",
       "   category_id  category_name  \n",
       "0           17         Sports  \n",
       "1           10          Music  \n",
       "2           23         Comedy  \n",
       "3           24  Entertainment  \n",
       "4           24  Entertainment  "
      ]
     },
     "metadata": {},
     "output_type": "display_data"
    }
   ],
   "source": [
    "category_to_names = {17 : 'Sports', 10 : 'Music', 23 : 'Comedy', 24 : 'Entertainment'}\n",
    "df2['category_name'] = df2['category_id'].map(category_to_names)\n",
    "display(df2)"
   ]
  },
  {
   "cell_type": "markdown",
   "metadata": {},
   "source": [
    "To use one column as an input to a function, use `Series.apply()`. Note that `DataFrame.apply()` is also valid. Further reading about this includes handling function with keyword arguments."
   ]
  },
  {
   "cell_type": "code",
   "execution_count": 8,
   "metadata": {
    "ExecuteTime": {
     "end_time": "2019-08-15T14:27:06.206627Z",
     "start_time": "2019-08-15T14:27:06.201629Z"
    }
   },
   "outputs": [],
   "source": [
    "def calculate_disbursed_amount(x):\n",
    "    # Disbursed amount is 90% of the loan amount\n",
    "    exact_amt = x*0.90\n",
    "    # Round this value down to the nearest $100\n",
    "    rounded_amt = int(exact_amt/100)*100.0\n",
    "    return rounded_amt"
   ]
  },
  {
   "cell_type": "code",
   "execution_count": 9,
   "metadata": {
    "ExecuteTime": {
     "end_time": "2019-08-15T14:27:06.240359Z",
     "start_time": "2019-08-15T14:27:06.209519Z"
    }
   },
   "outputs": [
    {
     "data": {
      "text/html": [
       "<div>\n",
       "<style scoped>\n",
       "    .dataframe tbody tr th:only-of-type {\n",
       "        vertical-align: middle;\n",
       "    }\n",
       "\n",
       "    .dataframe tbody tr th {\n",
       "        vertical-align: top;\n",
       "    }\n",
       "\n",
       "    .dataframe thead th {\n",
       "        text-align: right;\n",
       "    }\n",
       "</style>\n",
       "<table border=\"1\" class=\"dataframe\">\n",
       "  <thead>\n",
       "    <tr style=\"text-align: right;\">\n",
       "      <th></th>\n",
       "      <th>loan_amnt</th>\n",
       "      <th>int_rate</th>\n",
       "      <th>term</th>\n",
       "      <th>grade</th>\n",
       "      <th>loan_disbursed</th>\n",
       "    </tr>\n",
       "  </thead>\n",
       "  <tbody>\n",
       "    <tr>\n",
       "      <th>48304290</th>\n",
       "      <td>30000.0</td>\n",
       "      <td>8.18</td>\n",
       "      <td>36 months</td>\n",
       "      <td>B</td>\n",
       "      <td>27000.0</td>\n",
       "    </tr>\n",
       "    <tr>\n",
       "      <th>49904421</th>\n",
       "      <td>14225.0</td>\n",
       "      <td>13.33</td>\n",
       "      <td>60 months</td>\n",
       "      <td>C</td>\n",
       "      <td>12800.0</td>\n",
       "    </tr>\n",
       "    <tr>\n",
       "      <th>32038416</th>\n",
       "      <td>12000.0</td>\n",
       "      <td>20.20</td>\n",
       "      <td>60 months</td>\n",
       "      <td>E</td>\n",
       "      <td>10800.0</td>\n",
       "    </tr>\n",
       "    <tr>\n",
       "      <th>11456303</th>\n",
       "      <td>18000.0</td>\n",
       "      <td>8.39</td>\n",
       "      <td>36 months</td>\n",
       "      <td>A</td>\n",
       "      <td>16200.0</td>\n",
       "    </tr>\n",
       "    <tr>\n",
       "      <th>23613274</th>\n",
       "      <td>4000.0</td>\n",
       "      <td>12.49</td>\n",
       "      <td>36 months</td>\n",
       "      <td>B</td>\n",
       "      <td>3600.0</td>\n",
       "    </tr>\n",
       "    <tr>\n",
       "      <th>55949701</th>\n",
       "      <td>15000.0</td>\n",
       "      <td>16.99</td>\n",
       "      <td>60 months</td>\n",
       "      <td>D</td>\n",
       "      <td>13500.0</td>\n",
       "    </tr>\n",
       "  </tbody>\n",
       "</table>\n",
       "</div>"
      ],
      "text/plain": [
       "          loan_amnt  int_rate        term grade  loan_disbursed\n",
       "48304290    30000.0      8.18   36 months     B         27000.0\n",
       "49904421    14225.0     13.33   60 months     C         12800.0\n",
       "32038416    12000.0     20.20   60 months     E         10800.0\n",
       "11456303    18000.0      8.39   36 months     A         16200.0\n",
       "23613274     4000.0     12.49   36 months     B          3600.0\n",
       "55949701    15000.0     16.99   60 months     D         13500.0"
      ]
     },
     "metadata": {},
     "output_type": "display_data"
    }
   ],
   "source": [
    "df3 = pd.read_csv('dataset-A-loans.csv', index_col=0)\n",
    "# Observe that the conversion returns a float, to be coherent with the loan_amnt column\n",
    "df3['loan_disbursed'] = df3['loan_amnt'].apply(calculate_disbursed_amount)\n",
    "display(df3)"
   ]
  },
  {
   "cell_type": "markdown",
   "metadata": {},
   "source": [
    "<hr>\n",
    "Use replace values, use `Series.replace()`."
   ]
  },
  {
   "cell_type": "code",
   "execution_count": 10,
   "metadata": {
    "ExecuteTime": {
     "end_time": "2019-08-15T14:27:06.261802Z",
     "start_time": "2019-08-15T14:27:06.243827Z"
    }
   },
   "outputs": [
    {
     "data": {
      "text/plain": [
       "48304290    B\n",
       "49904421    C\n",
       "32038416    E\n",
       "11456303    A\n",
       "23613274    B\n",
       "55949701    D\n",
       "Name: grade, dtype: object"
      ]
     },
     "metadata": {},
     "output_type": "display_data"
    },
    {
     "data": {
      "text/plain": [
       "48304290    B\n",
       "49904421    C\n",
       "32038416    E\n",
       "11456303    A\n",
       "23613274    B\n",
       "55949701    C\n",
       "Name: grade, dtype: object"
      ]
     },
     "metadata": {},
     "output_type": "display_data"
    }
   ],
   "source": [
    "grades = df3.copy()['grade']\n",
    "display(grades)\n",
    "display(grades.replace('D', 'C'))"
   ]
  },
  {
   "cell_type": "markdown",
   "metadata": {},
   "source": [
    "`Series.replace()` can be use for more complex substitution logic. To substitute multiple values to one value, pass a `list` in the first argument. To declare multiple substitution rules, pass a `dict`."
   ]
  },
  {
   "cell_type": "code",
   "execution_count": 11,
   "metadata": {
    "ExecuteTime": {
     "end_time": "2019-08-15T14:27:06.289240Z",
     "start_time": "2019-08-15T14:27:06.272571Z"
    },
    "scrolled": true
   },
   "outputs": [
    {
     "data": {
      "text/plain": [
       "48304290    B\n",
       "49904421    C\n",
       "32038416    E\n",
       "11456303    A\n",
       "23613274    B\n",
       "55949701    D\n",
       "Name: grade, dtype: object"
      ]
     },
     "metadata": {},
     "output_type": "display_data"
    },
    {
     "data": {
      "text/plain": [
       "48304290    B\n",
       "49904421    C\n",
       "32038416    C\n",
       "11456303    A\n",
       "23613274    B\n",
       "55949701    C\n",
       "Name: grade, dtype: object"
      ]
     },
     "metadata": {},
     "output_type": "display_data"
    }
   ],
   "source": [
    "display(grades)\n",
    "display(grades.replace(['D', 'E'], 'C'))"
   ]
  },
  {
   "cell_type": "code",
   "execution_count": 12,
   "metadata": {
    "ExecuteTime": {
     "end_time": "2019-08-15T14:27:06.320648Z",
     "start_time": "2019-08-15T14:27:06.292469Z"
    }
   },
   "outputs": [
    {
     "data": {
      "text/plain": [
       "48304290    B\n",
       "49904421    C\n",
       "32038416    E\n",
       "11456303    A\n",
       "23613274    B\n",
       "55949701    D\n",
       "Name: grade, dtype: object"
      ]
     },
     "metadata": {},
     "output_type": "display_data"
    },
    {
     "data": {
      "text/plain": [
       "48304290    2\n",
       "49904421    C\n",
       "32038416    E\n",
       "11456303    1\n",
       "23613274    2\n",
       "55949701    D\n",
       "Name: grade, dtype: object"
      ]
     },
     "metadata": {},
     "output_type": "display_data"
    }
   ],
   "source": [
    "display(grades)\n",
    "display(grades.replace({'A' : '1', 'B' : '2'}))"
   ]
  },
  {
   "cell_type": "markdown",
   "metadata": {},
   "source": [
    "<hr>\n",
    "The index can be modified by using `df.index`"
   ]
  },
  {
   "cell_type": "code",
   "execution_count": 13,
   "metadata": {
    "ExecuteTime": {
     "end_time": "2019-08-15T14:27:06.380584Z",
     "start_time": "2019-08-15T14:27:06.323323Z"
    },
    "scrolled": false
   },
   "outputs": [
    {
     "data": {
      "text/html": [
       "<div>\n",
       "<style scoped>\n",
       "    .dataframe tbody tr th:only-of-type {\n",
       "        vertical-align: middle;\n",
       "    }\n",
       "\n",
       "    .dataframe tbody tr th {\n",
       "        vertical-align: top;\n",
       "    }\n",
       "\n",
       "    .dataframe thead th {\n",
       "        text-align: right;\n",
       "    }\n",
       "</style>\n",
       "<table border=\"1\" class=\"dataframe\">\n",
       "  <thead>\n",
       "    <tr style=\"text-align: right;\">\n",
       "      <th></th>\n",
       "      <th>Year Total</th>\n",
       "      <th>HDB 1- &amp; 2- Room Flats</th>\n",
       "      <th>HDB 3-Room Flats</th>\n",
       "      <th>HDB 4-Room Flats</th>\n",
       "      <th>HDB 5-Room &amp; Executive Flats</th>\n",
       "      <th>Condominiums &amp; Other Apartments</th>\n",
       "      <th>Landed Properties</th>\n",
       "    </tr>\n",
       "  </thead>\n",
       "  <tbody>\n",
       "    <tr>\n",
       "      <th>2014</th>\n",
       "      <td>3526</td>\n",
       "      <td>9315.0</td>\n",
       "      <td>3385</td>\n",
       "      <td>3402.0</td>\n",
       "      <td>3554</td>\n",
       "      <td>2177.0</td>\n",
       "      <td>2488</td>\n",
       "    </tr>\n",
       "    <tr>\n",
       "      <th>2015</th>\n",
       "      <td>4096</td>\n",
       "      <td>NaN</td>\n",
       "      <td>3853</td>\n",
       "      <td>3906.0</td>\n",
       "      <td>4233</td>\n",
       "      <td>2887.0</td>\n",
       "      <td>3093</td>\n",
       "    </tr>\n",
       "    <tr>\n",
       "      <th>2016</th>\n",
       "      <td>4248</td>\n",
       "      <td>10062.0</td>\n",
       "      <td>4251</td>\n",
       "      <td>NaN</td>\n",
       "      <td>4231</td>\n",
       "      <td>NaN</td>\n",
       "      <td>2907</td>\n",
       "    </tr>\n",
       "    <tr>\n",
       "      <th>2017</th>\n",
       "      <td>4503</td>\n",
       "      <td>10424.0</td>\n",
       "      <td>4500</td>\n",
       "      <td>NaN</td>\n",
       "      <td>4425</td>\n",
       "      <td>NaN</td>\n",
       "      <td>3339</td>\n",
       "    </tr>\n",
       "    <tr>\n",
       "      <th>2018</th>\n",
       "      <td>4494</td>\n",
       "      <td>10347.0</td>\n",
       "      <td>4535</td>\n",
       "      <td>4397.0</td>\n",
       "      <td>4424</td>\n",
       "      <td>2957.0</td>\n",
       "      <td>3152</td>\n",
       "    </tr>\n",
       "  </tbody>\n",
       "</table>\n",
       "</div>"
      ],
      "text/plain": [
       "      Year Total  HDB 1- & 2- Room Flats  HDB 3-Room Flats  HDB 4-Room Flats  \\\n",
       "2014        3526                  9315.0              3385            3402.0   \n",
       "2015        4096                     NaN              3853            3906.0   \n",
       "2016        4248                 10062.0              4251               NaN   \n",
       "2017        4503                 10424.0              4500               NaN   \n",
       "2018        4494                 10347.0              4535            4397.0   \n",
       "\n",
       "      HDB 5-Room & Executive Flats  Condominiums & Other Apartments  \\\n",
       "2014                          3554                           2177.0   \n",
       "2015                          4233                           2887.0   \n",
       "2016                          4231                              NaN   \n",
       "2017                          4425                              NaN   \n",
       "2018                          4424                           2957.0   \n",
       "\n",
       "      Landed Properties  \n",
       "2014               2488  \n",
       "2015               3093  \n",
       "2016               2907  \n",
       "2017               3339  \n",
       "2018               3152  "
      ]
     },
     "metadata": {},
     "output_type": "display_data"
    },
    {
     "data": {
      "text/html": [
       "<div>\n",
       "<style scoped>\n",
       "    .dataframe tbody tr th:only-of-type {\n",
       "        vertical-align: middle;\n",
       "    }\n",
       "\n",
       "    .dataframe tbody tr th {\n",
       "        vertical-align: top;\n",
       "    }\n",
       "\n",
       "    .dataframe thead th {\n",
       "        text-align: right;\n",
       "    }\n",
       "</style>\n",
       "<table border=\"1\" class=\"dataframe\">\n",
       "  <thead>\n",
       "    <tr style=\"text-align: right;\">\n",
       "      <th></th>\n",
       "      <th>Year Total</th>\n",
       "      <th>HDB 1- &amp; 2- Room Flats</th>\n",
       "      <th>HDB 3-Room Flats</th>\n",
       "      <th>HDB 4-Room Flats</th>\n",
       "      <th>HDB 5-Room &amp; Executive Flats</th>\n",
       "      <th>Condominiums &amp; Other Apartments</th>\n",
       "      <th>Landed Properties</th>\n",
       "    </tr>\n",
       "  </thead>\n",
       "  <tbody>\n",
       "    <tr>\n",
       "      <th>14</th>\n",
       "      <td>3526</td>\n",
       "      <td>9315.0</td>\n",
       "      <td>3385</td>\n",
       "      <td>3402.0</td>\n",
       "      <td>3554</td>\n",
       "      <td>2177.0</td>\n",
       "      <td>2488</td>\n",
       "    </tr>\n",
       "    <tr>\n",
       "      <th>15</th>\n",
       "      <td>4096</td>\n",
       "      <td>NaN</td>\n",
       "      <td>3853</td>\n",
       "      <td>3906.0</td>\n",
       "      <td>4233</td>\n",
       "      <td>2887.0</td>\n",
       "      <td>3093</td>\n",
       "    </tr>\n",
       "    <tr>\n",
       "      <th>16</th>\n",
       "      <td>4248</td>\n",
       "      <td>10062.0</td>\n",
       "      <td>4251</td>\n",
       "      <td>NaN</td>\n",
       "      <td>4231</td>\n",
       "      <td>NaN</td>\n",
       "      <td>2907</td>\n",
       "    </tr>\n",
       "    <tr>\n",
       "      <th>17</th>\n",
       "      <td>4503</td>\n",
       "      <td>10424.0</td>\n",
       "      <td>4500</td>\n",
       "      <td>NaN</td>\n",
       "      <td>4425</td>\n",
       "      <td>NaN</td>\n",
       "      <td>3339</td>\n",
       "    </tr>\n",
       "    <tr>\n",
       "      <th>18</th>\n",
       "      <td>4494</td>\n",
       "      <td>10347.0</td>\n",
       "      <td>4535</td>\n",
       "      <td>4397.0</td>\n",
       "      <td>4424</td>\n",
       "      <td>2957.0</td>\n",
       "      <td>3152</td>\n",
       "    </tr>\n",
       "  </tbody>\n",
       "</table>\n",
       "</div>"
      ],
      "text/plain": [
       "    Year Total  HDB 1- & 2- Room Flats  HDB 3-Room Flats  HDB 4-Room Flats  \\\n",
       "14        3526                  9315.0              3385            3402.0   \n",
       "15        4096                     NaN              3853            3906.0   \n",
       "16        4248                 10062.0              4251               NaN   \n",
       "17        4503                 10424.0              4500               NaN   \n",
       "18        4494                 10347.0              4535            4397.0   \n",
       "\n",
       "    HDB 5-Room & Executive Flats  Condominiums & Other Apartments  \\\n",
       "14                          3554                           2177.0   \n",
       "15                          4233                           2887.0   \n",
       "16                          4231                              NaN   \n",
       "17                          4425                              NaN   \n",
       "18                          4424                           2957.0   \n",
       "\n",
       "    Landed Properties  \n",
       "14               2488  \n",
       "15               3093  \n",
       "16               2907  \n",
       "17               3339  \n",
       "18               3152  "
      ]
     },
     "metadata": {},
     "output_type": "display_data"
    }
   ],
   "source": [
    "df = pd.read_csv('dataset-G-subsidies.csv', sep='|')\n",
    "display(df)\n",
    "df.index = df.index-2000\n",
    "display(df)"
   ]
  },
  {
   "cell_type": "markdown",
   "metadata": {},
   "source": [
    "To update both the index and columns in one step, use `df.rename()`, specifying the `index` and `columns` parameters."
   ]
  },
  {
   "cell_type": "code",
   "execution_count": 14,
   "metadata": {
    "ExecuteTime": {
     "end_time": "2019-08-15T14:27:06.442055Z",
     "start_time": "2019-08-15T14:27:06.384661Z"
    }
   },
   "outputs": [
    {
     "data": {
      "text/html": [
       "<div>\n",
       "<style scoped>\n",
       "    .dataframe tbody tr th:only-of-type {\n",
       "        vertical-align: middle;\n",
       "    }\n",
       "\n",
       "    .dataframe tbody tr th {\n",
       "        vertical-align: top;\n",
       "    }\n",
       "\n",
       "    .dataframe thead th {\n",
       "        text-align: right;\n",
       "    }\n",
       "</style>\n",
       "<table border=\"1\" class=\"dataframe\">\n",
       "  <thead>\n",
       "    <tr style=\"text-align: right;\">\n",
       "      <th></th>\n",
       "      <th>Year Total</th>\n",
       "      <th>HDB 1- &amp; 2- Room Flats</th>\n",
       "      <th>HDB 3-Room Flats</th>\n",
       "      <th>HDB 4-Room Flats</th>\n",
       "      <th>HDB 5-Room &amp; Executive Flats</th>\n",
       "      <th>Condominiums &amp; Other Apartments</th>\n",
       "      <th>Landed Properties</th>\n",
       "    </tr>\n",
       "  </thead>\n",
       "  <tbody>\n",
       "    <tr>\n",
       "      <th>2014</th>\n",
       "      <td>3526</td>\n",
       "      <td>9315.0</td>\n",
       "      <td>3385</td>\n",
       "      <td>3402.0</td>\n",
       "      <td>3554</td>\n",
       "      <td>2177.0</td>\n",
       "      <td>2488</td>\n",
       "    </tr>\n",
       "    <tr>\n",
       "      <th>2015</th>\n",
       "      <td>4096</td>\n",
       "      <td>NaN</td>\n",
       "      <td>3853</td>\n",
       "      <td>3906.0</td>\n",
       "      <td>4233</td>\n",
       "      <td>2887.0</td>\n",
       "      <td>3093</td>\n",
       "    </tr>\n",
       "    <tr>\n",
       "      <th>2016</th>\n",
       "      <td>4248</td>\n",
       "      <td>10062.0</td>\n",
       "      <td>4251</td>\n",
       "      <td>NaN</td>\n",
       "      <td>4231</td>\n",
       "      <td>NaN</td>\n",
       "      <td>2907</td>\n",
       "    </tr>\n",
       "    <tr>\n",
       "      <th>2017</th>\n",
       "      <td>4503</td>\n",
       "      <td>10424.0</td>\n",
       "      <td>4500</td>\n",
       "      <td>NaN</td>\n",
       "      <td>4425</td>\n",
       "      <td>NaN</td>\n",
       "      <td>3339</td>\n",
       "    </tr>\n",
       "    <tr>\n",
       "      <th>2018</th>\n",
       "      <td>4494</td>\n",
       "      <td>10347.0</td>\n",
       "      <td>4535</td>\n",
       "      <td>4397.0</td>\n",
       "      <td>4424</td>\n",
       "      <td>2957.0</td>\n",
       "      <td>3152</td>\n",
       "    </tr>\n",
       "  </tbody>\n",
       "</table>\n",
       "</div>"
      ],
      "text/plain": [
       "      Year Total  HDB 1- & 2- Room Flats  HDB 3-Room Flats  HDB 4-Room Flats  \\\n",
       "2014        3526                  9315.0              3385            3402.0   \n",
       "2015        4096                     NaN              3853            3906.0   \n",
       "2016        4248                 10062.0              4251               NaN   \n",
       "2017        4503                 10424.0              4500               NaN   \n",
       "2018        4494                 10347.0              4535            4397.0   \n",
       "\n",
       "      HDB 5-Room & Executive Flats  Condominiums & Other Apartments  \\\n",
       "2014                          3554                           2177.0   \n",
       "2015                          4233                           2887.0   \n",
       "2016                          4231                              NaN   \n",
       "2017                          4425                              NaN   \n",
       "2018                          4424                           2957.0   \n",
       "\n",
       "      Landed Properties  \n",
       "2014               2488  \n",
       "2015               3093  \n",
       "2016               2907  \n",
       "2017               3339  \n",
       "2018               3152  "
      ]
     },
     "metadata": {},
     "output_type": "display_data"
    },
    {
     "data": {
      "text/html": [
       "<div>\n",
       "<style scoped>\n",
       "    .dataframe tbody tr th:only-of-type {\n",
       "        vertical-align: middle;\n",
       "    }\n",
       "\n",
       "    .dataframe tbody tr th {\n",
       "        vertical-align: top;\n",
       "    }\n",
       "\n",
       "    .dataframe thead th {\n",
       "        text-align: right;\n",
       "    }\n",
       "</style>\n",
       "<table border=\"1\" class=\"dataframe\">\n",
       "  <thead>\n",
       "    <tr style=\"text-align: right;\">\n",
       "      <th></th>\n",
       "      <th>Year Total</th>\n",
       "      <th>HDB 1- &amp; 2- Room Flats</th>\n",
       "      <th>HDB 3-Room Flats</th>\n",
       "      <th>HDB 4-Room Flats</th>\n",
       "      <th>HDB 5-Room &amp; Executive Flats</th>\n",
       "      <th>condo</th>\n",
       "      <th>landed</th>\n",
       "    </tr>\n",
       "  </thead>\n",
       "  <tbody>\n",
       "    <tr>\n",
       "      <th>14</th>\n",
       "      <td>3526</td>\n",
       "      <td>9315.0</td>\n",
       "      <td>3385</td>\n",
       "      <td>3402.0</td>\n",
       "      <td>3554</td>\n",
       "      <td>2177.0</td>\n",
       "      <td>2488</td>\n",
       "    </tr>\n",
       "    <tr>\n",
       "      <th>15</th>\n",
       "      <td>4096</td>\n",
       "      <td>NaN</td>\n",
       "      <td>3853</td>\n",
       "      <td>3906.0</td>\n",
       "      <td>4233</td>\n",
       "      <td>2887.0</td>\n",
       "      <td>3093</td>\n",
       "    </tr>\n",
       "    <tr>\n",
       "      <th>16</th>\n",
       "      <td>4248</td>\n",
       "      <td>10062.0</td>\n",
       "      <td>4251</td>\n",
       "      <td>NaN</td>\n",
       "      <td>4231</td>\n",
       "      <td>NaN</td>\n",
       "      <td>2907</td>\n",
       "    </tr>\n",
       "    <tr>\n",
       "      <th>17</th>\n",
       "      <td>4503</td>\n",
       "      <td>10424.0</td>\n",
       "      <td>4500</td>\n",
       "      <td>NaN</td>\n",
       "      <td>4425</td>\n",
       "      <td>NaN</td>\n",
       "      <td>3339</td>\n",
       "    </tr>\n",
       "    <tr>\n",
       "      <th>18</th>\n",
       "      <td>4494</td>\n",
       "      <td>10347.0</td>\n",
       "      <td>4535</td>\n",
       "      <td>4397.0</td>\n",
       "      <td>4424</td>\n",
       "      <td>2957.0</td>\n",
       "      <td>3152</td>\n",
       "    </tr>\n",
       "  </tbody>\n",
       "</table>\n",
       "</div>"
      ],
      "text/plain": [
       "    Year Total  HDB 1- & 2- Room Flats  HDB 3-Room Flats  HDB 4-Room Flats  \\\n",
       "14        3526                  9315.0              3385            3402.0   \n",
       "15        4096                     NaN              3853            3906.0   \n",
       "16        4248                 10062.0              4251               NaN   \n",
       "17        4503                 10424.0              4500               NaN   \n",
       "18        4494                 10347.0              4535            4397.0   \n",
       "\n",
       "    HDB 5-Room & Executive Flats   condo  landed  \n",
       "14                          3554  2177.0    2488  \n",
       "15                          4233  2887.0    3093  \n",
       "16                          4231     NaN    2907  \n",
       "17                          4425     NaN    3339  \n",
       "18                          4424  2957.0    3152  "
      ]
     },
     "metadata": {},
     "output_type": "display_data"
    }
   ],
   "source": [
    "df = pd.read_csv('dataset-G-subsidies.csv', sep='|')\n",
    "display(df)\n",
    "# Simultaneously rename the index and the columns\n",
    "# inplace=True modifes the variable directly.\n",
    "_ = df.rename(\n",
    "    index={2014: 14, 2015 : 15, 2016 : 16, 2017 : 17, 2018 : 18},\n",
    "    columns={'Condominiums & Other Apartments' : 'condo', 'Landed Properties' : 'landed'}, \n",
    "    inplace=True)\n",
    "display(df)"
   ]
  },
  {
   "cell_type": "markdown",
   "metadata": {},
   "source": [
    "<div class=\"alert alert-warning\"><b>Warning: </b>Note the difference between `rename()` and `replace()`.</div>"
   ]
  },
  {
   "cell_type": "markdown",
   "metadata": {},
   "source": [
    "**References:**\n",
    "\n",
    "Python for Data Analysis, 2nd Edition, McKinney (2017)"
   ]
  }
 ],
 "metadata": {
  "kernelspec": {
   "display_name": "Python 3",
   "language": "python",
   "name": "python3"
  },
  "language_info": {
   "codemirror_mode": {
    "name": "ipython",
    "version": 3
   },
   "file_extension": ".py",
   "mimetype": "text/x-python",
   "name": "python",
   "nbconvert_exporter": "python",
   "pygments_lexer": "ipython3",
   "version": "3.7.2"
  }
 },
 "nbformat": 4,
 "nbformat_minor": 2
}
