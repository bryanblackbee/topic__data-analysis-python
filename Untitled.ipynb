{
 "cells": [
  {
   "cell_type": "markdown",
   "metadata": {},
   "source": [
    "# My Numpy Cheatsheet\n",
    "\n",
    "|<h2>Basics</h2> | <h2>Manipulation</h2>| <h2>Functions</h2> |<h2>Filter & Combine</h2>\n",
    "|:---|:---|:---|:---|\n",
    "|<h3>Instantiation</h3><ul><li>from lists</li><li>from range</li><li>zeros & ones</li><li>from random distributions</li></ul>|<h3>Shape</h3><ul><li>reshape</li><li>transpose</li><li>flatten / reshape(-1,)</li></ul>|<h3>Math</h3> <ul><li>sqrt, square</li><li>exp, log</li><li>round, floor, ceil</li><li>abs, sign</li><li>floor_divide, remainder</li></ul>|<h3>Conditionals</h3> <ul><li>where</li></ul>\n",
    "<h3>Slicing</h3><ul><li>by index</li><li>by range</li><li>using boolean values</li></ul>|<h3>Datatype</h3> <ul><li>elemental datatype conversion</li><li>convert to list</li></ul>|<h3>Analytics</h3> <ul><li>sum / cumsum</li><li>mean, std</li><li>min, max</li><li>percentile</li></ul>|<h3>Combining Arrays</h3> <ul><li>concatenate</li></ul>\n",
    "<h3>Properties</h3> <ul><li>shape</li><li>size / elements</li><li>dimensions</li></ul>| <h3>Sorting</h3> <ul><li>ascending, descending</li><li>by axis</li><li>dimensions</li><li>from random distributions</li></ul>|<h3>Custom</h3><ul><li>vectorize</li><li>list / map</li></ul>\n"
   ]
  },
  {
   "cell_type": "code",
   "execution_count": 1,
   "metadata": {
    "ExecuteTime": {
     "end_time": "2020-07-06T09:39:42.082113Z",
     "start_time": "2020-07-06T09:39:41.821520Z"
    }
   },
   "outputs": [],
   "source": [
    "import numpy as np"
   ]
  },
  {
   "cell_type": "markdown",
   "metadata": {},
   "source": [
    "## Instantiation / Declaration\n",
    "\n",
    "### Instantiation from Values"
   ]
  },
  {
   "cell_type": "code",
   "execution_count": 2,
   "metadata": {
    "ExecuteTime": {
     "end_time": "2020-07-06T09:39:42.096532Z",
     "start_time": "2020-07-06T09:39:42.087657Z"
    }
   },
   "outputs": [],
   "source": [
    "# From lists\n",
    "arr1 = np.array([1,3,5,7,9]) # extends to nested lists\n",
    "\n",
    "# From range\n",
    "arr4 = np.arange(5,10) # extends to (min, max, step) expression\n",
    "\n",
    "# Zeros & Ones with dimensions\n",
    "arr2 = np.zeros(10) # extends to tuples\n",
    "arr3 = np.ones(5) # extends to tuples"
   ]
  },
  {
   "cell_type": "code",
   "execution_count": 3,
   "metadata": {
    "ExecuteTime": {
     "end_time": "2020-07-06T09:39:42.113379Z",
     "start_time": "2020-07-06T09:39:42.099622Z"
    }
   },
   "outputs": [
    {
     "name": "stdout",
     "output_type": "stream",
     "text": [
      "[1 3 5 7 9]\n",
      "[5 6 7 8 9]\n",
      "[0. 0. 0. 0. 0. 0. 0. 0. 0. 0.]\n",
      "[1. 1. 1. 1. 1.]\n"
     ]
    }
   ],
   "source": [
    "print(arr1)\n",
    "print(arr4)\n",
    "print(arr2)\n",
    "print(arr3)"
   ]
  },
  {
   "cell_type": "markdown",
   "metadata": {},
   "source": [
    "### Instantiation from Random Distributions"
   ]
  },
  {
   "cell_type": "code",
   "execution_count": 4,
   "metadata": {
    "ExecuteTime": {
     "end_time": "2020-07-06T09:39:42.153117Z",
     "start_time": "2020-07-06T09:39:42.131278Z"
    }
   },
   "outputs": [
    {
     "name": "stdout",
     "output_type": "stream",
     "text": [
      "[0.71307529 0.75093671 0.53164664 0.09296811]\n",
      "[[0.18801895 0.08836054]\n",
      " [0.36867775 0.99063054]\n",
      " [0.22784047 0.96480898]]\n"
     ]
    }
   ],
   "source": [
    "# Draw from uniform [0,1]\n",
    "arand1 = np.random.random(4) # returns a vector\n",
    "print(arand1)\n",
    "arand2 = np.random.random((3,2)) # returns a matrix 3 rows, 2 cols\n",
    "print(arand2)"
   ]
  },
  {
   "cell_type": "code",
   "execution_count": 5,
   "metadata": {
    "ExecuteTime": {
     "end_time": "2020-07-06T09:39:42.176707Z",
     "start_time": "2020-07-06T09:39:42.160905Z"
    }
   },
   "outputs": [
    {
     "name": "stdout",
     "output_type": "stream",
     "text": [
      "[[-0.75338664 -0.57524515]\n",
      " [ 1.63867753 -0.82731905]\n",
      " [ 1.27193664 -1.49419053]]\n",
      "[[ 0.36739347  0.03655716]\n",
      " [-0.4104547  -0.97602973]\n",
      " [-0.14689947  0.88079219]]\n"
     ]
    }
   ],
   "source": [
    "# Draw from normal [mu=0, sigma=1]\n",
    "arand3 = np.random.normal(0,1,(3,2)) # returns a matrix 3 rows, 2 cols\n",
    "print(arand3)\n",
    "# Draw from uniform [min=-1, max=1]\n",
    "arand4 = np.random.uniform(-1,1,(3,2)) # returns a matrix 3 rows, 2 cols\n",
    "print(arand4)"
   ]
  },
  {
   "cell_type": "markdown",
   "metadata": {},
   "source": [
    "## Properties"
   ]
  },
  {
   "cell_type": "code",
   "execution_count": 6,
   "metadata": {
    "ExecuteTime": {
     "end_time": "2020-07-06T09:39:42.197879Z",
     "start_time": "2020-07-06T09:39:42.181380Z"
    }
   },
   "outputs": [
    {
     "name": "stdout",
     "output_type": "stream",
     "text": [
      "(4, 3)\n",
      "4\n",
      "12\n",
      "2\n"
     ]
    }
   ],
   "source": [
    "arr6a = np.array([[ 7, 11,  1],\n",
    "                  [11,  9,  8],\n",
    "                  [13,  2,  6],\n",
    "                  [11, 11,  2]])\n",
    "\n",
    "# No. of rows & columns\n",
    "print(arr6a.shape)\n",
    "# No. of outermost elements (rows)\n",
    "print(len(arr6a))\n",
    "# Total no. of elements\n",
    "print(arr6a.size)\n",
    "# No. of dimensions\n",
    "print(arr6a.ndim)"
   ]
  },
  {
   "cell_type": "markdown",
   "metadata": {},
   "source": [
    "## Manipulation"
   ]
  },
  {
   "cell_type": "code",
   "execution_count": 7,
   "metadata": {
    "ExecuteTime": {
     "end_time": "2020-07-06T09:39:42.223826Z",
     "start_time": "2020-07-06T09:39:42.202353Z"
    }
   },
   "outputs": [
    {
     "name": "stdout",
     "output_type": "stream",
     "text": [
      "[[0. 0. 0. 0. 0.]\n",
      " [0. 0. 0. 0. 0.]]\n",
      "[1. 1. 1. 1. 1.]\n"
     ]
    }
   ],
   "source": [
    "# Reshape\n",
    "arr2 = np.zeros(10)\n",
    "arr2 = arr2.reshape((2,5)) # rows, columns, as tuple\n",
    "print(arr2)\n",
    "\n",
    "# Convert dtype\n",
    "arr3 = np.ones(5)\n",
    "arr3 = arr3.astype(np.float64) # or np.int32, str etc.\n",
    "print(arr3)"
   ]
  },
  {
   "cell_type": "code",
   "execution_count": 8,
   "metadata": {
    "ExecuteTime": {
     "end_time": "2020-07-06T09:39:42.244269Z",
     "start_time": "2020-07-06T09:39:42.233253Z"
    }
   },
   "outputs": [
    {
     "name": "stdout",
     "output_type": "stream",
     "text": [
      "[[1.         1.73205081]\n",
      " [1.41421356 2.        ]]\n"
     ]
    }
   ],
   "source": [
    "# Transpose\n",
    "arr2a = np.array([[1., 1.41421356,], [1.73205081, 2.,],])\n",
    "print(np.transpose(arr2a))"
   ]
  },
  {
   "cell_type": "code",
   "execution_count": 9,
   "metadata": {
    "ExecuteTime": {
     "end_time": "2020-07-06T09:39:42.262514Z",
     "start_time": "2020-07-06T09:39:42.248217Z"
    }
   },
   "outputs": [
    {
     "name": "stdout",
     "output_type": "stream",
     "text": [
      "[ 7 11  1 11  9  8 13  2  6 11 11  2]\n",
      "[ 7 11  1 11  9  8 13  2  6 11 11  2]\n",
      "[ 7 11  1 11  9  8 13  2  6 11 11  2]\n",
      "[[ 7]\n",
      " [11]\n",
      " [ 1]]\n"
     ]
    }
   ],
   "source": [
    "arr6a = np.array([[ 7, 11,  1],\n",
    "                  [11,  9,  8],\n",
    "                  [13,  2,  6],\n",
    "                  [11, 11,  2]])\n",
    "print(arr6a.flatten()) # To row vector, creates a copy\n",
    "print(np.ravel(arr6a)) # To row vector, changes inplace\n",
    "print(arr6a.reshape(-1,)) # Row vector\n",
    "print(arr6a.reshape(-1,1)[:3]) # Column vector"
   ]
  },
  {
   "cell_type": "code",
   "execution_count": 10,
   "metadata": {
    "ExecuteTime": {
     "end_time": "2020-07-06T09:39:42.279015Z",
     "start_time": "2020-07-06T09:39:42.267978Z"
    }
   },
   "outputs": [
    {
     "name": "stdout",
     "output_type": "stream",
     "text": [
      "[ 0  0  0 11  9  8  1  1  1]\n"
     ]
    }
   ],
   "source": [
    "arr6a = np.array([[ 7, 11,  1],[11,  9,  8],[13,  2,  6],])\n",
    "arr6ai = np.ravel(arr6a) # np.ravel here\n",
    "arr6a[0], arr6a[2] = np.zeros(3), [1,1,1]\n",
    "print(arr6ai) # Observe changes are inplace for ravel"
   ]
  },
  {
   "cell_type": "code",
   "execution_count": null,
   "metadata": {
    "ExecuteTime": {
     "end_time": "2020-07-06T08:35:00.792623Z",
     "start_time": "2020-07-06T08:35:00.785947Z"
    }
   },
   "outputs": [],
   "source": []
  },
  {
   "cell_type": "code",
   "execution_count": 11,
   "metadata": {
    "ExecuteTime": {
     "end_time": "2020-07-06T09:39:42.309838Z",
     "start_time": "2020-07-06T09:39:42.282254Z"
    }
   },
   "outputs": [
    {
     "data": {
      "text/plain": [
       "[[0, 0, 0], [11, 9, 8], [1, 1, 1]]"
      ]
     },
     "execution_count": 11,
     "metadata": {},
     "output_type": "execute_result"
    }
   ],
   "source": [
    "arr6a.tolist() # Convert to Python list"
   ]
  },
  {
   "cell_type": "markdown",
   "metadata": {},
   "source": [
    "## Slicing"
   ]
  },
  {
   "cell_type": "code",
   "execution_count": 12,
   "metadata": {
    "ExecuteTime": {
     "end_time": "2020-07-06T09:39:42.323502Z",
     "start_time": "2020-07-06T09:39:42.313557Z"
    }
   },
   "outputs": [],
   "source": [
    "array_2d = np.array([[ 9,  1, 19, 13],\n",
    "                     [ 5, 17,  8, 14],\n",
    "                     [12, 18,  9, 13],\n",
    "                     [20,  5,  5,  9]])\n",
    "array_1d = array_2d.reshape((-1,))"
   ]
  },
  {
   "cell_type": "code",
   "execution_count": 13,
   "metadata": {
    "ExecuteTime": {
     "end_time": "2020-07-06T09:39:42.371852Z",
     "start_time": "2020-07-06T09:39:42.326579Z"
    }
   },
   "outputs": [
    {
     "name": "stdout",
     "output_type": "stream",
     "text": [
      "1\n",
      "[19 13]\n",
      "[ 9 18 12 14  8 17  5 13]\n"
     ]
    }
   ],
   "source": [
    "print(array_1d[1]) # Single element\n",
    "print(array_1d[2:4]) # Range\n",
    "print(array_1d[10:2:-1]) # Range, reversed"
   ]
  },
  {
   "cell_type": "code",
   "execution_count": 14,
   "metadata": {
    "ExecuteTime": {
     "end_time": "2020-07-06T09:39:42.467794Z",
     "start_time": "2020-07-06T09:39:42.424560Z"
    }
   },
   "outputs": [
    {
     "name": "stdout",
     "output_type": "stream",
     "text": [
      "14\n",
      "[[17  8]\n",
      " [18  9]]\n",
      "[17 18]\n",
      "[19 13 17 14 12 18 13 20]\n"
     ]
    }
   ],
   "source": [
    "print(array_2d[(1,3)]) # Single element\n",
    "print(array_2d[1:3,1:3]) # Range\n",
    "print(array_2d[1:3,1]) # Single element, in range\n",
    "print(array_2d[array_2d>10]) # Boolean"
   ]
  },
  {
   "cell_type": "code",
   "execution_count": 15,
   "metadata": {
    "ExecuteTime": {
     "end_time": "2020-07-06T09:39:42.486634Z",
     "start_time": "2020-07-06T09:39:42.474098Z"
    }
   },
   "outputs": [
    {
     "name": "stdout",
     "output_type": "stream",
     "text": [
      "[5 5]\n",
      "[2 3]\n",
      "[2 1]\n"
     ]
    }
   ],
   "source": [
    "arr3 = np.array([[5, 2, 2],\n",
    "                 [5, 3, 1]])\n",
    "for i in range(0,arr3.shape[1]):\n",
    "    print(arr3[:,i])"
   ]
  },
  {
   "cell_type": "markdown",
   "metadata": {},
   "source": [
    "## Built-in Functions\n",
    "\n",
    "### Math"
   ]
  },
  {
   "cell_type": "code",
   "execution_count": 16,
   "metadata": {
    "ExecuteTime": {
     "end_time": "2020-07-06T09:39:42.503120Z",
     "start_time": "2020-07-06T09:39:42.490415Z"
    }
   },
   "outputs": [
    {
     "name": "stdout",
     "output_type": "stream",
     "text": [
      "[1 2 3 4 5]\n",
      "[1.         1.41421356 1.73205081 2.         2.23606798]\n",
      "[ 1  4  9 16 25]\n",
      "[  2.71828183   7.3890561   20.08553692  54.59815003 148.4131591 ]\n",
      "[0.         0.69314718 1.09861229 1.38629436 1.60943791]\n"
     ]
    }
   ],
   "source": [
    "# Math functions, based on verbose names\n",
    "arr4 = np.arange(1,6)\n",
    "print(arr4)\n",
    "print(np.sqrt(arr4))\n",
    "print(np.square(arr4))\n",
    "print(np.exp(arr4))\n",
    "print(np.log(arr4))"
   ]
  },
  {
   "cell_type": "code",
   "execution_count": 17,
   "metadata": {
    "ExecuteTime": {
     "end_time": "2020-07-06T09:39:42.519701Z",
     "start_time": "2020-07-06T09:39:42.507013Z"
    }
   },
   "outputs": [
    {
     "name": "stdout",
     "output_type": "stream",
     "text": [
      "[1. 1. 1. 2. 2.]\n",
      "[1. 2. 2. 2. 3.]\n",
      "[1. 1. 2. 2. 2.]\n"
     ]
    }
   ],
   "source": [
    "# Rounding, based on verbose names\n",
    "arr6 = np.array([1., 1.41421356, 1.73205081, 2., 2.23606798])\n",
    "print(np.floor(arr6))\n",
    "print(np.ceil(arr6))\n",
    "print(np.round(arr6))"
   ]
  },
  {
   "cell_type": "code",
   "execution_count": 18,
   "metadata": {
    "ExecuteTime": {
     "end_time": "2020-07-06T09:39:42.533719Z",
     "start_time": "2020-07-06T09:39:42.522952Z"
    }
   },
   "outputs": [
    {
     "name": "stdout",
     "output_type": "stream",
     "text": [
      "[-5 -4 -3 -2 -1  0  1  2  3  4  5]\n",
      "[5 4 3 2 1 0 1 2 3 4 5]\n",
      "[-1 -1 -1 -1 -1  0  1  1  1  1  1]\n"
     ]
    }
   ],
   "source": [
    "# Absolute Value & Sign, based on verbose names\n",
    "arr5 = np.arange(-5,6)\n",
    "print(arr5)\n",
    "print(np.abs(arr5))\n",
    "print(np.sign(arr5))"
   ]
  },
  {
   "cell_type": "code",
   "execution_count": 19,
   "metadata": {
    "ExecuteTime": {
     "end_time": "2020-07-06T09:39:42.550076Z",
     "start_time": "2020-07-06T09:39:42.537280Z"
    }
   },
   "outputs": [
    {
     "name": "stdout",
     "output_type": "stream",
     "text": [
      "[0. 1. 3. 5. 8.]\n",
      "[1. 0. 1. 0. 1.]\n"
     ]
    }
   ],
   "source": [
    "# Division & Remainder, based on verbose names\n",
    "arr7 = np.array([1, 4, 9, 16, 25])\n",
    "print(np.floor_divide(arr7, 3.0)) # Gives the dividend only\n",
    "print(np.remainder(arr7, 2.0)) # Gives the remainder only"
   ]
  },
  {
   "cell_type": "markdown",
   "metadata": {},
   "source": [
    "### Analytics / Aggregation Functions"
   ]
  },
  {
   "cell_type": "code",
   "execution_count": 20,
   "metadata": {
    "ExecuteTime": {
     "end_time": "2020-07-06T09:39:42.571106Z",
     "start_time": "2020-07-06T09:39:42.555751Z"
    },
    "scrolled": true
   },
   "outputs": [
    {
     "name": "stdout",
     "output_type": "stream",
     "text": [
      "8.38233235\n",
      "[1.         2.41421356 4.14626437 6.14626437 8.38233235]\n",
      "1.67646647\n",
      "0.4352702350769015\n",
      "1.0\n",
      "2.23606798\n",
      "1.0124264068\n"
     ]
    }
   ],
   "source": [
    "# Analytics, based on verbose names\n",
    "arr6 = np.array([1., 1.41421356, 1.73205081, 2., 2.23606798])\n",
    "print(np.sum(arr6))\n",
    "print(np.cumsum(arr6))\n",
    "print(np.mean(arr6))\n",
    "print(np.std(arr6))\n",
    "print(np.min(arr6))\n",
    "print(np.max(arr6))\n",
    "print(np.percentile(arr6, 0.75))"
   ]
  },
  {
   "cell_type": "markdown",
   "metadata": {},
   "source": [
    "### Membership"
   ]
  },
  {
   "cell_type": "code",
   "execution_count": 21,
   "metadata": {
    "ExecuteTime": {
     "end_time": "2020-07-06T09:39:42.587766Z",
     "start_time": "2020-07-06T09:39:42.574951Z"
    }
   },
   "outputs": [
    {
     "name": "stdout",
     "output_type": "stream",
     "text": [
      "[1.         1.41421356 1.73205081 2.         2.23606798]\n",
      "[ True  True False]\n"
     ]
    }
   ],
   "source": [
    "arr6 = np.array([1., 1., 1.41421356, 1.73205081, 2., 2.23606798, 2.])\n",
    "print(np.unique(arr6)) # Unique values\n",
    "arr6test = np.array([1.,2.,3.])\n",
    "print(np.in1d(arr6test, arr6)) # Member exists in array"
   ]
  },
  {
   "cell_type": "code",
   "execution_count": 22,
   "metadata": {
    "ExecuteTime": {
     "end_time": "2020-07-06T09:39:42.609884Z",
     "start_time": "2020-07-06T09:39:42.592980Z"
    }
   },
   "outputs": [
    {
     "data": {
      "text/plain": [
       "{10: 1, 20: 2, 30: 3, 40: 2}"
      ]
     },
     "execution_count": 22,
     "metadata": {},
     "output_type": "execute_result"
    }
   ],
   "source": [
    "arr7 = np.array([30, 10, 20, 30, 40, 20, 40, 30])\n",
    "a7uniq, a7counts = np.unique(arr7, return_counts=True)\n",
    "dict(zip(a7uniq, a7counts))"
   ]
  },
  {
   "cell_type": "markdown",
   "metadata": {},
   "source": [
    "### Sorting"
   ]
  },
  {
   "cell_type": "code",
   "execution_count": 23,
   "metadata": {
    "ExecuteTime": {
     "end_time": "2020-07-06T09:39:42.673180Z",
     "start_time": "2020-07-06T09:39:42.629267Z"
    }
   },
   "outputs": [
    {
     "name": "stdout",
     "output_type": "stream",
     "text": [
      "[1.         1.         1.41421356 1.73205081 2.         2.\n",
      " 2.23606798]\n",
      "[2.23606798 2.         2.         1.73205081 1.41421356 1.\n",
      " 1.        ]\n"
     ]
    }
   ],
   "source": [
    "# Sort 1D array\n",
    "arr6 = np.array([1., 1., 1.41421356, 1.73205081, 2., 2.23606798, 2.])\n",
    "print(np.sort(arr6))\n",
    "print(np.sort(arr6)[::-1]) # Sort in reverse order"
   ]
  },
  {
   "cell_type": "code",
   "execution_count": 24,
   "metadata": {
    "ExecuteTime": {
     "end_time": "2020-07-06T09:39:42.698612Z",
     "start_time": "2020-07-06T09:39:42.681267Z"
    }
   },
   "outputs": [
    {
     "name": "stdout",
     "output_type": "stream",
     "text": [
      "[[ 7  2  1]\n",
      " [11  9  2]\n",
      " [11 11  6]\n",
      " [13 11  8]]\n",
      "[[ 1  7 11]\n",
      " [ 8  9 11]\n",
      " [ 2  6 13]\n",
      " [ 2 11 11]]\n"
     ]
    }
   ],
   "source": [
    "# Sort 2D array\n",
    "arr6a = np.array([[ 7, 11,  1],\n",
    "                  [11,  9,  8],\n",
    "                  [13,  2,  6],\n",
    "                  [11, 11,  2]])\n",
    "print(np.sort(arr6a, axis=0)) # sort per column\n",
    "print(np.sort(arr6a, axis=1)) # sort per row"
   ]
  },
  {
   "cell_type": "code",
   "execution_count": 25,
   "metadata": {
    "ExecuteTime": {
     "end_time": "2020-07-06T09:39:42.719193Z",
     "start_time": "2020-07-06T09:39:42.702961Z"
    }
   },
   "outputs": [
    {
     "data": {
      "text/plain": [
       "array([-1,  5,  6])"
      ]
     },
     "execution_count": 25,
     "metadata": {},
     "output_type": "execute_result"
    }
   ],
   "source": [
    "arr6ai = np.array([[ 2, 5,  -1],\n",
    "                  [6,  4,  2],]).flatten()\n",
    "arr6aii = np.array(range(0,5))\n",
    "np.setdiff1d(arr6ai, arr6aii) # Returns an array of values that exist in one but not the other"
   ]
  },
  {
   "cell_type": "code",
   "execution_count": 26,
   "metadata": {
    "ExecuteTime": {
     "end_time": "2020-07-06T09:39:42.748473Z",
     "start_time": "2020-07-06T09:39:42.725989Z"
    }
   },
   "outputs": [
    {
     "data": {
      "text/plain": [
       "array([-1,  0,  1,  3])"
      ]
     },
     "execution_count": 26,
     "metadata": {},
     "output_type": "execute_result"
    }
   ],
   "source": [
    "arr6ai = np.array([[ 2, 5,  -1],\n",
    "                  [6,  4,  2],]).flatten()\n",
    "arr6aii = np.array(range(0,7))\n",
    "np.setxor1d(arr6ai, arr6aii) # Returns an array of values that exist in only 1 but not the other"
   ]
  },
  {
   "cell_type": "markdown",
   "metadata": {},
   "source": [
    "## Conditionals"
   ]
  },
  {
   "cell_type": "code",
   "execution_count": 27,
   "metadata": {
    "ExecuteTime": {
     "end_time": "2020-07-06T09:39:42.787920Z",
     "start_time": "2020-07-06T09:39:42.754422Z"
    }
   },
   "outputs": [
    {
     "name": "stdout",
     "output_type": "stream",
     "text": [
      "[[False  True False]\n",
      " [ True False False]\n",
      " [ True False False]\n",
      " [ True  True False]]\n",
      "[[0 1 0]\n",
      " [1 0 0]\n",
      " [1 0 0]\n",
      " [1 1 0]]\n"
     ]
    }
   ],
   "source": [
    "arr6a = np.array([[ 7, 11,  1],\n",
    "                  [11,  9,  8],\n",
    "                  [13,  2,  6],\n",
    "                  [11, 11,  2]])\n",
    "print(arr6a>10) # Conditional expression\n",
    "print(np.where(arr6a>10,1,0)) # Conditional pipeline using np.where"
   ]
  },
  {
   "cell_type": "code",
   "execution_count": 28,
   "metadata": {
    "ExecuteTime": {
     "end_time": "2020-07-06T09:39:42.803838Z",
     "start_time": "2020-07-06T09:39:42.791709Z"
    }
   },
   "outputs": [
    {
     "data": {
      "text/plain": [
       "array([[False, False,  True],\n",
       "       [ True, False, False],\n",
       "       [False, False, False]])"
      ]
     },
     "execution_count": 28,
     "metadata": {},
     "output_type": "execute_result"
    }
   ],
   "source": [
    "arr6a = np.array([[ 7, 11, np.nan],[np.nan,  9,  8],[13,  2,  6],])\n",
    "np.isnan(arr6a) # Check for nan values"
   ]
  },
  {
   "cell_type": "code",
   "execution_count": 29,
   "metadata": {
    "ExecuteTime": {
     "end_time": "2020-07-06T09:39:42.821052Z",
     "start_time": "2020-07-06T09:39:42.808024Z"
    }
   },
   "outputs": [
    {
     "data": {
      "text/plain": [
       "array([[0, 0],\n",
       "       [0, 1],\n",
       "       [0, 2],\n",
       "       [1, 0],\n",
       "       [1, 1]])"
      ]
     },
     "execution_count": 29,
     "metadata": {},
     "output_type": "execute_result"
    }
   ],
   "source": [
    "arr6a = np.array([[ 7, 11,  1],\n",
    "                  [11,  9,  8]])\n",
    "np.argwhere(arr6a%2!=0) # Argwhere retrieves index values"
   ]
  },
  {
   "cell_type": "markdown",
   "metadata": {},
   "source": [
    "## Combining Multiple Arrays"
   ]
  },
  {
   "cell_type": "code",
   "execution_count": 30,
   "metadata": {
    "ExecuteTime": {
     "end_time": "2020-07-06T09:39:42.841584Z",
     "start_time": "2020-07-06T09:39:42.825602Z"
    },
    "scrolled": true
   },
   "outputs": [
    {
     "name": "stdout",
     "output_type": "stream",
     "text": [
      "[[ 33  45  21]\n",
      " [ 39  15  29]\n",
      " [442 284 179]\n",
      " [282 165 262]]\n",
      "[[ 33  45  21 442 284 179]\n",
      " [ 39  15  29 282 165 262]]\n"
     ]
    }
   ],
   "source": [
    "arrb = np.array([[33, 45, 21],\n",
    "                 [39, 15, 29]])\n",
    "arrc = np.array([[442, 284, 179],\n",
    "                 [282, 165, 262]])\n",
    "print(np.concatenate([arrb, arrc], axis=0)) # Stack vertically (concatenate downwards)\n",
    "print(np.concatenate([arrb, arrc], axis=1)) # Stack vertically (concatenate sideways)"
   ]
  },
  {
   "cell_type": "markdown",
   "metadata": {},
   "source": [
    "## Applying Functions"
   ]
  },
  {
   "cell_type": "code",
   "execution_count": 31,
   "metadata": {
    "ExecuteTime": {
     "end_time": "2020-07-06T09:39:42.857839Z",
     "start_time": "2020-07-06T09:39:42.844822Z"
    }
   },
   "outputs": [
    {
     "data": {
      "text/plain": [
       "array([['cafereviews', 'chefinterviews', 'chinese'],\n",
       "       ['chopedeals', 'desserts', 'fastfood'],\n",
       "       ['foodbyarea', 'foodbythemes', 'foodguides']], dtype='<U14')"
      ]
     },
     "execution_count": 31,
     "metadata": {},
     "output_type": "execute_result"
    }
   ],
   "source": [
    "# np.vectorize the function and apply to array, using def function\n",
    "arr_h = np.array(['Cafe Reviews','Chef Interviews','Chinese',\n",
    "                  'Chope Deals','Desserts','Fast Food',\n",
    "                  'Food By Area','Food By Themes','Food Guides',]).reshape(3,3)\n",
    "\n",
    "def lw(x):\n",
    "    return x.lower().replace(' ', '')\n",
    "lw_v = np.vectorize(lw)\n",
    "lw_v(arr_h)"
   ]
  },
  {
   "cell_type": "code",
   "execution_count": 32,
   "metadata": {
    "ExecuteTime": {
     "end_time": "2020-07-06T09:39:42.873532Z",
     "start_time": "2020-07-06T09:39:42.861223Z"
    }
   },
   "outputs": [
    {
     "data": {
      "text/plain": [
       "array([[12, 15,  7],\n",
       "       [10,  8,  9],\n",
       "       [12, 14, 11]])"
      ]
     },
     "execution_count": 32,
     "metadata": {},
     "output_type": "execute_result"
    }
   ],
   "source": [
    "# np.vectorize the function and apply to array, using lambda function\n",
    "arr_h = np.array(['Cafe Reviews','Chef Interviews','Chinese',\n",
    "                  'ChopeDeals','Desserts','Fast Food',\n",
    "                  'Food By Area','Food By Themes','Food Guides',]).reshape(3,3)\n",
    "l = lambda x : len(x)\n",
    "lv = np.vectorize(l)\n",
    "lv(arr_h)"
   ]
  },
  {
   "cell_type": "code",
   "execution_count": 33,
   "metadata": {
    "ExecuteTime": {
     "end_time": "2020-07-06T09:39:42.890550Z",
     "start_time": "2020-07-06T09:39:42.878264Z"
    }
   },
   "outputs": [
    {
     "name": "stdout",
     "output_type": "stream",
     "text": [
      "[[12 15  7]\n",
      " [10  8  9]\n",
      " [12 14 11]]\n"
     ]
    }
   ],
   "source": [
    "# reshape, use map() to apply function, and reshape back\n",
    "arr_h = np.array(['Cafe Reviews','Chef Interviews','Chinese',\n",
    "                  'ChopeDeals','Desserts','Fast Food',\n",
    "                  'Food By Area','Food By Themes','Food Guides',]).reshape(3,3)\n",
    "\n",
    "l = lambda x : len(x)\n",
    "arr_h2 = np.reshape(arr_h,(-1,))\n",
    "arr_h2 = np.array(list(map(l, arr_h2)))\n",
    "arr_h2 = arr_h2.reshape((3,3))\n",
    "print(arr_h2)"
   ]
  }
 ],
 "metadata": {
  "kernelspec": {
   "display_name": "Python 3",
   "language": "python",
   "name": "python3"
  },
  "language_info": {
   "codemirror_mode": {
    "name": "ipython",
    "version": 3
   },
   "file_extension": ".py",
   "mimetype": "text/x-python",
   "name": "python",
   "nbconvert_exporter": "python",
   "pygments_lexer": "ipython3",
   "version": "3.7.2"
  }
 },
 "nbformat": 4,
 "nbformat_minor": 4
}
