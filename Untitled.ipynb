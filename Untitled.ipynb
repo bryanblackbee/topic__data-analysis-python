{
 "cells": [
  {
   "cell_type": "markdown",
   "metadata": {},
   "source": [
    "# My Numpy Cheatsheet\n",
    "\n",
    "| <h2>Basics</h2> | <h2>Functions</h2> |\n",
    "|:---|:---|\n",
    "|<h3>Instantiation</h3> <ul><li>from lists</li><li>from range</li><li>zeros & ones</li><li>from random distributions</li></ul>|<h3>Math</h3> <ul><li>sqrt, square</li><li>exp, log</li><li>round, floor, ceil</li><li>abs, sign</li><li>floor_divide, remainder</li></ul>\n",
    "<h3>Properties</h3> <ul><li>shape</li><li>size / elements</li><li>dimensions</li></ul>| <h3>Aggregation / Analytics</h3> <ul><li>sum / cumsum</li><li>mean, std</li><li>min, max</li><li>percentile</li></ul>\n",
    "<h3>Manipulation</h3> <ul><li>reshape</li><li>datatype conversion</li><li>transpose</li><li>flatten / reshape(-1,)</li></ul><h3>Sorting</h3> <ul><li>ascending, descending</li><li>by axis</li><li>dimensions</li><li>from random distributions</li></ul>  |<h3>Membership</h3> <ul><li>unique</li><li>in1d</li></ul><h3>Conditionals</h3> <ul><li>where</li></ul><h3>Combining Arrays</h3> <ul><li>concatenate</li></ul>\n"
   ]
  },
  {
   "cell_type": "code",
   "execution_count": 1,
   "metadata": {
    "ExecuteTime": {
     "end_time": "2020-07-02T06:10:33.131529Z",
     "start_time": "2020-07-02T06:10:32.960285Z"
    }
   },
   "outputs": [],
   "source": [
    "import numpy as np"
   ]
  },
  {
   "cell_type": "markdown",
   "metadata": {},
   "source": [
    "## Instantiation / Declaration\n",
    "\n",
    "### Instantiation from Values"
   ]
  },
  {
   "cell_type": "code",
   "execution_count": 2,
   "metadata": {
    "ExecuteTime": {
     "end_time": "2020-07-02T06:10:33.151357Z",
     "start_time": "2020-07-02T06:10:33.134681Z"
    }
   },
   "outputs": [],
   "source": [
    "# From lists\n",
    "arr1 = np.array([1,3,5,7,9]) # extends to nested lists\n",
    "\n",
    "# From range\n",
    "arr4 = np.arange(5,10) # extends to (min, max, step) expression\n",
    "\n",
    "# Zeros & Ones with dimensions\n",
    "arr2 = np.zeros(10) # extends to tuples\n",
    "arr3 = np.ones(5) # extends to tuples"
   ]
  },
  {
   "cell_type": "code",
   "execution_count": 3,
   "metadata": {
    "ExecuteTime": {
     "end_time": "2020-07-02T06:10:33.186863Z",
     "start_time": "2020-07-02T06:10:33.157777Z"
    }
   },
   "outputs": [
    {
     "name": "stdout",
     "output_type": "stream",
     "text": [
      "[1 3 5 7 9]\n",
      "[5 6 7 8 9]\n",
      "[0. 0. 0. 0. 0. 0. 0. 0. 0. 0.]\n",
      "[1. 1. 1. 1. 1.]\n"
     ]
    }
   ],
   "source": [
    "print(arr1)\n",
    "print(arr4)\n",
    "print(arr2)\n",
    "print(arr3)"
   ]
  },
  {
   "cell_type": "markdown",
   "metadata": {},
   "source": [
    "### Instantiation from Random Distributions"
   ]
  },
  {
   "cell_type": "code",
   "execution_count": 4,
   "metadata": {
    "ExecuteTime": {
     "end_time": "2020-07-02T06:10:33.201172Z",
     "start_time": "2020-07-02T06:10:33.193279Z"
    }
   },
   "outputs": [
    {
     "name": "stdout",
     "output_type": "stream",
     "text": [
      "[0.9410039  0.35471878 0.05619431 0.75002145]\n",
      "[[0.71000012 0.22777684]\n",
      " [0.80376033 0.27571002]\n",
      " [0.45035024 0.91174881]]\n"
     ]
    }
   ],
   "source": [
    "# Draw from uniform [0,1]\n",
    "arand1 = np.random.random(4) # returns a vector\n",
    "print(arand1)\n",
    "arand2 = np.random.random((3,2)) # returns a matrix 3 rows, 2 cols\n",
    "print(arand2)"
   ]
  },
  {
   "cell_type": "code",
   "execution_count": 5,
   "metadata": {
    "ExecuteTime": {
     "end_time": "2020-07-02T06:10:33.212718Z",
     "start_time": "2020-07-02T06:10:33.204924Z"
    }
   },
   "outputs": [
    {
     "name": "stdout",
     "output_type": "stream",
     "text": [
      "[[-0.54468011  0.82457487]\n",
      " [ 0.21343669 -1.41900936]\n",
      " [-0.05344875 -0.17978024]]\n",
      "[[ 0.24318595  0.5285576 ]\n",
      " [-0.71429658 -0.13698927]\n",
      " [-0.63106113 -0.37771043]]\n"
     ]
    }
   ],
   "source": [
    "# Draw from normal [mu=0, sigma=1]\n",
    "arand3 = np.random.normal(0,1,(3,2)) # returns a matrix 3 rows, 2 cols\n",
    "print(arand3)\n",
    "# Draw from uniform [min=-1, max=1]\n",
    "arand4 = np.random.uniform(-1,1,(3,2)) # returns a matrix 3 rows, 2 cols\n",
    "print(arand4)"
   ]
  },
  {
   "cell_type": "markdown",
   "metadata": {},
   "source": [
    "## Properties"
   ]
  },
  {
   "cell_type": "code",
   "execution_count": 6,
   "metadata": {
    "ExecuteTime": {
     "end_time": "2020-07-02T06:10:33.238498Z",
     "start_time": "2020-07-02T06:10:33.217003Z"
    }
   },
   "outputs": [
    {
     "name": "stdout",
     "output_type": "stream",
     "text": [
      "(4, 3)\n",
      "4\n",
      "12\n",
      "2\n"
     ]
    }
   ],
   "source": [
    "arr6a = np.array([[ 7, 11,  1],\n",
    "                  [11,  9,  8],\n",
    "                  [13,  2,  6],\n",
    "                  [11, 11,  2]])\n",
    "print(arr6a.shape)\n",
    "print(len(arr6a))\n",
    "print(arr6a.size)\n",
    "print(arr6a.ndim)"
   ]
  },
  {
   "cell_type": "markdown",
   "metadata": {},
   "source": [
    "## Manipulation"
   ]
  },
  {
   "cell_type": "code",
   "execution_count": 7,
   "metadata": {
    "ExecuteTime": {
     "end_time": "2020-07-02T06:10:33.252614Z",
     "start_time": "2020-07-02T06:10:33.242593Z"
    }
   },
   "outputs": [
    {
     "name": "stdout",
     "output_type": "stream",
     "text": [
      "[[0. 0. 0. 0. 0.]\n",
      " [0. 0. 0. 0. 0.]]\n",
      "[1. 1. 1. 1. 1.]\n"
     ]
    }
   ],
   "source": [
    "# Reshape\n",
    "arr2 = np.zeros(10)\n",
    "arr2 = arr2.reshape((2,5)) # rows, columns, as tuple\n",
    "print(arr2)\n",
    "\n",
    "# Convert dtype\n",
    "arr3 = np.ones(5)\n",
    "arr3 = arr3.astype(np.float64) # or np.int32, str etc.\n",
    "print(arr3)"
   ]
  },
  {
   "cell_type": "code",
   "execution_count": 8,
   "metadata": {
    "ExecuteTime": {
     "end_time": "2020-07-02T06:10:33.271628Z",
     "start_time": "2020-07-02T06:10:33.258988Z"
    }
   },
   "outputs": [
    {
     "name": "stdout",
     "output_type": "stream",
     "text": [
      "[[1.         1.73205081]\n",
      " [1.41421356 2.        ]]\n"
     ]
    }
   ],
   "source": [
    "# Transpose\n",
    "arr2a = np.array([[1., 1.41421356,], [1.73205081, 2.,],])\n",
    "print(np.transpose(arr2a))"
   ]
  },
  {
   "cell_type": "code",
   "execution_count": 9,
   "metadata": {
    "ExecuteTime": {
     "end_time": "2020-07-02T06:10:33.299416Z",
     "start_time": "2020-07-02T06:10:33.280303Z"
    }
   },
   "outputs": [
    {
     "name": "stdout",
     "output_type": "stream",
     "text": [
      "[ 7 11  1 11  9  8 13  2  6 11 11  2]\n",
      "[ 7 11  1 11  9  8 13  2  6 11 11  2]\n",
      "[[ 7]\n",
      " [11]\n",
      " [ 1]\n",
      " [11]\n",
      " [ 9]\n",
      " [ 8]\n",
      " [13]\n",
      " [ 2]\n",
      " [ 6]\n",
      " [11]\n",
      " [11]\n",
      " [ 2]]\n"
     ]
    }
   ],
   "source": [
    "arr6a = np.array([[ 7, 11,  1],\n",
    "                  [11,  9,  8],\n",
    "                  [13,  2,  6],\n",
    "                  [11, 11,  2]])\n",
    "print(arr6a.flatten())\n",
    "print(arr6a.reshape(-1,)) # Row vector\n",
    "print(arr6a.reshape(-1,1)) # Column vector"
   ]
  },
  {
   "cell_type": "markdown",
   "metadata": {},
   "source": [
    "## Built-in Functions\n",
    "\n",
    "### Math"
   ]
  },
  {
   "cell_type": "code",
   "execution_count": 10,
   "metadata": {
    "ExecuteTime": {
     "end_time": "2020-07-02T06:10:33.321091Z",
     "start_time": "2020-07-02T06:10:33.304802Z"
    }
   },
   "outputs": [
    {
     "name": "stdout",
     "output_type": "stream",
     "text": [
      "[1 2 3 4 5]\n",
      "[1.         1.41421356 1.73205081 2.         2.23606798]\n",
      "[ 1  4  9 16 25]\n",
      "[  2.71828183   7.3890561   20.08553692  54.59815003 148.4131591 ]\n",
      "[0.         0.69314718 1.09861229 1.38629436 1.60943791]\n"
     ]
    }
   ],
   "source": [
    "# Math functions\n",
    "arr4 = np.arange(1,6)\n",
    "print(arr4)\n",
    "print(np.sqrt(arr4))\n",
    "print(np.square(arr4))\n",
    "print(np.exp(arr4))\n",
    "print(np.log(arr4))"
   ]
  },
  {
   "cell_type": "code",
   "execution_count": 11,
   "metadata": {
    "ExecuteTime": {
     "end_time": "2020-07-02T06:10:33.335330Z",
     "start_time": "2020-07-02T06:10:33.323735Z"
    }
   },
   "outputs": [
    {
     "name": "stdout",
     "output_type": "stream",
     "text": [
      "[1. 1. 1. 2. 2.]\n",
      "[1. 2. 2. 2. 3.]\n",
      "[1. 1. 2. 2. 2.]\n"
     ]
    }
   ],
   "source": [
    "# Rounding\n",
    "arr6 = np.array([1., 1.41421356, 1.73205081, 2., 2.23606798])\n",
    "print(np.floor(arr6))\n",
    "print(np.ceil(arr6))\n",
    "print(np.round(arr6))"
   ]
  },
  {
   "cell_type": "code",
   "execution_count": 12,
   "metadata": {
    "ExecuteTime": {
     "end_time": "2020-07-02T06:10:33.345938Z",
     "start_time": "2020-07-02T06:10:33.338895Z"
    }
   },
   "outputs": [
    {
     "name": "stdout",
     "output_type": "stream",
     "text": [
      "[-5 -4 -3 -2 -1  0  1  2  3  4  5]\n",
      "[5 4 3 2 1 0 1 2 3 4 5]\n",
      "[-1 -1 -1 -1 -1  0  1  1  1  1  1]\n"
     ]
    }
   ],
   "source": [
    "# Absolute Values\n",
    "arr5 = np.arange(-5,6)\n",
    "print(arr5)\n",
    "print(np.abs(arr5))\n",
    "print(np.sign(arr5))"
   ]
  },
  {
   "cell_type": "code",
   "execution_count": 13,
   "metadata": {
    "ExecuteTime": {
     "end_time": "2020-07-02T06:10:33.368177Z",
     "start_time": "2020-07-02T06:10:33.350672Z"
    }
   },
   "outputs": [
    {
     "name": "stdout",
     "output_type": "stream",
     "text": [
      "[0. 1. 3. 5. 8.]\n",
      "[1. 0. 1. 0. 1.]\n"
     ]
    }
   ],
   "source": [
    "# Division\n",
    "arr7 = np.array([1, 4, 9, 16, 25])\n",
    "print(np.floor_divide(arr7, 3.0)) # Gives the dividend only\n",
    "print(np.remainder(arr7, 2.0)) # Gives the remainder only"
   ]
  },
  {
   "cell_type": "markdown",
   "metadata": {},
   "source": [
    "### Analytics / Aggregation Functions"
   ]
  },
  {
   "cell_type": "code",
   "execution_count": 14,
   "metadata": {
    "ExecuteTime": {
     "end_time": "2020-07-02T06:10:33.387968Z",
     "start_time": "2020-07-02T06:10:33.371351Z"
    },
    "scrolled": true
   },
   "outputs": [
    {
     "name": "stdout",
     "output_type": "stream",
     "text": [
      "8.38233235\n",
      "[1.         2.41421356 4.14626437 6.14626437 8.38233235]\n",
      "1.67646647\n",
      "0.4352702350769015\n",
      "1.0\n",
      "2.23606798\n",
      "1.0124264068\n"
     ]
    }
   ],
   "source": [
    "# Analytics\n",
    "arr6 = np.array([1., 1.41421356, 1.73205081, 2., 2.23606798])\n",
    "print(np.sum(arr6))\n",
    "print(np.cumsum(arr6))\n",
    "print(np.mean(arr6))\n",
    "print(np.std(arr6))\n",
    "print(np.min(arr6))\n",
    "print(np.max(arr6))\n",
    "print(np.percentile(arr6, 0.75))"
   ]
  },
  {
   "cell_type": "markdown",
   "metadata": {},
   "source": [
    "### Membership"
   ]
  },
  {
   "cell_type": "code",
   "execution_count": 15,
   "metadata": {
    "ExecuteTime": {
     "end_time": "2020-07-02T06:10:33.400811Z",
     "start_time": "2020-07-02T06:10:33.389869Z"
    }
   },
   "outputs": [
    {
     "name": "stdout",
     "output_type": "stream",
     "text": [
      "[1.         1.41421356 1.73205081 2.         2.23606798]\n",
      "[ True  True False]\n"
     ]
    }
   ],
   "source": [
    "arr6 = np.array([1., 1., 1.41421356, 1.73205081, 2., 2.23606798, 2.])\n",
    "print(np.unique(arr6)) # Unique values\n",
    "arr6test = np.array([1.,2.,3.])\n",
    "print(np.in1d(arr6test, arr6)) # Member exists in array"
   ]
  },
  {
   "cell_type": "markdown",
   "metadata": {},
   "source": [
    "### Sorting"
   ]
  },
  {
   "cell_type": "code",
   "execution_count": 16,
   "metadata": {
    "ExecuteTime": {
     "end_time": "2020-07-02T06:10:33.429490Z",
     "start_time": "2020-07-02T06:10:33.413903Z"
    }
   },
   "outputs": [
    {
     "name": "stdout",
     "output_type": "stream",
     "text": [
      "[1.         1.         1.41421356 1.73205081 2.         2.\n",
      " 2.23606798]\n",
      "[2.23606798 2.         2.         1.73205081 1.41421356 1.\n",
      " 1.        ]\n"
     ]
    }
   ],
   "source": [
    "# Sort 1D array\n",
    "arr6 = np.array([1., 1., 1.41421356, 1.73205081, 2., 2.23606798, 2.])\n",
    "print(np.sort(arr6))\n",
    "print(np.sort(arr6)[::-1]) # Reverse order"
   ]
  },
  {
   "cell_type": "code",
   "execution_count": 17,
   "metadata": {
    "ExecuteTime": {
     "end_time": "2020-07-02T06:10:33.448840Z",
     "start_time": "2020-07-02T06:10:33.433151Z"
    }
   },
   "outputs": [
    {
     "name": "stdout",
     "output_type": "stream",
     "text": [
      "[[ 7  2  1]\n",
      " [11  9  2]\n",
      " [11 11  6]\n",
      " [13 11  8]]\n",
      "[[ 1  7 11]\n",
      " [ 8  9 11]\n",
      " [ 2  6 13]\n",
      " [ 2 11 11]]\n"
     ]
    }
   ],
   "source": [
    "# Sort 2D array\n",
    "arr6a = np.array([[ 7, 11,  1],\n",
    "                  [11,  9,  8],\n",
    "                  [13,  2,  6],\n",
    "                  [11, 11,  2]])\n",
    "print(np.sort(arr6a, axis=0)) # sort per column\n",
    "print(np.sort(arr6a, axis=1)) # sort per row"
   ]
  },
  {
   "cell_type": "markdown",
   "metadata": {},
   "source": [
    "## Conditionals"
   ]
  },
  {
   "cell_type": "code",
   "execution_count": 18,
   "metadata": {
    "ExecuteTime": {
     "end_time": "2020-07-02T06:10:33.462901Z",
     "start_time": "2020-07-02T06:10:33.452733Z"
    }
   },
   "outputs": [
    {
     "name": "stdout",
     "output_type": "stream",
     "text": [
      "[[False  True False]\n",
      " [ True False False]\n",
      " [ True False False]\n",
      " [ True  True False]]\n",
      "[[0 1 0]\n",
      " [1 0 0]\n",
      " [1 0 0]\n",
      " [1 1 0]]\n"
     ]
    }
   ],
   "source": [
    "arr6a = np.array([[ 7, 11,  1],\n",
    "                  [11,  9,  8],\n",
    "                  [13,  2,  6],\n",
    "                  [11, 11,  2]])\n",
    "print(arr6a>10) # Conditional expression\n",
    "print(np.where(arr6a>10,1,0)) # Conditional pipeline using np.where"
   ]
  },
  {
   "cell_type": "markdown",
   "metadata": {},
   "source": [
    "## Combining Multiple Arrays"
   ]
  },
  {
   "cell_type": "code",
   "execution_count": 19,
   "metadata": {
    "ExecuteTime": {
     "end_time": "2020-07-02T06:10:33.478384Z",
     "start_time": "2020-07-02T06:10:33.466531Z"
    }
   },
   "outputs": [
    {
     "name": "stdout",
     "output_type": "stream",
     "text": [
      "[[ 33  45  21]\n",
      " [ 39  15  29]\n",
      " [442 284 179]\n",
      " [282 165 262]]\n",
      "[[ 33  45  21 442 284 179]\n",
      " [ 39  15  29 282 165 262]]\n"
     ]
    }
   ],
   "source": [
    "arrb = np.array([[33, 45, 21],\n",
    "                 [39, 15, 29]])\n",
    "arrc = np.array([[442, 284, 179],\n",
    "                 [282, 165, 262]])\n",
    "print(np.concatenate([arrb, arrc], axis=0))\n",
    "print(np.concatenate([arrb, arrc], axis=1))"
   ]
  }
 ],
 "metadata": {
  "kernelspec": {
   "display_name": "Python 3",
   "language": "python",
   "name": "python3"
  },
  "language_info": {
   "codemirror_mode": {
    "name": "ipython",
    "version": 3
   },
   "file_extension": ".py",
   "mimetype": "text/x-python",
   "name": "python",
   "nbconvert_exporter": "python",
   "pygments_lexer": "ipython3",
   "version": "3.7.2"
  }
 },
 "nbformat": 4,
 "nbformat_minor": 4
}
