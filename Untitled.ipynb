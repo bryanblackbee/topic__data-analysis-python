{
 "cells": [
  {
   "cell_type": "markdown",
   "metadata": {},
   "source": [
    "# My Numpy Cheatsheet\n",
    "\n",
    "Covers:\n",
    "\n",
    "| <h2>Basics</h2> | <h2>Functions</h2> |\n",
    "|---|---|\n",
    "| <h3>Instantiation</h3> <ul><li>Properties</li><li>Properties</li><li>Properties</li></ul>\n",
    "Manipulation  | Math\n",
    "Analytics\n",
    "Membership\n",
    "Sorting |   |   |   |\n"
   ]
  },
  {
   "cell_type": "code",
   "execution_count": 1,
   "metadata": {
    "ExecuteTime": {
     "end_time": "2020-07-02T04:04:42.556762Z",
     "start_time": "2020-07-02T04:04:42.311840Z"
    }
   },
   "outputs": [],
   "source": [
    "import numpy as np"
   ]
  },
  {
   "cell_type": "markdown",
   "metadata": {},
   "source": [
    "## Instantiation / Declaration\n",
    "\n",
    "### Instantiation from Values"
   ]
  },
  {
   "cell_type": "code",
   "execution_count": 2,
   "metadata": {
    "ExecuteTime": {
     "end_time": "2020-07-02T04:04:42.573081Z",
     "start_time": "2020-07-02T04:04:42.561419Z"
    }
   },
   "outputs": [],
   "source": [
    "# From lists\n",
    "arr1 = np.array([1,3,5,7,9]) # extends to nested lists\n",
    "\n",
    "# From range\n",
    "arr4 = np.arange(5,10) # extends to (min, max, step) expression\n",
    "\n",
    "# Zeros & Ones with dimensions\n",
    "arr2 = np.zeros(10) # extends to tuples\n",
    "arr3 = np.ones(5) # extends to tuples"
   ]
  },
  {
   "cell_type": "code",
   "execution_count": 3,
   "metadata": {
    "ExecuteTime": {
     "end_time": "2020-07-02T04:04:42.594751Z",
     "start_time": "2020-07-02T04:04:42.583111Z"
    }
   },
   "outputs": [
    {
     "name": "stdout",
     "output_type": "stream",
     "text": [
      "[1 3 5 7 9]\n",
      "[5 6 7 8 9]\n",
      "[0. 0. 0. 0. 0. 0. 0. 0. 0. 0.]\n",
      "[1. 1. 1. 1. 1.]\n"
     ]
    }
   ],
   "source": [
    "print(arr1)\n",
    "print(arr4)\n",
    "print(arr2)\n",
    "print(arr3)"
   ]
  },
  {
   "cell_type": "markdown",
   "metadata": {},
   "source": [
    "### Instantiation from Random Distributions"
   ]
  },
  {
   "cell_type": "code",
   "execution_count": 4,
   "metadata": {
    "ExecuteTime": {
     "end_time": "2020-07-02T04:04:42.611931Z",
     "start_time": "2020-07-02T04:04:42.599283Z"
    }
   },
   "outputs": [
    {
     "name": "stdout",
     "output_type": "stream",
     "text": [
      "[0.02714914 0.64353484 0.25331636 0.57295475]\n",
      "[[0.00592912 0.58438433]\n",
      " [0.36549591 0.74658768]\n",
      " [0.90864861 0.13050878]]\n"
     ]
    }
   ],
   "source": [
    "# Draw from uniform [0,1]\n",
    "arand1 = np.random.random(4) # returns a vector\n",
    "print(arand1)\n",
    "arand2 = np.random.random((3,2)) # returns a matrix 3 rows, 2 cols\n",
    "print(arand2)"
   ]
  },
  {
   "cell_type": "code",
   "execution_count": 5,
   "metadata": {
    "ExecuteTime": {
     "end_time": "2020-07-02T04:04:42.629958Z",
     "start_time": "2020-07-02T04:04:42.616866Z"
    }
   },
   "outputs": [
    {
     "name": "stdout",
     "output_type": "stream",
     "text": [
      "[[-1.41682806  0.71175287]\n",
      " [ 0.25319023  0.63643859]\n",
      " [-1.09272688  0.51514906]]\n",
      "[[-0.1086164   0.39645123]\n",
      " [-0.63894569 -0.87482907]\n",
      " [ 0.75594715 -0.00952847]]\n"
     ]
    }
   ],
   "source": [
    "# Draw from normal [mu=0, sigma=1]\n",
    "arand3 = np.random.normal(0,1,(3,2)) # returns a matrix 3 rows, 2 cols\n",
    "print(arand3)\n",
    "# Draw from uniform [min=-1, max=1]\n",
    "arand4 = np.random.uniform(-1,1,(3,2)) # returns a matrix 3 rows, 2 cols\n",
    "print(arand4)"
   ]
  },
  {
   "cell_type": "markdown",
   "metadata": {},
   "source": [
    "## Properties"
   ]
  },
  {
   "cell_type": "code",
   "execution_count": 6,
   "metadata": {
    "ExecuteTime": {
     "end_time": "2020-07-02T04:04:42.661292Z",
     "start_time": "2020-07-02T04:04:42.635127Z"
    }
   },
   "outputs": [
    {
     "name": "stdout",
     "output_type": "stream",
     "text": [
      "(4, 3)\n",
      "4\n",
      "12\n",
      "2\n"
     ]
    }
   ],
   "source": [
    "arr6a = np.array([[ 7, 11,  1],\n",
    "                  [11,  9,  8],\n",
    "                  [13,  2,  6],\n",
    "                  [11, 11,  2]])\n",
    "print(arr6a.shape)\n",
    "print(len(arr6a))\n",
    "print(arr6a.size)\n",
    "print(arr6a.ndim)"
   ]
  },
  {
   "cell_type": "markdown",
   "metadata": {},
   "source": [
    "## Manipulation"
   ]
  },
  {
   "cell_type": "code",
   "execution_count": 7,
   "metadata": {
    "ExecuteTime": {
     "end_time": "2020-07-02T04:04:42.686027Z",
     "start_time": "2020-07-02T04:04:42.668169Z"
    }
   },
   "outputs": [
    {
     "name": "stdout",
     "output_type": "stream",
     "text": [
      "[[0. 0. 0. 0. 0.]\n",
      " [0. 0. 0. 0. 0.]]\n",
      "[1. 1. 1. 1. 1.]\n"
     ]
    }
   ],
   "source": [
    "# Reshape\n",
    "arr2 = np.zeros(10)\n",
    "arr2 = arr2.reshape((2,5)) # rows, columns, as tuple\n",
    "print(arr2)\n",
    "\n",
    "# Convert dtype\n",
    "arr3 = np.ones(5)\n",
    "arr3 = arr3.astype(np.float64) # or np.int32, str etc.\n",
    "print(arr3)"
   ]
  },
  {
   "cell_type": "code",
   "execution_count": 8,
   "metadata": {
    "ExecuteTime": {
     "end_time": "2020-07-02T04:04:42.724311Z",
     "start_time": "2020-07-02T04:04:42.704856Z"
    }
   },
   "outputs": [
    {
     "name": "stdout",
     "output_type": "stream",
     "text": [
      "[[1.         1.73205081]\n",
      " [1.41421356 2.        ]]\n"
     ]
    }
   ],
   "source": [
    "# Transpose\n",
    "arr2a = np.array([[1., 1.41421356,], [1.73205081, 2.,],])\n",
    "print(np.transpose(arr2a))"
   ]
  },
  {
   "cell_type": "code",
   "execution_count": 9,
   "metadata": {
    "ExecuteTime": {
     "end_time": "2020-07-02T04:04:42.754838Z",
     "start_time": "2020-07-02T04:04:42.734181Z"
    }
   },
   "outputs": [
    {
     "name": "stdout",
     "output_type": "stream",
     "text": [
      "[ 7 11  1 11  9  8 13  2  6 11 11  2]\n",
      "[ 7 11  1 11  9  8 13  2  6 11 11  2]\n",
      "[[ 7]\n",
      " [11]\n",
      " [ 1]\n",
      " [11]\n",
      " [ 9]\n",
      " [ 8]\n",
      " [13]\n",
      " [ 2]\n",
      " [ 6]\n",
      " [11]\n",
      " [11]\n",
      " [ 2]]\n"
     ]
    }
   ],
   "source": [
    "arr6a = np.array([[ 7, 11,  1],\n",
    "                  [11,  9,  8],\n",
    "                  [13,  2,  6],\n",
    "                  [11, 11,  2]])\n",
    "print(arr6a.flatten())\n",
    "print(arr6a.reshape(-1,)) # Row vector\n",
    "print(arr6a.reshape(-1,1)) # Column vector"
   ]
  },
  {
   "cell_type": "markdown",
   "metadata": {},
   "source": [
    "## Built-in Functions\n",
    "\n",
    "### Math"
   ]
  },
  {
   "cell_type": "code",
   "execution_count": 10,
   "metadata": {
    "ExecuteTime": {
     "end_time": "2020-07-02T04:04:42.779089Z",
     "start_time": "2020-07-02T04:04:42.762374Z"
    }
   },
   "outputs": [
    {
     "name": "stdout",
     "output_type": "stream",
     "text": [
      "[1 2 3 4 5]\n",
      "[1.         1.41421356 1.73205081 2.         2.23606798]\n",
      "[ 1  4  9 16 25]\n",
      "[  2.71828183   7.3890561   20.08553692  54.59815003 148.4131591 ]\n",
      "[0.         0.69314718 1.09861229 1.38629436 1.60943791]\n"
     ]
    }
   ],
   "source": [
    "# Math functions\n",
    "arr4 = np.arange(1,6)\n",
    "print(arr4)\n",
    "print(np.sqrt(arr4))\n",
    "print(np.square(arr4))\n",
    "print(np.exp(arr4))\n",
    "print(np.log(arr4))"
   ]
  },
  {
   "cell_type": "code",
   "execution_count": 11,
   "metadata": {
    "ExecuteTime": {
     "end_time": "2020-07-02T04:04:42.794139Z",
     "start_time": "2020-07-02T04:04:42.783758Z"
    }
   },
   "outputs": [
    {
     "name": "stdout",
     "output_type": "stream",
     "text": [
      "[1. 1. 1. 2. 2.]\n",
      "[1. 2. 2. 2. 3.]\n"
     ]
    }
   ],
   "source": [
    "# Rounding\n",
    "arr6 = np.array([1., 1.41421356, 1.73205081, 2., 2.23606798])\n",
    "print(np.floor(arr6))\n",
    "print(np.ceil(arr6))"
   ]
  },
  {
   "cell_type": "code",
   "execution_count": 12,
   "metadata": {
    "ExecuteTime": {
     "end_time": "2020-07-02T04:04:42.820832Z",
     "start_time": "2020-07-02T04:04:42.800545Z"
    }
   },
   "outputs": [
    {
     "name": "stdout",
     "output_type": "stream",
     "text": [
      "[-5 -4 -3 -2 -1  0  1  2  3  4  5]\n",
      "[5 4 3 2 1 0 1 2 3 4 5]\n",
      "[-1 -1 -1 -1 -1  0  1  1  1  1  1]\n"
     ]
    }
   ],
   "source": [
    "# Absolute Values\n",
    "arr5 = np.arange(-5,6)\n",
    "print(arr5)\n",
    "print(np.abs(arr5))\n",
    "print(np.sign(arr5))"
   ]
  },
  {
   "cell_type": "code",
   "execution_count": 13,
   "metadata": {
    "ExecuteTime": {
     "end_time": "2020-07-02T04:04:42.835807Z",
     "start_time": "2020-07-02T04:04:42.824673Z"
    }
   },
   "outputs": [
    {
     "name": "stdout",
     "output_type": "stream",
     "text": [
      "[0. 1. 3. 5. 8.]\n",
      "[1. 0. 1. 0. 1.]\n"
     ]
    }
   ],
   "source": [
    "# Division\n",
    "arr7 = np.array([1, 4, 9, 16, 25])\n",
    "print(np.floor_divide(arr7, 3.0)) # Gives the dividend only\n",
    "print(np.remainder(arr7, 2.0)) # Gives the remainder only"
   ]
  },
  {
   "cell_type": "markdown",
   "metadata": {},
   "source": [
    "### Analytics / Aggregation Functions"
   ]
  },
  {
   "cell_type": "code",
   "execution_count": 14,
   "metadata": {
    "ExecuteTime": {
     "end_time": "2020-07-02T04:04:42.856098Z",
     "start_time": "2020-07-02T04:04:42.839062Z"
    },
    "scrolled": true
   },
   "outputs": [
    {
     "name": "stdout",
     "output_type": "stream",
     "text": [
      "8.38233235\n",
      "[1.         2.41421356 4.14626437 6.14626437 8.38233235]\n",
      "1.67646647\n",
      "0.4352702350769015\n",
      "1.0\n",
      "2.23606798\n",
      "1.0124264068\n"
     ]
    }
   ],
   "source": [
    "# Analytics\n",
    "arr6 = np.array([1., 1.41421356, 1.73205081, 2., 2.23606798])\n",
    "print(np.sum(arr6))\n",
    "print(np.cumsum(arr6))\n",
    "print(np.mean(arr6))\n",
    "print(np.std(arr6))\n",
    "print(np.min(arr6))\n",
    "print(np.max(arr6))\n",
    "print(np.percentile(arr6, 0.75))"
   ]
  },
  {
   "cell_type": "markdown",
   "metadata": {},
   "source": [
    "### Membership"
   ]
  },
  {
   "cell_type": "code",
   "execution_count": 15,
   "metadata": {
    "ExecuteTime": {
     "end_time": "2020-07-02T04:04:42.876505Z",
     "start_time": "2020-07-02T04:04:42.860567Z"
    }
   },
   "outputs": [
    {
     "name": "stdout",
     "output_type": "stream",
     "text": [
      "[1.         1.41421356 1.73205081 2.         2.23606798]\n",
      "[ True  True False]\n"
     ]
    }
   ],
   "source": [
    "arr6 = np.array([1., 1., 1.41421356, 1.73205081, 2., 2.23606798, 2.])\n",
    "print(np.unique(arr6)) # Unique values\n",
    "arr6test = np.array([1.,2.,3.])\n",
    "print(np.in1d(arr6test, arr6)) # Member exists in array"
   ]
  },
  {
   "cell_type": "markdown",
   "metadata": {},
   "source": [
    "### Sorting"
   ]
  },
  {
   "cell_type": "code",
   "execution_count": 16,
   "metadata": {
    "ExecuteTime": {
     "end_time": "2020-07-02T04:04:42.894402Z",
     "start_time": "2020-07-02T04:04:42.881963Z"
    }
   },
   "outputs": [
    {
     "name": "stdout",
     "output_type": "stream",
     "text": [
      "[1.         1.         1.41421356 1.73205081 2.         2.\n",
      " 2.23606798]\n",
      "[2.23606798 2.         2.         1.73205081 1.41421356 1.\n",
      " 1.        ]\n"
     ]
    }
   ],
   "source": [
    "# Sort 1D array\n",
    "arr6 = np.array([1., 1., 1.41421356, 1.73205081, 2., 2.23606798, 2.])\n",
    "print(np.sort(arr6))\n",
    "print(np.sort(arr6)[::-1]) # Reverse order"
   ]
  },
  {
   "cell_type": "code",
   "execution_count": 17,
   "metadata": {
    "ExecuteTime": {
     "end_time": "2020-07-02T04:04:42.912108Z",
     "start_time": "2020-07-02T04:04:42.901150Z"
    }
   },
   "outputs": [
    {
     "name": "stdout",
     "output_type": "stream",
     "text": [
      "[[ 7  2  1]\n",
      " [11  9  2]\n",
      " [11 11  6]\n",
      " [13 11  8]]\n",
      "[[ 1  7 11]\n",
      " [ 8  9 11]\n",
      " [ 2  6 13]\n",
      " [ 2 11 11]]\n"
     ]
    }
   ],
   "source": [
    "# Sort 2D array\n",
    "arr6a = np.array([[ 7, 11,  1],\n",
    "                  [11,  9,  8],\n",
    "                  [13,  2,  6],\n",
    "                  [11, 11,  2]])\n",
    "print(np.sort(arr6a, axis=0)) # sort per column\n",
    "print(np.sort(arr6a, axis=1)) # sort per row"
   ]
  },
  {
   "cell_type": "markdown",
   "metadata": {},
   "source": [
    "## Conditionals"
   ]
  },
  {
   "cell_type": "code",
   "execution_count": 18,
   "metadata": {
    "ExecuteTime": {
     "end_time": "2020-07-02T04:04:42.931092Z",
     "start_time": "2020-07-02T04:04:42.915784Z"
    }
   },
   "outputs": [
    {
     "name": "stdout",
     "output_type": "stream",
     "text": [
      "[[False  True False]\n",
      " [ True False False]\n",
      " [ True False False]\n",
      " [ True  True False]]\n",
      "[[0 1 0]\n",
      " [1 0 0]\n",
      " [1 0 0]\n",
      " [1 1 0]]\n"
     ]
    }
   ],
   "source": [
    "arr6a = np.array([[ 7, 11,  1],\n",
    "                  [11,  9,  8],\n",
    "                  [13,  2,  6],\n",
    "                  [11, 11,  2]])\n",
    "print(arr6a>10) # Conditional expression\n",
    "print(np.where(arr6a>10,1,0)) # Conditional pipeline using np.where"
   ]
  },
  {
   "cell_type": "markdown",
   "metadata": {},
   "source": [
    "## Combining Multiple Arrays"
   ]
  },
  {
   "cell_type": "code",
   "execution_count": 19,
   "metadata": {
    "ExecuteTime": {
     "end_time": "2020-07-02T04:04:42.952214Z",
     "start_time": "2020-07-02T04:04:42.937163Z"
    }
   },
   "outputs": [
    {
     "name": "stdout",
     "output_type": "stream",
     "text": [
      "[[ 33  45  21]\n",
      " [ 39  15  29]\n",
      " [442 284 179]\n",
      " [282 165 262]]\n",
      "[[ 33  45  21 442 284 179]\n",
      " [ 39  15  29 282 165 262]]\n"
     ]
    }
   ],
   "source": [
    "arrb = np.array([[33, 45, 21],\n",
    "                 [39, 15, 29]])\n",
    "arrc = np.array([[442, 284, 179],\n",
    "                 [282, 165, 262]])\n",
    "print(np.concatenate([arrb, arrc], axis=0))\n",
    "print(np.concatenate([arrb, arrc], axis=1))"
   ]
  }
 ],
 "metadata": {
  "kernelspec": {
   "display_name": "Python 3",
   "language": "python",
   "name": "python3"
  },
  "language_info": {
   "codemirror_mode": {
    "name": "ipython",
    "version": 3
   },
   "file_extension": ".py",
   "mimetype": "text/x-python",
   "name": "python",
   "nbconvert_exporter": "python",
   "pygments_lexer": "ipython3",
   "version": "3.7.2"
  }
 },
 "nbformat": 4,
 "nbformat_minor": 4
}
