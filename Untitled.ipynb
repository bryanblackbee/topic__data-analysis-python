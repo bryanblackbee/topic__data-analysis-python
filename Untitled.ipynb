{
 "cells": [
  {
   "cell_type": "markdown",
   "metadata": {},
   "source": [
    "# My Numpy Cheatsheet\n",
    "\n",
    "| <h2>Basics</h2> | <h2>Functions</h2> |\n",
    "|:---|:---|\n",
    "|<h3>Instantiation</h3> <ul><li>from lists</li><li>from range</li><li>zeros & ones</li><li>from random distributions</li></ul><h3>Slicing</h3><ul><li>by index</li><li>by range</li><li>using boolean values</li></ul>|<h3>Math</h3> <ul><li>sqrt, square</li><li>exp, log</li><li>round, floor, ceil</li><li>abs, sign</li><li>floor_divide, remainder</li></ul>\n",
    "<h3>Properties</h3> <ul><li>shape</li><li>size / elements</li><li>dimensions</li></ul>| <h3>Aggregation / Analytics</h3> <ul><li>sum / cumsum</li><li>mean, std</li><li>min, max</li><li>percentile</li></ul>\n",
    "<h3>Manipulation</h3> <ul><li>reshape</li><li>datatype conversion</li><li>transpose</li><li>flatten / reshape(-1,)</li></ul><h3>Sorting</h3> <ul><li>ascending, descending</li><li>by axis</li><li>dimensions</li><li>from random distributions</li></ul>  |<h3>Membership</h3> <ul><li>unique</li><li>in1d</li></ul><h3>Conditionals</h3> <ul><li>where</li></ul><h3>Combining Arrays</h3> <ul><li>concatenate</li></ul>\n"
   ]
  },
  {
   "cell_type": "code",
   "execution_count": 1,
   "metadata": {
    "ExecuteTime": {
     "end_time": "2020-07-03T09:22:54.588714Z",
     "start_time": "2020-07-03T09:22:54.418966Z"
    }
   },
   "outputs": [],
   "source": [
    "import numpy as np"
   ]
  },
  {
   "cell_type": "markdown",
   "metadata": {},
   "source": [
    "## Instantiation / Declaration\n",
    "\n",
    "### Instantiation from Values"
   ]
  },
  {
   "cell_type": "code",
   "execution_count": 2,
   "metadata": {
    "ExecuteTime": {
     "end_time": "2020-07-03T09:22:54.599596Z",
     "start_time": "2020-07-03T09:22:54.592590Z"
    }
   },
   "outputs": [],
   "source": [
    "# From lists\n",
    "arr1 = np.array([1,3,5,7,9]) # extends to nested lists\n",
    "\n",
    "# From range\n",
    "arr4 = np.arange(5,10) # extends to (min, max, step) expression\n",
    "\n",
    "# Zeros & Ones with dimensions\n",
    "arr2 = np.zeros(10) # extends to tuples\n",
    "arr3 = np.ones(5) # extends to tuples"
   ]
  },
  {
   "cell_type": "code",
   "execution_count": 3,
   "metadata": {
    "ExecuteTime": {
     "end_time": "2020-07-03T09:22:54.615119Z",
     "start_time": "2020-07-03T09:22:54.604188Z"
    }
   },
   "outputs": [
    {
     "name": "stdout",
     "output_type": "stream",
     "text": [
      "[1 3 5 7 9]\n",
      "[5 6 7 8 9]\n",
      "[0. 0. 0. 0. 0. 0. 0. 0. 0. 0.]\n",
      "[1. 1. 1. 1. 1.]\n"
     ]
    }
   ],
   "source": [
    "print(arr1)\n",
    "print(arr4)\n",
    "print(arr2)\n",
    "print(arr3)"
   ]
  },
  {
   "cell_type": "markdown",
   "metadata": {},
   "source": [
    "### Instantiation from Random Distributions"
   ]
  },
  {
   "cell_type": "code",
   "execution_count": 4,
   "metadata": {
    "ExecuteTime": {
     "end_time": "2020-07-03T09:22:54.630890Z",
     "start_time": "2020-07-03T09:22:54.618521Z"
    }
   },
   "outputs": [
    {
     "name": "stdout",
     "output_type": "stream",
     "text": [
      "[0.47609776 0.78372566 0.70831299 0.79721986]\n",
      "[[0.79297514 0.49361822]\n",
      " [0.95247183 0.89293513]\n",
      " [0.91333611 0.31564735]]\n"
     ]
    }
   ],
   "source": [
    "# Draw from uniform [0,1]\n",
    "arand1 = np.random.random(4) # returns a vector\n",
    "print(arand1)\n",
    "arand2 = np.random.random((3,2)) # returns a matrix 3 rows, 2 cols\n",
    "print(arand2)"
   ]
  },
  {
   "cell_type": "code",
   "execution_count": 5,
   "metadata": {
    "ExecuteTime": {
     "end_time": "2020-07-03T09:22:54.643374Z",
     "start_time": "2020-07-03T09:22:54.633972Z"
    }
   },
   "outputs": [
    {
     "name": "stdout",
     "output_type": "stream",
     "text": [
      "[[-0.91927069 -0.65094185]\n",
      " [-0.65181748 -0.37999594]\n",
      " [ 0.68193483 -1.64169051]]\n",
      "[[-0.57341189  0.25276106]\n",
      " [ 0.62104784  0.42650209]\n",
      " [-0.88663608  0.68831825]]\n"
     ]
    }
   ],
   "source": [
    "# Draw from normal [mu=0, sigma=1]\n",
    "arand3 = np.random.normal(0,1,(3,2)) # returns a matrix 3 rows, 2 cols\n",
    "print(arand3)\n",
    "# Draw from uniform [min=-1, max=1]\n",
    "arand4 = np.random.uniform(-1,1,(3,2)) # returns a matrix 3 rows, 2 cols\n",
    "print(arand4)"
   ]
  },
  {
   "cell_type": "markdown",
   "metadata": {},
   "source": [
    "## Properties"
   ]
  },
  {
   "cell_type": "code",
   "execution_count": 6,
   "metadata": {
    "ExecuteTime": {
     "end_time": "2020-07-03T09:22:54.658537Z",
     "start_time": "2020-07-03T09:22:54.649327Z"
    }
   },
   "outputs": [
    {
     "name": "stdout",
     "output_type": "stream",
     "text": [
      "(4, 3)\n",
      "4\n",
      "12\n",
      "2\n"
     ]
    }
   ],
   "source": [
    "arr6a = np.array([[ 7, 11,  1],\n",
    "                  [11,  9,  8],\n",
    "                  [13,  2,  6],\n",
    "                  [11, 11,  2]])\n",
    "\n",
    "# No. of rows & columns\n",
    "print(arr6a.shape)\n",
    "# No. of outermost elements (rows)\n",
    "print(len(arr6a))\n",
    "# Total no. of elements\n",
    "print(arr6a.size)\n",
    "# No. of dimensions\n",
    "print(arr6a.ndim)"
   ]
  },
  {
   "cell_type": "markdown",
   "metadata": {},
   "source": [
    "## Manipulation"
   ]
  },
  {
   "cell_type": "code",
   "execution_count": 7,
   "metadata": {
    "ExecuteTime": {
     "end_time": "2020-07-03T09:22:54.670216Z",
     "start_time": "2020-07-03T09:22:54.661913Z"
    }
   },
   "outputs": [
    {
     "name": "stdout",
     "output_type": "stream",
     "text": [
      "[[0. 0. 0. 0. 0.]\n",
      " [0. 0. 0. 0. 0.]]\n",
      "[1. 1. 1. 1. 1.]\n"
     ]
    }
   ],
   "source": [
    "# Reshape\n",
    "arr2 = np.zeros(10)\n",
    "arr2 = arr2.reshape((2,5)) # rows, columns, as tuple\n",
    "print(arr2)\n",
    "\n",
    "# Convert dtype\n",
    "arr3 = np.ones(5)\n",
    "arr3 = arr3.astype(np.float64) # or np.int32, str etc.\n",
    "print(arr3)"
   ]
  },
  {
   "cell_type": "code",
   "execution_count": 8,
   "metadata": {
    "ExecuteTime": {
     "end_time": "2020-07-03T09:22:54.681894Z",
     "start_time": "2020-07-03T09:22:54.674572Z"
    }
   },
   "outputs": [
    {
     "name": "stdout",
     "output_type": "stream",
     "text": [
      "[[1.         1.73205081]\n",
      " [1.41421356 2.        ]]\n"
     ]
    }
   ],
   "source": [
    "# Transpose\n",
    "arr2a = np.array([[1., 1.41421356,], [1.73205081, 2.,],])\n",
    "print(np.transpose(arr2a))"
   ]
  },
  {
   "cell_type": "code",
   "execution_count": 9,
   "metadata": {
    "ExecuteTime": {
     "end_time": "2020-07-03T09:22:54.699260Z",
     "start_time": "2020-07-03T09:22:54.686711Z"
    }
   },
   "outputs": [
    {
     "name": "stdout",
     "output_type": "stream",
     "text": [
      "[ 7 11  1 11  9  8 13  2  6 11 11  2]\n",
      "[ 7 11  1 11  9  8 13  2  6 11 11  2]\n",
      "[[ 7]\n",
      " [11]\n",
      " [ 1]]\n"
     ]
    }
   ],
   "source": [
    "arr6a = np.array([[ 7, 11,  1],\n",
    "                  [11,  9,  8],\n",
    "                  [13,  2,  6],\n",
    "                  [11, 11,  2]])\n",
    "print(arr6a.flatten()) # To row vector\n",
    "print(arr6a.reshape(-1,)) # Row vector\n",
    "print(arr6a.reshape(-1,1)[:3]) # Column vector"
   ]
  },
  {
   "cell_type": "code",
   "execution_count": 10,
   "metadata": {
    "ExecuteTime": {
     "end_time": "2020-07-03T09:22:54.725261Z",
     "start_time": "2020-07-03T09:22:54.703885Z"
    }
   },
   "outputs": [
    {
     "data": {
      "text/plain": [
       "[[7, 11, 1], [11, 9, 8], [13, 2, 6], [11, 11, 2]]"
      ]
     },
     "execution_count": 10,
     "metadata": {},
     "output_type": "execute_result"
    }
   ],
   "source": [
    "arr6a.tolist() # Convert to Python list"
   ]
  },
  {
   "cell_type": "markdown",
   "metadata": {},
   "source": [
    "## Slicing"
   ]
  },
  {
   "cell_type": "code",
   "execution_count": 27,
   "metadata": {
    "ExecuteTime": {
     "end_time": "2020-07-03T09:23:05.900504Z",
     "start_time": "2020-07-03T09:23:05.895865Z"
    }
   },
   "outputs": [],
   "source": [
    "array_2d = np.array([[ 9,  1, 19, 13],\n",
    "                     [ 5, 17,  8, 14],\n",
    "                     [12, 18,  9, 13],\n",
    "                     [20,  5,  5,  9]])\n",
    "array_1d = array_2d.reshape((-1,))"
   ]
  },
  {
   "cell_type": "code",
   "execution_count": 12,
   "metadata": {
    "ExecuteTime": {
     "end_time": "2020-07-03T09:22:54.756686Z",
     "start_time": "2020-07-03T09:22:54.745022Z"
    }
   },
   "outputs": [
    {
     "name": "stdout",
     "output_type": "stream",
     "text": [
      "1\n",
      "[19 13]\n",
      "[ 9 18 12 14  8 17  5 13]\n"
     ]
    }
   ],
   "source": [
    "print(array_1d[1]) # Single element\n",
    "print(array_1d[2:4]) # Range\n",
    "print(array_1d[10:2:-1]) # Range, reversed"
   ]
  },
  {
   "cell_type": "code",
   "execution_count": 13,
   "metadata": {
    "ExecuteTime": {
     "end_time": "2020-07-03T09:22:54.775186Z",
     "start_time": "2020-07-03T09:22:54.759915Z"
    }
   },
   "outputs": [
    {
     "name": "stdout",
     "output_type": "stream",
     "text": [
      "14\n",
      "[[17  8]\n",
      " [18  9]]\n",
      "[17 18]\n",
      "[19 13 17 14 12 18 13 20]\n"
     ]
    }
   ],
   "source": [
    "print(array_2d[(1,3)]) # Single element\n",
    "print(array_2d[1:3,1:3]) # Range\n",
    "print(array_2d[1:3,1]) # Single element, in range\n",
    "print(array_2d[array_2d>10]) # Boolean"
   ]
  },
  {
   "cell_type": "code",
   "execution_count": 42,
   "metadata": {
    "ExecuteTime": {
     "end_time": "2020-07-03T09:27:09.789767Z",
     "start_time": "2020-07-03T09:27:09.783382Z"
    }
   },
   "outputs": [
    {
     "name": "stdout",
     "output_type": "stream",
     "text": [
      "[5 5]\n",
      "[2 3]\n",
      "[2 1]\n"
     ]
    }
   ],
   "source": [
    "arr3 = np.array([[5, 2, 2],\n",
    "                 [5, 3, 1]])\n",
    "for i in range(0,arr3.shape[1]):\n",
    "    print(arr3[:,i])"
   ]
  },
  {
   "cell_type": "markdown",
   "metadata": {},
   "source": [
    "## Built-in Functions\n",
    "\n",
    "### Math"
   ]
  },
  {
   "cell_type": "code",
   "execution_count": 14,
   "metadata": {
    "ExecuteTime": {
     "end_time": "2020-07-03T09:22:54.789404Z",
     "start_time": "2020-07-03T09:22:54.778622Z"
    }
   },
   "outputs": [
    {
     "name": "stdout",
     "output_type": "stream",
     "text": [
      "[1 2 3 4 5]\n",
      "[1.         1.41421356 1.73205081 2.         2.23606798]\n",
      "[ 1  4  9 16 25]\n",
      "[  2.71828183   7.3890561   20.08553692  54.59815003 148.4131591 ]\n",
      "[0.         0.69314718 1.09861229 1.38629436 1.60943791]\n"
     ]
    }
   ],
   "source": [
    "# Math functions, based on verbose names\n",
    "arr4 = np.arange(1,6)\n",
    "print(arr4)\n",
    "print(np.sqrt(arr4))\n",
    "print(np.square(arr4))\n",
    "print(np.exp(arr4))\n",
    "print(np.log(arr4))"
   ]
  },
  {
   "cell_type": "code",
   "execution_count": 15,
   "metadata": {
    "ExecuteTime": {
     "end_time": "2020-07-03T09:22:54.801757Z",
     "start_time": "2020-07-03T09:22:54.792116Z"
    }
   },
   "outputs": [
    {
     "name": "stdout",
     "output_type": "stream",
     "text": [
      "[1. 1. 1. 2. 2.]\n",
      "[1. 2. 2. 2. 3.]\n",
      "[1. 1. 2. 2. 2.]\n"
     ]
    }
   ],
   "source": [
    "# Rounding, based on verbose names\n",
    "arr6 = np.array([1., 1.41421356, 1.73205081, 2., 2.23606798])\n",
    "print(np.floor(arr6))\n",
    "print(np.ceil(arr6))\n",
    "print(np.round(arr6))"
   ]
  },
  {
   "cell_type": "code",
   "execution_count": 16,
   "metadata": {
    "ExecuteTime": {
     "end_time": "2020-07-03T09:22:54.813880Z",
     "start_time": "2020-07-03T09:22:54.805494Z"
    }
   },
   "outputs": [
    {
     "name": "stdout",
     "output_type": "stream",
     "text": [
      "[-5 -4 -3 -2 -1  0  1  2  3  4  5]\n",
      "[5 4 3 2 1 0 1 2 3 4 5]\n",
      "[-1 -1 -1 -1 -1  0  1  1  1  1  1]\n"
     ]
    }
   ],
   "source": [
    "# Absolute Value & Sign, based on verbose names\n",
    "arr5 = np.arange(-5,6)\n",
    "print(arr5)\n",
    "print(np.abs(arr5))\n",
    "print(np.sign(arr5))"
   ]
  },
  {
   "cell_type": "code",
   "execution_count": 17,
   "metadata": {
    "ExecuteTime": {
     "end_time": "2020-07-03T09:22:54.833047Z",
     "start_time": "2020-07-03T09:22:54.817395Z"
    }
   },
   "outputs": [
    {
     "name": "stdout",
     "output_type": "stream",
     "text": [
      "[0. 1. 3. 5. 8.]\n",
      "[1. 0. 1. 0. 1.]\n"
     ]
    }
   ],
   "source": [
    "# Division & Remainder, based on verbose names\n",
    "arr7 = np.array([1, 4, 9, 16, 25])\n",
    "print(np.floor_divide(arr7, 3.0)) # Gives the dividend only\n",
    "print(np.remainder(arr7, 2.0)) # Gives the remainder only"
   ]
  },
  {
   "cell_type": "markdown",
   "metadata": {},
   "source": [
    "### Analytics / Aggregation Functions"
   ]
  },
  {
   "cell_type": "code",
   "execution_count": 18,
   "metadata": {
    "ExecuteTime": {
     "end_time": "2020-07-03T09:22:54.853704Z",
     "start_time": "2020-07-03T09:22:54.837322Z"
    },
    "scrolled": true
   },
   "outputs": [
    {
     "name": "stdout",
     "output_type": "stream",
     "text": [
      "8.38233235\n",
      "[1.         2.41421356 4.14626437 6.14626437 8.38233235]\n",
      "1.67646647\n",
      "0.4352702350769015\n",
      "1.0\n",
      "2.23606798\n",
      "1.0124264068\n"
     ]
    }
   ],
   "source": [
    "# Analytics, based on verbose names\n",
    "arr6 = np.array([1., 1.41421356, 1.73205081, 2., 2.23606798])\n",
    "print(np.sum(arr6))\n",
    "print(np.cumsum(arr6))\n",
    "print(np.mean(arr6))\n",
    "print(np.std(arr6))\n",
    "print(np.min(arr6))\n",
    "print(np.max(arr6))\n",
    "print(np.percentile(arr6, 0.75))"
   ]
  },
  {
   "cell_type": "markdown",
   "metadata": {},
   "source": [
    "### Membership"
   ]
  },
  {
   "cell_type": "code",
   "execution_count": 19,
   "metadata": {
    "ExecuteTime": {
     "end_time": "2020-07-03T09:22:54.870653Z",
     "start_time": "2020-07-03T09:22:54.856677Z"
    }
   },
   "outputs": [
    {
     "name": "stdout",
     "output_type": "stream",
     "text": [
      "[1.         1.41421356 1.73205081 2.         2.23606798]\n",
      "[ True  True False]\n"
     ]
    }
   ],
   "source": [
    "arr6 = np.array([1., 1., 1.41421356, 1.73205081, 2., 2.23606798, 2.])\n",
    "print(np.unique(arr6)) # Unique values\n",
    "arr6test = np.array([1.,2.,3.])\n",
    "print(np.in1d(arr6test, arr6)) # Member exists in array"
   ]
  },
  {
   "cell_type": "markdown",
   "metadata": {},
   "source": [
    "### Sorting"
   ]
  },
  {
   "cell_type": "code",
   "execution_count": 20,
   "metadata": {
    "ExecuteTime": {
     "end_time": "2020-07-03T09:22:54.882540Z",
     "start_time": "2020-07-03T09:22:54.873479Z"
    }
   },
   "outputs": [
    {
     "name": "stdout",
     "output_type": "stream",
     "text": [
      "[1.         1.         1.41421356 1.73205081 2.         2.\n",
      " 2.23606798]\n",
      "[2.23606798 2.         2.         1.73205081 1.41421356 1.\n",
      " 1.        ]\n"
     ]
    }
   ],
   "source": [
    "# Sort 1D array\n",
    "arr6 = np.array([1., 1., 1.41421356, 1.73205081, 2., 2.23606798, 2.])\n",
    "print(np.sort(arr6))\n",
    "print(np.sort(arr6)[::-1]) # Sort in reverse order"
   ]
  },
  {
   "cell_type": "code",
   "execution_count": 21,
   "metadata": {
    "ExecuteTime": {
     "end_time": "2020-07-03T09:22:54.896644Z",
     "start_time": "2020-07-03T09:22:54.886607Z"
    }
   },
   "outputs": [
    {
     "name": "stdout",
     "output_type": "stream",
     "text": [
      "[[ 7  2  1]\n",
      " [11  9  2]\n",
      " [11 11  6]\n",
      " [13 11  8]]\n",
      "[[ 1  7 11]\n",
      " [ 8  9 11]\n",
      " [ 2  6 13]\n",
      " [ 2 11 11]]\n"
     ]
    }
   ],
   "source": [
    "# Sort 2D array\n",
    "arr6a = np.array([[ 7, 11,  1],\n",
    "                  [11,  9,  8],\n",
    "                  [13,  2,  6],\n",
    "                  [11, 11,  2]])\n",
    "print(np.sort(arr6a, axis=0)) # sort per column\n",
    "print(np.sort(arr6a, axis=1)) # sort per row"
   ]
  },
  {
   "cell_type": "markdown",
   "metadata": {},
   "source": [
    "## Conditionals"
   ]
  },
  {
   "cell_type": "code",
   "execution_count": 22,
   "metadata": {
    "ExecuteTime": {
     "end_time": "2020-07-03T09:22:54.908528Z",
     "start_time": "2020-07-03T09:22:54.900001Z"
    }
   },
   "outputs": [
    {
     "name": "stdout",
     "output_type": "stream",
     "text": [
      "[[False  True False]\n",
      " [ True False False]\n",
      " [ True False False]\n",
      " [ True  True False]]\n",
      "[[0 1 0]\n",
      " [1 0 0]\n",
      " [1 0 0]\n",
      " [1 1 0]]\n"
     ]
    }
   ],
   "source": [
    "arr6a = np.array([[ 7, 11,  1],\n",
    "                  [11,  9,  8],\n",
    "                  [13,  2,  6],\n",
    "                  [11, 11,  2]])\n",
    "print(arr6a>10) # Conditional expression\n",
    "print(np.where(arr6a>10,1,0)) # Conditional pipeline using np.where"
   ]
  },
  {
   "cell_type": "markdown",
   "metadata": {},
   "source": [
    "## Combining Multiple Arrays"
   ]
  },
  {
   "cell_type": "code",
   "execution_count": 23,
   "metadata": {
    "ExecuteTime": {
     "end_time": "2020-07-03T09:22:54.921447Z",
     "start_time": "2020-07-03T09:22:54.912834Z"
    },
    "scrolled": true
   },
   "outputs": [
    {
     "name": "stdout",
     "output_type": "stream",
     "text": [
      "[[ 33  45  21]\n",
      " [ 39  15  29]\n",
      " [442 284 179]\n",
      " [282 165 262]]\n",
      "[[ 33  45  21 442 284 179]\n",
      " [ 39  15  29 282 165 262]]\n"
     ]
    }
   ],
   "source": [
    "arrb = np.array([[33, 45, 21],\n",
    "                 [39, 15, 29]])\n",
    "arrc = np.array([[442, 284, 179],\n",
    "                 [282, 165, 262]])\n",
    "print(np.concatenate([arrb, arrc], axis=0)) # Stack vertically (concatenate downwards)\n",
    "print(np.concatenate([arrb, arrc], axis=1)) # Stack vertically (concatenate sideways)"
   ]
  },
  {
   "cell_type": "markdown",
   "metadata": {},
   "source": [
    "## Applying Functions"
   ]
  },
  {
   "cell_type": "code",
   "execution_count": 24,
   "metadata": {
    "ExecuteTime": {
     "end_time": "2020-07-03T09:22:54.940089Z",
     "start_time": "2020-07-03T09:22:54.924728Z"
    }
   },
   "outputs": [
    {
     "data": {
      "text/plain": [
       "array([['cafereviews', 'chefinterviews', 'chinese'],\n",
       "       ['chopedeals', 'desserts', 'fastfood'],\n",
       "       ['foodbyarea', 'foodbythemes', 'foodguides']], dtype='<U14')"
      ]
     },
     "execution_count": 24,
     "metadata": {},
     "output_type": "execute_result"
    }
   ],
   "source": [
    "# np.vectorize the function and apply to array, using def function\n",
    "arr_h = np.array(['Cafe Reviews','Chef Interviews','Chinese',\n",
    "                  'Chope Deals','Desserts','Fast Food',\n",
    "                  'Food By Area','Food By Themes','Food Guides',]).reshape(3,3)\n",
    "\n",
    "def lw(x):\n",
    "    return x.lower().replace(' ', '')\n",
    "lw_v = np.vectorize(lw)\n",
    "lw_v(arr_h)"
   ]
  },
  {
   "cell_type": "code",
   "execution_count": 25,
   "metadata": {
    "ExecuteTime": {
     "end_time": "2020-07-03T09:22:54.953446Z",
     "start_time": "2020-07-03T09:22:54.944351Z"
    }
   },
   "outputs": [
    {
     "data": {
      "text/plain": [
       "array([[12, 15,  7],\n",
       "       [10,  8,  9],\n",
       "       [12, 14, 11]])"
      ]
     },
     "execution_count": 25,
     "metadata": {},
     "output_type": "execute_result"
    }
   ],
   "source": [
    "# np.vectorize the function and apply to array, using lambda function\n",
    "arr_h = np.array(['Cafe Reviews','Chef Interviews','Chinese',\n",
    "                  'ChopeDeals','Desserts','Fast Food',\n",
    "                  'Food By Area','Food By Themes','Food Guides',]).reshape(3,3)\n",
    "l = lambda x : len(x)\n",
    "lv = np.vectorize(l)\n",
    "lv(arr_h)"
   ]
  },
  {
   "cell_type": "code",
   "execution_count": 26,
   "metadata": {
    "ExecuteTime": {
     "end_time": "2020-07-03T09:22:54.969727Z",
     "start_time": "2020-07-03T09:22:54.957280Z"
    }
   },
   "outputs": [
    {
     "name": "stdout",
     "output_type": "stream",
     "text": [
      "[[12 15  7]\n",
      " [10  8  9]\n",
      " [12 14 11]]\n"
     ]
    }
   ],
   "source": [
    "# reshape, use map() to apply function, and reshape back\n",
    "arr_h = np.array(['Cafe Reviews','Chef Interviews','Chinese',\n",
    "                  'ChopeDeals','Desserts','Fast Food',\n",
    "                  'Food By Area','Food By Themes','Food Guides',]).reshape(3,3)\n",
    "\n",
    "l = lambda x : len(x)\n",
    "arr_h2 = np.reshape(arr_h,(-1,))\n",
    "arr_h2 = np.array(list(map(l, arr_h2)))\n",
    "arr_h2 = arr_h2.reshape((3,3))\n",
    "print(arr_h2)"
   ]
  }
 ],
 "metadata": {
  "kernelspec": {
   "display_name": "Python 3",
   "language": "python",
   "name": "python3"
  },
  "language_info": {
   "codemirror_mode": {
    "name": "ipython",
    "version": 3
   },
   "file_extension": ".py",
   "mimetype": "text/x-python",
   "name": "python",
   "nbconvert_exporter": "python",
   "pygments_lexer": "ipython3",
   "version": "3.7.2"
  }
 },
 "nbformat": 4,
 "nbformat_minor": 4
}
