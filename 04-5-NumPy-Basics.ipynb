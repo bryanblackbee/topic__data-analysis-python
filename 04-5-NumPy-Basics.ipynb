{
 "cells": [
  {
   "cell_type": "markdown",
   "metadata": {},
   "source": [
    "# Chapter 4 - NumPy Basics: Arrays and Vectorized Computation"
   ]
  },
  {
   "cell_type": "markdown",
   "metadata": {},
   "source": [
    "Note: **4.4 File Input and Output with Arrays** is skipped as `pandas` is preferred for such operations\n",
    "\n",
    "## 4.5 Linear Algebra"
   ]
  },
  {
   "cell_type": "code",
   "execution_count": 1,
   "metadata": {
    "ExecuteTime": {
     "end_time": "2019-07-03T10:38:19.894767Z",
     "start_time": "2019-07-03T10:38:19.783582Z"
    }
   },
   "outputs": [],
   "source": [
    "import numpy as np\n",
    "from numpy.linalg import inv, det"
   ]
  },
  {
   "cell_type": "markdown",
   "metadata": {},
   "source": [
    "To do matrix multiplication, use `np.dot(arr1, arr2)`. Executing `arr1 * arr2` will only perform element-wise multiplication."
   ]
  },
  {
   "cell_type": "code",
   "execution_count": 2,
   "metadata": {
    "ExecuteTime": {
     "end_time": "2019-07-03T10:38:19.918900Z",
     "start_time": "2019-07-03T10:38:19.897080Z"
    },
    "scrolled": true
   },
   "outputs": [
    {
     "data": {
      "text/plain": [
       "array([[14,  8],\n",
       "       [24, 35]])"
      ]
     },
     "metadata": {},
     "output_type": "display_data"
    },
    {
     "data": {
      "text/plain": [
       "array([[38, 63],\n",
       "       [31, 43]])"
      ]
     },
     "metadata": {},
     "output_type": "display_data"
    },
    {
     "data": {
      "text/plain": [
       "array([[ 5, 10, 17],\n",
       "       [13, 37, 53]])"
      ]
     },
     "metadata": {},
     "output_type": "display_data"
    }
   ],
   "source": [
    "arr1 = np.random.randint(1,9,(2,2))\n",
    "arr2 = np.random.randint(1,9,(2,2))\n",
    "arr3 = np.random.randint(1,9,(2,3))\n",
    "\n",
    "arr1 = np.array([[7, 8],\n",
    "                 [8, 5]])\n",
    "\n",
    "arr2 = np.array([[2, 1],\n",
    "                 [3, 7]])\n",
    "\n",
    "arr3 = np.array([[2, 3, 6],\n",
    "                 [1, 4, 5]])\n",
    "\n",
    "# arr1 * arr2 performs element-wise multiplication\n",
    "display(arr1 * arr2)\n",
    "\n",
    "# np.dot(arr1, arr2) will calculate the matrix product of 2 matrices\n",
    "display(np.dot(arr1, arr2))\n",
    "\n",
    "# note: no. of columns of arr1 and no. of rows of arr2 need to match \n",
    "# for the calculation to be valid\n",
    "display(np.dot(arr2, arr3))"
   ]
  },
  {
   "cell_type": "markdown",
   "metadata": {},
   "source": [
    "`np.linalg` has a set of matrix decompositions and things like inverse and determinant. Use `inv` to get the inverse of the matrix. Recall that $\\mathbf{A}^{-1}\\mathbf A = \\mathbf{I}$ for any square matrix $\\mathbf{A}$. $\\mathbf{I}$ is the identity matrix. This is a useful way to look at this function."
   ]
  },
  {
   "cell_type": "code",
   "execution_count": 3,
   "metadata": {
    "ExecuteTime": {
     "end_time": "2019-07-03T10:38:19.937452Z",
     "start_time": "2019-07-03T10:38:19.922174Z"
    }
   },
   "outputs": [
    {
     "data": {
      "text/plain": [
       "array([[2, 1],\n",
       "       [3, 7]])"
      ]
     },
     "metadata": {},
     "output_type": "display_data"
    },
    {
     "data": {
      "text/plain": [
       "array([[ 0.63636364, -0.09090909],\n",
       "       [-0.27272727,  0.18181818]])"
      ]
     },
     "metadata": {},
     "output_type": "display_data"
    },
    {
     "data": {
      "text/plain": [
       "array([[1.00000000e+00, 2.77555756e-17],\n",
       "       [5.55111512e-17, 1.00000000e+00]])"
      ]
     },
     "metadata": {},
     "output_type": "display_data"
    }
   ],
   "source": [
    "arr2 = np.array([[2, 1],\n",
    "                 [3, 7]])\n",
    "display(arr2)\n",
    "\n",
    "# Use inv() to get the inverse of arr2\n",
    "inv_arr2 = inv(arr2)\n",
    "display(inv_arr2)\n",
    "\n",
    "# Use the dot product to get the identity matrix\n",
    "display(np.dot(arr2, inv(arr2)))"
   ]
  },
  {
   "cell_type": "code",
   "execution_count": 4,
   "metadata": {
    "ExecuteTime": {
     "end_time": "2019-07-03T10:38:19.967626Z",
     "start_time": "2019-07-03T10:38:19.941599Z"
    }
   },
   "outputs": [
    {
     "data": {
      "text/plain": [
       "array([[2, 1],\n",
       "       [3, 7]])"
      ]
     },
     "metadata": {},
     "output_type": "display_data"
    },
    {
     "data": {
      "text/plain": [
       "array([[ 0.63636364, -0.09090909],\n",
       "       [-0.27272727,  0.18181818]])"
      ]
     },
     "metadata": {},
     "output_type": "display_data"
    },
    {
     "data": {
      "text/plain": [
       "array([[1.00000000e+00, 2.77555756e-17],\n",
       "       [5.55111512e-17, 1.00000000e+00]])"
      ]
     },
     "metadata": {},
     "output_type": "display_data"
    }
   ],
   "source": [
    "arr2 = np.array([[2, 1],\n",
    "                 [3, 7]])\n",
    "display(arr2)\n",
    "\n",
    "# Use inv() to get the inverse of arr2\n",
    "inv_arr2 = inv(arr2)\n",
    "display(inv_arr2)\n",
    "\n",
    "# Use the dot product to get the identity matrix\n",
    "display(np.dot(arr2, inv(arr2)))"
   ]
  },
  {
   "cell_type": "markdown",
   "metadata": {},
   "source": [
    "Other functions that are useful include `diag()` to get the diagonal of a square matrix, `det()` to find the determinant of the square matrix and `trace()` to get the sum of all elements in the main diagonal of a square matrix."
   ]
  },
  {
   "cell_type": "code",
   "execution_count": 5,
   "metadata": {
    "ExecuteTime": {
     "end_time": "2019-07-03T10:38:19.983721Z",
     "start_time": "2019-07-03T10:38:19.971248Z"
    },
    "scrolled": false
   },
   "outputs": [
    {
     "data": {
      "text/plain": [
       "array([2, 7])"
      ]
     },
     "metadata": {},
     "output_type": "display_data"
    },
    {
     "data": {
      "text/plain": [
       "11.000000000000002"
      ]
     },
     "metadata": {},
     "output_type": "display_data"
    },
    {
     "name": "stdout",
     "output_type": "stream",
     "text": [
      "9\n"
     ]
    }
   ],
   "source": [
    "arr2 = np.array([[2, 1],\n",
    "                 [3, 7]])\n",
    "\n",
    "# Gets the diagonal of a square matrix\n",
    "display(np.diag(arr2))\n",
    "\n",
    "# Calculates the determinant of a square matrix\n",
    "display(det(arr2))\n",
    "\n",
    "# Gets the sum of all elements of the main diagonal of a square matrix\n",
    "print(np.trace(arr2))"
   ]
  },
  {
   "cell_type": "markdown",
   "metadata": {},
   "source": [
    "<hr>\n",
    "### Example Usage of Linear Algebra\n",
    "\n",
    "Given $\\mathbf A = \\begin{pmatrix}3 &0 & 1 \\\\\n",
    "-4& 1& 2\\\\\n",
    "-6& 0& -2\\end{pmatrix}$, show that $\\mathbf x = \\begin{pmatrix}0 \\\\1\n",
    "\\\\0\\end{pmatrix}$ is an eigenvector of $\\mathbf A$. Additionally,\n",
    "\n",
    "Q1. Calculate $\\mathbf A \\mathbf x$ and show that $\\mathbf A \\mathbf x = \\lambda \\mathbf x$ for some scalar $\\lambda$.\n",
    "\n",
    "Q2. Validate that $(\\mathbf A - \\lambda \\mathbf I)\\mathbf x = \\mathbf 0$\n",
    "\n",
    "Q3. Show that the right eigenvalues have $0$ determinent, or $\\det (\\mathbf A - \\lambda \\mathbf I) = 0$"
   ]
  },
  {
   "cell_type": "code",
   "execution_count": 6,
   "metadata": {
    "ExecuteTime": {
     "end_time": "2019-07-03T10:38:20.006153Z",
     "start_time": "2019-07-03T10:38:19.989783Z"
    }
   },
   "outputs": [
    {
     "data": {
      "text/plain": [
       "array([[ 3,  0,  1],\n",
       "       [-4,  1,  2],\n",
       "       [-6,  0, -2]])"
      ]
     },
     "metadata": {},
     "output_type": "display_data"
    },
    {
     "data": {
      "text/plain": [
       "array([[0],\n",
       "       [1],\n",
       "       [0]])"
      ]
     },
     "metadata": {},
     "output_type": "display_data"
    }
   ],
   "source": [
    "A = np.array([[3, 0, 1], \n",
    "             [-4, 1, 2],\n",
    "             [-6, 0, -2]])\n",
    "display(A)\n",
    "x = np.array([[0, 1, 0]]).transpose()\n",
    "display(x)"
   ]
  },
  {
   "cell_type": "code",
   "execution_count": 7,
   "metadata": {
    "ExecuteTime": {
     "end_time": "2019-07-03T10:38:20.020125Z",
     "start_time": "2019-07-03T10:38:20.011706Z"
    }
   },
   "outputs": [
    {
     "name": "stdout",
     "output_type": "stream",
     "text": [
      "[[0]\n",
      " [1]\n",
      " [0]]\n"
     ]
    }
   ],
   "source": [
    "# Q1. Use np.dot() here to perform the matrix multiplication\n",
    "print(np.dot(A, x))\n",
    "# lambda = 1\n",
    "l = 1"
   ]
  },
  {
   "cell_type": "code",
   "execution_count": 8,
   "metadata": {
    "ExecuteTime": {
     "end_time": "2019-07-03T10:38:20.032105Z",
     "start_time": "2019-07-03T10:38:20.023660Z"
    }
   },
   "outputs": [
    {
     "name": "stdout",
     "output_type": "stream",
     "text": [
      "[[0.]\n",
      " [0.]\n",
      " [0.]]\n"
     ]
    }
   ],
   "source": [
    "# Q2. Use np.identity(3) to get the identity matrix and then peform the dot product\n",
    "I = np.identity(3)\n",
    "print(np.dot(A - (l*np.identity(3)), x))"
   ]
  },
  {
   "cell_type": "code",
   "execution_count": 9,
   "metadata": {
    "ExecuteTime": {
     "end_time": "2019-07-03T10:38:20.049162Z",
     "start_time": "2019-07-03T10:38:20.038024Z"
    }
   },
   "outputs": [
    {
     "name": "stdout",
     "output_type": "stream",
     "text": [
      "0.0\n"
     ]
    }
   ],
   "source": [
    "# Q3. Use np.linalg.det to calculate the determinant and validate that it is 0\n",
    "print(np.linalg.det(A-l*I))"
   ]
  },
  {
   "cell_type": "markdown",
   "metadata": {},
   "source": [
    "<hr>"
   ]
  },
  {
   "cell_type": "markdown",
   "metadata": {},
   "source": [
    "**References:**\n",
    "\n",
    "Python for Data Analysis, 2nd Edition, McKinney (2017)"
   ]
  }
 ],
 "metadata": {
  "kernelspec": {
   "display_name": "Python 3",
   "language": "python",
   "name": "python3"
  },
  "language_info": {
   "codemirror_mode": {
    "name": "ipython",
    "version": 3
   },
   "file_extension": ".py",
   "mimetype": "text/x-python",
   "name": "python",
   "nbconvert_exporter": "python",
   "pygments_lexer": "ipython3",
   "version": "3.6.5"
  }
 },
 "nbformat": 4,
 "nbformat_minor": 2
}
