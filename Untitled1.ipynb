{
 "cells": [
  {
   "cell_type": "markdown",
   "metadata": {},
   "source": [
    "# My Pandas Cheatsheet"
   ]
  },
  {
   "cell_type": "code",
   "execution_count": 1,
   "metadata": {
    "ExecuteTime": {
     "end_time": "2020-07-06T17:15:13.841396Z",
     "start_time": "2020-07-06T17:15:12.263831Z"
    }
   },
   "outputs": [],
   "source": [
    "import re\n",
    "import pandas as pd\n",
    "import numpy as np\n",
    "import matplotlib.pyplot as plt\n",
    "import seaborn as sns"
   ]
  },
  {
   "cell_type": "markdown",
   "metadata": {},
   "source": [
    "## Instantiation\n",
    "\n",
    "### `Series`"
   ]
  },
  {
   "cell_type": "code",
   "execution_count": 2,
   "metadata": {
    "ExecuteTime": {
     "end_time": "2020-07-06T17:15:13.855414Z",
     "start_time": "2020-07-06T17:15:13.843514Z"
    }
   },
   "outputs": [],
   "source": [
    "s01 = pd.Series([1,2,3,4,5]) # From a list\n",
    "s04 = pd.Series([1,2,3,4,5], \n",
    "                index=['a', 'b', 'c', 'd', 'e']) # From a list, ith specified indices\n",
    "s02 = pd.Series(range(1,6)) # From a range\n",
    "s03 = pd.Series({'a': 1, 'b': 2, 'c': 3, \n",
    "                 'd': 4, 'e': 5}) # From a dict\n",
    "s05 = pd.Series(np.array([1,2,3,4,5])) # From an nparray"
   ]
  },
  {
   "cell_type": "markdown",
   "metadata": {},
   "source": [
    "### `DataFrame`"
   ]
  },
  {
   "cell_type": "code",
   "execution_count": 3,
   "metadata": {
    "ExecuteTime": {
     "end_time": "2020-07-06T17:15:13.867897Z",
     "start_time": "2020-07-06T17:15:13.859383Z"
    }
   },
   "outputs": [],
   "source": [
    "d01 = pd.Series([1,2,3,4,5]) # From a list"
   ]
  },
  {
   "cell_type": "markdown",
   "metadata": {},
   "source": [
    "## Manipulation\n",
    "\n",
    "### `Series`"
   ]
  },
  {
   "cell_type": "code",
   "execution_count": 4,
   "metadata": {
    "ExecuteTime": {
     "end_time": "2020-07-06T17:15:13.903170Z",
     "start_time": "2020-07-06T17:15:13.871903Z"
    }
   },
   "outputs": [
    {
     "name": "stdout",
     "output_type": "stream",
     "text": [
      "0    1.0\n",
      "1    2.0\n",
      "2    3.0\n",
      "3    4.0\n",
      "4    5.0\n",
      "dtype: float64\n"
     ]
    }
   ],
   "source": [
    "s01 = pd.Series([1,2,3,4,5])\n",
    "print(s01.astype(np.float64)) # Convert datatypes for every element"
   ]
  },
  {
   "cell_type": "code",
   "execution_count": 5,
   "metadata": {
    "ExecuteTime": {
     "end_time": "2020-07-06T17:15:13.916219Z",
     "start_time": "2020-07-06T17:15:13.909290Z"
    }
   },
   "outputs": [
    {
     "name": "stdout",
     "output_type": "stream",
     "text": [
      "[1, 2, 3, 4, 5]\n",
      "[1 2 3 4 5]\n"
     ]
    }
   ],
   "source": [
    "s01 = pd.Series([1,2,3,4,5])\n",
    "print(s01.tolist()) # Convert to Python list\n",
    "print(s01.values) # Convert to numpy array"
   ]
  },
  {
   "cell_type": "markdown",
   "metadata": {},
   "source": [
    "## Retrieval & Slicing\n",
    "\n",
    "### `Series`"
   ]
  },
  {
   "cell_type": "code",
   "execution_count": 6,
   "metadata": {
    "ExecuteTime": {
     "end_time": "2020-07-06T17:15:13.929987Z",
     "start_time": "2020-07-06T17:15:13.921192Z"
    }
   },
   "outputs": [
    {
     "name": "stdout",
     "output_type": "stream",
     "text": [
      "Index(['a', 'b', 'c', 'd', 'e'], dtype='object')\n"
     ]
    }
   ],
   "source": [
    "s03 = pd.Series([1,2,3,4,5], index=['a', 'b', 'c', 'd', 'e'])\n",
    "print(s03.index) # Retrieve index from Series"
   ]
  },
  {
   "cell_type": "code",
   "execution_count": 7,
   "metadata": {
    "ExecuteTime": {
     "end_time": "2020-07-06T17:15:13.942651Z",
     "start_time": "2020-07-06T17:15:13.933387Z"
    }
   },
   "outputs": [
    {
     "name": "stdout",
     "output_type": "stream",
     "text": [
      "1\n",
      "2\n"
     ]
    }
   ],
   "source": [
    "print(s03.loc['a']) # loc: retrieval by index\n",
    "print(s03.iloc[1]) # iloc: retrieval by positional index"
   ]
  },
  {
   "cell_type": "code",
   "execution_count": 8,
   "metadata": {
    "ExecuteTime": {
     "end_time": "2020-07-06T17:15:13.963454Z",
     "start_time": "2020-07-06T17:15:13.947734Z"
    }
   },
   "outputs": [
    {
     "name": "stdout",
     "output_type": "stream",
     "text": [
      "2\n",
      "b    2\n",
      "c    3\n",
      "dtype: int64\n",
      "b    2\n",
      "e    5\n",
      "dtype: int64\n",
      "d    4\n",
      "e    5\n",
      "dtype: int64\n"
     ]
    }
   ],
   "source": [
    "s03 = pd.Series([1,2,3,4,5], index=['a', 'b', 'c', 'd', 'e'])\n",
    "print(s03[1]) # Retrieve 1 value (as numpy dtype)\n",
    "print(s03[1:3]) # Retrieve multiple values with range (as numpy array)\n",
    "print(s03[[1,4]]) # Retrieve multiple values with list of indices (as numpy array)\n",
    "print(s03[['d', 'e']]) # Retrieve multiple values using indices"
   ]
  },
  {
   "cell_type": "markdown",
   "metadata": {},
   "source": [
    "## Conditionals & Filtering"
   ]
  },
  {
   "cell_type": "code",
   "execution_count": 9,
   "metadata": {
    "ExecuteTime": {
     "end_time": "2020-07-06T17:15:13.979813Z",
     "start_time": "2020-07-06T17:15:13.969043Z"
    }
   },
   "outputs": [
    {
     "name": "stdout",
     "output_type": "stream",
     "text": [
      "a    False\n",
      "b     True\n",
      "c     True\n",
      "d     True\n",
      "e     True\n",
      "dtype: bool\n",
      "a    False\n",
      "b    False\n",
      "c     True\n",
      "d     True\n",
      "e    False\n",
      "dtype: bool\n"
     ]
    }
   ],
   "source": [
    "s03 = pd.Series([1,2,3,4,5], index=['a', 'b', 'c', 'd', 'e'])\n",
    "print(s03>1) # Apply conditional to a Series\n",
    "print((s03>2) & (s03<=4)) # Apply multiple conditionals to a Series"
   ]
  },
  {
   "cell_type": "code",
   "execution_count": 10,
   "metadata": {
    "ExecuteTime": {
     "end_time": "2020-07-06T17:15:13.994570Z",
     "start_time": "2020-07-06T17:15:13.984336Z"
    }
   },
   "outputs": [
    {
     "name": "stdout",
     "output_type": "stream",
     "text": [
      "b    2\n",
      "c    3\n",
      "d    4\n",
      "dtype: int64\n"
     ]
    }
   ],
   "source": [
    "s03 = pd.Series([1,2,3,4,5], index=['a', 'b', 'c', 'd', 'e'])\n",
    "print(s03[(s03>1) & (s03<=4)]) # Filter using conditionals"
   ]
  },
  {
   "cell_type": "markdown",
   "metadata": {},
   "source": [
    "## Functions & Transformations"
   ]
  },
  {
   "cell_type": "code",
   "execution_count": 11,
   "metadata": {
    "ExecuteTime": {
     "end_time": "2020-07-06T17:15:14.009867Z",
     "start_time": "2020-07-06T17:15:13.997581Z"
    }
   },
   "outputs": [
    {
     "name": "stdout",
     "output_type": "stream",
     "text": [
      "a    0.000000\n",
      "b    0.693147\n",
      "c    1.098612\n",
      "d    1.386294\n",
      "e    1.609438\n",
      "dtype: float64\n",
      "a      2.718282\n",
      "b      7.389056\n",
      "c     20.085537\n",
      "d     54.598150\n",
      "e    148.413159\n",
      "dtype: float64\n"
     ]
    }
   ],
   "source": [
    "s03 = pd.Series([1,2,3,4,5], index=['a', 'b', 'c', 'd', 'e'])\n",
    "print(s03.apply(np.log)) # Using apply with np functions\n",
    "print(s03.apply(np.exp))"
   ]
  },
  {
   "cell_type": "code",
   "execution_count": 12,
   "metadata": {
    "ExecuteTime": {
     "end_time": "2020-07-06T17:15:14.025451Z",
     "start_time": "2020-07-06T17:15:14.012620Z"
    }
   },
   "outputs": [
    {
     "name": "stdout",
     "output_type": "stream",
     "text": [
      "a    one\n",
      "b    two\n",
      "c    NaN\n",
      "d    NaN\n",
      "e    NaN\n",
      "dtype: object\n"
     ]
    }
   ],
   "source": [
    "s03 = pd.Series([1,2,3,4,5], index=['a', 'b', 'c', 'd', 'e'])\n",
    "print(s03.map({1: 'one', 2 : 'two'})) # Substitution using map"
   ]
  },
  {
   "cell_type": "code",
   "execution_count": 13,
   "metadata": {
    "ExecuteTime": {
     "end_time": "2020-07-06T17:15:14.043985Z",
     "start_time": "2020-07-06T17:15:14.028581Z"
    }
   },
   "outputs": [
    {
     "name": "stdout",
     "output_type": "stream",
     "text": [
      "a     one\n",
      "b     two\n",
      "c    more\n",
      "d    more\n",
      "e    more\n",
      "dtype: object\n"
     ]
    }
   ],
   "source": [
    "s03 = pd.Series([1,2,3,4,5], index=['a', 'b', 'c', 'd', 'e'])\n",
    "s03.replace({1: 'one', 2 : 'two',}, inplace=True) # Substitution using replace, using dict\n",
    "s03.replace((3,4,5), 'more', inplace=True) # Substitution using replace, using tuple for source\n",
    "print(s03)"
   ]
  },
  {
   "cell_type": "code",
   "execution_count": 14,
   "metadata": {
    "ExecuteTime": {
     "end_time": "2020-07-06T17:15:14.062822Z",
     "start_time": "2020-07-06T17:15:14.048071Z"
    }
   },
   "outputs": [
    {
     "name": "stdout",
     "output_type": "stream",
     "text": [
      "a    1\n",
      "b    0\n",
      "c    1\n",
      "d    4\n",
      "e    9\n",
      "dtype: int64\n"
     ]
    }
   ],
   "source": [
    "s03 = pd.Series([1,2,3,4,5], index=['a', 'b', 'c', 'd', 'e'])\n",
    "print(s03.apply(lambda x : (x-2)**2)) # Translation using apply, on a lambda function"
   ]
  },
  {
   "cell_type": "code",
   "execution_count": 15,
   "metadata": {
    "ExecuteTime": {
     "end_time": "2020-07-06T17:15:14.078999Z",
     "start_time": "2020-07-06T17:15:14.068782Z"
    }
   },
   "outputs": [
    {
     "name": "stdout",
     "output_type": "stream",
     "text": [
      "a     0\n",
      "b     4\n",
      "c     0\n",
      "d    16\n",
      "e     0\n",
      "dtype: int64\n"
     ]
    }
   ],
   "source": [
    "def f1(x):\n",
    "    if x%2==0:\n",
    "        return x**2\n",
    "    return 0\n",
    "s03 = pd.Series([1,2,3,4,5], index=['a', 'b', 'c', 'd', 'e'])\n",
    "print(s03.apply(f1)) # Translation using apply, on a regular function"
   ]
  },
  {
   "cell_type": "code",
   "execution_count": 16,
   "metadata": {
    "ExecuteTime": {
     "end_time": "2020-07-06T17:15:14.099726Z",
     "start_time": "2020-07-06T17:15:14.082765Z"
    }
   },
   "outputs": [
    {
     "name": "stdout",
     "output_type": "stream",
     "text": [
      "0       CAFE REVIEWS\n",
      "1    CHEF INTERVIEWS\n",
      "2            CHINESE\n",
      "3         CHOPEDEALS\n",
      "4           DESSERTS\n",
      "5          FAST FOOD\n",
      "6       FOOD BY AREA\n",
      "7     FOOD BY THEMES\n",
      "8        FOOD GUIDES\n",
      "dtype: object\n",
      "0       cafe reviews\n",
      "1    chef interviews\n",
      "2            chinese\n",
      "3         chopedeals\n",
      "4           desserts\n",
      "5          fast food\n",
      "6       food by area\n",
      "7     food by themes\n",
      "8        food guides\n",
      "dtype: object\n",
      "0       [Caf,  R, vi, ws]\n",
      "1    [Ch, f Int, rvi, ws]\n",
      "2             [Chin, s, ]\n",
      "3          [Chop, D, als]\n",
      "4            [D, ss, rts]\n",
      "5             [Fast Food]\n",
      "6         [Food By Ar, a]\n",
      "7      [Food By Th, m, s]\n",
      "8          [Food Guid, s]\n",
      "dtype: object\n"
     ]
    }
   ],
   "source": [
    "s07 = pd.Series(['Cafe Reviews','Chef Interviews','Chinese', 'ChopeDeals','Desserts','Fast Food', 'Food By Area','Food By Themes','Food Guides',])\n",
    "print(s07.str.upper()) # Convert to upper case\n",
    "print(s07.str.lower()) # Convert to lower case\n",
    "print(s07.str.split('e')) # Split by characters"
   ]
  },
  {
   "cell_type": "code",
   "execution_count": 17,
   "metadata": {
    "ExecuteTime": {
     "end_time": "2020-07-06T17:15:14.117668Z",
     "start_time": "2020-07-06T17:15:14.103987Z"
    }
   },
   "outputs": [
    {
     "name": "stdout",
     "output_type": "stream",
     "text": [
      "0    False\n",
      "1    False\n",
      "2    False\n",
      "3    False\n",
      "4    False\n",
      "5    False\n",
      "6     True\n",
      "7     True\n",
      "8     True\n",
      "dtype: bool\n",
      "0    False\n",
      "1    False\n",
      "2    False\n",
      "3    False\n",
      "4    False\n",
      "5    False\n",
      "6     True\n",
      "7     True\n",
      "8     True\n",
      "dtype: bool\n",
      "0       Cafe Reviews\n",
      "1    Chef Interviews\n",
      "2            Chinese\n",
      "3         ChopeDeals\n",
      "4           Desserts\n",
      "5          Fast Food\n",
      "6         fd By Area\n",
      "7       fd By Themes\n",
      "8          fd Guides\n",
      "dtype: object\n"
     ]
    }
   ],
   "source": [
    "s07 = pd.Series(['Cafe Reviews','Chef Interviews','Chinese', 'ChopeDeals','Desserts','Fast Food', 'Food By Area','Food By Themes','Food Guides',])\n",
    "freg = re.compile('Food\\s')\n",
    "print(s07.str.match(freg)) # similar to re.match\n",
    "print(s07.str.contains(freg)) # similar to re.search\n",
    "print(s07.str.replace(freg, 'fd ')) # similar to re.sub"
   ]
  },
  {
   "cell_type": "code",
   "execution_count": 18,
   "metadata": {
    "ExecuteTime": {
     "end_time": "2020-07-06T17:15:14.133921Z",
     "start_time": "2020-07-06T17:15:14.122347Z"
    }
   },
   "outputs": [
    {
     "name": "stdout",
     "output_type": "stream",
     "text": [
      "0       [Cafe]\n",
      "1       [Chef]\n",
      "2    [Chinese]\n",
      "3      [Chope]\n",
      "4           []\n",
      "5           []\n",
      "6           []\n",
      "7           []\n",
      "8           []\n",
      "dtype: object\n"
     ]
    }
   ],
   "source": [
    "s07 = pd.Series(['Cafe Reviews','Chef Interviews','Chinese', 'ChopeDeals','Desserts','Fast Food', 'Food By Area','Food By Themes','Food Guides',])\n",
    "creg = re.compile('C[a-z]{3,}')\n",
    "print(s07.str.findall(creg)) # similar to re.findall"
   ]
  },
  {
   "cell_type": "markdown",
   "metadata": {},
   "source": [
    "## Removal of Elements"
   ]
  },
  {
   "cell_type": "code",
   "execution_count": 19,
   "metadata": {
    "ExecuteTime": {
     "end_time": "2020-07-06T17:15:14.154283Z",
     "start_time": "2020-07-06T17:15:14.138192Z"
    }
   },
   "outputs": [
    {
     "name": "stdout",
     "output_type": "stream",
     "text": [
      "5         Fast Food\n",
      "6      Food By Area\n",
      "7    Food By Themes\n",
      "8       Food Guides\n",
      "dtype: object\n",
      "7    Food By Themes\n",
      "8       Food Guides\n",
      "dtype: object\n"
     ]
    }
   ],
   "source": [
    "s07 = pd.Series(['Cafe Reviews','Chef Interviews','Chinese', 'ChopeDeals','Desserts','Fast Food', 'Food By Area','Food By Themes','Food Guides',])\n",
    "print(s07.drop(labels=[0,1,2,3,4])) # Removal by index\n",
    "print(s07.drop(labels=s07.index[0:7])) # Removal by index range"
   ]
  },
  {
   "cell_type": "code",
   "execution_count": 20,
   "metadata": {
    "ExecuteTime": {
     "end_time": "2020-07-06T17:15:14.171641Z",
     "start_time": "2020-07-06T17:15:14.156862Z"
    }
   },
   "outputs": [
    {
     "name": "stdout",
     "output_type": "stream",
     "text": [
      "a    1\n",
      "b    2\n",
      "c    3\n",
      "dtype: int64\n",
      "b    2\n",
      "d    4\n",
      "dtype: int64\n"
     ]
    }
   ],
   "source": [
    "s03 = pd.Series([1,2,3,4,5], index=['a', 'b', 'c', 'd', 'e'])\n",
    "print(s03.drop(s03[s03>3].index)) # Removal by condition\n",
    "print(s03.drop(s03[s03.isin([1,3,5])].index)) # Removal by condition (with isin)"
   ]
  },
  {
   "cell_type": "markdown",
   "metadata": {},
   "source": [
    "## Checking for & Handling Null Values"
   ]
  },
  {
   "cell_type": "code",
   "execution_count": 21,
   "metadata": {
    "ExecuteTime": {
     "end_time": "2020-07-06T17:15:14.201758Z",
     "start_time": "2020-07-06T17:15:14.177140Z"
    }
   },
   "outputs": [
    {
     "name": "stdout",
     "output_type": "stream",
     "text": [
      "0    False\n",
      "1    False\n",
      "2     True\n",
      "3    False\n",
      "4    False\n",
      "dtype: bool\n",
      "0     True\n",
      "1     True\n",
      "2    False\n",
      "3     True\n",
      "4     True\n",
      "dtype: bool\n"
     ]
    }
   ],
   "source": [
    "s06 = pd.Series([1,2,None,4,5])\n",
    "print(s06.isnull())  # Check for null\n",
    "print(s06.notnull()) # Check for filled"
   ]
  },
  {
   "cell_type": "code",
   "execution_count": 22,
   "metadata": {
    "ExecuteTime": {
     "end_time": "2020-07-06T17:15:14.217801Z",
     "start_time": "2020-07-06T17:15:14.205389Z"
    }
   },
   "outputs": [
    {
     "name": "stdout",
     "output_type": "stream",
     "text": [
      "0    1.0\n",
      "1    2.0\n",
      "3    4.0\n",
      "4    5.0\n",
      "dtype: float64\n"
     ]
    }
   ],
   "source": [
    "s06 = pd.Series([1,2,None,4,5])\n",
    "print(s06.dropna()) # Remove null"
   ]
  },
  {
   "cell_type": "code",
   "execution_count": 23,
   "metadata": {
    "ExecuteTime": {
     "end_time": "2020-07-06T17:15:14.245496Z",
     "start_time": "2020-07-06T17:15:14.227473Z"
    }
   },
   "outputs": [
    {
     "name": "stdout",
     "output_type": "stream",
     "text": [
      "0    1.0\n",
      "1    2.0\n",
      "2    2.0\n",
      "3    4.0\n",
      "dtype: float64\n",
      "0    1.0\n",
      "1    2.0\n",
      "2    4.0\n",
      "3    4.0\n",
      "dtype: float64\n",
      "0    1.0\n",
      "1    2.0\n",
      "2    3.0\n",
      "3    4.0\n",
      "dtype: float64\n"
     ]
    }
   ],
   "source": [
    "s06 = pd.Series([1,2,None,4])\n",
    "print(s06.fillna(method='ffill')) # fillna using previous value\n",
    "print(s06.fillna(method='bfill')) # fillna using last value\n",
    "print(s06.interpolate()) # fillna using mean of 2 values"
   ]
  },
  {
   "cell_type": "code",
   "execution_count": 24,
   "metadata": {
    "ExecuteTime": {
     "end_time": "2020-07-06T17:15:14.264729Z",
     "start_time": "2020-07-06T17:15:14.250610Z"
    }
   },
   "outputs": [
    {
     "name": "stdout",
     "output_type": "stream",
     "text": [
      "0     1.0\n",
      "1     4.0\n",
      "2     9.0\n",
      "3    17.5\n",
      "4    26.0\n",
      "dtype: float64\n"
     ]
    }
   ],
   "source": [
    "s08 = pd.Series([1.,4.,9.,None,26])\n",
    "print(s08.interpolate(order=2)) # Interpolate using a function"
   ]
  },
  {
   "cell_type": "code",
   "execution_count": 25,
   "metadata": {
    "ExecuteTime": {
     "end_time": "2020-07-06T17:15:14.280593Z",
     "start_time": "2020-07-06T17:15:14.269709Z"
    }
   },
   "outputs": [
    {
     "data": {
      "text/plain": [
       "0     1.0\n",
       "1     5.0\n",
       "2    14.0\n",
       "3    30.0\n",
       "4    55.0\n",
       "dtype: float64"
      ]
     },
     "execution_count": 25,
     "metadata": {},
     "output_type": "execute_result"
    }
   ],
   "source": [
    "s08 = pd.Series([1.,4.,9.,16.,25.])\n",
    "s08.cumsum() # Cumulative Sum, traversing downwards"
   ]
  },
  {
   "cell_type": "markdown",
   "metadata": {},
   "source": [
    "## Analytics"
   ]
  },
  {
   "cell_type": "code",
   "execution_count": 26,
   "metadata": {
    "ExecuteTime": {
     "end_time": "2020-07-06T17:15:14.298193Z",
     "start_time": "2020-07-06T17:15:14.283925Z"
    }
   },
   "outputs": [
    {
     "name": "stdout",
     "output_type": "stream",
     "text": [
      "11.5\n",
      "9.583333333333334\n",
      "10.287937921015399\n",
      "105.84166666666665\n",
      "0.8909473036017009\n",
      "-0.5389834415128174\n"
     ]
    }
   ],
   "source": [
    "s08 = pd.Series([4, 9, 17.5, None, 1, 26])\n",
    "print(s08.mean()) # mean, does not take into account none\n",
    "print(s08.fillna(0).mean()) # To use mean, fillna first\n",
    "print(s08.fillna(0).std()) # standard deviation\n",
    "print(s08.fillna(0).var()) # variance\n",
    "print(s08.fillna(0).skew()) # skewness. symmetrical: 0, > 0: right-tail; <0: left-tail\n",
    "print(s08.fillna(0).kurt()) # kurtosis"
   ]
  },
  {
   "cell_type": "code",
   "execution_count": 27,
   "metadata": {
    "ExecuteTime": {
     "end_time": "2020-07-06T17:15:14.311520Z",
     "start_time": "2020-07-06T17:15:14.301069Z"
    }
   },
   "outputs": [
    {
     "name": "stdout",
     "output_type": "stream",
     "text": [
      "1.0\n",
      "4\n",
      "26.0\n",
      "5\n"
     ]
    }
   ],
   "source": [
    "s08 = pd.Series([4, 9, 17.5, None, 1, 26])\n",
    "print(s08.min()) # min\n",
    "print(s08.idxmin())# index of min value\n",
    "print(s08.max())# max\n",
    "print(s08.idxmax())# index of max value"
   ]
  },
  {
   "cell_type": "code",
   "execution_count": 28,
   "metadata": {
    "ExecuteTime": {
     "end_time": "2020-07-06T17:15:14.327821Z",
     "start_time": "2020-07-06T17:15:14.314275Z"
    }
   },
   "outputs": [
    {
     "name": "stdout",
     "output_type": "stream",
     "text": [
      "[3 0 2 5 4 1 6 7]\n",
      "8\n",
      "7     1\n",
      "6     1\n",
      "5     4\n",
      "0    10\n",
      "4    17\n",
      "3    17\n",
      "2    24\n",
      "1    26\n",
      "dtype: int64\n"
     ]
    }
   ],
   "source": [
    "m = pd.Series(np.random.poisson(2,100))\n",
    "print(m.unique()) # No. of unique values\n",
    "print(m.nunique()) # No. of unique values\n",
    "print(m.value_counts().sort_values()) # No. of values & count"
   ]
  },
  {
   "cell_type": "code",
   "execution_count": 29,
   "metadata": {
    "ExecuteTime": {
     "end_time": "2020-07-06T17:15:15.295181Z",
     "start_time": "2020-07-06T17:15:14.331237Z"
    },
    "scrolled": true
   },
   "outputs": [
    {
     "data": {
      "image/png": "[encoded data removed]",
      "text/plain": [
       "<Figure size 432x288 with 1 Axes>"
      ]
     },
     "metadata": {
      "needs_background": "light"
     },
     "output_type": "display_data"
    },
    {
     "name": "stdout",
     "output_type": "stream",
     "text": [
      "0.6952461020767425\n"
     ]
    },
    {
     "data": {
      "image/png": "[encoded data removed]",
      "text/plain": [
       "<Figure size 432x288 with 1 Axes>"
      ]
     },
     "metadata": {
      "needs_background": "light"
     },
     "output_type": "display_data"
    },
    {
     "name": "stdout",
     "output_type": "stream",
     "text": [
      "-0.6952461020767425\n"
     ]
    }
   ],
   "source": [
    "# More on skewness\n",
    "m = pd.Series(np.random.poisson(2,100))\n",
    "sns.distplot(m)\n",
    "plt.show()\n",
    "print(m.skew()) \n",
    "sns.distplot(m*-1)\n",
    "plt.show()\n",
    "print((m*-1).skew())"
   ]
  },
  {
   "cell_type": "markdown",
   "metadata": {},
   "source": [
    "## Feature Engineering"
   ]
  },
  {
   "cell_type": "code",
   "execution_count": 30,
   "metadata": {
    "ExecuteTime": {
     "end_time": "2020-07-06T17:15:15.322141Z",
     "start_time": "2020-07-06T17:15:15.300474Z"
    }
   },
   "outputs": [
    {
     "data": {
      "text/html": [
       "<div>\n",
       "<style scoped>\n",
       "    .dataframe tbody tr th:only-of-type {\n",
       "        vertical-align: middle;\n",
       "    }\n",
       "\n",
       "    .dataframe tbody tr th {\n",
       "        vertical-align: top;\n",
       "    }\n",
       "\n",
       "    .dataframe thead th {\n",
       "        text-align: right;\n",
       "    }\n",
       "</style>\n",
       "<table border=\"1\" class=\"dataframe\">\n",
       "  <thead>\n",
       "    <tr style=\"text-align: right;\">\n",
       "      <th></th>\n",
       "      <th>1</th>\n",
       "      <th>2</th>\n",
       "      <th>3</th>\n",
       "      <th>4</th>\n",
       "    </tr>\n",
       "  </thead>\n",
       "  <tbody>\n",
       "    <tr>\n",
       "      <th>0</th>\n",
       "      <td>0</td>\n",
       "      <td>0</td>\n",
       "      <td>1</td>\n",
       "      <td>0</td>\n",
       "    </tr>\n",
       "    <tr>\n",
       "      <th>1</th>\n",
       "      <td>1</td>\n",
       "      <td>0</td>\n",
       "      <td>0</td>\n",
       "      <td>0</td>\n",
       "    </tr>\n",
       "    <tr>\n",
       "      <th>2</th>\n",
       "      <td>0</td>\n",
       "      <td>1</td>\n",
       "      <td>0</td>\n",
       "      <td>0</td>\n",
       "    </tr>\n",
       "    <tr>\n",
       "      <th>3</th>\n",
       "      <td>0</td>\n",
       "      <td>0</td>\n",
       "      <td>1</td>\n",
       "      <td>0</td>\n",
       "    </tr>\n",
       "    <tr>\n",
       "      <th>4</th>\n",
       "      <td>0</td>\n",
       "      <td>0</td>\n",
       "      <td>0</td>\n",
       "      <td>1</td>\n",
       "    </tr>\n",
       "    <tr>\n",
       "      <th>5</th>\n",
       "      <td>0</td>\n",
       "      <td>1</td>\n",
       "      <td>0</td>\n",
       "      <td>0</td>\n",
       "    </tr>\n",
       "    <tr>\n",
       "      <th>6</th>\n",
       "      <td>0</td>\n",
       "      <td>0</td>\n",
       "      <td>0</td>\n",
       "      <td>1</td>\n",
       "    </tr>\n",
       "    <tr>\n",
       "      <th>7</th>\n",
       "      <td>0</td>\n",
       "      <td>0</td>\n",
       "      <td>1</td>\n",
       "      <td>0</td>\n",
       "    </tr>\n",
       "  </tbody>\n",
       "</table>\n",
       "</div>"
      ],
      "text/plain": [
       "   1  2  3  4\n",
       "0  0  0  1  0\n",
       "1  1  0  0  0\n",
       "2  0  1  0  0\n",
       "3  0  0  1  0\n",
       "4  0  0  0  1\n",
       "5  0  1  0  0\n",
       "6  0  0  0  1\n",
       "7  0  0  1  0"
      ]
     },
     "metadata": {},
     "output_type": "display_data"
    }
   ],
   "source": [
    "d02 = pd.Series({'1' : [3, 1, 2, 3, 4, 2, 4, 3]})\n",
    "display(pd.get_dummies(d02['1'])) # Transforms variables to dummies"
   ]
  },
  {
   "cell_type": "code",
   "execution_count": 31,
   "metadata": {
    "ExecuteTime": {
     "end_time": "2020-07-06T17:15:15.361672Z",
     "start_time": "2020-07-06T17:15:15.326073Z"
    }
   },
   "outputs": [
    {
     "data": {
      "text/plain": [
       "0     (2.0, 4.0]\n",
       "1            NaN\n",
       "2     (4.0, 6.0]\n",
       "3            NaN\n",
       "4     (2.0, 4.0]\n",
       "5            NaN\n",
       "6     (6.0, 8.0]\n",
       "7     (2.0, 4.0]\n",
       "8     (4.0, 6.0]\n",
       "9     (4.0, 6.0]\n",
       "10    (2.0, 4.0]\n",
       "11           NaN\n",
       "12    (2.0, 4.0]\n",
       "13    (2.0, 4.0]\n",
       "14    (6.0, 8.0]\n",
       "15    (2.0, 4.0]\n",
       "16           NaN\n",
       "17    (2.0, 4.0]\n",
       "18    (2.0, 4.0]\n",
       "19    (2.0, 4.0]\n",
       "20           NaN\n",
       "21    (2.0, 4.0]\n",
       "22    (2.0, 4.0]\n",
       "23    (4.0, 6.0]\n",
       "24    (2.0, 4.0]\n",
       "dtype: category\n",
       "Categories (3, interval[int64]): [(2, 4] < (4, 6] < (6, 8]]"
      ]
     },
     "execution_count": 31,
     "metadata": {},
     "output_type": "execute_result"
    }
   ],
   "source": [
    "s002 = pd.Series([ 3,  2,  5, 12,  4,  1,  7,  3,  5,  5,  4,  2,  3,  4,  7,  3,  2,\n",
    "        4,  4,  4,  2,  3,  3,  6,  3])\n",
    "pd.cut(s002, bins=[2,4,6,8]) # pd cut will create bins artificially created"
   ]
  },
  {
   "cell_type": "code",
   "execution_count": 32,
   "metadata": {
    "ExecuteTime": {
     "end_time": "2020-07-06T17:15:15.416043Z",
     "start_time": "2020-07-06T17:15:15.368093Z"
    }
   },
   "outputs": [
    {
     "name": "stdout",
     "output_type": "stream",
     "text": [
      "(0.868, 0.994]    5\n",
      "(0.616, 0.868]    5\n",
      "(0.21, 0.616]     5\n",
      "(0.105, 0.21]     5\n",
      "dtype: int64\n",
      "(0.772, 0.994]    7\n",
      "(0.105, 0.328]    7\n",
      "(0.55, 0.772]     3\n",
      "(0.328, 0.55]     3\n",
      "dtype: int64\n"
     ]
    }
   ],
   "source": [
    "s002 = pd.Series([0.86797713, 0.75908276, 0.96143675, 0.10618775, 0.74696409, 0.48006726, 0.87618024, 0.10977731, 0.46941696, 0.9935967 ,\n",
    "                  0.28904633, 0.16930982, 0.11785691, 0.50382524, 0.21129336, 0.86812448, 0.20676376, 0.72840533, 0.92333367, 0.80228823])\n",
    "pd.qcut(s002, q=4) # pd qcut will create bins with equal no. of members\n",
    "print(pd.qcut(s002, q=4).value_counts())\n",
    "print(pd.cut(s002, bins=4).value_counts()) # for contrast"
   ]
  },
  {
   "cell_type": "markdown",
   "metadata": {},
   "source": [
    "## Time Series"
   ]
  },
  {
   "cell_type": "code",
   "execution_count": 33,
   "metadata": {
    "ExecuteTime": {
     "end_time": "2020-07-06T17:15:15.424183Z",
     "start_time": "2020-07-06T17:15:15.420072Z"
    }
   },
   "outputs": [],
   "source": [
    "from dateutil.parser import parse\n",
    "from datetime import datetime, date, time"
   ]
  },
  {
   "cell_type": "code",
   "execution_count": 34,
   "metadata": {
    "ExecuteTime": {
     "end_time": "2020-07-06T17:15:15.437938Z",
     "start_time": "2020-07-06T17:15:15.430340Z"
    }
   },
   "outputs": [],
   "source": [
    "x = parse('2020-06-01') # parse a str to dt\n",
    "x = parse('01-06-2020', dayfirst=True) # day is first value"
   ]
  },
  {
   "cell_type": "code",
   "execution_count": 36,
   "metadata": {
    "ExecuteTime": {
     "end_time": "2020-07-06T17:15:24.406233Z",
     "start_time": "2020-07-06T17:15:24.399425Z"
    }
   },
   "outputs": [
    {
     "name": "stdout",
     "output_type": "stream",
     "text": [
      "0   2020-06-01\n",
      "1   2020-06-02\n",
      "dtype: datetime64[ns]\n"
     ]
    }
   ],
   "source": [
    "sts1 = pd.Series(['2020-06-01', '2020-06-02'])\n",
    "sdt1 = pd.to_datetime(sts1) # Converts a Series of str to dtinddex\n",
    "print(sdt1)"
   ]
  },
  {
   "cell_type": "code",
   "execution_count": 37,
   "metadata": {
    "ExecuteTime": {
     "end_time": "2020-07-06T17:15:26.142574Z",
     "start_time": "2020-07-06T17:15:26.136859Z"
    }
   },
   "outputs": [],
   "source": [
    "sts2 = pd.Series([datetime(2020,1,1), datetime(2020,1,2), datetime(2020,1,3)])\n",
    "sts2 = sts2.dt.strftime('%Y-%m-%d') # Converts a Series of dt to str"
   ]
  },
  {
   "cell_type": "code",
   "execution_count": 38,
   "metadata": {
    "ExecuteTime": {
     "end_time": "2020-07-06T17:15:26.376163Z",
     "start_time": "2020-07-06T17:15:26.364775Z"
    }
   },
   "outputs": [
    {
     "name": "stdout",
     "output_type": "stream",
     "text": [
      "DatetimeIndex(['2020-01-01', '2020-01-02', '2020-01-03', '2020-01-04',\n",
      "               '2020-01-05', '2020-01-06', '2020-01-07', '2020-01-08',\n",
      "               '2020-01-09', '2020-01-10', '2020-01-11', '2020-01-12',\n",
      "               '2020-01-13', '2020-01-14', '2020-01-15'],\n",
      "              dtype='datetime64[ns]', freq='D')\n",
      "DatetimeIndex(['2020-01-01', '2020-01-02', '2020-01-03', '2020-01-04',\n",
      "               '2020-01-05', '2020-01-06', '2020-01-07', '2020-01-08',\n",
      "               '2020-01-09', '2020-01-10'],\n",
      "              dtype='datetime64[ns]', freq='D')\n",
      "DatetimeIndex(['2019-12-28', '2019-12-29', '2019-12-30', '2019-12-31',\n",
      "               '2020-01-01'],\n",
      "              dtype='datetime64[ns]', freq='D')\n"
     ]
    }
   ],
   "source": [
    "print(pd.date_range('2020-01-01', '2020-01-15')) # Daily Frequency, by specifying startdate & enddate\n",
    "print(pd.date_range(start='2020-01-01', periods=10)) # Daily Frequency, by specifying # of periods & start\n",
    "print(pd.date_range(end='2020-01-01', periods=5)) # Daily Frequency, by specifying # of periods & end"
   ]
  },
  {
   "cell_type": "code",
   "execution_count": 39,
   "metadata": {
    "ExecuteTime": {
     "end_time": "2020-07-06T17:15:26.483447Z",
     "start_time": "2020-07-06T17:15:26.476506Z"
    }
   },
   "outputs": [
    {
     "name": "stdout",
     "output_type": "stream",
     "text": [
      "['20200706', '20200713', '20200720', '20200727', '20200803']\n"
     ]
    }
   ],
   "source": [
    "sts3 = pd.date_range(start='2020-07-01', periods=5, freq='W-MON') # Daily Frequency, by specifying # of periods & end\n",
    "print(sts3.strftime(date_format='%Y%m%d').tolist()) "
   ]
  },
  {
   "cell_type": "code",
   "execution_count": 40,
   "metadata": {
    "ExecuteTime": {
     "end_time": "2020-07-06T17:15:26.611477Z",
     "start_time": "2020-07-06T17:15:26.602680Z"
    }
   },
   "outputs": [
    {
     "name": "stdout",
     "output_type": "stream",
     "text": [
      "DatetimeIndex(['2020-07-03', '2020-07-04', '2020-07-05', '2020-07-06',\n",
      "               '2020-07-07'],\n",
      "              dtype='datetime64[ns]', freq='D')\n",
      "DatetimeIndex(['2020-06-29', '2020-06-30', '2020-07-01', '2020-07-02',\n",
      "               '2020-07-03'],\n",
      "              dtype='datetime64[ns]', freq='D')\n"
     ]
    }
   ],
   "source": [
    "sts3 = pd.date_range(start='2020-07-01', periods=5)\n",
    "print(sts3.shift(2)) # Shift forward 2 days\n",
    "print(sts3.shift(-2)) # Shift backward 2 days"
   ]
  },
  {
   "cell_type": "code",
   "execution_count": 41,
   "metadata": {
    "ExecuteTime": {
     "end_time": "2020-07-06T17:15:26.712367Z",
     "start_time": "2020-07-06T17:15:26.702355Z"
    }
   },
   "outputs": [
    {
     "name": "stdout",
     "output_type": "stream",
     "text": [
      "DatetimeIndex(['2020-07-01 12:00:00+00:00', '2020-07-02 12:00:00+00:00',\n",
      "               '2020-07-03 12:00:00+00:00', '2020-07-04 12:00:00+00:00',\n",
      "               '2020-07-05 12:00:00+00:00'],\n",
      "              dtype='datetime64[ns, UTC]', freq='D')\n"
     ]
    }
   ],
   "source": [
    "sts3 = pd.date_range(start='2020-07-01 12:00', periods=5)\n",
    "print(sts3.tz_localize('utc')) # Add utc localized time"
   ]
  },
  {
   "cell_type": "code",
   "execution_count": 42,
   "metadata": {
    "ExecuteTime": {
     "end_time": "2020-07-06T17:15:26.859079Z",
     "start_time": "2020-07-06T17:15:26.811133Z"
    }
   },
   "outputs": [
    {
     "data": {
      "text/plain": [
       "DatetimeIndex(['2020-07-01 12:00:00+08:00', '2020-07-02 12:00:00+08:00',\n",
       "               '2020-07-03 12:00:00+08:00', '2020-07-04 12:00:00+08:00',\n",
       "               '2020-07-05 12:00:00+08:00'],\n",
       "              dtype='datetime64[ns, Singapore]', freq='D')"
      ]
     },
     "execution_count": 42,
     "metadata": {},
     "output_type": "execute_result"
    }
   ],
   "source": [
    "sts3 = pd.date_range(start='2020-07-01 04:00', periods=5)\n",
    "sts3 = sts3.tz_localize('utc')\n",
    "sts3 = sts3.tz_convert('Singapore') # Convert to sgp timezone (GMT +8)\n",
    "sts3"
   ]
  },
  {
   "cell_type": "code",
   "execution_count": 43,
   "metadata": {
    "ExecuteTime": {
     "end_time": "2020-07-06T17:15:26.976387Z",
     "start_time": "2020-07-06T17:15:26.954142Z"
    }
   },
   "outputs": [
    {
     "data": {
      "text/plain": [
       "2020-01-31    0.990469\n",
       "2020-02-29    0.999250\n",
       "2020-03-31    0.994181\n",
       "2020-04-30    0.815751\n",
       "Freq: M, dtype: float64"
      ]
     },
     "execution_count": 43,
     "metadata": {},
     "output_type": "execute_result"
    }
   ],
   "source": [
    "sts4 = pd.date_range('2020-01-01', periods=100, freq='d')\n",
    "sts4 = pd.Series(np.random.random(100), index=sts4)\n",
    "sts4 = sts4.resample('M').max() # Resample to periods, with analytics function\n",
    "sts4"
   ]
  },
  {
   "cell_type": "code",
   "execution_count": 44,
   "metadata": {
    "ExecuteTime": {
     "end_time": "2020-07-06T17:15:27.116400Z",
     "start_time": "2020-07-06T17:15:27.100626Z"
    }
   },
   "outputs": [
    {
     "data": {
      "text/plain": [
       "2020-01-01         NaN\n",
       "2020-01-02         NaN\n",
       "2020-01-03         NaN\n",
       "2020-01-04         NaN\n",
       "2020-01-05         NaN\n",
       "                ...   \n",
       "2020-04-05    0.555175\n",
       "2020-04-06    0.557854\n",
       "2020-04-07    0.505557\n",
       "2020-04-08    0.518415\n",
       "2020-04-09    0.584417\n",
       "Freq: D, Length: 100, dtype: float64"
      ]
     },
     "execution_count": 44,
     "metadata": {},
     "output_type": "execute_result"
    }
   ],
   "source": [
    "sts4 = pd.date_range('2020-01-01', periods=100, freq='d')\n",
    "sts4 = pd.Series(np.random.random(100), index=sts4)\n",
    "sts4.rolling(10).mean() # Rolling windows of 10, with mean"
   ]
  },
  {
   "cell_type": "code",
   "execution_count": 45,
   "metadata": {
    "ExecuteTime": {
     "end_time": "2020-07-06T17:15:27.379888Z",
     "start_time": "2020-07-06T17:15:27.364583Z"
    }
   },
   "outputs": [
    {
     "data": {
      "text/plain": [
       "2020-01-01    0.813246\n",
       "2020-01-02    0.785947\n",
       "2020-01-03    0.830134\n",
       "2020-01-04    0.756781\n",
       "2020-01-05    0.748976\n",
       "                ...   \n",
       "2020-04-05    0.543213\n",
       "2020-04-06    0.471447\n",
       "2020-04-07    0.452492\n",
       "2020-04-08    0.503866\n",
       "2020-04-09    0.438396\n",
       "Freq: D, Length: 100, dtype: float64"
      ]
     },
     "execution_count": 45,
     "metadata": {},
     "output_type": "execute_result"
    }
   ],
   "source": [
    "sts4 = pd.date_range('2020-01-01', periods=100, freq='d')\n",
    "sts4 = pd.Series(np.random.random(100), index=sts4)\n",
    "sts4.ewm(span=10).mean() # exp weighted"
   ]
  }
 ],
 "metadata": {
  "kernelspec": {
   "display_name": "Python 3",
   "language": "python",
   "name": "python3"
  },
  "language_info": {
   "codemirror_mode": {
    "name": "ipython",
    "version": 3
   },
   "file_extension": ".py",
   "mimetype": "text/x-python",
   "name": "python",
   "nbconvert_exporter": "python",
   "pygments_lexer": "ipython3",
   "version": "3.7.2"
  }
 },
 "nbformat": 4,
 "nbformat_minor": 4
}
