{
 "cells": [
  {
   "cell_type": "markdown",
   "metadata": {},
   "source": [
    "# Chapter 11 - Time Series"
   ]
  },
  {
   "cell_type": "markdown",
   "metadata": {},
   "source": [
    "## 11.3 - Date Ranges, Frequencies and Shifting"
   ]
  },
  {
   "cell_type": "code",
   "execution_count": 1,
   "metadata": {
    "ExecuteTime": {
     "end_time": "2019-10-09T14:47:21.913261Z",
     "start_time": "2019-10-09T14:47:21.551040Z"
    }
   },
   "outputs": [],
   "source": [
    "import datetime\n",
    "from datetime import datetime as dt\n",
    "import pandas as pd\n",
    "from pandas.tseries.offsets import (Hour, Minute, Day, MonthEnd)\n",
    "import numpy as np\n",
    "\n",
    "from dateutil.parser import parse"
   ]
  },
  {
   "cell_type": "markdown",
   "metadata": {},
   "source": [
    "A time series with irregular periods can be converted to one with regular periods with `resample`."
   ]
  },
  {
   "cell_type": "code",
   "execution_count": 2,
   "metadata": {
    "ExecuteTime": {
     "end_time": "2019-10-09T14:47:21.949857Z",
     "start_time": "2019-10-09T14:47:21.916660Z"
    }
   },
   "outputs": [
    {
     "data": {
      "text/plain": [
       "2019-01-01    0\n",
       "2019-01-03    1\n",
       "2019-01-10    2\n",
       "dtype: int64"
      ]
     },
     "metadata": {},
     "output_type": "display_data"
    }
   ],
   "source": [
    "s1 = pd.Series(range(0,3),\n",
    "               index =[parse('2019-01-01'), parse('2019-01-03'), parse('2019-01-10')])\n",
    "display(s1)"
   ]
  },
  {
   "cell_type": "code",
   "execution_count": 3,
   "metadata": {
    "ExecuteTime": {
     "end_time": "2019-10-09T14:47:21.977684Z",
     "start_time": "2019-10-09T14:47:21.953968Z"
    },
    "scrolled": true
   },
   "outputs": [
    {
     "data": {
      "text/plain": [
       "2019-01-01    0\n",
       "2019-01-02    0\n",
       "2019-01-03    1\n",
       "2019-01-04    0\n",
       "2019-01-05    0\n",
       "2019-01-06    0\n",
       "2019-01-07    0\n",
       "2019-01-08    0\n",
       "2019-01-09    0\n",
       "2019-01-10    2\n",
       "Freq: D, dtype: int64"
      ]
     },
     "execution_count": 3,
     "metadata": {},
     "output_type": "execute_result"
    }
   ],
   "source": [
    "# Instantiate a daily resampler, followed by a function.\n",
    "s1.resample('D').sum()"
   ]
  },
  {
   "cell_type": "markdown",
   "metadata": {},
   "source": [
    "### Generating Date Ranges\n",
    "Use `pd.date_range` to generate a `DateTimeIndex` with a specified length and frequency. Alternatively, use it to generate the number of periods wanted."
   ]
  },
  {
   "cell_type": "code",
   "execution_count": 4,
   "metadata": {
    "ExecuteTime": {
     "end_time": "2019-10-09T14:47:21.997483Z",
     "start_time": "2019-10-09T14:47:21.981425Z"
    },
    "scrolled": true
   },
   "outputs": [
    {
     "data": {
      "text/plain": [
       "DatetimeIndex(['2019-06-01', '2019-06-02', '2019-06-03', '2019-06-04',\n",
       "               '2019-06-05', '2019-06-06', '2019-06-07', '2019-06-08',\n",
       "               '2019-06-09', '2019-06-10', '2019-06-11', '2019-06-12',\n",
       "               '2019-06-13', '2019-06-14', '2019-06-15'],\n",
       "              dtype='datetime64[ns]', freq='D')"
      ]
     },
     "metadata": {},
     "output_type": "display_data"
    },
    {
     "data": {
      "text/plain": [
       "DatetimeIndex(['2018-01-01', '2018-02-01', '2018-03-01', '2018-04-01',\n",
       "               '2018-05-01', '2018-06-01', '2018-07-01', '2018-08-01',\n",
       "               '2018-09-01', '2018-10-01', '2018-11-01', '2018-12-01',\n",
       "               '2019-01-01', '2019-02-01', '2019-03-01', '2019-04-01',\n",
       "               '2019-05-01', '2019-06-01', '2019-07-01', '2019-08-01',\n",
       "               '2019-09-01', '2019-10-01', '2019-11-01', '2019-12-01',\n",
       "               '2020-01-01'],\n",
       "              dtype='datetime64[ns]', freq='MS')"
      ]
     },
     "metadata": {},
     "output_type": "display_data"
    }
   ],
   "source": [
    "# Generate daily date range\n",
    "r1 = pd.date_range('2019-06-01', '2019-06-15')\n",
    "display(r1)\n",
    "\n",
    "# Generate monthly date range. MS is month start while M is month end\n",
    "r2 = pd.date_range('2018-01-01', '2020-01-01', freq='MS')\n",
    "display(r2)"
   ]
  },
  {
   "cell_type": "code",
   "execution_count": 5,
   "metadata": {
    "ExecuteTime": {
     "end_time": "2019-10-09T14:47:22.016042Z",
     "start_time": "2019-10-09T14:47:22.001197Z"
    },
    "scrolled": true
   },
   "outputs": [
    {
     "data": {
      "text/plain": [
       "DatetimeIndex(['2019-12-01', '2019-12-02', '2019-12-03', '2019-12-04',\n",
       "               '2019-12-05', '2019-12-06', '2019-12-07', '2019-12-08',\n",
       "               '2019-12-09', '2019-12-10'],\n",
       "              dtype='datetime64[ns]', freq='D')"
      ]
     },
     "metadata": {},
     "output_type": "display_data"
    },
    {
     "data": {
      "text/plain": [
       "DatetimeIndex(['2018-01-31', '2018-02-28', '2018-03-31'], dtype='datetime64[ns]', freq='M')"
      ]
     },
     "metadata": {},
     "output_type": "display_data"
    }
   ],
   "source": [
    "# Generate daily date range\n",
    "r3 = pd.date_range('2019-12-01', freq='D', periods=10)\n",
    "display(r3)\n",
    "\n",
    "# Generate monthly date range. MS is month start while M is month end\n",
    "r4 = pd.date_range('2018-01-01', freq='M', periods=3)\n",
    "display(r4)"
   ]
  },
  {
   "cell_type": "markdown",
   "metadata": {},
   "source": [
    "### Frequencies and Date Offsets\n",
    "Frequencies are composed of a base frequency (time unit) and multipler."
   ]
  },
  {
   "cell_type": "code",
   "execution_count": 6,
   "metadata": {
    "ExecuteTime": {
     "end_time": "2019-10-09T14:47:22.035030Z",
     "start_time": "2019-10-09T14:47:22.020202Z"
    },
    "scrolled": true
   },
   "outputs": [
    {
     "data": {
      "text/plain": [
       "<Hour>"
      ]
     },
     "metadata": {},
     "output_type": "display_data"
    },
    {
     "data": {
      "text/plain": [
       "<4 * Hours>"
      ]
     },
     "metadata": {},
     "output_type": "display_data"
    },
    {
     "data": {
      "text/plain": [
       "<Minute>"
      ]
     },
     "metadata": {},
     "output_type": "display_data"
    },
    {
     "data": {
      "text/plain": [
       "<30 * Minutes>"
      ]
     },
     "metadata": {},
     "output_type": "display_data"
    }
   ],
   "source": [
    "# Hourly frequency can be represented by the Hour class\n",
    "h = Hour()\n",
    "display(h)\n",
    "h4 = Hour(4)\n",
    "display(h4)\n",
    "\n",
    "# Minute frequency can be represented by the Minute class\n",
    "m = Minute()\n",
    "display(m)\n",
    "m30 = Minute(30)\n",
    "display(m30)"
   ]
  },
  {
   "cell_type": "code",
   "execution_count": 7,
   "metadata": {
    "ExecuteTime": {
     "end_time": "2019-10-09T14:47:22.045398Z",
     "start_time": "2019-10-09T14:47:22.038070Z"
    }
   },
   "outputs": [
    {
     "data": {
      "text/plain": [
       "<90 * Minutes>"
      ]
     },
     "metadata": {},
     "output_type": "display_data"
    }
   ],
   "source": [
    "# Add frequencies to get a longer frequency\n",
    "# Movie length is 90 minutes\n",
    "mlength = Hour(1) + Minute(30)\n",
    "display(mlength)"
   ]
  },
  {
   "cell_type": "markdown",
   "metadata": {},
   "source": [
    "Most of the time, the frequency can be represented by such an expression."
   ]
  },
  {
   "cell_type": "code",
   "execution_count": 8,
   "metadata": {
    "ExecuteTime": {
     "end_time": "2019-10-09T14:47:22.057811Z",
     "start_time": "2019-10-09T14:47:22.048774Z"
    }
   },
   "outputs": [
    {
     "data": {
      "text/plain": [
       "DatetimeIndex(['2019-03-01 00:00:00', '2019-03-01 12:00:00',\n",
       "               '2019-03-02 00:00:00', '2019-03-02 12:00:00',\n",
       "               '2019-03-03 00:00:00'],\n",
       "              dtype='datetime64[ns]', freq='12H')"
      ]
     },
     "metadata": {},
     "output_type": "display_data"
    }
   ],
   "source": [
    "dr1 = pd.date_range('2019-03-01 00:00:00', freq='12h', periods=5)\n",
    "display(dr1)"
   ]
  },
  {
   "cell_type": "markdown",
   "metadata": {},
   "source": [
    "### Shifting (Leading and Lagging) Data\n",
    "\"Shifting\" is moving data backwards or forwards through time."
   ]
  },
  {
   "cell_type": "code",
   "execution_count": 9,
   "metadata": {
    "ExecuteTime": {
     "end_time": "2019-10-09T14:47:22.074070Z",
     "start_time": "2019-10-09T14:47:22.061364Z"
    }
   },
   "outputs": [
    {
     "data": {
      "text/plain": [
       "DatetimeIndex(['2019-02-03', '2019-02-04', '2019-02-05', '2019-02-06',\n",
       "               '2019-02-07'],\n",
       "              dtype='datetime64[ns]', freq='D')"
      ]
     },
     "metadata": {},
     "output_type": "display_data"
    },
    {
     "data": {
      "text/plain": [
       "DatetimeIndex(['2019-02-06', '2019-02-07', '2019-02-08', '2019-02-09',\n",
       "               '2019-02-10'],\n",
       "              dtype='datetime64[ns]', freq='D')"
      ]
     },
     "metadata": {},
     "output_type": "display_data"
    }
   ],
   "source": [
    "dr2 = pd.date_range('2019-02-03', freq='D', periods=5)\n",
    "display(dr2)\n",
    "\n",
    "# Shifting 3 means shift the index 3 days forward\n",
    "display(dr2.shift(3))"
   ]
  },
  {
   "cell_type": "code",
   "execution_count": 10,
   "metadata": {
    "ExecuteTime": {
     "end_time": "2019-10-09T14:47:22.148280Z",
     "start_time": "2019-10-09T14:47:22.077982Z"
    }
   },
   "outputs": [
    {
     "data": {
      "text/plain": [
       "Date\n",
       "2017-01-03    2.96\n",
       "2017-01-04    2.98\n",
       "2017-01-05    3.01\n",
       "2017-01-06    3.03\n",
       "2017-01-09    3.03\n",
       "Name: Close, dtype: float64"
      ]
     },
     "metadata": {},
     "output_type": "display_data"
    },
    {
     "data": {
      "text/plain": [
       "Date\n",
       "2019-04-24    3.365\n",
       "2019-04-25    3.360\n",
       "2019-04-26    3.362\n",
       "2019-04-29    3.410\n",
       "2019-04-30    3.415\n",
       "Name: Close, dtype: float64"
      ]
     },
     "metadata": {},
     "output_type": "display_data"
    },
    {
     "data": {
      "text/plain": [
       "Date\n",
       "2017-01-03     NaN\n",
       "2017-01-04    2.96\n",
       "2017-01-05    2.98\n",
       "2017-01-06    3.01\n",
       "2017-01-09    3.03\n",
       "Name: Close, dtype: float64"
      ]
     },
     "metadata": {},
     "output_type": "display_data"
    }
   ],
   "source": [
    "df1 = pd.read_csv('dataset-I2-ES3.csv', index_col=0)\n",
    "df1.index = pd.to_datetime(df1.index)\n",
    "p1 = df1['Close']\n",
    "display(p1.head())\n",
    "display(p1.tail())\n",
    "# However, shift here means moving the values 1 row down while preserving the index.\n",
    "display(p1.shift(1).head())"
   ]
  },
  {
   "cell_type": "code",
   "execution_count": 11,
   "metadata": {
    "ExecuteTime": {
     "end_time": "2019-10-09T14:47:22.174508Z",
     "start_time": "2019-10-09T14:47:22.150602Z"
    }
   },
   "outputs": [
    {
     "data": {
      "text/plain": [
       "Date\n",
       "2017-01-13    2.960\n",
       "2017-01-14    2.980\n",
       "2017-01-15    3.010\n",
       "2017-01-16    3.030\n",
       "2017-01-19    3.030\n",
       "2017-01-20    3.060\n",
       "2017-01-21    3.060\n",
       "2017-01-22    3.060\n",
       "2017-01-23    3.090\n",
       "2017-01-26    3.070\n",
       "2017-01-27    3.060\n",
       "2017-01-28    3.060\n",
       "2017-01-29    3.070\n",
       "2017-01-30    3.080\n",
       "2017-02-02    3.080\n",
       "2017-02-03    3.090\n",
       "2017-02-04    3.100\n",
       "2017-02-05    3.120\n",
       "2017-02-06    3.120\n",
       "2017-02-10    3.110\n",
       "2017-02-11    3.130\n",
       "2017-02-12    3.050\n",
       "2017-02-13    3.050\n",
       "2017-02-16    3.060\n",
       "2017-02-17    3.080\n",
       "2017-02-18    3.080\n",
       "2017-02-19    3.080\n",
       "2017-02-20    3.120\n",
       "2017-02-23    3.120\n",
       "2017-02-24    3.080\n",
       "              ...  \n",
       "2019-03-29    3.226\n",
       "2019-03-30    3.218\n",
       "2019-03-31    3.222\n",
       "2019-04-01    3.216\n",
       "2019-04-04    3.189\n",
       "2019-04-05    3.207\n",
       "2019-04-06    3.200\n",
       "2019-04-07    3.208\n",
       "2019-04-08    3.215\n",
       "2019-04-11    3.248\n",
       "2019-04-12    3.287\n",
       "2019-04-13    3.315\n",
       "2019-04-14    3.323\n",
       "2019-04-15    3.329\n",
       "2019-04-18    3.317\n",
       "2019-04-19    3.327\n",
       "2019-04-20    3.331\n",
       "2019-04-21    3.330\n",
       "2019-04-22    3.335\n",
       "2019-04-25    3.330\n",
       "2019-04-26    3.337\n",
       "2019-04-27    3.355\n",
       "2019-04-28    3.348\n",
       "2019-05-02    3.361\n",
       "2019-05-03    3.357\n",
       "2019-05-04    3.365\n",
       "2019-05-05    3.360\n",
       "2019-05-06    3.362\n",
       "2019-05-09    3.410\n",
       "2019-05-10    3.415\n",
       "Name: Close, Length: 249, dtype: float64"
      ]
     },
     "execution_count": 11,
     "metadata": {},
     "output_type": "execute_result"
    }
   ],
   "source": [
    "# Other ways to shift data is to move it forward into time. This time, the index\n",
    "# is shifted forward.\n",
    "p1.shift(10, freq='D')"
   ]
  },
  {
   "cell_type": "markdown",
   "metadata": {},
   "source": [
    "`pandas` offsets can also be used with native `dt` objects"
   ]
  },
  {
   "cell_type": "code",
   "execution_count": 12,
   "metadata": {
    "ExecuteTime": {
     "end_time": "2019-10-09T14:47:22.189150Z",
     "start_time": "2019-10-09T14:47:22.177672Z"
    }
   },
   "outputs": [
    {
     "name": "stdout",
     "output_type": "stream",
     "text": [
      "2019-01-01 00:00:00\n",
      "2019-01-01 02:45:00\n"
     ]
    }
   ],
   "source": [
    "datetime1 = dt.strptime('2019-01-01', '%Y-%m-%d')\n",
    "print(datetime1)\n",
    "print(datetime1 + Hour(2) + Minute(45))"
   ]
  },
  {
   "cell_type": "markdown",
   "metadata": {},
   "source": [
    "Think of `MonthEnd` as an anchored offset. It will \"roll forward\" to the next available date based on the frequency rule. (Rolls to next end of month day)"
   ]
  },
  {
   "cell_type": "code",
   "execution_count": 13,
   "metadata": {
    "ExecuteTime": {
     "end_time": "2019-10-09T14:47:22.202503Z",
     "start_time": "2019-10-09T14:47:22.193511Z"
    }
   },
   "outputs": [
    {
     "name": "stdout",
     "output_type": "stream",
     "text": [
      "2019-02-28 00:00:00\n",
      "2019-02-28 00:00:00\n"
     ]
    }
   ],
   "source": [
    "print(datetime1 + MonthEnd(2))\n",
    "\n",
    "# Since it rolls to the next available EOM day, this is the same as the above output\n",
    "print(datetime1 + Day(3) + MonthEnd(2))"
   ]
  },
  {
   "cell_type": "markdown",
   "metadata": {},
   "source": [
    "**References:**\n",
    "\n",
    "Python for Data Analysis, 2nd Edition, McKinney (2017)"
   ]
  }
 ],
 "metadata": {
  "kernelspec": {
   "display_name": "Python 3",
   "language": "python",
   "name": "python3"
  },
  "language_info": {
   "codemirror_mode": {
    "name": "ipython",
    "version": 3
   },
   "file_extension": ".py",
   "mimetype": "text/x-python",
   "name": "python",
   "nbconvert_exporter": "python",
   "pygments_lexer": "ipython3",
   "version": "3.6.5"
  }
 },
 "nbformat": 4,
 "nbformat_minor": 2
}
