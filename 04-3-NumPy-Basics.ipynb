{
 "cells": [
  {
   "cell_type": "markdown",
   "metadata": {},
   "source": [
    "# Chapter 4 - NumPy Basics: Arrays and Vectorized Computation"
   ]
  },
  {
   "cell_type": "markdown",
   "metadata": {},
   "source": [
    "## 4.3 Array-Oriented Programming with Arrays"
   ]
  },
  {
   "cell_type": "code",
   "execution_count": 1,
   "metadata": {
    "ExecuteTime": {
     "end_time": "2019-06-24T15:17:15.280962Z",
     "start_time": "2019-06-24T15:17:15.152186Z"
    }
   },
   "outputs": [],
   "source": [
    "import numpy as np"
   ]
  },
  {
   "cell_type": "markdown",
   "metadata": {},
   "source": [
    "### Expressing Conditional Logic as Array Operations\n",
    "\n",
    "Suppose there are 3 arrays. Take a value from `i` if the entry for `is_valid` is `True`, take from `j` if the entry for `is_valid` is `False`."
   ]
  },
  {
   "cell_type": "code",
   "execution_count": 2,
   "metadata": {
    "ExecuteTime": {
     "end_time": "2019-06-24T15:17:15.291669Z",
     "start_time": "2019-06-24T15:17:15.283255Z"
    }
   },
   "outputs": [],
   "source": [
    "i = np.array([309, 230, 143, 447, 231, 123, 198, 496])\n",
    "j = np.array([25, 25, 35, 20, 30, 35, 45, 20])\n",
    "is_valid = np.array([False, False, False,  True,  True, False,  True, False])"
   ]
  },
  {
   "cell_type": "code",
   "execution_count": 3,
   "metadata": {
    "ExecuteTime": {
     "end_time": "2019-06-24T15:17:15.312744Z",
     "start_time": "2019-06-24T15:17:15.295295Z"
    }
   },
   "outputs": [
    {
     "data": {
      "text/plain": [
       "[25, 25, 35, 447, 231, 35, 198, 20]"
      ]
     },
     "execution_count": 3,
     "metadata": {},
     "output_type": "execute_result"
    }
   ],
   "source": [
    "# Method using list comprehension. This is not so fast.\n",
    "result = [entry_i if entry_valid else entry_j for entry_i, entry_j, entry_valid in zip(i, j, is_valid)]\n",
    "result"
   ]
  },
  {
   "cell_type": "markdown",
   "metadata": {},
   "source": [
    "Use `np.where` to create a condition and select the element based on the element."
   ]
  },
  {
   "cell_type": "code",
   "execution_count": 4,
   "metadata": {
    "ExecuteTime": {
     "end_time": "2019-06-24T15:17:15.328595Z",
     "start_time": "2019-06-24T15:17:15.316578Z"
    }
   },
   "outputs": [
    {
     "data": {
      "text/plain": [
       "array([ 25,  25,  35, 447, 231,  35, 198,  20])"
      ]
     },
     "execution_count": 4,
     "metadata": {},
     "output_type": "execute_result"
    }
   ],
   "source": [
    "result2 = np.where(is_valid, i, j)\n",
    "result2"
   ]
  },
  {
   "cell_type": "markdown",
   "metadata": {},
   "source": [
    "Use `np.where()` on a condition with a 2D array."
   ]
  },
  {
   "cell_type": "code",
   "execution_count": 5,
   "metadata": {
    "ExecuteTime": {
     "end_time": "2019-06-24T15:17:15.344299Z",
     "start_time": "2019-06-24T15:17:15.332148Z"
    },
    "scrolled": true
   },
   "outputs": [
    {
     "data": {
      "text/plain": [
       "array([[False, False,  True],\n",
       "       [False,  True, False],\n",
       "       [ True,  True,  True]])"
      ]
     },
     "metadata": {},
     "output_type": "display_data"
    },
    {
     "data": {
      "text/plain": [
       "array([[3, 2, 0],\n",
       "       [2, 0, 1],\n",
       "       [0, 0, 0]])"
      ]
     },
     "metadata": {},
     "output_type": "display_data"
    }
   ],
   "source": [
    "# k = np.random.randint(-5, 3, (3,3))\n",
    "k = np.array([[ 3,  2, -1],\n",
    "              [ 2,  0,  1],\n",
    "              [-1,  0, -3]])\n",
    "# Swap all values that are negative to 0\n",
    "k_is_negative = k <= 0\n",
    "display(k_is_negative)\n",
    "k_positive = np.where(k_is_negative, 0, k)\n",
    "display(k_positive)"
   ]
  },
  {
   "cell_type": "markdown",
   "metadata": {},
   "source": [
    "<hr>\n",
    "### Mathematical and Statistical Methods\n",
    "\n",
    "**`np.sum()`** function for arrays"
   ]
  },
  {
   "cell_type": "code",
   "execution_count": 6,
   "metadata": {
    "ExecuteTime": {
     "end_time": "2019-06-24T15:17:15.362099Z",
     "start_time": "2019-06-24T15:17:15.348295Z"
    }
   },
   "outputs": [
    {
     "data": {
      "text/plain": [
       "array([ 9, 12, 12])"
      ]
     },
     "metadata": {},
     "output_type": "display_data"
    },
    {
     "data": {
      "text/plain": [
       "array([ 6,  9, 10,  8])"
      ]
     },
     "metadata": {},
     "output_type": "display_data"
    }
   ],
   "source": [
    "# s = np.random.randint(1, 6, (3,4))\n",
    "s = np.array([[3, 2, 2, 2],\n",
    "              [1, 5, 5, 1],\n",
    "              [2, 2, 3, 5]])\n",
    "# np.sum(arr) gets the sum of all values.\n",
    "#\n",
    "# np.sum(arr, 0) and np.sum(arr, 1) gets the sum of all columns, and rows respectively\n",
    "display(np.sum(s, 1))\n",
    "display(np.sum(s, 0))"
   ]
  },
  {
   "cell_type": "markdown",
   "metadata": {},
   "source": [
    "**`np.mean()`** function for arrays"
   ]
  },
  {
   "cell_type": "code",
   "execution_count": 7,
   "metadata": {
    "ExecuteTime": {
     "end_time": "2019-06-24T15:17:15.401433Z",
     "start_time": "2019-06-24T15:17:15.366289Z"
    }
   },
   "outputs": [
    {
     "name": "stdout",
     "output_type": "stream",
     "text": [
      "7.2\n",
      "\n"
     ]
    },
    {
     "data": {
      "text/plain": [
       "array([8.5, 8. , 6.5, 6. , 7. ])"
      ]
     },
     "metadata": {},
     "output_type": "display_data"
    },
    {
     "name": "stdout",
     "output_type": "stream",
     "text": [
      "[8.5 8.  6.5 6.  7. ]\n",
      "\n"
     ]
    },
    {
     "data": {
      "text/plain": [
       "array([7.2, 7.2])"
      ]
     },
     "metadata": {},
     "output_type": "display_data"
    },
    {
     "name": "stdout",
     "output_type": "stream",
     "text": [
      "[7.2 7.2]\n"
     ]
    }
   ],
   "source": [
    "t = np.random.randint(5, 10, (2,5))\n",
    "t = np.array([[9, 9, 6, 5, 7],\n",
    "              [8, 7, 7, 7, 7]])\n",
    "# Similarly, np.mean(arr) gets the sum of all values.\n",
    "print(np.mean(t))\n",
    "print()\n",
    "# np.mean(arr, 0) and np.mean(arr, 1) gets the mean of all columns, and rows respectively\n",
    "display(np.mean(t, 0))\n",
    "# Going one step further, this is equivalent\n",
    "print(np.sum(t, 0)/np.size(t, 0))\n",
    "print()\n",
    "\n",
    "# Same concept applies for calculation for each row\n",
    "display(np.mean(t, 1))\n",
    "print(np.sum(t, 1)/np.size(t, 1))"
   ]
  },
  {
   "cell_type": "markdown",
   "metadata": {},
   "source": [
    "**`np.cumsum()`** function for arrays"
   ]
  },
  {
   "cell_type": "code",
   "execution_count": 8,
   "metadata": {
    "ExecuteTime": {
     "end_time": "2019-06-24T15:17:15.426064Z",
     "start_time": "2019-06-24T15:17:15.405329Z"
    },
    "scrolled": true
   },
   "outputs": [
    {
     "name": "stdout",
     "output_type": "stream",
     "text": [
      "[ 9 18 24 29 36 44 51 58 65 72]\n",
      "\n"
     ]
    },
    {
     "data": {
      "text/plain": [
       "array([[ 9,  9,  6,  5,  7],\n",
       "       [17, 16, 13, 12, 14]])"
      ]
     },
     "metadata": {},
     "output_type": "display_data"
    },
    {
     "name": "stdout",
     "output_type": "stream",
     "text": [
      "\n"
     ]
    },
    {
     "data": {
      "text/plain": [
       "array([[ 9, 18, 24, 29, 36],\n",
       "       [ 8, 15, 22, 29, 36]])"
      ]
     },
     "metadata": {},
     "output_type": "display_data"
    }
   ],
   "source": [
    "t = np.array([[9, 9, 6, 5, 7],\n",
    "              [8, 7, 7, 7, 7]])\n",
    "print(np.cumsum(t))\n",
    "print()\n",
    "# Returns the cumsum of all terms from left to right, then downwards\n",
    "# In the form of an array the size of (1 x (m*n)) for m rows and n columns\n",
    "\n",
    "# Keeps the dimensions of the array, calculates cumsum traversing each column (operates column-wise)\n",
    "display(np.cumsum(t, axis=0)) \n",
    "print()\n",
    "# Keeps the dimensions of the array, calculates cumsum traversing each row (operates row-wise)\n",
    "display(np.cumsum(t, axis=1)) "
   ]
  },
  {
   "cell_type": "markdown",
   "metadata": {},
   "source": [
    "<hr>\n",
    "### Methods for Boolean Arrays\n",
    "For boolean arrays, `True` is treated as `1` and `False` is treated as `0`."
   ]
  },
  {
   "cell_type": "code",
   "execution_count": 9,
   "metadata": {
    "ExecuteTime": {
     "end_time": "2019-06-24T15:17:15.449454Z",
     "start_time": "2019-06-24T15:17:15.430326Z"
    }
   },
   "outputs": [
    {
     "name": "stdout",
     "output_type": "stream",
     "text": [
      "[[ True False False  True False]\n",
      " [False  True  True  True  True]\n",
      " [False False False  True  True]]\n",
      "8\n"
     ]
    },
    {
     "data": {
      "text/plain": [
       "array([[1, 0, 0, 1, 0],\n",
       "       [0, 1, 1, 1, 1],\n",
       "       [0, 0, 0, 1, 1]])"
      ]
     },
     "metadata": {},
     "output_type": "display_data"
    }
   ],
   "source": [
    "# nums = np.random.randint(5, 13, (3,5))\n",
    "nums = np.array([[ 7,  6,  6,  7, 10],\n",
    "                 [10, 11, 11,  9, 11],\n",
    "                 [10, 10, 10,  9,  9]])\n",
    "is_odd = nums % 2 != 0\n",
    "print(is_odd)\n",
    "\n",
    "sum_odd_numbers = (nums % 2 != 0).sum()\n",
    "# Gets the number of odd values in the array\n",
    "print(sum_odd_numbers)\n",
    "\n",
    "# It is the same as the sum of the following array:\n",
    "is_odd = np.where(nums % 2 != 0, 1, 0)\n",
    "display(is_odd)\n"
   ]
  },
  {
   "cell_type": "markdown",
   "metadata": {},
   "source": [
    "<hr>\n",
    "### Sorting\n",
    "\n",
    "Sort an array inplace using `np.sort(arr)`"
   ]
  },
  {
   "cell_type": "code",
   "execution_count": 10,
   "metadata": {
    "ExecuteTime": {
     "end_time": "2019-06-24T15:17:15.465471Z",
     "start_time": "2019-06-24T15:17:15.454837Z"
    },
    "scrolled": true
   },
   "outputs": [
    {
     "data": {
      "text/plain": [
       "array([[1217, 1829, 4275, 4761]])"
      ]
     },
     "metadata": {},
     "output_type": "display_data"
    },
    {
     "data": {
      "text/plain": [
       "array([[4761, 4275, 1829, 1217]])"
      ]
     },
     "metadata": {},
     "output_type": "display_data"
    }
   ],
   "source": [
    "# salaries = np.random.randint(1000, 5000, (1, 4))\n",
    "salaries = np.array([[4275, 4761, 1829, 1217]])\n",
    "display(np.sort(salaries))\n",
    "# Here is a neat way to sort in descending order\n",
    "display(-np.sort(-salaries))"
   ]
  },
  {
   "cell_type": "code",
   "execution_count": 11,
   "metadata": {
    "ExecuteTime": {
     "end_time": "2019-06-24T15:17:15.482945Z",
     "start_time": "2019-06-24T15:17:15.468914Z"
    },
    "scrolled": true
   },
   "outputs": [
    {
     "data": {
      "text/plain": [
       "array([[18, 19, 16, 17, 11],\n",
       "       [31, 39, 22, 17, 12],\n",
       "       [47, 41, 30, 24, 40],\n",
       "       [47, 43, 35, 41, 46]])"
      ]
     },
     "metadata": {},
     "output_type": "display_data"
    },
    {
     "name": "stdout",
     "output_type": "stream",
     "text": [
      "\n"
     ]
    },
    {
     "data": {
      "text/plain": [
       "array([[17, 22, 31, 40, 43],\n",
       "       [11, 16, 19, 41, 47],\n",
       "       [18, 24, 30, 39, 46],\n",
       "       [12, 17, 35, 41, 47]])"
      ]
     },
     "metadata": {},
     "output_type": "display_data"
    }
   ],
   "source": [
    "# sales = np.random.randint(10, 50, (4, 5))\n",
    "sales = np.array([[31, 43, 22, 17, 40],\n",
    "                  [47, 19, 16, 41, 11],\n",
    "                  [18, 39, 30, 24, 46],\n",
    "                  [47, 41, 35, 17, 12]])\n",
    "\n",
    "# axis=0 will sort values traversing each column (operates column-wise)\n",
    "display(np.sort(sales, axis=0))\n",
    "print()\n",
    "# axis=1 will sort values traversing each row (operates row-wise)\n",
    "display(np.sort(sales, axis=1))"
   ]
  },
  {
   "cell_type": "markdown",
   "metadata": {
    "ExecuteTime": {
     "end_time": "2019-06-23T15:51:43.330273Z",
     "start_time": "2019-06-23T15:51:43.278288Z"
    }
   },
   "source": [
    "<hr>\n",
    "### Unique and Test of Membership\n",
    "**Use `np.unique()` to find unique values in an array.**"
   ]
  },
  {
   "cell_type": "code",
   "execution_count": 12,
   "metadata": {
    "ExecuteTime": {
     "end_time": "2019-06-24T15:17:15.499230Z",
     "start_time": "2019-06-24T15:17:15.487086Z"
    }
   },
   "outputs": [
    {
     "data": {
      "text/plain": [
       "array([['2000', '3000', '1000', '2000', '3000', '1000']], dtype='<U21')"
      ]
     },
     "metadata": {},
     "output_type": "display_data"
    },
    {
     "data": {
      "text/plain": [
       "array(['1000', '2000', '3000'], dtype='<U21')"
      ]
     },
     "metadata": {},
     "output_type": "display_data"
    }
   ],
   "source": [
    "# altitudes = np.random.randint(1, 4, (1,6))*1000\n",
    "altitudes = np.array([[2000, 3000, 1000, 2000, 3000, 1000]])\n",
    "altitudes = altitudes.astype(str)\n",
    "display(altitudes)\n",
    "display(np.unique(altitudes))"
   ]
  },
  {
   "cell_type": "markdown",
   "metadata": {},
   "source": [
    "**Use `np.in1d()` to find if a value exists in another array.**\n",
    "\n",
    "It will traverse each element in the array, and returns `True` if the value exists in the given list, `False` otherwise."
   ]
  },
  {
   "cell_type": "code",
   "execution_count": 13,
   "metadata": {
    "ExecuteTime": {
     "end_time": "2019-06-24T15:17:15.513867Z",
     "start_time": "2019-06-24T15:17:15.502520Z"
    },
    "scrolled": true
   },
   "outputs": [
    {
     "data": {
      "text/plain": [
       "array([ True,  True, False,  True,  True,  True])"
      ]
     },
     "metadata": {},
     "output_type": "display_data"
    },
    {
     "data": {
      "text/plain": [
       "array([ True,  True, False,  True,  True,  True])"
      ]
     },
     "metadata": {},
     "output_type": "display_data"
    }
   ],
   "source": [
    "# vols = np.random.randint(1, 6, (1,6))*15\n",
    "vols = np.array([[60, 45, 75, 45, 60, 45]])\n",
    "display(np.in1d(vols, [15, 30, 45, 60]))\n",
    "\n",
    "# This is equivalent\n",
    "display(np.in1d(vols, np.arange(1,5)*15))"
   ]
  },
  {
   "cell_type": "markdown",
   "metadata": {},
   "source": [
    "<hr>"
   ]
  },
  {
   "cell_type": "markdown",
   "metadata": {},
   "source": [
    "**References:**\n",
    "\n",
    "Python for Data Analysis, 2nd Edition, McKinney (2017)"
   ]
  }
 ],
 "metadata": {
  "kernelspec": {
   "display_name": "Python 3",
   "language": "python",
   "name": "python3"
  },
  "language_info": {
   "codemirror_mode": {
    "name": "ipython",
    "version": 3
   },
   "file_extension": ".py",
   "mimetype": "text/x-python",
   "name": "python",
   "nbconvert_exporter": "python",
   "pygments_lexer": "ipython3",
   "version": "3.6.5"
  }
 },
 "nbformat": 4,
 "nbformat_minor": 2
}
