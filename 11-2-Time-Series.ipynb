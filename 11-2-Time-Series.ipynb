{
 "cells": [
  {
   "cell_type": "markdown",
   "metadata": {},
   "source": [
    "# Chapter 11 - Time Series"
   ]
  },
  {
   "cell_type": "markdown",
   "metadata": {},
   "source": [
    "## 11.2 - Time Series Basics"
   ]
  },
  {
   "cell_type": "code",
   "execution_count": 1,
   "metadata": {
    "ExecuteTime": {
     "end_time": "2019-11-28T17:48:31.103561Z",
     "start_time": "2019-11-28T17:48:30.680085Z"
    }
   },
   "outputs": [],
   "source": [
    "from datetime import datetime as dt\n",
    "from dateutil.parser import parse\n",
    "import pandas as pd\n",
    "import numpy as np"
   ]
  },
  {
   "cell_type": "markdown",
   "metadata": {},
   "source": [
    "The basic time series object in `pandas` is a `Series` index."
   ]
  },
  {
   "cell_type": "code",
   "execution_count": 2,
   "metadata": {
    "ExecuteTime": {
     "end_time": "2019-11-28T17:48:31.145961Z",
     "start_time": "2019-11-28T17:48:31.106724Z"
    },
    "scrolled": true
   },
   "outputs": [
    {
     "data": {
      "text/plain": [
       "[datetime.datetime(2019, 1, 1, 0, 0),\n",
       " datetime.datetime(2019, 4, 1, 0, 0),\n",
       " datetime.datetime(2019, 7, 1, 0, 0),\n",
       " datetime.datetime(2019, 10, 1, 0, 0)]"
      ]
     },
     "metadata": {},
     "output_type": "display_data"
    },
    {
     "data": {
      "text/plain": [
       "2019-01-01    10\n",
       "2019-04-01    20\n",
       "2019-07-01    30\n",
       "2019-10-01    40\n",
       "dtype: int64"
      ]
     },
     "metadata": {},
     "output_type": "display_data"
    }
   ],
   "source": [
    "qs1 = []\n",
    "# Instantiate a time series: First day of each Q in the year 2019.\n",
    "for i in range(1, 13, 3):\n",
    "    t = dt(2019, i, 1)\n",
    "    qs1.append(t)\n",
    "display(qs1)\n",
    "\n",
    "# Use the time series as the index to a Series\n",
    "s1 = pd.Series([10,20,30,40], index=qs1)\n",
    "display(s1)"
   ]
  },
  {
   "cell_type": "markdown",
   "metadata": {},
   "source": [
    "Under the hood, the `datetime` objects are stored as a `DateTimeIndex`."
   ]
  },
  {
   "cell_type": "code",
   "execution_count": 3,
   "metadata": {
    "ExecuteTime": {
     "end_time": "2019-11-28T17:48:31.167162Z",
     "start_time": "2019-11-28T17:48:31.150458Z"
    },
    "scrolled": true
   },
   "outputs": [
    {
     "data": {
      "text/plain": [
       "DatetimeIndex(['2019-01-01', '2019-04-01', '2019-07-01', '2019-10-01'], dtype='datetime64[ns]', freq=None)"
      ]
     },
     "metadata": {},
     "output_type": "display_data"
    },
    {
     "name": "stdout",
     "output_type": "stream",
     "text": [
      "<class 'pandas.core.indexes.datetimes.DatetimeIndex'>\n"
     ]
    }
   ],
   "source": [
    "display(s1.index)\n",
    "print(type(s1.index))"
   ]
  },
  {
   "cell_type": "markdown",
   "metadata": {},
   "source": [
    "Like other `Series`, arithmetic operations on two `Series` objects are aligned on the dates."
   ]
  },
  {
   "cell_type": "code",
   "execution_count": 4,
   "metadata": {
    "ExecuteTime": {
     "end_time": "2019-11-28T17:48:31.264930Z",
     "start_time": "2019-11-28T17:48:31.172344Z"
    },
    "scrolled": false
   },
   "outputs": [
    {
     "data": {
      "text/plain": [
       "2019-01-01    25\n",
       "2019-04-01    45\n",
       "2019-07-01    65\n",
       "dtype: int64"
      ]
     },
     "metadata": {},
     "output_type": "display_data"
    },
    {
     "data": {
      "text/plain": [
       "2019-01-01    35.0\n",
       "2019-04-01    65.0\n",
       "2019-07-01    95.0\n",
       "2019-10-01     NaN\n",
       "dtype: float64"
      ]
     },
     "metadata": {},
     "output_type": "display_data"
    }
   ],
   "source": [
    "# Instantiate a new Series with Q1 - Q3 dates\n",
    "qs2 = [parse('2019-01-01'), parse('2019-04-01'), parse('2019-07-01')]\n",
    "s2 = pd.Series([25,45,65], index=qs2)\n",
    "display(s2)\n",
    "\n",
    "# Add s1 and s2 Series objects\n",
    "display(s1+s2) # There is no value for 2019-10-01 so resultant of sum is NaN"
   ]
  },
  {
   "cell_type": "markdown",
   "metadata": {},
   "source": [
    "### Indexing, Selection, Subsetting"
   ]
  },
  {
   "cell_type": "markdown",
   "metadata": {},
   "source": [
    "You can use the date as the index to pull out its value. Different date formats are permitted."
   ]
  },
  {
   "cell_type": "code",
   "execution_count": 5,
   "metadata": {
    "ExecuteTime": {
     "end_time": "2019-11-28T17:48:31.312656Z",
     "start_time": "2019-11-28T17:48:31.267657Z"
    }
   },
   "outputs": [
    {
     "data": {
      "text/plain": [
       "2019-01-01    25\n",
       "2019-04-01    45\n",
       "2019-07-01    65\n",
       "dtype: int64"
      ]
     },
     "metadata": {},
     "output_type": "display_data"
    },
    {
     "name": "stdout",
     "output_type": "stream",
     "text": [
      "25\n",
      "65\n"
     ]
    }
   ],
   "source": [
    "display(s2)\n",
    "print(s2['20190101'])\n",
    "print(s2['07/01/2019'])"
   ]
  },
  {
   "cell_type": "markdown",
   "metadata": {},
   "source": [
    "Use `pd.date_range` to automatically generate dates with a start date and number of periods."
   ]
  },
  {
   "cell_type": "code",
   "execution_count": 6,
   "metadata": {
    "ExecuteTime": {
     "end_time": "2019-11-28T17:48:31.360337Z",
     "start_time": "2019-11-28T17:48:31.317198Z"
    }
   },
   "outputs": [
    {
     "data": {
      "text/plain": [
       "2018-07-01    0\n",
       "2018-07-02    1\n",
       "2018-07-03    2\n",
       "2018-07-04    3\n",
       "2018-07-05    4\n",
       "2018-07-06    5\n",
       "2018-07-07    6\n",
       "2018-07-08    7\n",
       "2018-07-09    8\n",
       "2018-07-10    9\n",
       "Freq: D, dtype: int64"
      ]
     },
     "metadata": {},
     "output_type": "display_data"
    }
   ],
   "source": [
    "d1 = pd.Series(range(0,20), pd.date_range('2018/07/01', periods=20))\n",
    "display(d1.head(10))"
   ]
  },
  {
   "cell_type": "code",
   "execution_count": 7,
   "metadata": {
    "ExecuteTime": {
     "end_time": "2019-11-28T17:48:31.438700Z",
     "start_time": "2019-11-28T17:48:31.364945Z"
    }
   },
   "outputs": [
    {
     "data": {
      "text/plain": [
       "2019-07-01    0\n",
       "2019-07-02    1\n",
       "2019-07-03    2\n",
       "2019-07-04    3\n",
       "2019-07-05    4\n",
       "Freq: D, dtype: int64"
      ]
     },
     "metadata": {},
     "output_type": "display_data"
    },
    {
     "name": "stdout",
     "output_type": "stream",
     "text": [
      "...\n"
     ]
    },
    {
     "data": {
      "text/plain": [
       "2020-08-01    397\n",
       "2020-08-02    398\n",
       "2020-08-03    399\n",
       "Freq: D, dtype: int64"
      ]
     },
     "metadata": {},
     "output_type": "display_data"
    }
   ],
   "source": [
    "d2 = pd.Series(range(0,400), pd.date_range('20190701', periods=400))\n",
    "display(d2.head(5))\n",
    "print('...')\n",
    "display(d2.tail(3))"
   ]
  },
  {
   "cell_type": "markdown",
   "metadata": {},
   "source": [
    "Now, filtering can be performed on the `DateTimeIndex`."
   ]
  },
  {
   "cell_type": "code",
   "execution_count": 8,
   "metadata": {
    "ExecuteTime": {
     "end_time": "2019-11-28T17:48:31.501663Z",
     "start_time": "2019-11-28T17:48:31.446493Z"
    },
    "scrolled": true
   },
   "outputs": [
    {
     "data": {
      "text/plain": [
       "2019-07-01    0\n",
       "2019-07-02    1\n",
       "2019-07-03    2\n",
       "2019-07-04    3\n",
       "2019-07-05    4\n",
       "Freq: D, dtype: int64"
      ]
     },
     "metadata": {},
     "output_type": "display_data"
    }
   ],
   "source": [
    "display(d2['2019'].iloc[:5]) # Filter by year"
   ]
  },
  {
   "cell_type": "code",
   "execution_count": 9,
   "metadata": {
    "ExecuteTime": {
     "end_time": "2019-11-28T17:48:31.547626Z",
     "start_time": "2019-11-28T17:48:31.506632Z"
    }
   },
   "outputs": [
    {
     "data": {
      "text/plain": [
       "2019-09-01    62\n",
       "2019-09-02    63\n",
       "2019-09-03    64\n",
       "2019-09-04    65\n",
       "2019-09-05    66\n",
       "Freq: D, dtype: int64"
      ]
     },
     "metadata": {},
     "output_type": "display_data"
    }
   ],
   "source": [
    "display(d2['2019-09'].iloc[:5]) # Filter by year & month"
   ]
  },
  {
   "cell_type": "code",
   "execution_count": 10,
   "metadata": {
    "ExecuteTime": {
     "end_time": "2019-11-28T17:48:31.587600Z",
     "start_time": "2019-11-28T17:48:31.556934Z"
    }
   },
   "outputs": [
    {
     "data": {
      "text/plain": [
       "2019-10-03    94\n",
       "2019-10-04    95\n",
       "2019-10-05    96\n",
       "2019-10-06    97\n",
       "2019-10-07    98\n",
       "Freq: D, dtype: int64"
      ]
     },
     "metadata": {},
     "output_type": "display_data"
    }
   ],
   "source": [
    "display(d2[dt(2019,10, 3):].iloc[:5]) # Filter by datetime"
   ]
  },
  {
   "cell_type": "markdown",
   "metadata": {},
   "source": [
    "Filtering can also be done using truncating"
   ]
  },
  {
   "cell_type": "code",
   "execution_count": 11,
   "metadata": {
    "ExecuteTime": {
     "end_time": "2019-11-28T17:48:31.640327Z",
     "start_time": "2019-11-28T17:48:31.597020Z"
    }
   },
   "outputs": [
    {
     "data": {
      "text/plain": [
       "2019-08-01    31\n",
       "2019-08-02    32\n",
       "2019-08-03    33\n",
       "2019-08-04    34\n",
       "2019-08-05    35\n",
       "2019-08-06    36\n",
       "2019-08-07    37\n",
       "2019-08-08    38\n",
       "2019-08-09    39\n",
       "2019-08-10    40\n",
       "Freq: D, dtype: int64"
      ]
     },
     "execution_count": 11,
     "metadata": {},
     "output_type": "execute_result"
    }
   ],
   "source": [
    "# Truncate (remove) all values before 1 Aug 2019\n",
    "d2.truncate(before='2019-08-01').iloc[:10]"
   ]
  },
  {
   "cell_type": "code",
   "execution_count": 12,
   "metadata": {
    "ExecuteTime": {
     "end_time": "2019-11-28T17:48:31.679441Z",
     "start_time": "2019-11-28T17:48:31.645063Z"
    }
   },
   "outputs": [
    {
     "data": {
      "text/plain": [
       "2019-07-01    0\n",
       "2019-07-02    1\n",
       "2019-07-03    2\n",
       "2019-07-04    3\n",
       "2019-07-05    4\n",
       "Freq: D, dtype: int64"
      ]
     },
     "execution_count": 12,
     "metadata": {},
     "output_type": "execute_result"
    }
   ],
   "source": [
    "# Truncate (Remove) all values after 5 Jul\n",
    "d2.truncate(after='2019-07-05')"
   ]
  },
  {
   "cell_type": "markdown",
   "metadata": {},
   "source": [
    "### Time Series with Duplicate Indices"
   ]
  },
  {
   "cell_type": "markdown",
   "metadata": {},
   "source": [
    "Sometimes, there may be multiple data observations falling on the same timestamp."
   ]
  },
  {
   "cell_type": "code",
   "execution_count": 13,
   "metadata": {
    "ExecuteTime": {
     "end_time": "2019-11-28T17:48:31.732717Z",
     "start_time": "2019-11-28T17:48:31.686570Z"
    }
   },
   "outputs": [
    {
     "data": {
      "text/plain": [
       "2020-07-28    0\n",
       "2020-07-29    1\n",
       "2020-07-29    2\n",
       "2020-07-30    3\n",
       "2020-07-31    4\n",
       "dtype: int64"
      ]
     },
     "metadata": {},
     "output_type": "display_data"
    },
    {
     "name": "stdout",
     "output_type": "stream",
     "text": [
      "False\n"
     ]
    }
   ],
   "source": [
    "dup_dates = pd.DatetimeIndex(['2020-07-28', '2020-07-29',\n",
    "                              '2020-07-29', '2020-07-30', \n",
    "                              '2020-07-31'])\n",
    "s3 = pd.Series(np.arange(5), index=dup_dates)\n",
    "display(s3)\n",
    "# Checking index.is_unique can validate that the index contains duplicates\n",
    "print(s3.index.is_unique)"
   ]
  },
  {
   "cell_type": "code",
   "execution_count": 14,
   "metadata": {
    "ExecuteTime": {
     "end_time": "2019-11-28T17:48:31.759484Z",
     "start_time": "2019-11-28T17:48:31.740932Z"
    }
   },
   "outputs": [
    {
     "name": "stdout",
     "output_type": "stream",
     "text": [
      "2020-07-29    1\n",
      "2020-07-29    2\n",
      "dtype: int64\n",
      "0\n",
      "4\n"
     ]
    }
   ],
   "source": [
    "# Indexing to this time series produces a slice if there are duplicates\n",
    "print(s3['20200729'])\n",
    "# If there are no duplicates, this produces a scalar\n",
    "print(s3['20200728'])\n",
    "print(s3['20200731'])"
   ]
  },
  {
   "cell_type": "code",
   "execution_count": 15,
   "metadata": {
    "ExecuteTime": {
     "end_time": "2019-11-28T17:48:31.784490Z",
     "start_time": "2019-11-28T17:48:31.764488Z"
    }
   },
   "outputs": [
    {
     "name": "stdout",
     "output_type": "stream",
     "text": [
      "2020-07-28    0\n",
      "2020-07-29    3\n",
      "2020-07-30    3\n",
      "2020-07-31    4\n",
      "dtype: int64\n",
      "2020-07-28    0.0\n",
      "2020-07-29    1.5\n",
      "2020-07-30    3.0\n",
      "2020-07-31    4.0\n",
      "dtype: float64\n"
     ]
    }
   ],
   "source": [
    "# To aggregate having non-unique timestamps, level=0 needs to be specified\n",
    "print(s3.groupby(level=0).sum())\n",
    "print(s3.groupby(level=0).mean())"
   ]
  },
  {
   "cell_type": "markdown",
   "metadata": {},
   "source": [
    "**References:**\n",
    "\n",
    "Python for Data Analysis, 2nd Edition, McKinney (2017)"
   ]
  }
 ],
 "metadata": {
  "kernelspec": {
   "display_name": "Python 3",
   "language": "python",
   "name": "python3"
  },
  "language_info": {
   "codemirror_mode": {
    "name": "ipython",
    "version": 3
   },
   "file_extension": ".py",
   "mimetype": "text/x-python",
   "name": "python",
   "nbconvert_exporter": "python",
   "pygments_lexer": "ipython3",
   "version": "3.6.5"
  }
 },
 "nbformat": 4,
 "nbformat_minor": 2
}
