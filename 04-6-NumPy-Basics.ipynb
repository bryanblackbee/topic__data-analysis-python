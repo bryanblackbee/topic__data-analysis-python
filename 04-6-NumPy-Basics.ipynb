{
 "cells": [
  {
   "cell_type": "markdown",
   "metadata": {},
   "source": [
    "# Chapter 4 - NumPy Basics: Arrays and Vectorized Computation"
   ]
  },
  {
   "cell_type": "markdown",
   "metadata": {},
   "source": [
    "## 4.6 Pseudorandom Number Generation"
   ]
  },
  {
   "cell_type": "code",
   "execution_count": 1,
   "metadata": {
    "ExecuteTime": {
     "end_time": "2019-06-24T16:26:21.815876Z",
     "start_time": "2019-06-24T16:26:21.190310Z"
    }
   },
   "outputs": [],
   "source": [
    "import numpy as np\n",
    "\n",
    "import pandas as pd\n",
    "import matplotlib.pyplot as plt"
   ]
  },
  {
   "cell_type": "markdown",
   "metadata": {},
   "source": [
    "1. Using `normal` to draw from a standard normal distribution\n",
    "\n",
    "2. Using `binomial` to draw from a binomial distribution\n",
    "\n",
    "3. Using `rand` to draw from a uniform $(-1,1)$ distribution\n",
    "\n",
    "4. Using `randint` to draw from a series of numbers in a range, with equal chance of getting any\n",
    "\n",
    "5. Using `uniform` to draw from a uniform $[0,1)$ distribution"
   ]
  },
  {
   "cell_type": "code",
   "execution_count": 2,
   "metadata": {
    "ExecuteTime": {
     "end_time": "2019-06-24T16:26:21.832572Z",
     "start_time": "2019-06-24T16:26:21.818555Z"
    },
    "scrolled": true
   },
   "outputs": [
    {
     "data": {
      "text/plain": [
       "array([[ 0.0801723 , -0.80700507],\n",
       "       [-0.50097456,  0.60735867]])"
      ]
     },
     "metadata": {},
     "output_type": "display_data"
    },
    {
     "data": {
      "text/plain": [
       "array([[0, 0, 1],\n",
       "       [0, 0, 2]])"
      ]
     },
     "metadata": {},
     "output_type": "display_data"
    }
   ],
   "source": [
    "arr1 = np.random.normal(size=(2,2))\n",
    "display(arr1)\n",
    "\n",
    "arr2 = np.random.binomial(n=3, p=0.2, size=(2,3))\n",
    "display(arr2)"
   ]
  },
  {
   "cell_type": "code",
   "execution_count": 3,
   "metadata": {
    "ExecuteTime": {
     "end_time": "2019-06-24T16:26:21.847294Z",
     "start_time": "2019-06-24T16:26:21.835875Z"
    }
   },
   "outputs": [
    {
     "data": {
      "text/plain": [
       "array([[0.70547604, 0.91400044, 0.75404378, 0.83087833, 0.15460399],\n",
       "       [0.92034355, 0.42616431, 0.74833524, 0.6488453 , 0.49340895]])"
      ]
     },
     "metadata": {},
     "output_type": "display_data"
    },
    {
     "data": {
      "text/plain": [
       "array([[ 1, 10,  4,  2,  6,  3],\n",
       "       [ 2,  6,  3,  9,  9,  2],\n",
       "       [ 5,  9, 10,  9,  3,  8]])"
      ]
     },
     "metadata": {},
     "output_type": "display_data"
    }
   ],
   "source": [
    "arr3 = np.random.rand(2,5)\n",
    "display(arr3)\n",
    "\n",
    "arr4 = np.random.randint(1,11,(3,6))\n",
    "display(arr4)"
   ]
  },
  {
   "cell_type": "code",
   "execution_count": 4,
   "metadata": {
    "ExecuteTime": {
     "end_time": "2019-06-24T16:26:21.866702Z",
     "start_time": "2019-06-24T16:26:21.850192Z"
    },
    "scrolled": true
   },
   "outputs": [
    {
     "data": {
      "text/plain": [
       "array([[0.98649173, 0.81347265],\n",
       "       [0.52889828, 0.52456418],\n",
       "       [0.84204316, 0.37285446],\n",
       "       [0.72018794, 0.61132525]])"
      ]
     },
     "metadata": {},
     "output_type": "display_data"
    }
   ],
   "source": [
    "arr5 = np.random.uniform(size=(4,2))\n",
    "display(arr5)"
   ]
  },
  {
   "cell_type": "markdown",
   "metadata": {},
   "source": [
    "### Simulating a random walk"
   ]
  },
  {
   "cell_type": "code",
   "execution_count": 5,
   "metadata": {
    "ExecuteTime": {
     "end_time": "2019-06-24T16:26:21.901312Z",
     "start_time": "2019-06-24T16:26:21.870587Z"
    },
    "scrolled": true
   },
   "outputs": [
    {
     "data": {
      "text/plain": [
       "array([-1, -1,  0,  0, -1, -1,  0, -1, -1, -1, -1, -1,  0,  0, -1, -1, -1,\n",
       "        0,  0, -1,  0, -1,  0, -1, -1, -1, -1,  0,  0, -1,  0,  0,  0,  0,\n",
       "        0,  0,  0, -1,  0, -1, -1,  0,  0,  0,  0,  0, -1, -1,  0,  0, -1,\n",
       "       -1, -1, -1,  0, -1, -1, -1, -1,  0, -1,  0, -1,  0, -1, -1, -1, -1,\n",
       "       -1,  0,  0, -1,  0,  0, -1,  0,  0,  0, -1, -1, -1, -1,  0,  0, -1,\n",
       "       -1,  0,  0,  0, -1,  0,  0, -1, -1, -1, -1,  0,  0,  0, -1,  0, -1,\n",
       "       -1, -1,  0, -1, -1, -1, -1, -1, -1, -1, -1,  0,  0,  0,  0,  0, -1,\n",
       "       -1,  0,  0, -1, -1,  0,  0, -1, -1, -1, -1, -1, -1,  0,  0,  0,  0,\n",
       "       -1, -1, -1,  0,  0,  0,  0,  0,  0, -1, -1,  0, -1,  0, -1, -1,  0,\n",
       "       -1, -1, -1,  0, -1, -1, -1,  0, -1, -1,  0,  0,  0,  0,  0, -1,  0,\n",
       "        0,  0, -1,  0, -1,  0,  0,  0, -1,  0,  0, -1, -1,  0, -1, -1, -1,\n",
       "        0, -1,  0,  0, -1,  0, -1, -1,  0, -1,  0,  0,  0,  0, -1, -1, -1,\n",
       "        0,  0,  0,  0, -1, -1, -1, -1,  0, -1,  0,  0,  0, -1, -1,  0, -1,\n",
       "       -1,  0, -1, -1,  0, -1, -1,  0, -1,  0, -1, -1,  0,  0, -1,  0, -1,\n",
       "        0,  0, -1,  0, -1, -1, -1,  0, -1,  0,  0,  0,  0,  0, -1, -1,  0,\n",
       "       -1,  0,  0,  0, -1, -1, -1, -1,  0,  0,  0,  0,  0,  0,  0, -1, -1,\n",
       "       -1,  0,  0, -1, -1,  0,  0, -1,  0,  0,  0, -1,  0,  0, -1,  0, -1,\n",
       "        0,  0,  0,  0, -1,  0,  0, -1,  0,  0,  0,  0, -1, -1, -1, -1,  0,\n",
       "       -1,  0, -1, -1,  0, -1,  0, -1, -1, -1, -1,  0, -1,  0, -1, -1,  0,\n",
       "       -1,  0,  0, -1,  0, -1, -1,  0,  0,  0,  0,  0,  0,  0, -1, -1,  0,\n",
       "       -1, -1,  0,  0,  0, -1, -1, -1,  0,  0, -1,  0, -1, -1, -1, -1, -1,\n",
       "       -1, -1, -1, -1, -1,  0,  0,  0, -1, -1, -1,  0,  0, -1,  0, -1,  0,\n",
       "       -1, -1, -1,  0,  0,  0, -1, -1,  0,  0,  0,  0, -1,  0, -1, -1,  0,\n",
       "       -1,  0, -1,  0, -1, -1, -1, -1, -1,  0, -1, -1,  0,  0, -1,  0, -1,\n",
       "       -1, -1, -1,  0, -1,  0,  0,  0, -1,  0,  0,  0, -1,  0, -1,  0,  0,\n",
       "       -1, -1, -1, -1,  0,  0, -1,  0, -1,  0,  0, -1,  0, -1,  0,  0,  0,\n",
       "        0, -1,  0, -1,  0, -1,  0, -1, -1,  0, -1,  0, -1,  0, -1,  0,  0,\n",
       "       -1,  0,  0, -1,  0,  0,  0,  0, -1,  0, -1,  0, -1,  0,  0, -1,  0,\n",
       "        0, -1,  0,  0,  0,  0, -1, -1,  0, -1, -1,  0, -1, -1, -1, -1, -1,\n",
       "        0,  0,  0, -1, -1,  0,  0])"
      ]
     },
     "metadata": {},
     "output_type": "display_data"
    },
    {
     "data": {
      "text/plain": [
       "array([-1, -1,  1,  1, -1, -1,  1, -1, -1, -1, -1, -1,  1,  1, -1, -1, -1,\n",
       "        1,  1, -1,  1, -1,  1, -1, -1, -1, -1,  1,  1, -1,  1,  1,  1,  1,\n",
       "        1,  1,  1, -1,  1, -1, -1,  1,  1,  1,  1,  1, -1, -1,  1,  1, -1,\n",
       "       -1, -1, -1,  1, -1, -1, -1, -1,  1, -1,  1, -1,  1, -1, -1, -1, -1,\n",
       "       -1,  1,  1, -1,  1,  1, -1,  1,  1,  1, -1, -1, -1, -1,  1,  1, -1,\n",
       "       -1,  1,  1,  1, -1,  1,  1, -1, -1, -1, -1,  1,  1,  1, -1,  1, -1,\n",
       "       -1, -1,  1, -1, -1, -1, -1, -1, -1, -1, -1,  1,  1,  1,  1,  1, -1,\n",
       "       -1,  1,  1, -1, -1,  1,  1, -1, -1, -1, -1, -1, -1,  1,  1,  1,  1,\n",
       "       -1, -1, -1,  1,  1,  1,  1,  1,  1, -1, -1,  1, -1,  1, -1, -1,  1,\n",
       "       -1, -1, -1,  1, -1, -1, -1,  1, -1, -1,  1,  1,  1,  1,  1, -1,  1,\n",
       "        1,  1, -1,  1, -1,  1,  1,  1, -1,  1,  1, -1, -1,  1, -1, -1, -1,\n",
       "        1, -1,  1,  1, -1,  1, -1, -1,  1, -1,  1,  1,  1,  1, -1, -1, -1,\n",
       "        1,  1,  1,  1, -1, -1, -1, -1,  1, -1,  1,  1,  1, -1, -1,  1, -1,\n",
       "       -1,  1, -1, -1,  1, -1, -1,  1, -1,  1, -1, -1,  1,  1, -1,  1, -1,\n",
       "        1,  1, -1,  1, -1, -1, -1,  1, -1,  1,  1,  1,  1,  1, -1, -1,  1,\n",
       "       -1,  1,  1,  1, -1, -1, -1, -1,  1,  1,  1,  1,  1,  1,  1, -1, -1,\n",
       "       -1,  1,  1, -1, -1,  1,  1, -1,  1,  1,  1, -1,  1,  1, -1,  1, -1,\n",
       "        1,  1,  1,  1, -1,  1,  1, -1,  1,  1,  1,  1, -1, -1, -1, -1,  1,\n",
       "       -1,  1, -1, -1,  1, -1,  1, -1, -1, -1, -1,  1, -1,  1, -1, -1,  1,\n",
       "       -1,  1,  1, -1,  1, -1, -1,  1,  1,  1,  1,  1,  1,  1, -1, -1,  1,\n",
       "       -1, -1,  1,  1,  1, -1, -1, -1,  1,  1, -1,  1, -1, -1, -1, -1, -1,\n",
       "       -1, -1, -1, -1, -1,  1,  1,  1, -1, -1, -1,  1,  1, -1,  1, -1,  1,\n",
       "       -1, -1, -1,  1,  1,  1, -1, -1,  1,  1,  1,  1, -1,  1, -1, -1,  1,\n",
       "       -1,  1, -1,  1, -1, -1, -1, -1, -1,  1, -1, -1,  1,  1, -1,  1, -1,\n",
       "       -1, -1, -1,  1, -1,  1,  1,  1, -1,  1,  1,  1, -1,  1, -1,  1,  1,\n",
       "       -1, -1, -1, -1,  1,  1, -1,  1, -1,  1,  1, -1,  1, -1,  1,  1,  1,\n",
       "        1, -1,  1, -1,  1, -1,  1, -1, -1,  1, -1,  1, -1,  1, -1,  1,  1,\n",
       "       -1,  1,  1, -1,  1,  1,  1,  1, -1,  1, -1,  1, -1,  1,  1, -1,  1,\n",
       "        1, -1,  1,  1,  1,  1, -1, -1,  1, -1, -1,  1, -1, -1, -1, -1, -1,\n",
       "        1,  1,  1, -1, -1,  1,  1])"
      ]
     },
     "metadata": {},
     "output_type": "display_data"
    },
    {
     "data": {
      "text/plain": [
       "array([ -1,  -2,  -1,   0,  -1,  -2,  -1,  -2,  -3,  -4,  -5,  -6,  -5,\n",
       "        -4,  -5,  -6,  -7,  -6,  -5,  -6,  -5,  -6,  -5,  -6,  -7,  -8,\n",
       "        -9,  -8,  -7,  -8,  -7,  -6,  -5,  -4,  -3,  -2,  -1,  -2,  -1,\n",
       "        -2,  -3,  -2,  -1,   0,   1,   2,   1,   0,   1,   2,   1,   0,\n",
       "        -1,  -2,  -1,  -2,  -3,  -4,  -5,  -4,  -5,  -4,  -5,  -4,  -5,\n",
       "        -6,  -7,  -8,  -9,  -8,  -7,  -8,  -7,  -6,  -7,  -6,  -5,  -4,\n",
       "        -5,  -6,  -7,  -8,  -7,  -6,  -7,  -8,  -7,  -6,  -5,  -6,  -5,\n",
       "        -4,  -5,  -6,  -7,  -8,  -7,  -6,  -5,  -6,  -5,  -6,  -7,  -8,\n",
       "        -7,  -8,  -9, -10, -11, -12, -13, -14, -15, -14, -13, -12, -11,\n",
       "       -10, -11, -12, -11, -10, -11, -12, -11, -10, -11, -12, -13, -14,\n",
       "       -15, -16, -15, -14, -13, -12, -13, -14, -15, -14, -13, -12, -11,\n",
       "       -10,  -9, -10, -11, -10, -11, -10, -11, -12, -11, -12, -13, -14,\n",
       "       -13, -14, -15, -16, -15, -16, -17, -16, -15, -14, -13, -12, -13,\n",
       "       -12, -11, -10, -11, -10, -11, -10,  -9,  -8,  -9,  -8,  -7,  -8,\n",
       "        -9,  -8,  -9, -10, -11, -10, -11, -10,  -9, -10,  -9, -10, -11,\n",
       "       -10, -11, -10,  -9,  -8,  -7,  -8,  -9, -10,  -9,  -8,  -7,  -6,\n",
       "        -7,  -8,  -9, -10,  -9, -10,  -9,  -8,  -7,  -8,  -9,  -8,  -9,\n",
       "       -10,  -9, -10, -11, -10, -11, -12, -11, -12, -11, -12, -13, -12,\n",
       "       -11, -12, -11, -12, -11, -10, -11, -10, -11, -12, -13, -12, -13,\n",
       "       -12, -11, -10,  -9,  -8,  -9, -10,  -9, -10,  -9,  -8,  -7,  -8,\n",
       "        -9, -10, -11, -10,  -9,  -8,  -7,  -6,  -5,  -4,  -5,  -6,  -7,\n",
       "        -6,  -5,  -6,  -7,  -6,  -5,  -6,  -5,  -4,  -3,  -4,  -3,  -2,\n",
       "        -3,  -2,  -3,  -2,  -1,   0,   1,   0,   1,   2,   1,   2,   3,\n",
       "         4,   5,   4,   3,   2,   1,   2,   1,   2,   1,   0,   1,   0,\n",
       "         1,   0,  -1,  -2,  -3,  -2,  -3,  -2,  -3,  -4,  -3,  -4,  -3,\n",
       "        -2,  -3,  -2,  -3,  -4,  -3,  -2,  -1,   0,   1,   2,   3,   2,\n",
       "         1,   2,   1,   0,   1,   2,   3,   2,   1,   0,   1,   2,   1,\n",
       "         2,   1,   0,  -1,  -2,  -3,  -4,  -5,  -6,  -7,  -8,  -7,  -6,\n",
       "        -5,  -6,  -7,  -8,  -7,  -6,  -7,  -6,  -7,  -6,  -7,  -8,  -9,\n",
       "        -8,  -7,  -6,  -7,  -8,  -7,  -6,  -5,  -4,  -5,  -4,  -5,  -6,\n",
       "        -5,  -6,  -5,  -6,  -5,  -6,  -7,  -8,  -9, -10,  -9, -10, -11,\n",
       "       -10,  -9, -10,  -9, -10, -11, -12, -13, -12, -13, -12, -11, -10,\n",
       "       -11, -10,  -9,  -8,  -9,  -8,  -9,  -8,  -7,  -8,  -9, -10, -11,\n",
       "       -10,  -9, -10,  -9, -10,  -9,  -8,  -9,  -8,  -9,  -8,  -7,  -6,\n",
       "        -5,  -6,  -5,  -6,  -5,  -6,  -5,  -6,  -7,  -6,  -7,  -6,  -7,\n",
       "        -6,  -7,  -6,  -5,  -6,  -5,  -4,  -5,  -4,  -3,  -2,  -1,  -2,\n",
       "        -1,  -2,  -1,  -2,  -1,   0,  -1,   0,   1,   0,   1,   2,   3,\n",
       "         4,   3,   2,   3,   2,   1,   2,   1,   0,  -1,  -2,  -3,  -2,\n",
       "        -1,   0,  -1,  -2,  -1,   0])"
      ]
     },
     "metadata": {},
     "output_type": "display_data"
    }
   ],
   "source": [
    "n_steps = 500\n",
    "\n",
    "# Randomly draw either a value -1 or 0\n",
    "step = np.random.randint(-1,1, n_steps)\n",
    "display(step)\n",
    "# If the above value is 0, transform to 1\n",
    "step_direction = np.where(step==0,1,step)\n",
    "display(step_direction)\n",
    "\n",
    "journey = np.cumsum(step_direction)\n",
    "display(journey)"
   ]
  },
  {
   "cell_type": "markdown",
   "metadata": {},
   "source": [
    "Finally, graphing the random walk"
   ]
  },
  {
   "cell_type": "code",
   "execution_count": 6,
   "metadata": {
    "ExecuteTime": {
     "end_time": "2019-06-24T16:26:22.514428Z",
     "start_time": "2019-06-24T16:26:21.908815Z"
    }
   },
   "outputs": [
    {
     "data": {
      "text/html": [
       "<div>\n",
       "<style scoped>\n",
       "    .dataframe tbody tr th:only-of-type {\n",
       "        vertical-align: middle;\n",
       "    }\n",
       "\n",
       "    .dataframe tbody tr th {\n",
       "        vertical-align: top;\n",
       "    }\n",
       "\n",
       "    .dataframe thead th {\n",
       "        text-align: right;\n",
       "    }\n",
       "</style>\n",
       "<table border=\"1\" class=\"dataframe\">\n",
       "  <thead>\n",
       "    <tr style=\"text-align: right;\">\n",
       "      <th></th>\n",
       "      <th>y</th>\n",
       "      <th>x</th>\n",
       "    </tr>\n",
       "  </thead>\n",
       "  <tbody>\n",
       "    <tr>\n",
       "      <th>0</th>\n",
       "      <td>-1</td>\n",
       "      <td>1</td>\n",
       "    </tr>\n",
       "    <tr>\n",
       "      <th>1</th>\n",
       "      <td>-2</td>\n",
       "      <td>2</td>\n",
       "    </tr>\n",
       "    <tr>\n",
       "      <th>2</th>\n",
       "      <td>-1</td>\n",
       "      <td>3</td>\n",
       "    </tr>\n",
       "    <tr>\n",
       "      <th>3</th>\n",
       "      <td>0</td>\n",
       "      <td>4</td>\n",
       "    </tr>\n",
       "    <tr>\n",
       "      <th>4</th>\n",
       "      <td>-1</td>\n",
       "      <td>5</td>\n",
       "    </tr>\n",
       "  </tbody>\n",
       "</table>\n",
       "</div>"
      ],
      "text/plain": [
       "   y  x\n",
       "0 -1  1\n",
       "1 -2  2\n",
       "2 -1  3\n",
       "3  0  4\n",
       "4 -1  5"
      ]
     },
     "metadata": {},
     "output_type": "display_data"
    },
    {
     "data": {
      "image/png": "[encoded data removed]",
      "text/plain": [
       "<Figure size 1296x432 with 1 Axes>"
      ]
     },
     "metadata": {},
     "output_type": "display_data"
    }
   ],
   "source": [
    "df = pd.DataFrame({'y':journey})\n",
    "df['x'] = df.index + 1\n",
    "display(df.head())\n",
    "fig, ax = plt.subplots(figsize=(18,6))\n",
    "df.plot(x='x', y='y', ax=ax)\n",
    "ax.set_ylabel('y')\n",
    "ax.set_title(\"Random walk of $1000$ steps\")\n",
    "plt.show()"
   ]
  },
  {
   "cell_type": "markdown",
   "metadata": {},
   "source": [
    "<hr>"
   ]
  },
  {
   "cell_type": "markdown",
   "metadata": {},
   "source": [
    "**References:**\n",
    "\n",
    "Python for Data Analysis, 2nd Edition, McKinney (2017)"
   ]
  }
 ],
 "metadata": {
  "kernelspec": {
   "display_name": "Python 3",
   "language": "python",
   "name": "python3"
  },
  "language_info": {
   "codemirror_mode": {
    "name": "ipython",
    "version": 3
   },
   "file_extension": ".py",
   "mimetype": "text/x-python",
   "name": "python",
   "nbconvert_exporter": "python",
   "pygments_lexer": "ipython3",
   "version": "3.6.5"
  }
 },
 "nbformat": 4,
 "nbformat_minor": 2
}
