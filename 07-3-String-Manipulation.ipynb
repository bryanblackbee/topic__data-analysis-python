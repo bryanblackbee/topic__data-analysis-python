{
 "cells": [
  {
   "cell_type": "markdown",
   "metadata": {},
   "source": [
    "# Chapter 7 - Data Cleaning and Preparation"
   ]
  },
  {
   "cell_type": "markdown",
   "metadata": {},
   "source": [
    "## 7.3 String Manipulation"
   ]
  },
  {
   "cell_type": "code",
   "execution_count": 1,
   "metadata": {
    "ExecuteTime": {
     "end_time": "2019-07-27T15:15:08.306885Z",
     "start_time": "2019-07-27T15:15:07.743714Z"
    }
   },
   "outputs": [],
   "source": [
    "import re\n",
    "\n",
    "import pandas as pd\n",
    "import numpy as np"
   ]
  },
  {
   "cell_type": "markdown",
   "metadata": {},
   "source": [
    "- `Series.str.contains(s)`\n",
    "\n",
    "- `Series.str.findall(p)`\n",
    "\n",
    "- `Series.str.match(p)`\n",
    "\n",
    "- `Series.str.split(p)`\n",
    "\n",
    "- `Series.str.replace(p, y)`"
   ]
  },
  {
   "cell_type": "code",
   "execution_count": 2,
   "metadata": {
    "ExecuteTime": {
     "end_time": "2019-07-27T15:15:08.357805Z",
     "start_time": "2019-07-27T15:15:08.309192Z"
    }
   },
   "outputs": [
    {
     "data": {
      "text/html": [
       "<div>\n",
       "<style scoped>\n",
       "    .dataframe tbody tr th:only-of-type {\n",
       "        vertical-align: middle;\n",
       "    }\n",
       "\n",
       "    .dataframe tbody tr th {\n",
       "        vertical-align: top;\n",
       "    }\n",
       "\n",
       "    .dataframe thead th {\n",
       "        text-align: right;\n",
       "    }\n",
       "</style>\n",
       "<table border=\"1\" class=\"dataframe\">\n",
       "  <thead>\n",
       "    <tr style=\"text-align: right;\">\n",
       "      <th></th>\n",
       "      <th>video_id</th>\n",
       "      <th>title</th>\n",
       "      <th>tags</th>\n",
       "    </tr>\n",
       "  </thead>\n",
       "  <tbody>\n",
       "    <tr>\n",
       "      <th>0</th>\n",
       "      <td>Ph54wQG8ynk</td>\n",
       "      <td>Camila Cabello - Never Be the Same</td>\n",
       "      <td>camila cabello|\"camila\"|\"camila full album\"|\"h...</td>\n",
       "    </tr>\n",
       "    <tr>\n",
       "      <th>1</th>\n",
       "      <td>Ph54wQG8ynk</td>\n",
       "      <td>Camila Cabello - Never Be the Same</td>\n",
       "      <td>camila cabello|\"camila\"|\"camila full album\"|\"h...</td>\n",
       "    </tr>\n",
       "    <tr>\n",
       "      <th>2</th>\n",
       "      <td>bg7RjxsghNY</td>\n",
       "      <td>Camila Cabello - Real Friends (Audio)</td>\n",
       "      <td>camila cabello|\"real friends\"|\"camila\"|\"camili...</td>\n",
       "    </tr>\n",
       "    <tr>\n",
       "      <th>3</th>\n",
       "      <td>qooQd8AA7_M</td>\n",
       "      <td>Camila Cabello, Daddy Yankee - Havana (Remix -...</td>\n",
       "      <td>camila cabello|\"camila\"|\"daddy yankee\"|\"havana...</td>\n",
       "    </tr>\n",
       "    <tr>\n",
       "      <th>4</th>\n",
       "      <td>Ph54wQG8ynk</td>\n",
       "      <td>Camila Cabello - Never Be the Same</td>\n",
       "      <td>camila cabello|\"camila\"|\"camila full album\"|\"h...</td>\n",
       "    </tr>\n",
       "    <tr>\n",
       "      <th>5</th>\n",
       "      <td>Ph54wQG8ynk</td>\n",
       "      <td>Camila Cabello - Never Be the Same</td>\n",
       "      <td>camila cabello|\"camila\"|\"camila full album\"|\"h...</td>\n",
       "    </tr>\n",
       "    <tr>\n",
       "      <th>6</th>\n",
       "      <td>Ph54wQG8ynk</td>\n",
       "      <td>Camila Cabello - Never Be the Same</td>\n",
       "      <td>camila cabello|\"camila\"|\"camila full album\"|\"h...</td>\n",
       "    </tr>\n",
       "    <tr>\n",
       "      <th>7</th>\n",
       "      <td>Ph54wQG8ynk</td>\n",
       "      <td>Camila Cabello - Never Be the Same</td>\n",
       "      <td>camila cabello|\"camila\"|\"camila full album\"|\"h...</td>\n",
       "    </tr>\n",
       "    <tr>\n",
       "      <th>8</th>\n",
       "      <td>Ph54wQG8ynk</td>\n",
       "      <td>Camila Cabello - Never Be the Same</td>\n",
       "      <td>camila cabello|\"camila\"|\"camila full album\"|\"h...</td>\n",
       "    </tr>\n",
       "    <tr>\n",
       "      <th>9</th>\n",
       "      <td>bg7RjxsghNY</td>\n",
       "      <td>Camila Cabello - Real Friends (Audio)</td>\n",
       "      <td>camila cabello|\"real friends\"|\"camila\"|\"camili...</td>\n",
       "    </tr>\n",
       "  </tbody>\n",
       "</table>\n",
       "</div>"
      ],
      "text/plain": [
       "      video_id                                              title  \\\n",
       "0  Ph54wQG8ynk                 Camila Cabello - Never Be the Same   \n",
       "1  Ph54wQG8ynk                 Camila Cabello - Never Be the Same   \n",
       "2  bg7RjxsghNY              Camila Cabello - Real Friends (Audio)   \n",
       "3  qooQd8AA7_M  Camila Cabello, Daddy Yankee - Havana (Remix -...   \n",
       "4  Ph54wQG8ynk                 Camila Cabello - Never Be the Same   \n",
       "5  Ph54wQG8ynk                 Camila Cabello - Never Be the Same   \n",
       "6  Ph54wQG8ynk                 Camila Cabello - Never Be the Same   \n",
       "7  Ph54wQG8ynk                 Camila Cabello - Never Be the Same   \n",
       "8  Ph54wQG8ynk                 Camila Cabello - Never Be the Same   \n",
       "9  bg7RjxsghNY              Camila Cabello - Real Friends (Audio)   \n",
       "\n",
       "                                                tags  \n",
       "0  camila cabello|\"camila\"|\"camila full album\"|\"h...  \n",
       "1  camila cabello|\"camila\"|\"camila full album\"|\"h...  \n",
       "2  camila cabello|\"real friends\"|\"camila\"|\"camili...  \n",
       "3  camila cabello|\"camila\"|\"daddy yankee\"|\"havana...  \n",
       "4  camila cabello|\"camila\"|\"camila full album\"|\"h...  \n",
       "5  camila cabello|\"camila\"|\"camila full album\"|\"h...  \n",
       "6  camila cabello|\"camila\"|\"camila full album\"|\"h...  \n",
       "7  camila cabello|\"camila\"|\"camila full album\"|\"h...  \n",
       "8  camila cabello|\"camila\"|\"camila full album\"|\"h...  \n",
       "9  camila cabello|\"real friends\"|\"camila\"|\"camili...  "
      ]
     },
     "execution_count": 2,
     "metadata": {},
     "output_type": "execute_result"
    }
   ],
   "source": [
    "df = pd.read_csv('dataset-H4-videos.csv', sep='#')\n",
    "df = df[['video_id', 'title', 'tags']]\n",
    "df"
   ]
  },
  {
   "cell_type": "markdown",
   "metadata": {},
   "source": [
    "`Series.str.contains(s)` checks if the `Series` has a particular string. "
   ]
  },
  {
   "cell_type": "code",
   "execution_count": 3,
   "metadata": {
    "ExecuteTime": {
     "end_time": "2019-07-27T15:15:08.369868Z",
     "start_time": "2019-07-27T15:15:08.360554Z"
    },
    "scrolled": true
   },
   "outputs": [
    {
     "data": {
      "text/plain": [
       "0     True\n",
       "1     True\n",
       "2    False\n",
       "3    False\n",
       "4     True\n",
       "5     True\n",
       "6     True\n",
       "7     True\n",
       "8     True\n",
       "9    False\n",
       "Name: title, dtype: bool"
      ]
     },
     "execution_count": 3,
     "metadata": {},
     "output_type": "execute_result"
    }
   ],
   "source": [
    "df['title'].str.contains('Same')"
   ]
  },
  {
   "cell_type": "markdown",
   "metadata": {},
   "source": [
    "`Series.str.findall(p)` finds all the instances in the string that matches the pattern given."
   ]
  },
  {
   "cell_type": "code",
   "execution_count": 4,
   "metadata": {
    "ExecuteTime": {
     "end_time": "2019-07-27T15:15:08.384819Z",
     "start_time": "2019-07-27T15:15:08.373621Z"
    }
   },
   "outputs": [
    {
     "data": {
      "text/plain": [
       "0    [album]\n",
       "1    [album]\n",
       "2         []\n",
       "3         []\n",
       "4    [album]\n",
       "5    [album]\n",
       "6    [album]\n",
       "7    [album]\n",
       "8    [album]\n",
       "9         []\n",
       "Name: tags, dtype: object"
      ]
     },
     "execution_count": 4,
     "metadata": {},
     "output_type": "execute_result"
    }
   ],
   "source": [
    "df['tags'].str.findall('album')"
   ]
  },
  {
   "cell_type": "markdown",
   "metadata": {},
   "source": [
    "`Series.str.match(p)` returns `True` if the match is found for the `str`, `False` otherwise"
   ]
  },
  {
   "cell_type": "code",
   "execution_count": 5,
   "metadata": {
    "ExecuteTime": {
     "end_time": "2019-07-27T15:15:08.403651Z",
     "start_time": "2019-07-27T15:15:08.388623Z"
    },
    "scrolled": true
   },
   "outputs": [
    {
     "data": {
      "text/plain": [
       "0    True\n",
       "1    True\n",
       "2    True\n",
       "3    True\n",
       "4    True\n",
       "5    True\n",
       "6    True\n",
       "7    True\n",
       "8    True\n",
       "9    True\n",
       "Name: title, dtype: bool"
      ]
     },
     "execution_count": 5,
     "metadata": {},
     "output_type": "execute_result"
    }
   ],
   "source": [
    "matches = df['title'].str.match('Camila')\n",
    "matches"
   ]
  },
  {
   "cell_type": "markdown",
   "metadata": {},
   "source": [
    "`Series.str.split(p)`  returns a list of strings split by `p`."
   ]
  },
  {
   "cell_type": "code",
   "execution_count": 6,
   "metadata": {
    "ExecuteTime": {
     "end_time": "2019-07-27T15:15:08.424340Z",
     "start_time": "2019-07-27T15:15:08.406949Z"
    }
   },
   "outputs": [
    {
     "data": {
      "text/plain": [
       "0    [camila cabello, \"camila\", \"camila full album\"...\n",
       "1    [camila cabello, \"camila\", \"camila full album\"...\n",
       "2    [camila cabello, \"real friends\", \"camila\", \"ca...\n",
       "3    [camila cabello, \"camila\", \"daddy yankee\", \"ha...\n",
       "4    [camila cabello, \"camila\", \"camila full album\"...\n",
       "5    [camila cabello, \"camila\", \"camila full album\"...\n",
       "6    [camila cabello, \"camila\", \"camila full album\"...\n",
       "7    [camila cabello, \"camila\", \"camila full album\"...\n",
       "8    [camila cabello, \"camila\", \"camila full album\"...\n",
       "9    [camila cabello, \"real friends\", \"camila\", \"ca...\n",
       "Name: tags, dtype: object"
      ]
     },
     "execution_count": 6,
     "metadata": {},
     "output_type": "execute_result"
    }
   ],
   "source": [
    "df['tags'].str.split('|')"
   ]
  },
  {
   "cell_type": "markdown",
   "metadata": {},
   "source": [
    "`Series.str.replace(p, y)` finds all instances of `p` and replaces it with `y`."
   ]
  },
  {
   "cell_type": "code",
   "execution_count": 7,
   "metadata": {
    "ExecuteTime": {
     "end_time": "2019-07-27T15:15:08.439396Z",
     "start_time": "2019-07-27T15:15:08.428183Z"
    }
   },
   "outputs": [
    {
     "data": {
      "text/plain": [
       "0                        Camila Cabello - <song title>\n",
       "1                        Camila Cabello - <song title>\n",
       "2                Camila Cabello - Real Friends (Audio)\n",
       "3    Camila Cabello, Daddy Yankee - Havana (Remix -...\n",
       "4                        Camila Cabello - <song title>\n",
       "5                        Camila Cabello - <song title>\n",
       "6                        Camila Cabello - <song title>\n",
       "7                        Camila Cabello - <song title>\n",
       "8                        Camila Cabello - <song title>\n",
       "9                Camila Cabello - Real Friends (Audio)\n",
       "Name: title, dtype: object"
      ]
     },
     "execution_count": 7,
     "metadata": {},
     "output_type": "execute_result"
    }
   ],
   "source": [
    "df['title'].str.replace('Never Be the Same', '<song title>')"
   ]
  },
  {
   "cell_type": "markdown",
   "metadata": {},
   "source": [
    "**References:**\n",
    "\n",
    "Python for Data Analysis, 2nd Edition, McKinney (2017)"
   ]
  }
 ],
 "metadata": {
  "kernelspec": {
   "display_name": "Python 3",
   "language": "python",
   "name": "python3"
  },
  "language_info": {
   "codemirror_mode": {
    "name": "ipython",
    "version": 3
   },
   "file_extension": ".py",
   "mimetype": "text/x-python",
   "name": "python",
   "nbconvert_exporter": "python",
   "pygments_lexer": "ipython3",
   "version": "3.7.2"
  }
 },
 "nbformat": 4,
 "nbformat_minor": 2
}
