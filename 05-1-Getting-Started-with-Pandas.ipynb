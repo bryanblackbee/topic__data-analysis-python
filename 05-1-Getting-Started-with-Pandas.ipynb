{
 "cells": [
  {
   "cell_type": "markdown",
   "metadata": {},
   "source": [
    "# Chapter 5 - Getting Started with `pandas`"
   ]
  },
  {
   "cell_type": "markdown",
   "metadata": {},
   "source": [
    "## 5.1 Introduction to `pandas` Data Structures"
   ]
  },
  {
   "cell_type": "code",
   "execution_count": 1,
   "metadata": {
    "ExecuteTime": {
     "end_time": "2019-06-29T13:16:38.416264Z",
     "start_time": "2019-06-29T13:16:37.925182Z"
    }
   },
   "outputs": [],
   "source": [
    "# Import the library with its alias\n",
    "import pandas as pd\n",
    "\n",
    "# Alternatively, import the 2 key data structures\n",
    "from pandas import Series, DataFrame\n",
    "pd.options.display.max_columns = None\n",
    "\n",
    "import numpy as np"
   ]
  },
  {
   "cell_type": "markdown",
   "metadata": {},
   "source": [
    "### `Series`\n",
    "A `Series` is a <u>one-dimensional</u> object containing a sequence of values and an <u>associated array of data labels</u>, called its **index**. In the representation, the index is on the left and the elements are on the right."
   ]
  },
  {
   "cell_type": "code",
   "execution_count": 2,
   "metadata": {
    "ExecuteTime": {
     "end_time": "2019-06-29T13:16:38.437783Z",
     "start_time": "2019-06-29T13:16:38.418705Z"
    }
   },
   "outputs": [
    {
     "data": {
      "text/plain": [
       "0     1\n",
       "1     3\n",
       "2     4\n",
       "3     7\n",
       "4    11\n",
       "dtype: int64"
      ]
     },
     "metadata": {},
     "output_type": "display_data"
    },
    {
     "name": "stdout",
     "output_type": "stream",
     "text": [
      "RangeIndex(start=0, stop=5, step=1)\n",
      "[ 1  3  4  7 11]\n"
     ]
    }
   ],
   "source": [
    "######################\n",
    "# NOTES: From here on, use the more strict import, which is Series here.\n",
    "######################\n",
    "\n",
    "o = Series([1, 3, 4, 7, 11])\n",
    "display(o)\n",
    "# Use Series.index and Series.values to get them respectively\n",
    "print(o.index)\n",
    "print(o.values)"
   ]
  },
  {
   "cell_type": "code",
   "execution_count": 3,
   "metadata": {
    "ExecuteTime": {
     "end_time": "2019-06-29T13:16:38.454494Z",
     "start_time": "2019-06-29T13:16:38.441349Z"
    }
   },
   "outputs": [
    {
     "data": {
      "text/plain": [
       "a     1\n",
       "b     3\n",
       "c     4\n",
       "d     7\n",
       "e    11\n",
       "dtype: int64"
      ]
     },
     "metadata": {},
     "output_type": "display_data"
    },
    {
     "name": "stdout",
     "output_type": "stream",
     "text": [
      "Index(['a', 'b', 'c', 'd', 'e'], dtype='object')\n",
      "[ 1  3  4  7 11]\n"
     ]
    }
   ],
   "source": [
    "# Declaring a Series with its associated index\n",
    "p = Series([1, 3, 4, 7, 11], index=['a', 'b', 'c', 'd', 'e'])\n",
    "\n",
    "display(p)\n",
    "print(p.index)\n",
    "print(p.values)"
   ]
  },
  {
   "cell_type": "code",
   "execution_count": 4,
   "metadata": {
    "ExecuteTime": {
     "end_time": "2019-06-29T13:16:38.475710Z",
     "start_time": "2019-06-29T13:16:38.457486Z"
    }
   },
   "outputs": [
    {
     "data": {
      "text/plain": [
       "c     2\n",
       "b     4\n",
       "a    12\n",
       "dtype: int64"
      ]
     },
     "metadata": {},
     "output_type": "display_data"
    },
    {
     "name": "stdout",
     "output_type": "stream",
     "text": [
      "12\n"
     ]
    },
    {
     "data": {
      "text/plain": [
       "c    2\n",
       "b    4\n",
       "a    1\n",
       "dtype: int64"
      ]
     },
     "metadata": {},
     "output_type": "display_data"
    },
    {
     "data": {
      "text/plain": [
       "c    2\n",
       "a    1\n",
       "dtype: int64"
      ]
     },
     "execution_count": 4,
     "metadata": {},
     "output_type": "execute_result"
    }
   ],
   "source": [
    "q = Series([2, 4, 12,], index=['c', 'b', 'a'])\n",
    "display(q)\n",
    "\n",
    "# Selecting a value from a Series using indices\n",
    "print(q['a'])\n",
    "\n",
    "# Updating a value from a Series using indices\n",
    "q['a'] = 1\n",
    "display(q)\n",
    "\n",
    "# Selecting multiple values from a Series (Pay attention to the double square brackets)\n",
    "q[['c', 'a']]"
   ]
  },
  {
   "cell_type": "code",
   "execution_count": 5,
   "metadata": {
    "ExecuteTime": {
     "end_time": "2019-06-29T13:16:38.507264Z",
     "start_time": "2019-06-29T13:16:38.478324Z"
    }
   },
   "outputs": [
    {
     "data": {
      "text/plain": [
       "a     1\n",
       "b     3\n",
       "c     4\n",
       "d     7\n",
       "e    11\n",
       "dtype: int64"
      ]
     },
     "metadata": {},
     "output_type": "display_data"
    },
    {
     "data": {
      "text/plain": [
       "a       1\n",
       "b      27\n",
       "c      64\n",
       "d     343\n",
       "e    1331\n",
       "dtype: int64"
      ]
     },
     "metadata": {},
     "output_type": "display_data"
    },
    {
     "data": {
      "text/plain": [
       "f     4000\n",
       "g    12000\n",
       "h     1600\n",
       "i    21000\n",
       "j    44000\n",
       "dtype: int64"
      ]
     },
     "metadata": {},
     "output_type": "display_data"
    },
    {
     "data": {
      "text/plain": [
       "f     8.294050\n",
       "g     9.392662\n",
       "h     7.377759\n",
       "i     9.952278\n",
       "j    10.691945\n",
       "dtype: float64"
      ]
     },
     "metadata": {},
     "output_type": "display_data"
    }
   ],
   "source": [
    "\n",
    "p = Series([1, 3, 4, 7, 11], index=['a', 'b', 'c', 'd', 'e'])\n",
    "display(p)\n",
    "# Indices are preserved after performing operations (arithmetic operations)\n",
    "display(p**3)\n",
    "\n",
    "q = Series([4000, 12000, 1600, 21000, 44000], index=['f', 'g', 'h', 'i', 'j'])\n",
    "display(q)\n",
    "# Indices are preserved after performing functions\n",
    "display(np.log(q))"
   ]
  },
  {
   "cell_type": "code",
   "execution_count": 6,
   "metadata": {
    "ExecuteTime": {
     "end_time": "2019-06-29T13:16:38.529570Z",
     "start_time": "2019-06-29T13:16:38.511267Z"
    }
   },
   "outputs": [
    {
     "data": {
      "text/plain": [
       "ak     8.2\n",
       "bl     9.3\n",
       "cm     7.3\n",
       "dn     9.9\n",
       "eo    10.6\n",
       "dtype: float64"
      ]
     },
     "metadata": {},
     "output_type": "display_data"
    },
    {
     "data": {
      "text/plain": [
       "bl     9.3\n",
       "dn     9.9\n",
       "eo    10.6\n",
       "dtype: float64"
      ]
     },
     "metadata": {},
     "output_type": "display_data"
    }
   ],
   "source": [
    "g = Series([8.2,  9.3,  7.3,  9.9,  10.6,], index=['ak', 'bl', 'cm', 'dn', 'eo'])\n",
    "display(g)\n",
    "# Indices are preserved also after filtering\n",
    "display(g[g>9])"
   ]
  },
  {
   "cell_type": "code",
   "execution_count": 7,
   "metadata": {
    "ExecuteTime": {
     "end_time": "2019-06-29T13:16:38.544519Z",
     "start_time": "2019-06-29T13:16:38.534071Z"
    }
   },
   "outputs": [
    {
     "data": {
      "text/plain": [
       "2000    100\n",
       "2001    200\n",
       "2002    400\n",
       "dtype: int64"
      ]
     },
     "metadata": {},
     "output_type": "display_data"
    },
    {
     "name": "stdout",
     "output_type": "stream",
     "text": [
      "True\n",
      "False\n"
     ]
    }
   ],
   "source": [
    "# A Series can be created from a dictionary\n",
    "g = Series({2000 : 100, 2001 : 200, 2002 : 400})\n",
    "display(g)\n",
    "\n",
    "# A Series can also be thought of as a dictionary, a mapping from index to values (like keys to values)\n",
    "print(2000 in g)\n",
    "print(2003 in g)"
   ]
  },
  {
   "cell_type": "code",
   "execution_count": 8,
   "metadata": {
    "ExecuteTime": {
     "end_time": "2019-06-29T13:16:38.582105Z",
     "start_time": "2019-06-29T13:16:38.549035Z"
    }
   },
   "outputs": [
    {
     "data": {
      "text/plain": [
       "2010    175.0\n",
       "2011    275.0\n",
       "2012    400.0\n",
       "2013      NaN\n",
       "dtype: float64"
      ]
     },
     "metadata": {},
     "output_type": "display_data"
    },
    {
     "data": {
      "text/plain": [
       "2010    False\n",
       "2011    False\n",
       "2012    False\n",
       "2013     True\n",
       "dtype: bool"
      ]
     },
     "metadata": {},
     "output_type": "display_data"
    },
    {
     "data": {
      "text/plain": [
       "2010    False\n",
       "2011    False\n",
       "2012    False\n",
       "2013     True\n",
       "dtype: bool"
      ]
     },
     "metadata": {},
     "output_type": "display_data"
    },
    {
     "data": {
      "text/plain": [
       "2010     True\n",
       "2011     True\n",
       "2012     True\n",
       "2013    False\n",
       "dtype: bool"
      ]
     },
     "metadata": {},
     "output_type": "display_data"
    },
    {
     "data": {
      "text/plain": [
       "2010     True\n",
       "2011     True\n",
       "2012     True\n",
       "2013    False\n",
       "dtype: bool"
      ]
     },
     "metadata": {},
     "output_type": "display_data"
    }
   ],
   "source": [
    "g = Series({2010 : 175, 2011 : 275, 2012 : 400, 2013 : None})\n",
    "display(g)\n",
    "\n",
    "# Use pd.isnull(s) or Series.isnull() to find which rows are null in the Series\n",
    "display(pd.isnull(g))\n",
    "display(g.isnull())\n",
    "# Use pd.notnull(s) or Series.notnull() to get the rows that are filled.\n",
    "display(pd.notnull(g))\n",
    "display(g.notnull())"
   ]
  },
  {
   "cell_type": "markdown",
   "metadata": {},
   "source": [
    "<hr>\n",
    "### `DataFrame`\n",
    "\n",
    "A `DataFrame` is a rectangular table of data with an ordered collection of columns, often of different datatypes. It has <u>both</u> a row and column index."
   ]
  },
  {
   "cell_type": "code",
   "execution_count": 9,
   "metadata": {
    "ExecuteTime": {
     "end_time": "2019-06-29T13:16:38.612960Z",
     "start_time": "2019-06-29T13:16:38.585923Z"
    }
   },
   "outputs": [
    {
     "data": {
      "text/html": [
       "<div>\n",
       "<style scoped>\n",
       "    .dataframe tbody tr th:only-of-type {\n",
       "        vertical-align: middle;\n",
       "    }\n",
       "\n",
       "    .dataframe tbody tr th {\n",
       "        vertical-align: top;\n",
       "    }\n",
       "\n",
       "    .dataframe thead th {\n",
       "        text-align: right;\n",
       "    }\n",
       "</style>\n",
       "<table border=\"1\" class=\"dataframe\">\n",
       "  <thead>\n",
       "    <tr style=\"text-align: right;\">\n",
       "      <th></th>\n",
       "      <th>loan_amnt</th>\n",
       "      <th>int_rate</th>\n",
       "      <th>term</th>\n",
       "      <th>grade</th>\n",
       "    </tr>\n",
       "  </thead>\n",
       "  <tbody>\n",
       "    <tr>\n",
       "      <th>48304290</th>\n",
       "      <td>30000.0</td>\n",
       "      <td>8.18</td>\n",
       "      <td>36 months</td>\n",
       "      <td>B</td>\n",
       "    </tr>\n",
       "    <tr>\n",
       "      <th>49904421</th>\n",
       "      <td>14225.0</td>\n",
       "      <td>13.33</td>\n",
       "      <td>60 months</td>\n",
       "      <td>C</td>\n",
       "    </tr>\n",
       "    <tr>\n",
       "      <th>32038416</th>\n",
       "      <td>12000.0</td>\n",
       "      <td>20.20</td>\n",
       "      <td>60 months</td>\n",
       "      <td>E</td>\n",
       "    </tr>\n",
       "    <tr>\n",
       "      <th>11456303</th>\n",
       "      <td>18000.0</td>\n",
       "      <td>8.39</td>\n",
       "      <td>36 months</td>\n",
       "      <td>A</td>\n",
       "    </tr>\n",
       "    <tr>\n",
       "      <th>23613274</th>\n",
       "      <td>4000.0</td>\n",
       "      <td>12.49</td>\n",
       "      <td>36 months</td>\n",
       "      <td>B</td>\n",
       "    </tr>\n",
       "    <tr>\n",
       "      <th>55949701</th>\n",
       "      <td>15000.0</td>\n",
       "      <td>16.99</td>\n",
       "      <td>60 months</td>\n",
       "      <td>D</td>\n",
       "    </tr>\n",
       "  </tbody>\n",
       "</table>\n",
       "</div>"
      ],
      "text/plain": [
       "          loan_amnt  int_rate        term grade\n",
       "48304290    30000.0      8.18   36 months     B\n",
       "49904421    14225.0     13.33   60 months     C\n",
       "32038416    12000.0     20.20   60 months     E\n",
       "11456303    18000.0      8.39   36 months     A\n",
       "23613274     4000.0     12.49   36 months     B\n",
       "55949701    15000.0     16.99   60 months     D"
      ]
     },
     "metadata": {},
     "output_type": "display_data"
    }
   ],
   "source": [
    "df = pd.read_csv('dataset-A-loans.csv', index_col=0)\n",
    "display(df)"
   ]
  },
  {
   "cell_type": "code",
   "execution_count": 10,
   "metadata": {
    "ExecuteTime": {
     "end_time": "2019-06-29T13:16:38.629927Z",
     "start_time": "2019-06-29T13:16:38.616693Z"
    }
   },
   "outputs": [
    {
     "data": {
      "text/plain": [
       "48304290     8.18\n",
       "49904421    13.33\n",
       "32038416    20.20\n",
       "11456303     8.39\n",
       "23613274    12.49\n",
       "55949701    16.99\n",
       "Name: int_rate, dtype: float64"
      ]
     },
     "metadata": {},
     "output_type": "display_data"
    },
    {
     "data": {
      "text/plain": [
       "48304290    B\n",
       "49904421    C\n",
       "32038416    E\n",
       "11456303    A\n",
       "23613274    B\n",
       "55949701    D\n",
       "Name: grade, dtype: object"
      ]
     },
     "metadata": {},
     "output_type": "display_data"
    }
   ],
   "source": [
    "# Retrieving a column from a df as a Series. Note that the row index is preserved.\n",
    "display(df['int_rate'])\n",
    "# Retrieve a column using the attribute of the Series. This is only valid when the\n",
    "# column name is a valid Python variable\n",
    "display(df.grade)"
   ]
  },
  {
   "cell_type": "code",
   "execution_count": 11,
   "metadata": {
    "ExecuteTime": {
     "end_time": "2019-06-29T13:16:38.648581Z",
     "start_time": "2019-06-29T13:16:38.634760Z"
    }
   },
   "outputs": [
    {
     "data": {
      "text/plain": [
       "loan_amnt         14225\n",
       "int_rate          13.33\n",
       "term          60 months\n",
       "grade                 C\n",
       "Name: 49904421, dtype: object"
      ]
     },
     "metadata": {},
     "output_type": "display_data"
    },
    {
     "data": {
      "text/plain": [
       "loan_amnt         12000\n",
       "int_rate           20.2\n",
       "term          60 months\n",
       "grade                 E\n",
       "Name: 32038416, dtype: object"
      ]
     },
     "metadata": {},
     "output_type": "display_data"
    }
   ],
   "source": [
    "# Rows can be retrieved via position using iloc[position]\n",
    "display(df.iloc[1])\n",
    "\n",
    "# Row can also be retrieved via index name using loc[index]\n",
    "display(df.loc[32038416])"
   ]
  },
  {
   "cell_type": "code",
   "execution_count": 12,
   "metadata": {
    "ExecuteTime": {
     "end_time": "2019-06-29T13:16:38.684030Z",
     "start_time": "2019-06-29T13:16:38.651921Z"
    }
   },
   "outputs": [
    {
     "data": {
      "text/html": [
       "<div>\n",
       "<style scoped>\n",
       "    .dataframe tbody tr th:only-of-type {\n",
       "        vertical-align: middle;\n",
       "    }\n",
       "\n",
       "    .dataframe tbody tr th {\n",
       "        vertical-align: top;\n",
       "    }\n",
       "\n",
       "    .dataframe thead th {\n",
       "        text-align: right;\n",
       "    }\n",
       "</style>\n",
       "<table border=\"1\" class=\"dataframe\">\n",
       "  <thead>\n",
       "    <tr style=\"text-align: right;\">\n",
       "      <th></th>\n",
       "      <th>loan_amnt</th>\n",
       "      <th>int_rate</th>\n",
       "      <th>term</th>\n",
       "      <th>grade</th>\n",
       "      <th>id</th>\n",
       "      <th>disburse_date</th>\n",
       "    </tr>\n",
       "  </thead>\n",
       "  <tbody>\n",
       "    <tr>\n",
       "      <th>48304290</th>\n",
       "      <td>30000.0</td>\n",
       "      <td>8.18</td>\n",
       "      <td>36 months</td>\n",
       "      <td>B</td>\n",
       "      <td>1</td>\n",
       "      <td>1-Jan-2019</td>\n",
       "    </tr>\n",
       "    <tr>\n",
       "      <th>49904421</th>\n",
       "      <td>14225.0</td>\n",
       "      <td>13.33</td>\n",
       "      <td>60 months</td>\n",
       "      <td>C</td>\n",
       "      <td>2</td>\n",
       "      <td>1-Jan-2019</td>\n",
       "    </tr>\n",
       "    <tr>\n",
       "      <th>32038416</th>\n",
       "      <td>12000.0</td>\n",
       "      <td>20.20</td>\n",
       "      <td>60 months</td>\n",
       "      <td>E</td>\n",
       "      <td>3</td>\n",
       "      <td>1-Jan-2019</td>\n",
       "    </tr>\n",
       "    <tr>\n",
       "      <th>11456303</th>\n",
       "      <td>18000.0</td>\n",
       "      <td>8.39</td>\n",
       "      <td>36 months</td>\n",
       "      <td>A</td>\n",
       "      <td>4</td>\n",
       "      <td>1-Jan-2019</td>\n",
       "    </tr>\n",
       "    <tr>\n",
       "      <th>23613274</th>\n",
       "      <td>4000.0</td>\n",
       "      <td>12.49</td>\n",
       "      <td>36 months</td>\n",
       "      <td>B</td>\n",
       "      <td>5</td>\n",
       "      <td>1-Jan-2019</td>\n",
       "    </tr>\n",
       "    <tr>\n",
       "      <th>55949701</th>\n",
       "      <td>15000.0</td>\n",
       "      <td>16.99</td>\n",
       "      <td>60 months</td>\n",
       "      <td>D</td>\n",
       "      <td>6</td>\n",
       "      <td>1-Jan-2019</td>\n",
       "    </tr>\n",
       "  </tbody>\n",
       "</table>\n",
       "</div>"
      ],
      "text/plain": [
       "          loan_amnt  int_rate        term grade  id disburse_date\n",
       "48304290    30000.0      8.18   36 months     B   1    1-Jan-2019\n",
       "49904421    14225.0     13.33   60 months     C   2    1-Jan-2019\n",
       "32038416    12000.0     20.20   60 months     E   3    1-Jan-2019\n",
       "11456303    18000.0      8.39   36 months     A   4    1-Jan-2019\n",
       "23613274     4000.0     12.49   36 months     B   5    1-Jan-2019\n",
       "55949701    15000.0     16.99   60 months     D   6    1-Jan-2019"
      ]
     },
     "metadata": {},
     "output_type": "display_data"
    }
   ],
   "source": [
    "# Assigning values to a row in a df (dynamically)\n",
    "df['id'] = range(1, df.shape[0]+1)\n",
    "# Assigning values to a row in a df with a scalar value\n",
    "df['disburse_date'] = '1-Jan-2019'\n",
    "display(df)"
   ]
  },
  {
   "cell_type": "code",
   "execution_count": 13,
   "metadata": {
    "ExecuteTime": {
     "end_time": "2019-06-29T13:16:38.719761Z",
     "start_time": "2019-06-29T13:16:38.687999Z"
    },
    "scrolled": false
   },
   "outputs": [
    {
     "data": {
      "text/html": [
       "<div>\n",
       "<style scoped>\n",
       "    .dataframe tbody tr th:only-of-type {\n",
       "        vertical-align: middle;\n",
       "    }\n",
       "\n",
       "    .dataframe tbody tr th {\n",
       "        vertical-align: top;\n",
       "    }\n",
       "\n",
       "    .dataframe thead th {\n",
       "        text-align: right;\n",
       "    }\n",
       "</style>\n",
       "<table border=\"1\" class=\"dataframe\">\n",
       "  <thead>\n",
       "    <tr style=\"text-align: right;\">\n",
       "      <th></th>\n",
       "      <th>48304290</th>\n",
       "      <th>49904421</th>\n",
       "      <th>32038416</th>\n",
       "      <th>11456303</th>\n",
       "      <th>23613274</th>\n",
       "      <th>55949701</th>\n",
       "    </tr>\n",
       "  </thead>\n",
       "  <tbody>\n",
       "    <tr>\n",
       "      <th>loan_amnt</th>\n",
       "      <td>30000</td>\n",
       "      <td>14225</td>\n",
       "      <td>12000</td>\n",
       "      <td>18000</td>\n",
       "      <td>4000</td>\n",
       "      <td>15000</td>\n",
       "    </tr>\n",
       "    <tr>\n",
       "      <th>int_rate</th>\n",
       "      <td>8.18</td>\n",
       "      <td>13.33</td>\n",
       "      <td>20.2</td>\n",
       "      <td>8.39</td>\n",
       "      <td>12.49</td>\n",
       "      <td>16.99</td>\n",
       "    </tr>\n",
       "    <tr>\n",
       "      <th>term</th>\n",
       "      <td>36 months</td>\n",
       "      <td>60 months</td>\n",
       "      <td>60 months</td>\n",
       "      <td>36 months</td>\n",
       "      <td>36 months</td>\n",
       "      <td>60 months</td>\n",
       "    </tr>\n",
       "    <tr>\n",
       "      <th>grade</th>\n",
       "      <td>B</td>\n",
       "      <td>C</td>\n",
       "      <td>E</td>\n",
       "      <td>A</td>\n",
       "      <td>B</td>\n",
       "      <td>D</td>\n",
       "    </tr>\n",
       "    <tr>\n",
       "      <th>id</th>\n",
       "      <td>1</td>\n",
       "      <td>2</td>\n",
       "      <td>3</td>\n",
       "      <td>4</td>\n",
       "      <td>5</td>\n",
       "      <td>6</td>\n",
       "    </tr>\n",
       "    <tr>\n",
       "      <th>disburse_date</th>\n",
       "      <td>1-Jan-2019</td>\n",
       "      <td>1-Jan-2019</td>\n",
       "      <td>1-Jan-2019</td>\n",
       "      <td>1-Jan-2019</td>\n",
       "      <td>1-Jan-2019</td>\n",
       "      <td>1-Jan-2019</td>\n",
       "    </tr>\n",
       "  </tbody>\n",
       "</table>\n",
       "</div>"
      ],
      "text/plain": [
       "                 48304290    49904421    32038416    11456303    23613274  \\\n",
       "loan_amnt           30000       14225       12000       18000        4000   \n",
       "int_rate             8.18       13.33        20.2        8.39       12.49   \n",
       "term            36 months   60 months   60 months   36 months   36 months   \n",
       "grade                   B           C           E           A           B   \n",
       "id                      1           2           3           4           5   \n",
       "disburse_date  1-Jan-2019  1-Jan-2019  1-Jan-2019  1-Jan-2019  1-Jan-2019   \n",
       "\n",
       "                 55949701  \n",
       "loan_amnt           15000  \n",
       "int_rate            16.99  \n",
       "term            60 months  \n",
       "grade                   D  \n",
       "id                      6  \n",
       "disburse_date  1-Jan-2019  "
      ]
     },
     "metadata": {},
     "output_type": "display_data"
    }
   ],
   "source": [
    "# Transpose a df using df.T\n",
    "display(df.T)"
   ]
  },
  {
   "cell_type": "code",
   "execution_count": 14,
   "metadata": {
    "ExecuteTime": {
     "end_time": "2019-06-29T13:16:38.748874Z",
     "start_time": "2019-06-29T13:16:38.723520Z"
    }
   },
   "outputs": [
    {
     "data": {
      "text/html": [
       "<div>\n",
       "<style scoped>\n",
       "    .dataframe tbody tr th:only-of-type {\n",
       "        vertical-align: middle;\n",
       "    }\n",
       "\n",
       "    .dataframe tbody tr th {\n",
       "        vertical-align: top;\n",
       "    }\n",
       "\n",
       "    .dataframe thead th {\n",
       "        text-align: right;\n",
       "    }\n",
       "</style>\n",
       "<table border=\"1\" class=\"dataframe\">\n",
       "  <thead>\n",
       "    <tr style=\"text-align: right;\">\n",
       "      <th></th>\n",
       "      <th>48304290</th>\n",
       "      <th>49904421</th>\n",
       "      <th>32038416</th>\n",
       "      <th>11456303</th>\n",
       "      <th>23613274</th>\n",
       "      <th>55949701</th>\n",
       "    </tr>\n",
       "  </thead>\n",
       "  <tbody>\n",
       "    <tr>\n",
       "      <th>loan_amnt</th>\n",
       "      <td>30000</td>\n",
       "      <td>14225</td>\n",
       "      <td>12000</td>\n",
       "      <td>18000</td>\n",
       "      <td>4000</td>\n",
       "      <td>15000</td>\n",
       "    </tr>\n",
       "    <tr>\n",
       "      <th>int_rate</th>\n",
       "      <td>8.18</td>\n",
       "      <td>13.33</td>\n",
       "      <td>20.2</td>\n",
       "      <td>8.39</td>\n",
       "      <td>12.49</td>\n",
       "      <td>16.99</td>\n",
       "    </tr>\n",
       "    <tr>\n",
       "      <th>term</th>\n",
       "      <td>36 months</td>\n",
       "      <td>60 months</td>\n",
       "      <td>60 months</td>\n",
       "      <td>36 months</td>\n",
       "      <td>36 months</td>\n",
       "      <td>60 months</td>\n",
       "    </tr>\n",
       "    <tr>\n",
       "      <th>grade</th>\n",
       "      <td>B</td>\n",
       "      <td>C</td>\n",
       "      <td>E</td>\n",
       "      <td>A</td>\n",
       "      <td>B</td>\n",
       "      <td>D</td>\n",
       "    </tr>\n",
       "    <tr>\n",
       "      <th>id</th>\n",
       "      <td>1</td>\n",
       "      <td>2</td>\n",
       "      <td>3</td>\n",
       "      <td>4</td>\n",
       "      <td>5</td>\n",
       "      <td>6</td>\n",
       "    </tr>\n",
       "    <tr>\n",
       "      <th>disburse_date</th>\n",
       "      <td>1-Jan-2019</td>\n",
       "      <td>1-Jan-2019</td>\n",
       "      <td>1-Jan-2019</td>\n",
       "      <td>1-Jan-2019</td>\n",
       "      <td>1-Jan-2019</td>\n",
       "      <td>1-Jan-2019</td>\n",
       "    </tr>\n",
       "  </tbody>\n",
       "</table>\n",
       "</div>"
      ],
      "text/plain": [
       "                 48304290    49904421    32038416    11456303    23613274  \\\n",
       "loan_amnt           30000       14225       12000       18000        4000   \n",
       "int_rate             8.18       13.33        20.2        8.39       12.49   \n",
       "term            36 months   60 months   60 months   36 months   36 months   \n",
       "grade                   B           C           E           A           B   \n",
       "id                      1           2           3           4           5   \n",
       "disburse_date  1-Jan-2019  1-Jan-2019  1-Jan-2019  1-Jan-2019  1-Jan-2019   \n",
       "\n",
       "                 55949701  \n",
       "loan_amnt           15000  \n",
       "int_rate            16.99  \n",
       "term            60 months  \n",
       "grade                   D  \n",
       "id                      6  \n",
       "disburse_date  1-Jan-2019  "
      ]
     },
     "metadata": {},
     "output_type": "display_data"
    }
   ],
   "source": [
    "# Transpose a df using df.transpose()\n",
    "display(df.transpose())"
   ]
  },
  {
   "cell_type": "markdown",
   "metadata": {},
   "source": [
    "<hr>\n",
    "### Index Objects\n",
    "\n",
    "`pandas` uses Index objects to hold the axis labels and other metadata (like the axis name or names). Any array or other sequence of labels you use when constructing a Series or DataFrame is internally converted to an Index."
   ]
  },
  {
   "cell_type": "code",
   "execution_count": 15,
   "metadata": {
    "ExecuteTime": {
     "end_time": "2019-06-29T13:16:38.779637Z",
     "start_time": "2019-06-29T13:16:38.752856Z"
    }
   },
   "outputs": [
    {
     "name": "stdout",
     "output_type": "stream",
     "text": [
      "          loan_amnt  int_rate        term grade\n",
      "48304290    30000.0      8.18   36 months     B\n",
      "49904421    14225.0     13.33   60 months     C\n",
      "49904421    12000.0     20.20   60 months     E\n",
      "11456303    18000.0      8.39   36 months     A\n",
      "55949701    15000.0     16.99   60 months     D\n"
     ]
    },
    {
     "data": {
      "text/plain": [
       "Int64Index([48304290, 49904421, 49904421, 11456303, 55949701], dtype='int64')"
      ]
     },
     "metadata": {},
     "output_type": "display_data"
    }
   ],
   "source": [
    "df1 = pd.read_csv('dataset-A1-loans.csv', index_col=0)\n",
    "print(df1)\n",
    "loan_ids = df1.index\n",
    "display(loan_ids)"
   ]
  },
  {
   "cell_type": "code",
   "execution_count": 16,
   "metadata": {
    "ExecuteTime": {
     "end_time": "2019-06-29T13:16:38.789813Z",
     "start_time": "2019-06-29T13:16:38.784796Z"
    }
   },
   "outputs": [
    {
     "name": "stdout",
     "output_type": "stream",
     "text": [
      "48304290\n",
      "Int64Index([49904421, 49904421, 11456303, 55949701], dtype='int64')\n"
     ]
    }
   ],
   "source": [
    "# Retrieve index using positions or ranges\n",
    "print(loan_ids[0])\n",
    "print(loan_ids[1:])"
   ]
  },
  {
   "cell_type": "code",
   "execution_count": 17,
   "metadata": {
    "ExecuteTime": {
     "end_time": "2019-06-29T13:16:38.804164Z",
     "start_time": "2019-06-29T13:16:38.793053Z"
    }
   },
   "outputs": [
    {
     "name": "stdout",
     "output_type": "stream",
     "text": [
      "True\n",
      "False\n"
     ]
    }
   ],
   "source": [
    "# Index objects are immutable\n",
    "# loan_ids[0] = 1 # This will raise a TypeError\n",
    "\n",
    "# Index objects also behave like sets. However, unlike sets, Index objects can contain duplicate labels\n",
    "print(49904421 in loan_ids)\n",
    "print('4' in loan_ids)"
   ]
  },
  {
   "cell_type": "markdown",
   "metadata": {},
   "source": [
    "<hr>"
   ]
  },
  {
   "cell_type": "markdown",
   "metadata": {},
   "source": [
    "**References:**\n",
    "\n",
    "Python for Data Analysis, 2nd Edition, McKinney (2017)"
   ]
  }
 ],
 "metadata": {
  "kernelspec": {
   "display_name": "Python 3",
   "language": "python",
   "name": "python3"
  },
  "language_info": {
   "codemirror_mode": {
    "name": "ipython",
    "version": 3
   },
   "file_extension": ".py",
   "mimetype": "text/x-python",
   "name": "python",
   "nbconvert_exporter": "python",
   "pygments_lexer": "ipython3",
   "version": "3.7.2"
  }
 },
 "nbformat": 4,
 "nbformat_minor": 2
}
