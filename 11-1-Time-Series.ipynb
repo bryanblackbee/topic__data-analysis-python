{
 "cells": [
  {
   "cell_type": "markdown",
   "metadata": {},
   "source": [
    "# Chapter 11 - Time Series"
   ]
  },
  {
   "cell_type": "markdown",
   "metadata": {},
   "source": [
    "## 11.1 - Date and Time Data Types and Tools"
   ]
  },
  {
   "cell_type": "code",
   "execution_count": 1,
   "metadata": {
    "ExecuteTime": {
     "end_time": "2019-10-09T14:47:25.061666Z",
     "start_time": "2019-10-09T14:47:24.702527Z"
    }
   },
   "outputs": [],
   "source": [
    "import datetime\n",
    "from datetime import datetime as dt\n",
    "import pandas as pd\n",
    "import numpy as np\n",
    "\n",
    "from dateutil.parser import parse"
   ]
  },
  {
   "cell_type": "markdown",
   "metadata": {},
   "source": [
    "The Python standard library has datatypes for date and time data, and date manipulation. Mostly, the `datetime.datetime`datatype is being used.\n",
    "\n",
    "`datetime` stores a date down to the microsecond."
   ]
  },
  {
   "cell_type": "code",
   "execution_count": 2,
   "metadata": {
    "ExecuteTime": {
     "end_time": "2019-10-09T14:47:25.080261Z",
     "start_time": "2019-10-09T14:47:25.064032Z"
    }
   },
   "outputs": [
    {
     "data": {
      "text/plain": [
       "datetime.datetime(2019, 10, 9, 22, 47, 25, 66175)"
      ]
     },
     "metadata": {},
     "output_type": "display_data"
    },
    {
     "name": "stdout",
     "output_type": "stream",
     "text": [
      "2019\n",
      "10\n",
      "9\n",
      "\n",
      "22\n",
      "47\n",
      "25\n"
     ]
    }
   ],
   "source": [
    "# Get current time\n",
    "now = dt.now()\n",
    "display(now)\n",
    "\n",
    "# Get the attributes of the dt object using their names\n",
    "print(now.year)\n",
    "print(now.month)\n",
    "print(now.day)\n",
    "print()\n",
    "print(now.hour)\n",
    "print(now.minute)\n",
    "print(now.second)"
   ]
  },
  {
   "cell_type": "code",
   "execution_count": 3,
   "metadata": {
    "ExecuteTime": {
     "end_time": "2019-10-09T14:47:25.097510Z",
     "start_time": "2019-10-09T14:47:25.083480Z"
    }
   },
   "outputs": [
    {
     "data": {
      "text/plain": [
       "datetime.datetime(2019, 1, 13, 0, 0)"
      ]
     },
     "metadata": {},
     "output_type": "display_data"
    },
    {
     "name": "stdout",
     "output_type": "stream",
     "text": [
      "2019 1 13\n",
      "\n",
      "0 0 0\n"
     ]
    }
   ],
   "source": [
    "# Instantiate a dt variable just by using date\n",
    "t1 = dt(2019, 1, 13)\n",
    "display(t1)\n",
    "print(t1.year, t1.month, t1.day)\n",
    "print()\n",
    "print(t1.hour, t1.minute, t1.second)"
   ]
  },
  {
   "cell_type": "code",
   "execution_count": 4,
   "metadata": {
    "ExecuteTime": {
     "end_time": "2019-10-09T14:47:25.114986Z",
     "start_time": "2019-10-09T14:47:25.103315Z"
    },
    "scrolled": true
   },
   "outputs": [
    {
     "data": {
      "text/plain": [
       "datetime.datetime(2019, 2, 23, 10, 0, 30)"
      ]
     },
     "metadata": {},
     "output_type": "display_data"
    },
    {
     "name": "stdout",
     "output_type": "stream",
     "text": [
      "2019 2 23\n",
      "\n",
      "10 0 30\n"
     ]
    }
   ],
   "source": [
    "# Instantiate a dt variable using date and time\n",
    "t2 = dt(2019, 2, 23, 10, 0, 30)\n",
    "display(t2)\n",
    "print(t2.year, t2.month, t2.day)\n",
    "print()\n",
    "print(t2.hour, t2.minute, t2.second)"
   ]
  },
  {
   "cell_type": "markdown",
   "metadata": {},
   "source": [
    "The temporal difference between two `datetime` objects is stored as a `timedelta` datatype."
   ]
  },
  {
   "cell_type": "code",
   "execution_count": 5,
   "metadata": {
    "ExecuteTime": {
     "end_time": "2019-10-09T14:47:25.135244Z",
     "start_time": "2019-10-09T14:47:25.119930Z"
    }
   },
   "outputs": [
    {
     "data": {
      "text/plain": [
       "datetime.datetime(2019, 1, 13, 0, 0)"
      ]
     },
     "metadata": {},
     "output_type": "display_data"
    },
    {
     "data": {
      "text/plain": [
       "datetime.datetime(2019, 2, 23, 10, 0, 30)"
      ]
     },
     "metadata": {},
     "output_type": "display_data"
    },
    {
     "data": {
      "text/plain": [
       "datetime.timedelta(41, 36030)"
      ]
     },
     "metadata": {},
     "output_type": "display_data"
    },
    {
     "name": "stdout",
     "output_type": "stream",
     "text": [
      "41 36030\n"
     ]
    }
   ],
   "source": [
    "display(t1)\n",
    "display(t2)\n",
    "\n",
    "# timedelta will give the difference between 2 datetime objects\n",
    "td = t2 - t1\n",
    "display(td)\n",
    "# timedelta has values in days and seconds\n",
    "print(td.days, td.seconds)"
   ]
  },
  {
   "cell_type": "code",
   "execution_count": 6,
   "metadata": {
    "ExecuteTime": {
     "end_time": "2019-10-09T14:47:25.153111Z",
     "start_time": "2019-10-09T14:47:25.139667Z"
    }
   },
   "outputs": [
    {
     "data": {
      "text/plain": [
       "datetime.datetime(2019, 1, 13, 0, 0)"
      ]
     },
     "metadata": {},
     "output_type": "display_data"
    },
    {
     "data": {
      "text/plain": [
       "datetime.datetime(2019, 2, 2, 0, 0)"
      ]
     },
     "metadata": {},
     "output_type": "display_data"
    }
   ],
   "source": [
    "# Use timedelta to add a time period to a datetime\n",
    "display(t1)\n",
    "\n",
    "# Add 20 days to a dt\n",
    "display(t1 + datetime.timedelta(20))"
   ]
  },
  {
   "cell_type": "markdown",
   "metadata": {},
   "source": [
    "Convert a `str` to a `datetime` using `strptime`. Conversely, convert a `datetime` to a `str` using `strftime`. In both cases, do remember to state the date-time format."
   ]
  },
  {
   "cell_type": "code",
   "execution_count": 7,
   "metadata": {
    "ExecuteTime": {
     "end_time": "2019-10-09T14:47:25.168078Z",
     "start_time": "2019-10-09T14:47:25.158576Z"
    }
   },
   "outputs": [
    {
     "name": "stdout",
     "output_type": "stream",
     "text": [
      "2019-01-13 00:00:00\n",
      "2019-01-28 00:00:00\n"
     ]
    }
   ],
   "source": [
    "# NOTE: strftime is STRING from TIME,  so dt  -> str\n",
    "print(dt.strftime(t1, '%Y-%m-%d %H:%M:%S'))\n",
    "# NOTE: strptime is STRING parse TIME, so str -> dt\n",
    "print(dt.strptime('2019-01-28', '%Y-%m-%d'))"
   ]
  },
  {
   "cell_type": "markdown",
   "metadata": {},
   "source": [
    "Additionally, convert a `str` to a `datetime` object using the `parse` function from `dateutil.parser`. This ia a dependency for `pandas` so it is installed when `pandas` was installed."
   ]
  },
  {
   "cell_type": "code",
   "execution_count": 8,
   "metadata": {
    "ExecuteTime": {
     "end_time": "2019-10-09T14:47:25.187748Z",
     "start_time": "2019-10-09T14:47:25.172257Z"
    }
   },
   "outputs": [
    {
     "data": {
      "text/plain": [
       "datetime.datetime(2019, 1, 28, 0, 0)"
      ]
     },
     "metadata": {},
     "output_type": "display_data"
    },
    {
     "data": {
      "text/plain": [
       "datetime.datetime(2010, 4, 16, 0, 0)"
      ]
     },
     "metadata": {},
     "output_type": "display_data"
    },
    {
     "data": {
      "text/plain": [
       "datetime.datetime(2019, 5, 13, 8, 30)"
      ]
     },
     "metadata": {},
     "output_type": "display_data"
    }
   ],
   "source": [
    "# use dateutil.parser.parse from dateutil to obtain datetime \n",
    "# from multiple string formats\n",
    "display(parse('2019-01-28'))\n",
    "display(parse('4/16/2010'))\n",
    "display(parse('2019.05.13 8:30'))"
   ]
  },
  {
   "cell_type": "markdown",
   "metadata": {},
   "source": [
    "To convert strings to `DateTimeIndex` use `pd.to_datetime()`"
   ]
  },
  {
   "cell_type": "code",
   "execution_count": 9,
   "metadata": {
    "ExecuteTime": {
     "end_time": "2019-10-09T14:47:25.200792Z",
     "start_time": "2019-10-09T14:47:25.191860Z"
    }
   },
   "outputs": [
    {
     "data": {
      "text/plain": [
       "DatetimeIndex(['2019-10-01 08:30:00', '2019-10-01 09:30:00',\n",
       "               '2019-12-01 09:30:00'],\n",
       "              dtype='datetime64[ns]', freq=None)"
      ]
     },
     "metadata": {},
     "output_type": "display_data"
    }
   ],
   "source": [
    "# Use pd.to_datetime to convert strings to a DateTimeIndex\n",
    "l1 = pd.to_datetime(['2019-10-01 8:30:00', '2019-10-01 9:30:00', '2019-12-01 9:30:00'])\n",
    "display(l1)"
   ]
  },
  {
   "cell_type": "markdown",
   "metadata": {},
   "source": [
    "The `pandas.to_datetime()` function can parse multiple datetimes from string to date time formats. It also handles missing values. `NaT` is pandas's null value for timestamp data."
   ]
  },
  {
   "cell_type": "code",
   "execution_count": 10,
   "metadata": {
    "ExecuteTime": {
     "end_time": "2019-10-09T14:47:25.217312Z",
     "start_time": "2019-10-09T14:47:25.203297Z"
    }
   },
   "outputs": [
    {
     "data": {
      "text/plain": [
       "DatetimeIndex(['2019-10-01 08:30:00',                 'NaT',\n",
       "               '2019-10-01 09:30:00', '2019-12-01 09:30:00',\n",
       "                               'NaT'],\n",
       "              dtype='datetime64[ns]', freq=None)"
      ]
     },
     "metadata": {},
     "output_type": "display_data"
    },
    {
     "data": {
      "text/plain": [
       "array([False,  True, False, False,  True])"
      ]
     },
     "metadata": {},
     "output_type": "display_data"
    }
   ],
   "source": [
    "a = pd.to_datetime(['2019-10-01 8:30:00', \n",
    "                    None, '2019-10-01 9:30:00', \n",
    "                    '2019-12-01 9:30:00', np.nan])\n",
    "display(a)\n",
    "display(a.isnull())"
   ]
  },
  {
   "cell_type": "markdown",
   "metadata": {},
   "source": [
    "**References:**\n",
    "\n",
    "Python for Data Analysis, 2nd Edition, McKinney (2017)"
   ]
  }
 ],
 "metadata": {
  "kernelspec": {
   "display_name": "Python 3",
   "language": "python",
   "name": "python3"
  },
  "language_info": {
   "codemirror_mode": {
    "name": "ipython",
    "version": 3
   },
   "file_extension": ".py",
   "mimetype": "text/x-python",
   "name": "python",
   "nbconvert_exporter": "python",
   "pygments_lexer": "ipython3",
   "version": "3.6.5"
  }
 },
 "nbformat": 4,
 "nbformat_minor": 2
}
