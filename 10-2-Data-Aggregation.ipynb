{
 "cells": [
  {
   "cell_type": "markdown",
   "metadata": {},
   "source": [
    "# Chapter 10 - Data Aggregation and Group Operations"
   ]
  },
  {
   "cell_type": "markdown",
   "metadata": {},
   "source": [
    "## Data Aggregation"
   ]
  },
  {
   "cell_type": "code",
   "execution_count": 1,
   "metadata": {
    "ExecuteTime": {
     "end_time": "2019-11-28T17:58:36.876779Z",
     "start_time": "2019-11-28T17:58:35.583155Z"
    }
   },
   "outputs": [],
   "source": [
    "import pandas as pd\n",
    "# Additional imports\n",
    "import seaborn"
   ]
  },
  {
   "cell_type": "code",
   "execution_count": 2,
   "metadata": {
    "ExecuteTime": {
     "end_time": "2019-11-28T17:58:36.922793Z",
     "start_time": "2019-11-28T17:58:36.879345Z"
    },
    "scrolled": false
   },
   "outputs": [
    {
     "data": {
      "text/html": [
       "<div>\n",
       "<style scoped>\n",
       "    .dataframe tbody tr th:only-of-type {\n",
       "        vertical-align: middle;\n",
       "    }\n",
       "\n",
       "    .dataframe tbody tr th {\n",
       "        vertical-align: top;\n",
       "    }\n",
       "\n",
       "    .dataframe thead th {\n",
       "        text-align: right;\n",
       "    }\n",
       "</style>\n",
       "<table border=\"1\" class=\"dataframe\">\n",
       "  <thead>\n",
       "    <tr style=\"text-align: right;\">\n",
       "      <th></th>\n",
       "      <th>id</th>\n",
       "      <th>funded_amount</th>\n",
       "      <th>term</th>\n",
       "      <th>interest_rate</th>\n",
       "      <th>grade</th>\n",
       "      <th>employee_length</th>\n",
       "      <th>home_ownership</th>\n",
       "      <th>annual_income</th>\n",
       "      <th>purpose</th>\n",
       "      <th>title</th>\n",
       "    </tr>\n",
       "  </thead>\n",
       "  <tbody>\n",
       "    <tr>\n",
       "      <th>0</th>\n",
       "      <td>721751</td>\n",
       "      <td>7000.0</td>\n",
       "      <td>36 months</td>\n",
       "      <td>14.91</td>\n",
       "      <td>D</td>\n",
       "      <td>2 years</td>\n",
       "      <td>RENT</td>\n",
       "      <td>46000.0</td>\n",
       "      <td>debt_consolidation</td>\n",
       "      <td>Debt Removal</td>\n",
       "    </tr>\n",
       "    <tr>\n",
       "      <th>1</th>\n",
       "      <td>40277218</td>\n",
       "      <td>16800.0</td>\n",
       "      <td>60 months</td>\n",
       "      <td>16.49</td>\n",
       "      <td>D</td>\n",
       "      <td>4 years</td>\n",
       "      <td>RENT</td>\n",
       "      <td>45500.0</td>\n",
       "      <td>home_improvement</td>\n",
       "      <td>Home improvement</td>\n",
       "    </tr>\n",
       "    <tr>\n",
       "      <th>2</th>\n",
       "      <td>68416017</td>\n",
       "      <td>1500.0</td>\n",
       "      <td>36 months</td>\n",
       "      <td>9.17</td>\n",
       "      <td>B</td>\n",
       "      <td>10+ years</td>\n",
       "      <td>MORTGAGE</td>\n",
       "      <td>83000.0</td>\n",
       "      <td>major_purchase</td>\n",
       "      <td>Major purchase</td>\n",
       "    </tr>\n",
       "    <tr>\n",
       "      <th>3</th>\n",
       "      <td>59481461</td>\n",
       "      <td>8000.0</td>\n",
       "      <td>36 months</td>\n",
       "      <td>12.29</td>\n",
       "      <td>C</td>\n",
       "      <td>2 years</td>\n",
       "      <td>RENT</td>\n",
       "      <td>74000.0</td>\n",
       "      <td>debt_consolidation</td>\n",
       "      <td>Debt consolidation</td>\n",
       "    </tr>\n",
       "    <tr>\n",
       "      <th>4</th>\n",
       "      <td>73003</td>\n",
       "      <td>3200.0</td>\n",
       "      <td>36 months</td>\n",
       "      <td>9.96</td>\n",
       "      <td>B</td>\n",
       "      <td>&lt; 1 year</td>\n",
       "      <td>MORTGAGE</td>\n",
       "      <td>150000.0</td>\n",
       "      <td>other</td>\n",
       "      <td>New Bathroom</td>\n",
       "    </tr>\n",
       "    <tr>\n",
       "      <th>5</th>\n",
       "      <td>55917749</td>\n",
       "      <td>5000.0</td>\n",
       "      <td>36 months</td>\n",
       "      <td>12.29</td>\n",
       "      <td>C</td>\n",
       "      <td>10+ years</td>\n",
       "      <td>MORTGAGE</td>\n",
       "      <td>55000.0</td>\n",
       "      <td>home_improvement</td>\n",
       "      <td>Home improvement</td>\n",
       "    </tr>\n",
       "    <tr>\n",
       "      <th>6</th>\n",
       "      <td>1149328</td>\n",
       "      <td>11500.0</td>\n",
       "      <td>36 months</td>\n",
       "      <td>16.29</td>\n",
       "      <td>C</td>\n",
       "      <td>2 years</td>\n",
       "      <td>MORTGAGE</td>\n",
       "      <td>68000.0</td>\n",
       "      <td>credit_card</td>\n",
       "      <td>Credit Card</td>\n",
       "    </tr>\n",
       "    <tr>\n",
       "      <th>7</th>\n",
       "      <td>1614457</td>\n",
       "      <td>6000.0</td>\n",
       "      <td>36 months</td>\n",
       "      <td>15.80</td>\n",
       "      <td>C</td>\n",
       "      <td>5 years</td>\n",
       "      <td>MORTGAGE</td>\n",
       "      <td>36000.0</td>\n",
       "      <td>debt_consolidation</td>\n",
       "      <td>Debt consolidation</td>\n",
       "    </tr>\n",
       "  </tbody>\n",
       "</table>\n",
       "</div>"
      ],
      "text/plain": [
       "         id  funded_amount        term  interest_rate grade employee_length  \\\n",
       "0    721751         7000.0   36 months          14.91     D         2 years   \n",
       "1  40277218        16800.0   60 months          16.49     D         4 years   \n",
       "2  68416017         1500.0   36 months           9.17     B       10+ years   \n",
       "3  59481461         8000.0   36 months          12.29     C         2 years   \n",
       "4     73003         3200.0   36 months           9.96     B        < 1 year   \n",
       "5  55917749         5000.0   36 months          12.29     C       10+ years   \n",
       "6   1149328        11500.0   36 months          16.29     C         2 years   \n",
       "7   1614457         6000.0   36 months          15.80     C         5 years   \n",
       "\n",
       "  home_ownership  annual_income             purpose               title  \n",
       "0           RENT        46000.0  debt_consolidation        Debt Removal  \n",
       "1           RENT        45500.0    home_improvement    Home improvement  \n",
       "2       MORTGAGE        83000.0      major_purchase      Major purchase  \n",
       "3           RENT        74000.0  debt_consolidation  Debt consolidation  \n",
       "4       MORTGAGE       150000.0               other        New Bathroom  \n",
       "5       MORTGAGE        55000.0    home_improvement    Home improvement  \n",
       "6       MORTGAGE        68000.0         credit_card         Credit Card  \n",
       "7       MORTGAGE        36000.0  debt_consolidation  Debt consolidation  "
      ]
     },
     "metadata": {},
     "output_type": "display_data"
    }
   ],
   "source": [
    "# Read from CSV file\n",
    "df = pd.read_csv('dataset-A3-loans.csv')\n",
    "display(df.head(8))"
   ]
  },
  {
   "cell_type": "markdown",
   "metadata": {},
   "source": [
    "A summary of all the built-in aggregation functions after using `.groupby()` are:\n",
    "\n",
    "- `count()`, `sum()`, `mean()`, `std()`, `var()`, `min()`, `max()`"
   ]
  },
  {
   "cell_type": "code",
   "execution_count": 3,
   "metadata": {
    "ExecuteTime": {
     "end_time": "2019-11-28T17:58:36.932479Z",
     "start_time": "2019-11-28T17:58:36.926881Z"
    }
   },
   "outputs": [],
   "source": [
    "df_by_grade_grouped = df.groupby('grade')[['funded_amount']]"
   ]
  },
  {
   "cell_type": "code",
   "execution_count": 4,
   "metadata": {
    "ExecuteTime": {
     "end_time": "2019-11-28T17:58:36.947814Z",
     "start_time": "2019-11-28T17:58:36.936680Z"
    }
   },
   "outputs": [
    {
     "name": "stdout",
     "output_type": "stream",
     "text": [
      "       funded_amount\n",
      "grade               \n",
      "A                  6\n",
      "B                 21\n",
      "C                 15\n",
      "D                  4\n",
      "E                  3\n",
      "F                  1\n"
     ]
    }
   ],
   "source": [
    "print(df_by_grade_grouped.count())"
   ]
  },
  {
   "cell_type": "code",
   "execution_count": 5,
   "metadata": {
    "ExecuteTime": {
     "end_time": "2019-11-28T17:58:36.981730Z",
     "start_time": "2019-11-28T17:58:36.952897Z"
    }
   },
   "outputs": [
    {
     "name": "stdout",
     "output_type": "stream",
     "text": [
      "       funded_amount\n",
      "grade               \n",
      "A            72500.0\n",
      "B           262875.0\n",
      "C           160050.0\n",
      "D            50275.0\n",
      "E            56050.0\n",
      "F            25000.0\n",
      "       funded_amount\n",
      "grade               \n",
      "A       12083.333333\n",
      "B       12517.857143\n",
      "C       10670.000000\n",
      "D       12568.750000\n",
      "E       18683.333333\n",
      "F       25000.000000\n",
      "       funded_amount\n",
      "grade               \n",
      "A       11416.902674\n",
      "B        7915.602247\n",
      "C        7982.728007\n",
      "D        8447.222793\n",
      "E       13381.921885\n",
      "F                NaN\n",
      "       funded_amount\n",
      "grade               \n",
      "A       1.303457e+08\n",
      "B       6.265676e+07\n",
      "C       6.372395e+07\n",
      "D       7.135557e+07\n",
      "E       1.790758e+08\n",
      "F                NaN\n"
     ]
    }
   ],
   "source": [
    "print(df_by_grade_grouped.sum())\n",
    "print(df_by_grade_grouped.mean())\n",
    "print(df_by_grade_grouped.std())\n",
    "print(df_by_grade_grouped.var())"
   ]
  },
  {
   "cell_type": "code",
   "execution_count": 6,
   "metadata": {
    "ExecuteTime": {
     "end_time": "2019-11-28T17:58:37.012016Z",
     "start_time": "2019-11-28T17:58:36.986759Z"
    },
    "scrolled": true
   },
   "outputs": [
    {
     "name": "stdout",
     "output_type": "stream",
     "text": [
      "       funded_amount\n",
      "grade               \n",
      "A             4000.0\n",
      "B             1500.0\n",
      "C             1000.0\n",
      "D             4175.0\n",
      "E             4800.0\n",
      "F            25000.0\n",
      "       funded_amount\n",
      "grade               \n",
      "A            34000.0\n",
      "B            35000.0\n",
      "C            26000.0\n",
      "D            22300.0\n",
      "E            31500.0\n",
      "F            25000.0\n"
     ]
    }
   ],
   "source": [
    "print(df_by_grade_grouped.min())\n",
    "print(df_by_grade_grouped.max())"
   ]
  },
  {
   "cell_type": "markdown",
   "metadata": {},
   "source": [
    "While `.quantile()` is not explicitly implemented for `.groupby()`, it is a `Series` method and thus available for use. Internally, `.groupby()` efficiently slices up the Series into its own slices, calls `quantile(0.9)` for each slice, and then assembles those results together into the final output. The same goes for `.median()`."
   ]
  },
  {
   "cell_type": "code",
   "execution_count": 7,
   "metadata": {
    "ExecuteTime": {
     "end_time": "2019-11-28T17:58:37.052817Z",
     "start_time": "2019-11-28T17:58:37.016446Z"
    },
    "scrolled": true
   },
   "outputs": [
    {
     "name": "stdout",
     "output_type": "stream",
     "text": [
      "term\n",
      " 36 months     4800.0\n",
      " 60 months    17500.0\n",
      "Name: funded_amount, dtype: float64\n",
      "term\n",
      " 36 months     6500.0\n",
      " 60 months    20375.0\n",
      "Name: funded_amount, dtype: float64\n",
      "term\n",
      " 36 months    11075.0\n",
      " 60 months    22950.0\n",
      "Name: funded_amount, dtype: float64\n"
     ]
    }
   ],
   "source": [
    "df_by_term = df.groupby('term')['funded_amount']\n",
    "\n",
    "print(df_by_term.quantile(0.25))\n",
    "print(df_by_term.median())\n",
    "print(df_by_term.quantile(0.75))"
   ]
  },
  {
   "cell_type": "markdown",
   "metadata": {},
   "source": [
    "To create custom aggregation functions, pass any function that aggregates an array. Use the `.agg()` method to call this defined function."
   ]
  },
  {
   "cell_type": "code",
   "execution_count": 8,
   "metadata": {
    "ExecuteTime": {
     "end_time": "2019-11-28T17:58:37.062931Z",
     "start_time": "2019-11-28T17:58:37.056485Z"
    }
   },
   "outputs": [],
   "source": [
    "def diff_top_x(s):\n",
    "    \"\"\"\n",
    "        Get difference between top and bottom value\n",
    "    \"\"\"\n",
    "    std = s.sort_values()\n",
    "    return std.tail(1).sum() - std.head(1).sum()"
   ]
  },
  {
   "cell_type": "code",
   "execution_count": 9,
   "metadata": {
    "ExecuteTime": {
     "end_time": "2019-11-28T17:58:37.101906Z",
     "start_time": "2019-11-28T17:58:37.066801Z"
    },
    "scrolled": true
   },
   "outputs": [
    {
     "data": {
      "text/plain": [
       "grade\n",
       "A     43000.0\n",
       "B    110000.0\n",
       "C     79000.0\n",
       "D     63250.0\n",
       "E     84000.0\n",
       "F         0.0\n",
       "Name: annual_income, dtype: float64"
      ]
     },
     "execution_count": 9,
     "metadata": {},
     "output_type": "execute_result"
    }
   ],
   "source": [
    "df.groupby('grade')['annual_income'].agg(diff_top_x)"
   ]
  },
  {
   "cell_type": "markdown",
   "metadata": {},
   "source": [
    "Since `.describe()` is a `Series` function, it can be used too following a `.groupby()`."
   ]
  },
  {
   "cell_type": "code",
   "execution_count": 10,
   "metadata": {
    "ExecuteTime": {
     "end_time": "2019-11-28T17:58:37.182095Z",
     "start_time": "2019-11-28T17:58:37.110681Z"
    },
    "scrolled": true
   },
   "outputs": [
    {
     "data": {
      "text/html": [
       "<div>\n",
       "<style scoped>\n",
       "    .dataframe tbody tr th:only-of-type {\n",
       "        vertical-align: middle;\n",
       "    }\n",
       "\n",
       "    .dataframe tbody tr th {\n",
       "        vertical-align: top;\n",
       "    }\n",
       "\n",
       "    .dataframe thead th {\n",
       "        text-align: right;\n",
       "    }\n",
       "</style>\n",
       "<table border=\"1\" class=\"dataframe\">\n",
       "  <thead>\n",
       "    <tr style=\"text-align: right;\">\n",
       "      <th></th>\n",
       "      <th>count</th>\n",
       "      <th>mean</th>\n",
       "      <th>std</th>\n",
       "      <th>min</th>\n",
       "      <th>25%</th>\n",
       "      <th>50%</th>\n",
       "      <th>75%</th>\n",
       "      <th>max</th>\n",
       "    </tr>\n",
       "    <tr>\n",
       "      <th>grade</th>\n",
       "      <th></th>\n",
       "      <th></th>\n",
       "      <th></th>\n",
       "      <th></th>\n",
       "      <th></th>\n",
       "      <th></th>\n",
       "      <th></th>\n",
       "      <th></th>\n",
       "    </tr>\n",
       "  </thead>\n",
       "  <tbody>\n",
       "    <tr>\n",
       "      <th>A</th>\n",
       "      <td>6.0</td>\n",
       "      <td>81166.666667</td>\n",
       "      <td>16166.838487</td>\n",
       "      <td>67000.0</td>\n",
       "      <td>71500.0</td>\n",
       "      <td>74500.0</td>\n",
       "      <td>86500.0</td>\n",
       "      <td>110000.0</td>\n",
       "    </tr>\n",
       "    <tr>\n",
       "      <th>B</th>\n",
       "      <td>21.0</td>\n",
       "      <td>75089.571429</td>\n",
       "      <td>36543.053832</td>\n",
       "      <td>40000.0</td>\n",
       "      <td>45000.0</td>\n",
       "      <td>65000.0</td>\n",
       "      <td>83000.0</td>\n",
       "      <td>150000.0</td>\n",
       "    </tr>\n",
       "    <tr>\n",
       "      <th>C</th>\n",
       "      <td>15.0</td>\n",
       "      <td>60502.666667</td>\n",
       "      <td>20152.244635</td>\n",
       "      <td>36000.0</td>\n",
       "      <td>48520.0</td>\n",
       "      <td>55000.0</td>\n",
       "      <td>70000.0</td>\n",
       "      <td>115000.0</td>\n",
       "    </tr>\n",
       "    <tr>\n",
       "      <th>D</th>\n",
       "      <td>4.0</td>\n",
       "      <td>51187.500000</td>\n",
       "      <td>26574.874569</td>\n",
       "      <td>25000.0</td>\n",
       "      <td>40375.0</td>\n",
       "      <td>45750.0</td>\n",
       "      <td>56562.5</td>\n",
       "      <td>88250.0</td>\n",
       "    </tr>\n",
       "    <tr>\n",
       "      <th>E</th>\n",
       "      <td>3.0</td>\n",
       "      <td>91691.666667</td>\n",
       "      <td>42483.940593</td>\n",
       "      <td>46000.0</td>\n",
       "      <td>72537.5</td>\n",
       "      <td>99075.0</td>\n",
       "      <td>114537.5</td>\n",
       "      <td>130000.0</td>\n",
       "    </tr>\n",
       "    <tr>\n",
       "      <th>F</th>\n",
       "      <td>1.0</td>\n",
       "      <td>68000.000000</td>\n",
       "      <td>NaN</td>\n",
       "      <td>68000.0</td>\n",
       "      <td>68000.0</td>\n",
       "      <td>68000.0</td>\n",
       "      <td>68000.0</td>\n",
       "      <td>68000.0</td>\n",
       "    </tr>\n",
       "  </tbody>\n",
       "</table>\n",
       "</div>"
      ],
      "text/plain": [
       "       count          mean           std      min      25%      50%       75%  \\\n",
       "grade                                                                           \n",
       "A        6.0  81166.666667  16166.838487  67000.0  71500.0  74500.0   86500.0   \n",
       "B       21.0  75089.571429  36543.053832  40000.0  45000.0  65000.0   83000.0   \n",
       "C       15.0  60502.666667  20152.244635  36000.0  48520.0  55000.0   70000.0   \n",
       "D        4.0  51187.500000  26574.874569  25000.0  40375.0  45750.0   56562.5   \n",
       "E        3.0  91691.666667  42483.940593  46000.0  72537.5  99075.0  114537.5   \n",
       "F        1.0  68000.000000           NaN  68000.0  68000.0  68000.0   68000.0   \n",
       "\n",
       "            max  \n",
       "grade            \n",
       "A      110000.0  \n",
       "B      150000.0  \n",
       "C      115000.0  \n",
       "D       88250.0  \n",
       "E      130000.0  \n",
       "F       68000.0  "
      ]
     },
     "execution_count": 10,
     "metadata": {},
     "output_type": "execute_result"
    }
   ],
   "source": [
    "df.groupby('grade')['annual_income'].describe()"
   ]
  },
  {
   "cell_type": "markdown",
   "metadata": {},
   "source": [
    "<hr>"
   ]
  },
  {
   "cell_type": "code",
   "execution_count": 11,
   "metadata": {
    "ExecuteTime": {
     "end_time": "2019-11-28T17:58:37.254169Z",
     "start_time": "2019-11-28T17:58:37.184748Z"
    },
    "scrolled": true
   },
   "outputs": [
    {
     "name": "stdout",
     "output_type": "stream",
     "text": [
      "<class 'pandas.core.frame.DataFrame'>\n",
      "RangeIndex: 244 entries, 0 to 243\n",
      "Data columns (total 8 columns):\n",
      "total_bill    244 non-null float64\n",
      "tip           244 non-null float64\n",
      "sex           244 non-null category\n",
      "smoker        244 non-null category\n",
      "day           244 non-null category\n",
      "time          244 non-null category\n",
      "size          244 non-null int64\n",
      "pct_tip       244 non-null float64\n",
      "dtypes: category(4), float64(3), int64(1)\n",
      "memory usage: 9.1 KB\n"
     ]
    },
    {
     "data": {
      "text/plain": [
       "None"
      ]
     },
     "metadata": {},
     "output_type": "display_data"
    },
    {
     "data": {
      "text/html": [
       "<div>\n",
       "<style scoped>\n",
       "    .dataframe tbody tr th:only-of-type {\n",
       "        vertical-align: middle;\n",
       "    }\n",
       "\n",
       "    .dataframe tbody tr th {\n",
       "        vertical-align: top;\n",
       "    }\n",
       "\n",
       "    .dataframe thead th {\n",
       "        text-align: right;\n",
       "    }\n",
       "</style>\n",
       "<table border=\"1\" class=\"dataframe\">\n",
       "  <thead>\n",
       "    <tr style=\"text-align: right;\">\n",
       "      <th></th>\n",
       "      <th>total_bill</th>\n",
       "      <th>tip</th>\n",
       "      <th>sex</th>\n",
       "      <th>smoker</th>\n",
       "      <th>day</th>\n",
       "      <th>time</th>\n",
       "      <th>size</th>\n",
       "      <th>pct_tip</th>\n",
       "    </tr>\n",
       "  </thead>\n",
       "  <tbody>\n",
       "    <tr>\n",
       "      <th>0</th>\n",
       "      <td>16.99</td>\n",
       "      <td>1.01</td>\n",
       "      <td>Female</td>\n",
       "      <td>No</td>\n",
       "      <td>Sun</td>\n",
       "      <td>Dinner</td>\n",
       "      <td>2</td>\n",
       "      <td>0.059447</td>\n",
       "    </tr>\n",
       "    <tr>\n",
       "      <th>1</th>\n",
       "      <td>10.34</td>\n",
       "      <td>1.66</td>\n",
       "      <td>Male</td>\n",
       "      <td>No</td>\n",
       "      <td>Sun</td>\n",
       "      <td>Dinner</td>\n",
       "      <td>3</td>\n",
       "      <td>0.160542</td>\n",
       "    </tr>\n",
       "    <tr>\n",
       "      <th>2</th>\n",
       "      <td>21.01</td>\n",
       "      <td>3.50</td>\n",
       "      <td>Male</td>\n",
       "      <td>No</td>\n",
       "      <td>Sun</td>\n",
       "      <td>Dinner</td>\n",
       "      <td>3</td>\n",
       "      <td>0.166587</td>\n",
       "    </tr>\n",
       "  </tbody>\n",
       "</table>\n",
       "</div>"
      ],
      "text/plain": [
       "   total_bill   tip     sex smoker  day    time  size   pct_tip\n",
       "0       16.99  1.01  Female     No  Sun  Dinner     2  0.059447\n",
       "1       10.34  1.66    Male     No  Sun  Dinner     3  0.160542\n",
       "2       21.01  3.50    Male     No  Sun  Dinner     3  0.166587"
      ]
     },
     "metadata": {},
     "output_type": "display_data"
    }
   ],
   "source": [
    "tips_df = seaborn.load_dataset('tips')\n",
    "tips_df['pct_tip'] = tips_df['tip'] /  tips_df['total_bill']\n",
    "display(tips_df.info())\n",
    "display(tips_df.head(3))"
   ]
  },
  {
   "cell_type": "markdown",
   "metadata": {},
   "source": [
    "To aggregate using `.agg()`, pass the name of the function into the `.agg()` like so."
   ]
  },
  {
   "cell_type": "code",
   "execution_count": 12,
   "metadata": {
    "ExecuteTime": {
     "end_time": "2019-11-28T17:58:37.275524Z",
     "start_time": "2019-11-28T17:58:37.259653Z"
    }
   },
   "outputs": [],
   "source": [
    "by_day_by_smoker_groupby = tips_df.groupby(['day', 'smoker'])"
   ]
  },
  {
   "cell_type": "code",
   "execution_count": 13,
   "metadata": {
    "ExecuteTime": {
     "end_time": "2019-11-28T17:58:37.308384Z",
     "start_time": "2019-11-28T17:58:37.284615Z"
    }
   },
   "outputs": [
    {
     "data": {
      "text/plain": [
       "day   smoker\n",
       "Thur  Yes       0.163863\n",
       "      No        0.160298\n",
       "Fri   Yes       0.174783\n",
       "      No        0.151650\n",
       "Sat   Yes       0.147906\n",
       "      No        0.158048\n",
       "Sun   Yes       0.187250\n",
       "      No        0.160113\n",
       "Name: pct_tip, dtype: float64"
      ]
     },
     "execution_count": 13,
     "metadata": {},
     "output_type": "execute_result"
    }
   ],
   "source": [
    "# Find the average percentage of all tips, by day and by smoker flag\n",
    "by_day_by_smoker_groupby['pct_tip'].agg('mean')"
   ]
  },
  {
   "cell_type": "markdown",
   "metadata": {},
   "source": [
    "Passing a list of functions yields a `df` with their respective function names and calculations."
   ]
  },
  {
   "cell_type": "code",
   "execution_count": 14,
   "metadata": {
    "ExecuteTime": {
     "end_time": "2019-11-28T17:58:37.399451Z",
     "start_time": "2019-11-28T17:58:37.312402Z"
    }
   },
   "outputs": [
    {
     "data": {
      "text/html": [
       "<div>\n",
       "<style scoped>\n",
       "    .dataframe tbody tr th:only-of-type {\n",
       "        vertical-align: middle;\n",
       "    }\n",
       "\n",
       "    .dataframe tbody tr th {\n",
       "        vertical-align: top;\n",
       "    }\n",
       "\n",
       "    .dataframe thead th {\n",
       "        text-align: right;\n",
       "    }\n",
       "</style>\n",
       "<table border=\"1\" class=\"dataframe\">\n",
       "  <thead>\n",
       "    <tr style=\"text-align: right;\">\n",
       "      <th></th>\n",
       "      <th></th>\n",
       "      <th>mean</th>\n",
       "      <th>median</th>\n",
       "      <th>std</th>\n",
       "      <th>diff_top_x</th>\n",
       "    </tr>\n",
       "    <tr>\n",
       "      <th>day</th>\n",
       "      <th>smoker</th>\n",
       "      <th></th>\n",
       "      <th></th>\n",
       "      <th></th>\n",
       "      <th></th>\n",
       "    </tr>\n",
       "  </thead>\n",
       "  <tbody>\n",
       "    <tr>\n",
       "      <th rowspan=\"2\" valign=\"top\">Thur</th>\n",
       "      <th>Yes</th>\n",
       "      <td>0.163863</td>\n",
       "      <td>0.153846</td>\n",
       "      <td>0.039389</td>\n",
       "      <td>0.151240</td>\n",
       "    </tr>\n",
       "    <tr>\n",
       "      <th>No</th>\n",
       "      <td>0.160298</td>\n",
       "      <td>0.153492</td>\n",
       "      <td>0.038774</td>\n",
       "      <td>0.193350</td>\n",
       "    </tr>\n",
       "    <tr>\n",
       "      <th rowspan=\"2\" valign=\"top\">Fri</th>\n",
       "      <th>Yes</th>\n",
       "      <td>0.174783</td>\n",
       "      <td>0.173913</td>\n",
       "      <td>0.051293</td>\n",
       "      <td>0.159925</td>\n",
       "    </tr>\n",
       "    <tr>\n",
       "      <th>No</th>\n",
       "      <td>0.151650</td>\n",
       "      <td>0.149241</td>\n",
       "      <td>0.028123</td>\n",
       "      <td>0.067349</td>\n",
       "    </tr>\n",
       "    <tr>\n",
       "      <th rowspan=\"2\" valign=\"top\">Sat</th>\n",
       "      <th>Yes</th>\n",
       "      <td>0.147906</td>\n",
       "      <td>0.153624</td>\n",
       "      <td>0.061375</td>\n",
       "      <td>0.290095</td>\n",
       "    </tr>\n",
       "    <tr>\n",
       "      <th>No</th>\n",
       "      <td>0.158048</td>\n",
       "      <td>0.150152</td>\n",
       "      <td>0.039767</td>\n",
       "      <td>0.235193</td>\n",
       "    </tr>\n",
       "    <tr>\n",
       "      <th rowspan=\"2\" valign=\"top\">Sun</th>\n",
       "      <th>Yes</th>\n",
       "      <td>0.187250</td>\n",
       "      <td>0.138122</td>\n",
       "      <td>0.154134</td>\n",
       "      <td>0.644685</td>\n",
       "    </tr>\n",
       "    <tr>\n",
       "      <th>No</th>\n",
       "      <td>0.160113</td>\n",
       "      <td>0.161665</td>\n",
       "      <td>0.042347</td>\n",
       "      <td>0.193226</td>\n",
       "    </tr>\n",
       "  </tbody>\n",
       "</table>\n",
       "</div>"
      ],
      "text/plain": [
       "                 mean    median       std  diff_top_x\n",
       "day  smoker                                          \n",
       "Thur Yes     0.163863  0.153846  0.039389    0.151240\n",
       "     No      0.160298  0.153492  0.038774    0.193350\n",
       "Fri  Yes     0.174783  0.173913  0.051293    0.159925\n",
       "     No      0.151650  0.149241  0.028123    0.067349\n",
       "Sat  Yes     0.147906  0.153624  0.061375    0.290095\n",
       "     No      0.158048  0.150152  0.039767    0.235193\n",
       "Sun  Yes     0.187250  0.138122  0.154134    0.644685\n",
       "     No      0.160113  0.161665  0.042347    0.193226"
      ]
     },
     "execution_count": 14,
     "metadata": {},
     "output_type": "execute_result"
    }
   ],
   "source": [
    "# You can pass in names as strings or the name of functions directly.\n",
    "by_day_by_smoker_groupby['pct_tip'].agg(['mean', 'median', 'std', diff_top_x])"
   ]
  },
  {
   "cell_type": "code",
   "execution_count": 15,
   "metadata": {
    "ExecuteTime": {
     "end_time": "2019-11-28T17:58:37.461128Z",
     "start_time": "2019-11-28T17:58:37.402736Z"
    }
   },
   "outputs": [
    {
     "data": {
      "text/html": [
       "<div>\n",
       "<style scoped>\n",
       "    .dataframe tbody tr th:only-of-type {\n",
       "        vertical-align: middle;\n",
       "    }\n",
       "\n",
       "    .dataframe tbody tr th {\n",
       "        vertical-align: top;\n",
       "    }\n",
       "\n",
       "    .dataframe thead th {\n",
       "        text-align: right;\n",
       "    }\n",
       "</style>\n",
       "<table border=\"1\" class=\"dataframe\">\n",
       "  <thead>\n",
       "    <tr style=\"text-align: right;\">\n",
       "      <th></th>\n",
       "      <th></th>\n",
       "      <th>average_tip_pct</th>\n",
       "      <th>standard_dev_pct</th>\n",
       "    </tr>\n",
       "    <tr>\n",
       "      <th>day</th>\n",
       "      <th>smoker</th>\n",
       "      <th></th>\n",
       "      <th></th>\n",
       "    </tr>\n",
       "  </thead>\n",
       "  <tbody>\n",
       "    <tr>\n",
       "      <th rowspan=\"2\" valign=\"top\">Thur</th>\n",
       "      <th>Yes</th>\n",
       "      <td>0.163863</td>\n",
       "      <td>0.039389</td>\n",
       "    </tr>\n",
       "    <tr>\n",
       "      <th>No</th>\n",
       "      <td>0.160298</td>\n",
       "      <td>0.038774</td>\n",
       "    </tr>\n",
       "    <tr>\n",
       "      <th rowspan=\"2\" valign=\"top\">Fri</th>\n",
       "      <th>Yes</th>\n",
       "      <td>0.174783</td>\n",
       "      <td>0.051293</td>\n",
       "    </tr>\n",
       "    <tr>\n",
       "      <th>No</th>\n",
       "      <td>0.151650</td>\n",
       "      <td>0.028123</td>\n",
       "    </tr>\n",
       "    <tr>\n",
       "      <th rowspan=\"2\" valign=\"top\">Sat</th>\n",
       "      <th>Yes</th>\n",
       "      <td>0.147906</td>\n",
       "      <td>0.061375</td>\n",
       "    </tr>\n",
       "    <tr>\n",
       "      <th>No</th>\n",
       "      <td>0.158048</td>\n",
       "      <td>0.039767</td>\n",
       "    </tr>\n",
       "    <tr>\n",
       "      <th rowspan=\"2\" valign=\"top\">Sun</th>\n",
       "      <th>Yes</th>\n",
       "      <td>0.187250</td>\n",
       "      <td>0.154134</td>\n",
       "    </tr>\n",
       "    <tr>\n",
       "      <th>No</th>\n",
       "      <td>0.160113</td>\n",
       "      <td>0.042347</td>\n",
       "    </tr>\n",
       "  </tbody>\n",
       "</table>\n",
       "</div>"
      ],
      "text/plain": [
       "             average_tip_pct  standard_dev_pct\n",
       "day  smoker                                   \n",
       "Thur Yes            0.163863          0.039389\n",
       "     No             0.160298          0.038774\n",
       "Fri  Yes            0.174783          0.051293\n",
       "     No             0.151650          0.028123\n",
       "Sat  Yes            0.147906          0.061375\n",
       "     No             0.158048          0.039767\n",
       "Sun  Yes            0.187250          0.154134\n",
       "     No             0.160113          0.042347"
      ]
     },
     "execution_count": 15,
     "metadata": {},
     "output_type": "execute_result"
    }
   ],
   "source": [
    "# To directly change the name of the columns, pass in a 2-tuple, with the first value\n",
    "# as the column name and the second value as the function name.\n",
    "by_day_by_smoker_groupby['pct_tip'].agg([('average_tip_pct', 'mean'), ('standard_dev_pct', 'std')])"
   ]
  },
  {
   "cell_type": "code",
   "execution_count": 16,
   "metadata": {
    "ExecuteTime": {
     "end_time": "2019-11-28T17:58:37.608248Z",
     "start_time": "2019-11-28T17:58:37.466088Z"
    }
   },
   "outputs": [
    {
     "data": {
      "text/html": [
       "<div>\n",
       "<style scoped>\n",
       "    .dataframe tbody tr th:only-of-type {\n",
       "        vertical-align: middle;\n",
       "    }\n",
       "\n",
       "    .dataframe tbody tr th {\n",
       "        vertical-align: top;\n",
       "    }\n",
       "\n",
       "    .dataframe thead tr th {\n",
       "        text-align: left;\n",
       "    }\n",
       "\n",
       "    .dataframe thead tr:last-of-type th {\n",
       "        text-align: right;\n",
       "    }\n",
       "</style>\n",
       "<table border=\"1\" class=\"dataframe\">\n",
       "  <thead>\n",
       "    <tr>\n",
       "      <th></th>\n",
       "      <th></th>\n",
       "      <th colspan=\"4\" halign=\"left\">pct_tip</th>\n",
       "      <th colspan=\"4\" halign=\"left\">total_bill</th>\n",
       "    </tr>\n",
       "    <tr>\n",
       "      <th></th>\n",
       "      <th></th>\n",
       "      <th>mean</th>\n",
       "      <th>std</th>\n",
       "      <th>q25</th>\n",
       "      <th>q75</th>\n",
       "      <th>mean</th>\n",
       "      <th>std</th>\n",
       "      <th>q25</th>\n",
       "      <th>q75</th>\n",
       "    </tr>\n",
       "    <tr>\n",
       "      <th>day</th>\n",
       "      <th>smoker</th>\n",
       "      <th></th>\n",
       "      <th></th>\n",
       "      <th></th>\n",
       "      <th></th>\n",
       "      <th></th>\n",
       "      <th></th>\n",
       "      <th></th>\n",
       "      <th></th>\n",
       "    </tr>\n",
       "  </thead>\n",
       "  <tbody>\n",
       "    <tr>\n",
       "      <th rowspan=\"2\" valign=\"top\">Thur</th>\n",
       "      <th>Yes</th>\n",
       "      <td>0.163863</td>\n",
       "      <td>0.039389</td>\n",
       "      <td>0.148038</td>\n",
       "      <td>0.194837</td>\n",
       "      <td>19.190588</td>\n",
       "      <td>8.355149</td>\n",
       "      <td>13.510</td>\n",
       "      <td>19.8100</td>\n",
       "    </tr>\n",
       "    <tr>\n",
       "      <th>No</th>\n",
       "      <td>0.160298</td>\n",
       "      <td>0.038774</td>\n",
       "      <td>0.137741</td>\n",
       "      <td>0.184843</td>\n",
       "      <td>17.113111</td>\n",
       "      <td>7.721728</td>\n",
       "      <td>11.690</td>\n",
       "      <td>20.2700</td>\n",
       "    </tr>\n",
       "    <tr>\n",
       "      <th rowspan=\"2\" valign=\"top\">Fri</th>\n",
       "      <th>Yes</th>\n",
       "      <td>0.174783</td>\n",
       "      <td>0.051293</td>\n",
       "      <td>0.133739</td>\n",
       "      <td>0.209240</td>\n",
       "      <td>16.813333</td>\n",
       "      <td>9.086388</td>\n",
       "      <td>11.690</td>\n",
       "      <td>18.6650</td>\n",
       "    </tr>\n",
       "    <tr>\n",
       "      <th>No</th>\n",
       "      <td>0.151650</td>\n",
       "      <td>0.028123</td>\n",
       "      <td>0.137239</td>\n",
       "      <td>0.163652</td>\n",
       "      <td>18.420000</td>\n",
       "      <td>5.059282</td>\n",
       "      <td>15.100</td>\n",
       "      <td>22.5550</td>\n",
       "    </tr>\n",
       "    <tr>\n",
       "      <th rowspan=\"2\" valign=\"top\">Sat</th>\n",
       "      <th>Yes</th>\n",
       "      <td>0.147906</td>\n",
       "      <td>0.061375</td>\n",
       "      <td>0.091797</td>\n",
       "      <td>0.190502</td>\n",
       "      <td>21.276667</td>\n",
       "      <td>10.069138</td>\n",
       "      <td>13.405</td>\n",
       "      <td>26.7925</td>\n",
       "    </tr>\n",
       "    <tr>\n",
       "      <th>No</th>\n",
       "      <td>0.158048</td>\n",
       "      <td>0.039767</td>\n",
       "      <td>0.136240</td>\n",
       "      <td>0.183915</td>\n",
       "      <td>19.661778</td>\n",
       "      <td>8.939181</td>\n",
       "      <td>14.730</td>\n",
       "      <td>20.6500</td>\n",
       "    </tr>\n",
       "    <tr>\n",
       "      <th rowspan=\"2\" valign=\"top\">Sun</th>\n",
       "      <th>Yes</th>\n",
       "      <td>0.187250</td>\n",
       "      <td>0.154134</td>\n",
       "      <td>0.097723</td>\n",
       "      <td>0.215325</td>\n",
       "      <td>24.120000</td>\n",
       "      <td>10.442511</td>\n",
       "      <td>17.165</td>\n",
       "      <td>32.3750</td>\n",
       "    </tr>\n",
       "    <tr>\n",
       "      <th>No</th>\n",
       "      <td>0.160113</td>\n",
       "      <td>0.042347</td>\n",
       "      <td>0.139780</td>\n",
       "      <td>0.185185</td>\n",
       "      <td>20.506667</td>\n",
       "      <td>8.130189</td>\n",
       "      <td>14.780</td>\n",
       "      <td>25.0000</td>\n",
       "    </tr>\n",
       "  </tbody>\n",
       "</table>\n",
       "</div>"
      ],
      "text/plain": [
       "              pct_tip                               total_bill             \\\n",
       "                 mean       std       q25       q75       mean        std   \n",
       "day  smoker                                                                 \n",
       "Thur Yes     0.163863  0.039389  0.148038  0.194837  19.190588   8.355149   \n",
       "     No      0.160298  0.038774  0.137741  0.184843  17.113111   7.721728   \n",
       "Fri  Yes     0.174783  0.051293  0.133739  0.209240  16.813333   9.086388   \n",
       "     No      0.151650  0.028123  0.137239  0.163652  18.420000   5.059282   \n",
       "Sat  Yes     0.147906  0.061375  0.091797  0.190502  21.276667  10.069138   \n",
       "     No      0.158048  0.039767  0.136240  0.183915  19.661778   8.939181   \n",
       "Sun  Yes     0.187250  0.154134  0.097723  0.215325  24.120000  10.442511   \n",
       "     No      0.160113  0.042347  0.139780  0.185185  20.506667   8.130189   \n",
       "\n",
       "                              \n",
       "                q25      q75  \n",
       "day  smoker                   \n",
       "Thur Yes     13.510  19.8100  \n",
       "     No      11.690  20.2700  \n",
       "Fri  Yes     11.690  18.6650  \n",
       "     No      15.100  22.5550  \n",
       "Sat  Yes     13.405  26.7925  \n",
       "     No      14.730  20.6500  \n",
       "Sun  Yes     17.165  32.3750  \n",
       "     No      14.780  25.0000  "
      ]
     },
     "execution_count": 16,
     "metadata": {},
     "output_type": "execute_result"
    }
   ],
   "source": [
    "# Mix it up with additional columns. Note that the result has columns as a hierarchical index.\n",
    "def q25(x):\n",
    "    return x.quantile(0.25)\n",
    "def q75(x):\n",
    "    return x.quantile(0.75)\n",
    "by_day_by_smoker_groupby['pct_tip', 'total_bill'].agg(['mean', 'std', q25, q75])"
   ]
  },
  {
   "cell_type": "code",
   "execution_count": 17,
   "metadata": {
    "ExecuteTime": {
     "end_time": "2019-11-28T17:58:37.679957Z",
     "start_time": "2019-11-28T17:58:37.618704Z"
    }
   },
   "outputs": [
    {
     "data": {
      "text/html": [
       "<div>\n",
       "<style scoped>\n",
       "    .dataframe tbody tr th:only-of-type {\n",
       "        vertical-align: middle;\n",
       "    }\n",
       "\n",
       "    .dataframe tbody tr th {\n",
       "        vertical-align: top;\n",
       "    }\n",
       "\n",
       "    .dataframe thead tr th {\n",
       "        text-align: left;\n",
       "    }\n",
       "\n",
       "    .dataframe thead tr:last-of-type th {\n",
       "        text-align: right;\n",
       "    }\n",
       "</style>\n",
       "<table border=\"1\" class=\"dataframe\">\n",
       "  <thead>\n",
       "    <tr>\n",
       "      <th></th>\n",
       "      <th></th>\n",
       "      <th colspan=\"2\" halign=\"left\">pct_tip</th>\n",
       "      <th>total_bill</th>\n",
       "    </tr>\n",
       "    <tr>\n",
       "      <th></th>\n",
       "      <th></th>\n",
       "      <th>sum</th>\n",
       "      <th>count</th>\n",
       "      <th>sum</th>\n",
       "    </tr>\n",
       "    <tr>\n",
       "      <th>day</th>\n",
       "      <th>smoker</th>\n",
       "      <th></th>\n",
       "      <th></th>\n",
       "      <th></th>\n",
       "    </tr>\n",
       "  </thead>\n",
       "  <tbody>\n",
       "    <tr>\n",
       "      <th rowspan=\"2\" valign=\"top\">Thur</th>\n",
       "      <th>Yes</th>\n",
       "      <td>2.785676</td>\n",
       "      <td>17</td>\n",
       "      <td>326.24</td>\n",
       "    </tr>\n",
       "    <tr>\n",
       "      <th>No</th>\n",
       "      <td>7.213414</td>\n",
       "      <td>45</td>\n",
       "      <td>770.09</td>\n",
       "    </tr>\n",
       "    <tr>\n",
       "      <th rowspan=\"2\" valign=\"top\">Fri</th>\n",
       "      <th>Yes</th>\n",
       "      <td>2.621746</td>\n",
       "      <td>15</td>\n",
       "      <td>252.20</td>\n",
       "    </tr>\n",
       "    <tr>\n",
       "      <th>No</th>\n",
       "      <td>0.606602</td>\n",
       "      <td>4</td>\n",
       "      <td>73.68</td>\n",
       "    </tr>\n",
       "    <tr>\n",
       "      <th rowspan=\"2\" valign=\"top\">Sat</th>\n",
       "      <th>Yes</th>\n",
       "      <td>6.212055</td>\n",
       "      <td>42</td>\n",
       "      <td>893.62</td>\n",
       "    </tr>\n",
       "    <tr>\n",
       "      <th>No</th>\n",
       "      <td>7.112145</td>\n",
       "      <td>45</td>\n",
       "      <td>884.78</td>\n",
       "    </tr>\n",
       "    <tr>\n",
       "      <th rowspan=\"2\" valign=\"top\">Sun</th>\n",
       "      <th>Yes</th>\n",
       "      <td>3.557756</td>\n",
       "      <td>19</td>\n",
       "      <td>458.28</td>\n",
       "    </tr>\n",
       "    <tr>\n",
       "      <th>No</th>\n",
       "      <td>9.126438</td>\n",
       "      <td>57</td>\n",
       "      <td>1168.88</td>\n",
       "    </tr>\n",
       "  </tbody>\n",
       "</table>\n",
       "</div>"
      ],
      "text/plain": [
       "              pct_tip       total_bill\n",
       "                  sum count        sum\n",
       "day  smoker                           \n",
       "Thur Yes     2.785676    17     326.24\n",
       "     No      7.213414    45     770.09\n",
       "Fri  Yes     2.621746    15     252.20\n",
       "     No      0.606602     4      73.68\n",
       "Sat  Yes     6.212055    42     893.62\n",
       "     No      7.112145    45     884.78\n",
       "Sun  Yes     3.557756    19     458.28\n",
       "     No      9.126438    57    1168.88"
      ]
     },
     "execution_count": 17,
     "metadata": {},
     "output_type": "execute_result"
    }
   ],
   "source": [
    "# Passing in a dict will aggregate using the columns, and the list of functions to pass.\n",
    "by_day_by_smoker_groupby['pct_tip', 'total_bill'].agg({'pct_tip' : ['sum', 'count'], 'total_bill':['sum',]})"
   ]
  },
  {
   "cell_type": "code",
   "execution_count": 18,
   "metadata": {
    "ExecuteTime": {
     "end_time": "2019-11-28T17:58:37.760637Z",
     "start_time": "2019-11-28T17:58:37.683840Z"
    }
   },
   "outputs": [
    {
     "data": {
      "text/plain": [
       "day\n",
       "Thur    17.682742\n",
       "Fri     17.151579\n",
       "Sat     20.441379\n",
       "Sun     21.410000\n",
       "Name: total_bill, dtype: float64"
      ]
     },
     "metadata": {},
     "output_type": "display_data"
    },
    {
     "data": {
      "text/html": [
       "<div>\n",
       "<style scoped>\n",
       "    .dataframe tbody tr th:only-of-type {\n",
       "        vertical-align: middle;\n",
       "    }\n",
       "\n",
       "    .dataframe tbody tr th {\n",
       "        vertical-align: top;\n",
       "    }\n",
       "\n",
       "    .dataframe thead th {\n",
       "        text-align: right;\n",
       "    }\n",
       "</style>\n",
       "<table border=\"1\" class=\"dataframe\">\n",
       "  <thead>\n",
       "    <tr style=\"text-align: right;\">\n",
       "      <th></th>\n",
       "      <th>day</th>\n",
       "      <th>total_bill</th>\n",
       "    </tr>\n",
       "  </thead>\n",
       "  <tbody>\n",
       "    <tr>\n",
       "      <th>0</th>\n",
       "      <td>Thur</td>\n",
       "      <td>17.682742</td>\n",
       "    </tr>\n",
       "    <tr>\n",
       "      <th>1</th>\n",
       "      <td>Fri</td>\n",
       "      <td>17.151579</td>\n",
       "    </tr>\n",
       "    <tr>\n",
       "      <th>2</th>\n",
       "      <td>Sat</td>\n",
       "      <td>20.441379</td>\n",
       "    </tr>\n",
       "    <tr>\n",
       "      <th>3</th>\n",
       "      <td>Sun</td>\n",
       "      <td>21.410000</td>\n",
       "    </tr>\n",
       "  </tbody>\n",
       "</table>\n",
       "</div>"
      ],
      "text/plain": [
       "    day  total_bill\n",
       "0  Thur   17.682742\n",
       "1   Fri   17.151579\n",
       "2   Sat   20.441379\n",
       "3   Sun   21.410000"
      ]
     },
     "metadata": {},
     "output_type": "display_data"
    }
   ],
   "source": [
    "# By adding as_index=False, the Series, where the index is the unique values\n",
    "# of the specified groupby column will automatically be converted to a column in a df\n",
    "display(tips_df.groupby('day')['total_bill'].mean())\n",
    "display(tips_df.groupby('day', as_index=False)['total_bill'].mean())"
   ]
  },
  {
   "cell_type": "code",
   "execution_count": 19,
   "metadata": {
    "ExecuteTime": {
     "end_time": "2019-11-28T17:58:37.834574Z",
     "start_time": "2019-11-28T17:58:37.767240Z"
    },
    "scrolled": true
   },
   "outputs": [
    {
     "data": {
      "text/html": [
       "<div>\n",
       "<style scoped>\n",
       "    .dataframe tbody tr th:only-of-type {\n",
       "        vertical-align: middle;\n",
       "    }\n",
       "\n",
       "    .dataframe tbody tr th {\n",
       "        vertical-align: top;\n",
       "    }\n",
       "\n",
       "    .dataframe thead th {\n",
       "        text-align: right;\n",
       "    }\n",
       "</style>\n",
       "<table border=\"1\" class=\"dataframe\">\n",
       "  <thead>\n",
       "    <tr style=\"text-align: right;\">\n",
       "      <th></th>\n",
       "      <th>day</th>\n",
       "      <th>smoker</th>\n",
       "      <th>total_bill</th>\n",
       "    </tr>\n",
       "  </thead>\n",
       "  <tbody>\n",
       "    <tr>\n",
       "      <th>0</th>\n",
       "      <td>Thur</td>\n",
       "      <td>Yes</td>\n",
       "      <td>19.190588</td>\n",
       "    </tr>\n",
       "    <tr>\n",
       "      <th>1</th>\n",
       "      <td>Thur</td>\n",
       "      <td>No</td>\n",
       "      <td>17.113111</td>\n",
       "    </tr>\n",
       "    <tr>\n",
       "      <th>2</th>\n",
       "      <td>Fri</td>\n",
       "      <td>Yes</td>\n",
       "      <td>16.813333</td>\n",
       "    </tr>\n",
       "    <tr>\n",
       "      <th>3</th>\n",
       "      <td>Fri</td>\n",
       "      <td>No</td>\n",
       "      <td>18.420000</td>\n",
       "    </tr>\n",
       "    <tr>\n",
       "      <th>4</th>\n",
       "      <td>Sat</td>\n",
       "      <td>Yes</td>\n",
       "      <td>21.276667</td>\n",
       "    </tr>\n",
       "    <tr>\n",
       "      <th>5</th>\n",
       "      <td>Sat</td>\n",
       "      <td>No</td>\n",
       "      <td>19.661778</td>\n",
       "    </tr>\n",
       "    <tr>\n",
       "      <th>6</th>\n",
       "      <td>Sun</td>\n",
       "      <td>Yes</td>\n",
       "      <td>24.120000</td>\n",
       "    </tr>\n",
       "    <tr>\n",
       "      <th>7</th>\n",
       "      <td>Sun</td>\n",
       "      <td>No</td>\n",
       "      <td>20.506667</td>\n",
       "    </tr>\n",
       "  </tbody>\n",
       "</table>\n",
       "</div>"
      ],
      "text/plain": [
       "    day smoker  total_bill\n",
       "0  Thur    Yes   19.190588\n",
       "1  Thur     No   17.113111\n",
       "2   Fri    Yes   16.813333\n",
       "3   Fri     No   18.420000\n",
       "4   Sat    Yes   21.276667\n",
       "5   Sat     No   19.661778\n",
       "6   Sun    Yes   24.120000\n",
       "7   Sun     No   20.506667"
      ]
     },
     "metadata": {},
     "output_type": "display_data"
    }
   ],
   "source": [
    "# This applies to multiple grouping keys too.\n",
    "display(tips_df.groupby(['day', 'smoker'], as_index=False)['total_bill'].mean())"
   ]
  },
  {
   "cell_type": "code",
   "execution_count": 20,
   "metadata": {
    "ExecuteTime": {
     "end_time": "2019-11-28T17:58:37.895458Z",
     "start_time": "2019-11-28T17:58:37.844015Z"
    }
   },
   "outputs": [
    {
     "data": {
      "text/html": [
       "<div>\n",
       "<style scoped>\n",
       "    .dataframe tbody tr th:only-of-type {\n",
       "        vertical-align: middle;\n",
       "    }\n",
       "\n",
       "    .dataframe tbody tr th {\n",
       "        vertical-align: top;\n",
       "    }\n",
       "\n",
       "    .dataframe thead th {\n",
       "        text-align: right;\n",
       "    }\n",
       "</style>\n",
       "<table border=\"1\" class=\"dataframe\">\n",
       "  <thead>\n",
       "    <tr style=\"text-align: right;\">\n",
       "      <th></th>\n",
       "      <th>total_bill</th>\n",
       "      <th>tip</th>\n",
       "      <th>sex</th>\n",
       "      <th>smoker</th>\n",
       "      <th>day</th>\n",
       "      <th>time</th>\n",
       "      <th>size</th>\n",
       "      <th>pct_tip</th>\n",
       "    </tr>\n",
       "  </thead>\n",
       "  <tbody>\n",
       "    <tr>\n",
       "      <th>0</th>\n",
       "      <td>16.99</td>\n",
       "      <td>1.01</td>\n",
       "      <td>Female</td>\n",
       "      <td>No</td>\n",
       "      <td>Sun</td>\n",
       "      <td>Dinner</td>\n",
       "      <td>2</td>\n",
       "      <td>0.059447</td>\n",
       "    </tr>\n",
       "    <tr>\n",
       "      <th>1</th>\n",
       "      <td>10.34</td>\n",
       "      <td>1.66</td>\n",
       "      <td>Male</td>\n",
       "      <td>No</td>\n",
       "      <td>Sun</td>\n",
       "      <td>Dinner</td>\n",
       "      <td>3</td>\n",
       "      <td>0.160542</td>\n",
       "    </tr>\n",
       "    <tr>\n",
       "      <th>2</th>\n",
       "      <td>21.01</td>\n",
       "      <td>3.50</td>\n",
       "      <td>Male</td>\n",
       "      <td>No</td>\n",
       "      <td>Sun</td>\n",
       "      <td>Dinner</td>\n",
       "      <td>3</td>\n",
       "      <td>0.166587</td>\n",
       "    </tr>\n",
       "  </tbody>\n",
       "</table>\n",
       "</div>"
      ],
      "text/plain": [
       "   total_bill   tip     sex smoker  day    time  size   pct_tip\n",
       "0       16.99  1.01  Female     No  Sun  Dinner     2  0.059447\n",
       "1       10.34  1.66    Male     No  Sun  Dinner     3  0.160542\n",
       "2       21.01  3.50    Male     No  Sun  Dinner     3  0.166587"
      ]
     },
     "execution_count": 20,
     "metadata": {},
     "output_type": "execute_result"
    }
   ],
   "source": [
    "tips_df.head(3)"
   ]
  },
  {
   "cell_type": "code",
   "execution_count": 21,
   "metadata": {
    "ExecuteTime": {
     "end_time": "2019-11-28T17:58:37.952817Z",
     "start_time": "2019-11-28T17:58:37.899712Z"
    }
   },
   "outputs": [
    {
     "data": {
      "text/html": [
       "<div>\n",
       "<style scoped>\n",
       "    .dataframe tbody tr th:only-of-type {\n",
       "        vertical-align: middle;\n",
       "    }\n",
       "\n",
       "    .dataframe tbody tr th {\n",
       "        vertical-align: top;\n",
       "    }\n",
       "\n",
       "    .dataframe thead th {\n",
       "        text-align: right;\n",
       "    }\n",
       "</style>\n",
       "<table border=\"1\" class=\"dataframe\">\n",
       "  <thead>\n",
       "    <tr style=\"text-align: right;\">\n",
       "      <th></th>\n",
       "      <th>day</th>\n",
       "      <th>smoker</th>\n",
       "      <th>total_bill</th>\n",
       "    </tr>\n",
       "  </thead>\n",
       "  <tbody>\n",
       "    <tr>\n",
       "      <th>0</th>\n",
       "      <td>Thur</td>\n",
       "      <td>Yes</td>\n",
       "      <td>17</td>\n",
       "    </tr>\n",
       "    <tr>\n",
       "      <th>1</th>\n",
       "      <td>Thur</td>\n",
       "      <td>No</td>\n",
       "      <td>45</td>\n",
       "    </tr>\n",
       "    <tr>\n",
       "      <th>2</th>\n",
       "      <td>Fri</td>\n",
       "      <td>Yes</td>\n",
       "      <td>15</td>\n",
       "    </tr>\n",
       "    <tr>\n",
       "      <th>3</th>\n",
       "      <td>Fri</td>\n",
       "      <td>No</td>\n",
       "      <td>4</td>\n",
       "    </tr>\n",
       "    <tr>\n",
       "      <th>4</th>\n",
       "      <td>Sat</td>\n",
       "      <td>Yes</td>\n",
       "      <td>42</td>\n",
       "    </tr>\n",
       "    <tr>\n",
       "      <th>5</th>\n",
       "      <td>Sat</td>\n",
       "      <td>No</td>\n",
       "      <td>45</td>\n",
       "    </tr>\n",
       "    <tr>\n",
       "      <th>6</th>\n",
       "      <td>Sun</td>\n",
       "      <td>Yes</td>\n",
       "      <td>19</td>\n",
       "    </tr>\n",
       "    <tr>\n",
       "      <th>7</th>\n",
       "      <td>Sun</td>\n",
       "      <td>No</td>\n",
       "      <td>57</td>\n",
       "    </tr>\n",
       "  </tbody>\n",
       "</table>\n",
       "</div>"
      ],
      "text/plain": [
       "    day smoker  total_bill\n",
       "0  Thur    Yes          17\n",
       "1  Thur     No          45\n",
       "2   Fri    Yes          15\n",
       "3   Fri     No           4\n",
       "4   Sat    Yes          42\n",
       "5   Sat     No          45\n",
       "6   Sun    Yes          19\n",
       "7   Sun     No          57"
      ]
     },
     "metadata": {},
     "output_type": "display_data"
    }
   ],
   "source": [
    "# This applies to multiple grouping keys too.\n",
    "display(tips_df.groupby(['day', 'smoker'], as_index=False)['total_bill'].count())"
   ]
  },
  {
   "cell_type": "markdown",
   "metadata": {},
   "source": [
    "**References:**\n",
    "\n",
    "Python for Data Analysis, 2nd Edition, McKinney (2017)"
   ]
  }
 ],
 "metadata": {
  "kernelspec": {
   "display_name": "Python 3",
   "language": "python",
   "name": "python3"
  },
  "language_info": {
   "codemirror_mode": {
    "name": "ipython",
    "version": 3
   },
   "file_extension": ".py",
   "mimetype": "text/x-python",
   "name": "python",
   "nbconvert_exporter": "python",
   "pygments_lexer": "ipython3",
   "version": "3.6.5"
  }
 },
 "nbformat": 4,
 "nbformat_minor": 2
}
