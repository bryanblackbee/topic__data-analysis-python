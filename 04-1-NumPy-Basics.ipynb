{
 "cells": [
  {
   "cell_type": "markdown",
   "metadata": {},
   "source": [
    "# Chapter 4 - NumPy Basics: Arrays and Vectorized Computation"
   ]
  },
  {
   "cell_type": "markdown",
   "metadata": {},
   "source": [
    "## 4.1 The NumPy ndarray: A Multidimensional Array Object\n",
    "\n",
    "One of the key features of NumPy is its $N$-dimensional array object, or `ndarray`."
   ]
  },
  {
   "cell_type": "code",
   "execution_count": 1,
   "metadata": {
    "ExecuteTime": {
     "end_time": "2019-06-24T15:17:20.555119Z",
     "start_time": "2019-06-24T15:17:20.386046Z"
    }
   },
   "outputs": [],
   "source": [
    "import numpy as np"
   ]
  },
  {
   "cell_type": "markdown",
   "metadata": {},
   "source": [
    "### Declaring arrays\n",
    "\n",
    "1. Creating arrays with `list`s\n",
    "\n",
    "2. Creating arrays with all zeros using `np.zeros()`\n",
    "\n",
    "3. Creating arrays with all ones using `np.ones()`\n",
    "\n",
    "4. Creating arrays with ranges using `np.arange()`"
   ]
  },
  {
   "cell_type": "markdown",
   "metadata": {},
   "source": [
    "**Creating arrays with `list`s**"
   ]
  },
  {
   "cell_type": "code",
   "execution_count": 2,
   "metadata": {
    "ExecuteTime": {
     "end_time": "2019-06-24T15:17:20.579811Z",
     "start_time": "2019-06-24T15:17:20.560000Z"
    }
   },
   "outputs": [
    {
     "name": "stdout",
     "output_type": "stream",
     "text": [
      "arr1 = [ 1  3  4  7 11]\n",
      "<class 'numpy.ndarray'>\n",
      "---\n",
      "arr2 =\n",
      "[[ 2  4]\n",
      " [12 14]\n",
      " [22 24]]\n",
      "(3, 2)\n"
     ]
    }
   ],
   "source": [
    "# Creating arrays with lists\n",
    "list1 = [1, 3, 4, 7, 11] # 1 x 5\n",
    "arr1 = np.array(list1)\n",
    "print(\"arr1 = %s\" % arr1)\n",
    "print(type(arr1))\n",
    "print('---')\n",
    "\n",
    "list2 = [[2, 4], [12, 14], [22, 24]] # 3 x 2\n",
    "arr2 = np.array(list2)\n",
    "print(\"arr2 =\")\n",
    "print(arr2)\n",
    "print(arr2.shape)"
   ]
  },
  {
   "cell_type": "markdown",
   "metadata": {},
   "source": [
    "**Creating arrays with all zeros using `np.zeros()`**"
   ]
  },
  {
   "cell_type": "code",
   "execution_count": 3,
   "metadata": {
    "ExecuteTime": {
     "end_time": "2019-06-24T15:17:20.633332Z",
     "start_time": "2019-06-24T15:17:20.586743Z"
    }
   },
   "outputs": [
    {
     "name": "stdout",
     "output_type": "stream",
     "text": [
      "arr1 = [0. 0. 0. 0. 0.]\n",
      "arr2 =\n",
      "[[0. 0.]\n",
      " [0. 0.]\n",
      " [0. 0.]]\n"
     ]
    }
   ],
   "source": [
    "# Creating arrays with np.zeros()\n",
    "arr1 = np.zeros(5)\n",
    "print(\"arr1 = %s\" % arr1)\n",
    "\n",
    "arr2 = np.zeros((3,2))\n",
    "print(\"arr2 =\")\n",
    "print(arr2)"
   ]
  },
  {
   "cell_type": "markdown",
   "metadata": {},
   "source": [
    "**Creating arrays with all ones using `np.ones()`**"
   ]
  },
  {
   "cell_type": "code",
   "execution_count": 4,
   "metadata": {
    "ExecuteTime": {
     "end_time": "2019-06-24T15:17:20.663751Z",
     "start_time": "2019-06-24T15:17:20.640219Z"
    },
    "scrolled": true
   },
   "outputs": [
    {
     "name": "stdout",
     "output_type": "stream",
     "text": [
      "arr1b = [1. 1. 1. 1. 1. 1. 1. 1. 1. 1.]\n",
      "---\n",
      "arr2b =\n",
      "[[1. 1.]\n",
      " [1. 1.]\n",
      " [1. 1.]]\n"
     ]
    }
   ],
   "source": [
    "# Creating arrays with np.ones()\n",
    "arr1b = np.ones(10)\n",
    "print(\"arr1b = %s\" % arr1b)\n",
    "print('---')\n",
    "arr2b = np.ones((3,2))\n",
    "print(\"arr2b =\")\n",
    "print(arr2b)"
   ]
  },
  {
   "cell_type": "markdown",
   "metadata": {},
   "source": [
    "**Creating arrays with ranges using `np.arange()`**"
   ]
  },
  {
   "cell_type": "code",
   "execution_count": 5,
   "metadata": {
    "ExecuteTime": {
     "end_time": "2019-06-24T15:17:20.690842Z",
     "start_time": "2019-06-24T15:17:20.670705Z"
    },
    "scrolled": true
   },
   "outputs": [
    {
     "name": "stdout",
     "output_type": "stream",
     "text": [
      "arr1 = [0 1 2 3 4 5 6 7 8 9]\n",
      "<class 'numpy.ndarray'>\n",
      "[ 0  3  6  9 12 15 18 21 24 27]\n",
      "---\n",
      "\n",
      "arr2= [10 11 12 13 14 15 16 17 18 19]\n",
      "---\n",
      "\n",
      "arr3= [ 10  20  30  40  50  60  70  80  90 100]\n"
     ]
    }
   ],
   "source": [
    "# Creating arrays with np.arange()\n",
    "arr1 = np.arange(10)\n",
    "print(\"arr1 = %s\" % arr1)\n",
    "print(type(arr1))\n",
    "print(arr1 * 3)\n",
    "print('---')\n",
    "print()\n",
    "\n",
    "arr2 = np.arange(10, 20)\n",
    "print(\"arr2= %s\" % arr2)\n",
    "print('---')\n",
    "print()\n",
    "\n",
    "arr3 = np.arange(10, 101, 10)\n",
    "print(\"arr3= %s\" % arr3)"
   ]
  },
  {
   "cell_type": "markdown",
   "metadata": {},
   "source": [
    "<hr>\n",
    "### Manipulating arrays\n",
    "\n",
    "1. Changing datatypes of arrays\n",
    "2. Addition & Subtraction\n",
    "3. Multiplication & Division with a scalar\n",
    "4. Boolean comparision"
   ]
  },
  {
   "cell_type": "markdown",
   "metadata": {},
   "source": [
    "**Changing datatypes of arrays**"
   ]
  },
  {
   "cell_type": "code",
   "execution_count": 6,
   "metadata": {
    "ExecuteTime": {
     "end_time": "2019-06-24T15:17:20.706511Z",
     "start_time": "2019-06-24T15:17:20.694797Z"
    }
   },
   "outputs": [
    {
     "name": "stdout",
     "output_type": "stream",
     "text": [
      "[0.84837472 0.06099506 0.62602593 0.05128479 0.33769077]\n",
      "[84.837472  6.099506 62.602593  5.128479 33.769077]\n",
      "[84  6 62  5 33]\n"
     ]
    }
   ],
   "source": [
    "# Convert an array of floats to ints\n",
    "arr1 = np.array([0.84837472, 0.06099506, 0.62602593, 0.05128479, 0.33769077])\n",
    "print(arr1)\n",
    "arr1 = arr1 * 100 # Scalar multiplication: multiply by 100 \n",
    "print(arr1)\n",
    "print(arr1.astype(int)) # Convert to int"
   ]
  },
  {
   "cell_type": "code",
   "execution_count": 7,
   "metadata": {
    "ExecuteTime": {
     "end_time": "2019-06-24T15:17:20.727979Z",
     "start_time": "2019-06-24T15:17:20.714249Z"
    }
   },
   "outputs": [
    {
     "name": "stdout",
     "output_type": "stream",
     "text": [
      "['0.60563224' '0.86530379' '0.51900541']\n",
      "[60.563224 86.530379 51.900541]\n"
     ]
    }
   ],
   "source": [
    "# Convert an array of str to float\n",
    "arr2 = np.array(['0.60563224', '0.86530379', '0.51900541'])\n",
    "print(arr2)\n",
    "arr2 = arr2.astype(float)\n",
    "arr2 = arr2*100 # Scalar multiplication\n",
    "print(arr2)"
   ]
  },
  {
   "cell_type": "markdown",
   "metadata": {},
   "source": [
    "**Addition & Subtraction**"
   ]
  },
  {
   "cell_type": "code",
   "execution_count": 8,
   "metadata": {
    "ExecuteTime": {
     "end_time": "2019-06-24T15:17:20.749877Z",
     "start_time": "2019-06-24T15:17:20.734646Z"
    }
   },
   "outputs": [
    {
     "name": "stdout",
     "output_type": "stream",
     "text": [
      "[[ 3 11]\n",
      " [23  9]]\n",
      "---\n",
      "[[-1 -5]\n",
      " [-9  1]]\n"
     ]
    }
   ],
   "source": [
    "# Addition & Subtraction\n",
    "arr_x = np.array([[1, 3], \n",
    "                  [7, 5]])\n",
    "arr_y = np.array([[2, 8], \n",
    "                  [16, 4]])\n",
    "print(arr_x + arr_y) # Addition\n",
    "print('---')\n",
    "print(arr_x - arr_y) # Subtraction"
   ]
  },
  {
   "cell_type": "markdown",
   "metadata": {},
   "source": [
    "**Multiplication & Division with a scalar**"
   ]
  },
  {
   "cell_type": "code",
   "execution_count": 9,
   "metadata": {
    "ExecuteTime": {
     "end_time": "2019-06-24T15:17:20.762895Z",
     "start_time": "2019-06-24T15:17:20.754140Z"
    }
   },
   "outputs": [
    {
     "name": "stdout",
     "output_type": "stream",
     "text": [
      "[[10 30]\n",
      " [20 40]]\n",
      "---\n",
      "[[ 52.5 157.5]\n",
      " [105.  210. ]]\n"
     ]
    }
   ],
   "source": [
    "# Scalar multiplication\n",
    "arr_b = np.array([[5, 15], \n",
    "                  [10, 20]])\n",
    "print(arr_b * 2) # Multiply an array followed by a scalar\n",
    "print('---')\n",
    "print(10.5 * arr_b) # Multiply a scalar followed by an array"
   ]
  },
  {
   "cell_type": "code",
   "execution_count": 10,
   "metadata": {
    "ExecuteTime": {
     "end_time": "2019-06-24T15:17:20.779061Z",
     "start_time": "2019-06-24T15:17:20.766469Z"
    },
    "scrolled": true
   },
   "outputs": [
    {
     "name": "stdout",
     "output_type": "stream",
     "text": [
      "[[ 1.   4. ]\n",
      " [ 8.   5.5]\n",
      " [ 3.5 11. ]]\n",
      "---\n",
      "[[0.5        0.125     ]\n",
      " [0.0625     0.09090909]\n",
      " [0.14285714 0.04545455]]\n"
     ]
    }
   ],
   "source": [
    "# Division of array / scalar\n",
    "arr_d = np.array([[20, 80], \n",
    "                  [160, 110],\n",
    "                  [70, 220]])\n",
    "print(arr_d / 20) # Division: array / scalar\n",
    "print('---')\n",
    "print(10 / arr_d) # Divsion: scalar / array - # this operation propogates the division to all elements in the array"
   ]
  },
  {
   "cell_type": "markdown",
   "metadata": {},
   "source": [
    "**Boolean comparision**"
   ]
  },
  {
   "cell_type": "code",
   "execution_count": 11,
   "metadata": {
    "ExecuteTime": {
     "end_time": "2019-06-24T15:17:20.797216Z",
     "start_time": "2019-06-24T15:17:20.783021Z"
    },
    "scrolled": false
   },
   "outputs": [
    {
     "name": "stdout",
     "output_type": "stream",
     "text": [
      "[[8 4 1]\n",
      " [5 7 2]]\n",
      "\n",
      "[[17 -9 11]\n",
      " [17  2 -9]]\n",
      "---\n",
      "[[False  True False]\n",
      " [False  True  True]]\n",
      "\n",
      "[[ True False False]\n",
      " [ True False False]]\n"
     ]
    }
   ],
   "source": [
    "# Boolean comparisons\n",
    "arr_t = np.array([[8, 4, 1],\n",
    "                  [5, 7, 2]])\n",
    "print(arr_t)\n",
    "print()\n",
    "arr_u = np.array([[17, -9, 11],\n",
    "                  [17,  2, -9]])\n",
    "print(arr_u)\n",
    "print('---')\n",
    "# Comparing arrays. Returns an array with the same dimensions of the constituents\n",
    "# and performs element-wise comparison for each value\n",
    "print(arr_t > arr_u)\n",
    "print()\n",
    "# Comparing arrays with a scalar Returns an array with the same dimensions of the array\n",
    "# and performs element-wise comparison for each value witht the scalar\n",
    "print(arr_u == 17)"
   ]
  },
  {
   "cell_type": "markdown",
   "metadata": {},
   "source": [
    "<hr>\n",
    "### Basic Indexing and Slicing\n",
    "\n",
    "1. Slicing a 1D array like a list\n",
    "2. Slicing a 2D array\n",
    "3. Slicing using Boolean arrays\n",
    "4. Slicing using conditions (1 condition & multiple conditions)"
   ]
  },
  {
   "cell_type": "markdown",
   "metadata": {},
   "source": [
    "**Slicing a 1D array like a list**"
   ]
  },
  {
   "cell_type": "code",
   "execution_count": 12,
   "metadata": {
    "ExecuteTime": {
     "end_time": "2019-06-24T15:17:20.810981Z",
     "start_time": "2019-06-24T15:17:20.800318Z"
    },
    "scrolled": true
   },
   "outputs": [
    {
     "name": "stdout",
     "output_type": "stream",
     "text": [
      "[10 11 12 13 14 15 16 17 18 19]\n",
      "(10,)\n",
      "12\n",
      "---\n",
      "[14 15 16 17]\n",
      "[10 11 12]\n",
      "[16 17 18 19]\n"
     ]
    }
   ],
   "source": [
    "# Slicing a 1D array...like a list\n",
    "\n",
    "arr_1d = np.arange(10, 20)\n",
    "print(arr_1d)\n",
    "print(arr_1d.shape)\n",
    "# Slice an individual element\n",
    "print(arr_1d[2])\n",
    "print('---')\n",
    "\n",
    "# Slice range from a 1D array\n",
    "print(arr_1d[4:8])\n",
    "print(arr_1d[:3])\n",
    "print(arr_1d[6:])"
   ]
  },
  {
   "cell_type": "markdown",
   "metadata": {},
   "source": [
    "**Slicing a 2D array**"
   ]
  },
  {
   "cell_type": "code",
   "execution_count": 13,
   "metadata": {
    "ExecuteTime": {
     "end_time": "2019-06-24T15:17:20.832165Z",
     "start_time": "2019-06-24T15:17:20.816820Z"
    },
    "scrolled": true
   },
   "outputs": [
    {
     "name": "stdout",
     "output_type": "stream",
     "text": [
      "[12 18  9 13]\n",
      "\n",
      "[[ 5 17  8 14]\n",
      " [12 18  9 13]]\n",
      "\n",
      "[[12 18  9 13]\n",
      " [20  5  5  9]]\n",
      "\n",
      "12\n",
      "5\n",
      "\n"
     ]
    }
   ],
   "source": [
    "array_2d = np.array([[ 9,  1, 19, 13],\n",
    "                     [ 5, 17,  8, 14],\n",
    "                     [12, 18,  9, 13],\n",
    "                     [20,  5,  5,  9]])\n",
    "\n",
    "# Slice by taking 1 row & multiple rows\n",
    "print(array_2d[2])\n",
    "print()\n",
    "print(array_2d[1:3])\n",
    "print()\n",
    "print(array_2d[2:])\n",
    "print()\n",
    "\n",
    "# Obtaining individual elements from a 2D array\n",
    "print(array_2d[2][0]) # First value is row number, 2nd value is column number\n",
    "print(array_2d[3,1])\n",
    "print()"
   ]
  },
  {
   "cell_type": "code",
   "execution_count": 14,
   "metadata": {
    "ExecuteTime": {
     "end_time": "2019-06-24T15:17:20.847290Z",
     "start_time": "2019-06-24T15:17:20.835918Z"
    },
    "scrolled": true
   },
   "outputs": [
    {
     "name": "stdout",
     "output_type": "stream",
     "text": [
      "[19 49 27]\n",
      "\n",
      "[[49 12 15]\n",
      " [46  6 11]]\n",
      "\n",
      "[[49 27 13]\n",
      " [12 15 37]\n",
      " [ 6 11 36]]\n"
     ]
    }
   ],
   "source": [
    "array_4by5 = np.array([[24, 24, 13, 30, 14],\n",
    "                       [19, 49, 27, 13, 38],\n",
    "                       [49, 12, 15, 37, 21],\n",
    "                       [46,  6, 11, 36, 42],])\n",
    "\n",
    "# Mixing it up: Slicing segments of an array\n",
    "print(array_4by5[1, :3])\n",
    "print()\n",
    "print(array_4by5[2:, :3])\n",
    "print()\n",
    "print(array_4by5[1:, 1:4])"
   ]
  },
  {
   "cell_type": "markdown",
   "metadata": {
    "ExecuteTime": {
     "end_time": "2019-06-23T15:14:32.901332Z",
     "start_time": "2019-06-23T15:14:32.894527Z"
    }
   },
   "source": [
    "**Slicing using Boolean arrays** and **Slicing using conditions (1 condition)**"
   ]
  },
  {
   "cell_type": "code",
   "execution_count": 15,
   "metadata": {
    "ExecuteTime": {
     "end_time": "2019-06-24T15:17:20.863122Z",
     "start_time": "2019-06-24T15:17:20.851422Z"
    },
    "scrolled": true
   },
   "outputs": [
    {
     "name": "stdout",
     "output_type": "stream",
     "text": [
      "[ True False  True]\n",
      "\n",
      "[[3 0 1 0]\n",
      " [1 0 2 2]]\n"
     ]
    }
   ],
   "source": [
    "array_3by4    = np.array([[3, 0, 1, 0],\n",
    "                          [1, 3, 2, 2],\n",
    "                          [1, 0, 2, 2]])\n",
    "\n",
    "binaries_3by4 = np.array([1, 0, 1])\n",
    "\n",
    "# Returns a True/False array with the same dimensions as the consituent\n",
    "binaries_is_counted = binaries_3by4 == 1\n",
    "print(binaries_is_counted)\n",
    "print()\n",
    "# Use the boolean array to filter for rows that satisfy the condition\n",
    "print(array_3by4[binaries_is_counted])"
   ]
  },
  {
   "cell_type": "markdown",
   "metadata": {},
   "source": [
    "**Slicing using conditions (multiple conditions)**"
   ]
  },
  {
   "cell_type": "code",
   "execution_count": 16,
   "metadata": {
    "ExecuteTime": {
     "end_time": "2019-06-24T15:17:20.883545Z",
     "start_time": "2019-06-24T15:17:20.869308Z"
    }
   },
   "outputs": [
    {
     "name": "stdout",
     "output_type": "stream",
     "text": [
      "[ True False  True  True  True False]\n",
      "\n",
      "[[ 6  6]\n",
      " [10 12]\n",
      " [12  7]\n",
      " [11 13]]\n",
      "\n",
      "[[ 6  6]\n",
      " [10 12]\n",
      " [12  7]\n",
      " [11 13]]\n",
      "\n",
      "[[ True  True]\n",
      " [ True  True]\n",
      " [ True  True]\n",
      " [ True  True]]\n"
     ]
    }
   ],
   "source": [
    "array_6by2 = np.array([[ 6,  6],\n",
    "                       [13,  7],\n",
    "                       [10, 12],\n",
    "                       [12,  7],\n",
    "                       [11, 13],\n",
    "                       [12, 10]])\n",
    "\n",
    "# Forcing as a string to illustrate selection using OR logical operator\n",
    "binaries_6 = np.array(['2', '0', '1', '1', '2', '0'])\n",
    "\n",
    "# Returns a True/False array with the same dimensions as the consituent\n",
    "binaries_is_positive = (binaries_6 == '1') | (binaries_6 == '2')\n",
    "print(binaries_is_positive)\n",
    "print()\n",
    "# Use the boolean array to filter for rows that satisfy the condition\n",
    "a_r1 = array_6by2[binaries_is_positive]\n",
    "print(a_r1)\n",
    "print()\n",
    "# The following is equivalent\n",
    "a_r2 = array_6by2[(binaries_6 == '1') | (binaries_6 == '2')]\n",
    "print(a_r2)\n",
    "print()\n",
    "print(a_r1 == a_r2)"
   ]
  },
  {
   "cell_type": "markdown",
   "metadata": {},
   "source": [
    "<hr>\n",
    "### Reshaping, Transposing Arrays, Swapping Axes\n",
    "\n",
    "1. Use `.reshape()` to change the dimensions of an array\n",
    "\n",
    "2. Using `.transpose()` and `.T` to swap axes"
   ]
  },
  {
   "cell_type": "markdown",
   "metadata": {},
   "source": [
    "**Use `.reshape()` to change the dimensions of an array**"
   ]
  },
  {
   "cell_type": "code",
   "execution_count": 17,
   "metadata": {
    "ExecuteTime": {
     "end_time": "2019-06-24T15:17:20.900011Z",
     "start_time": "2019-06-24T15:17:20.888476Z"
    },
    "scrolled": true
   },
   "outputs": [
    {
     "name": "stdout",
     "output_type": "stream",
     "text": [
      "[[ 6  6 13]\n",
      " [ 7 10 12]]\n",
      "\n",
      "[[ 6  6 13  7 10 12]]\n"
     ]
    }
   ],
   "source": [
    "array_3by2 = np.array([[ 6,  6],\n",
    "                       [13,  7],\n",
    "                       [10, 12],])\n",
    "\n",
    "# Use np.reshape() to change dimensions of an array\n",
    "print(array_3by2.reshape(2, 3))\n",
    "print()\n",
    "print(array_3by2.reshape(1, 6))"
   ]
  },
  {
   "cell_type": "markdown",
   "metadata": {
    "ExecuteTime": {
     "end_time": "2019-06-23T15:17:43.745726Z",
     "start_time": "2019-06-23T15:17:43.740744Z"
    }
   },
   "source": [
    "**Using `.transpose()` and `.T` to swap axes**"
   ]
  },
  {
   "cell_type": "code",
   "execution_count": 18,
   "metadata": {
    "ExecuteTime": {
     "end_time": "2019-06-24T15:17:20.917412Z",
     "start_time": "2019-06-24T15:17:20.905716Z"
    }
   },
   "outputs": [
    {
     "name": "stdout",
     "output_type": "stream",
     "text": [
      "[[15 10]\n",
      " [18  1]\n",
      " [17  6]]\n",
      "\n",
      "[[15 10]\n",
      " [18  1]\n",
      " [17  6]]\n"
     ]
    }
   ],
   "source": [
    "array_2by3 = np.array([[15, 18, 17],\n",
    "                       [10,  1,  6]])\n",
    "\n",
    "# Use transpose / T to swap axes of an array\n",
    "print(array_2by3.transpose())\n",
    "print()\n",
    "print(array_2by3.T)"
   ]
  },
  {
   "cell_type": "code",
   "execution_count": 19,
   "metadata": {
    "ExecuteTime": {
     "end_time": "2019-06-24T15:17:20.950289Z",
     "start_time": "2019-06-24T15:17:20.921393Z"
    }
   },
   "outputs": [
    {
     "data": {
      "text/plain": [
       "array([[3, 4, 4],\n",
       "       [2, 4, 5]])"
      ]
     },
     "execution_count": 19,
     "metadata": {},
     "output_type": "execute_result"
    }
   ],
   "source": [
    "array_2by3 = np.random.randint(1,6,(2,3))\n",
    "array_2by3"
   ]
  },
  {
   "cell_type": "code",
   "execution_count": 20,
   "metadata": {
    "ExecuteTime": {
     "end_time": "2019-06-24T15:17:20.968361Z",
     "start_time": "2019-06-24T15:17:20.953623Z"
    }
   },
   "outputs": [
    {
     "name": "stdout",
     "output_type": "stream",
     "text": [
      "[[5 5]\n",
      " [2 3]\n",
      " [2 1]]\n",
      "\n",
      "[[5 2 2]\n",
      " [5 3 1]]\n",
      "\n",
      "[[50 25 15]\n",
      " [25 13  7]\n",
      " [15  7  5]]\n"
     ]
    }
   ],
   "source": [
    "arr3 = np.array([[5, 2, 2],\n",
    "                 [5, 3, 1]])\n",
    "print(arr3.T)\n",
    "print()\n",
    "print(arr3)\n",
    "print()\n",
    "# Finding the matrix product of 2 matrices\n",
    "print(np.dot(arr3.T,  arr3))"
   ]
  },
  {
   "cell_type": "markdown",
   "metadata": {},
   "source": [
    "<hr>"
   ]
  },
  {
   "cell_type": "markdown",
   "metadata": {},
   "source": [
    "**References:**\n",
    "\n",
    "Python for Data Analysis, 2nd Edition, McKinney (2017)"
   ]
  }
 ],
 "metadata": {
  "kernelspec": {
   "display_name": "Python 3",
   "language": "python",
   "name": "python3"
  },
  "language_info": {
   "codemirror_mode": {
    "name": "ipython",
    "version": 3
   },
   "file_extension": ".py",
   "mimetype": "text/x-python",
   "name": "python",
   "nbconvert_exporter": "python",
   "pygments_lexer": "ipython3",
   "version": "3.6.5"
  }
 },
 "nbformat": 4,
 "nbformat_minor": 2
}
